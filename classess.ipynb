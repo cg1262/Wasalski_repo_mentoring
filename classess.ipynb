{
 "cells": [
  {
   "cell_type": "code",
   "execution_count": 11,
   "id": "32bab544",
   "metadata": {},
   "outputs": [
    {
     "name": "stdout",
     "output_type": "stream",
     "text": [
      "Początkowa prędkość Wojownika: 10\n",
      "Początkowa prędkość Ninja: 40\n",
      "Prędkość Wojownika po podwojeniu: 20\n",
      "Prędkość Ninja (niezmieniona): 40\n"
     ]
    }
   ],
   "source": [
    "class Character:\n",
    "    # __init__ is called automatically\n",
    "    def __init__(self, health, damage, speed):\n",
    "        self.health = health\n",
    "        self.damage = damage\n",
    "        self.speed = speed\n",
    "\n",
    "    # this method doubles the speed of character\n",
    "    def double_speed(self):\n",
    "        self.speed *= 2\n",
    "\n",
    "# creating two objects of Character class: warrior and ninja\n",
    "# unique attributes for each of them\n",
    "warrior = Character(100, 50, 10)\n",
    "ninja = Character(80, 40, 40)\n",
    "\n",
    "print(f\"Początkowa prędkość Wojownika: {warrior.speed}\")\n",
    "print(f\"Początkowa prędkość Ninja: {ninja.speed}\")\n",
    "\n",
    "# Wywołanie metody double_speed dla obiektu warrior, podwajając jego prędkość [3].\n",
    "warrior.double_speed()\n",
    "\n",
    "# Ponowne drukowanie wartości prędkości po wywołaniu metody double_speed.\n",
    "# Prędkość wojownika powinna być podwojona, a ninja pozostaje niezmieniona [3].\n",
    "print(f\"Prędkość Wojownika po podwojeniu: {warrior.speed}\")\n",
    "print(f\"Prędkość Ninja (niezmieniona): {ninja.speed}\")"
   ]
  },
  {
   "cell_type": "code",
   "execution_count": null,
   "id": "ce3de0f2",
   "metadata": {},
   "outputs": [],
   "source": []
  }
 ],
 "metadata": {
  "kernelspec": {
   "display_name": "Python 3",
   "language": "python",
   "name": "python3"
  },
  "language_info": {
   "codemirror_mode": {
    "name": "ipython",
    "version": 3
   },
   "file_extension": ".py",
   "mimetype": "text/x-python",
   "name": "python",
   "nbconvert_exporter": "python",
   "pygments_lexer": "ipython3",
   "version": "3.13.2"
  }
 },
 "nbformat": 4,
 "nbformat_minor": 5
}
