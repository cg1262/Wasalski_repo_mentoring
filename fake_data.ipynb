{
 "cells": [
  {
   "cell_type": "code",
   "execution_count": 3,
   "id": "b72e8cce",
   "metadata": {},
   "outputs": [
    {
     "data": {
      "application/vnd.microsoft.datawrangler.viewer.v0+json": {
       "columns": [
        {
         "name": "index",
         "rawType": "int64",
         "type": "integer"
        },
        {
         "name": "name",
         "rawType": "object",
         "type": "string"
        },
        {
         "name": "address",
         "rawType": "object",
         "type": "string"
        },
        {
         "name": "city",
         "rawType": "object",
         "type": "string"
        },
        {
         "name": "state",
         "rawType": "object",
         "type": "string"
        },
        {
         "name": "email",
         "rawType": "object",
         "type": "string"
        },
        {
         "name": "age",
         "rawType": "int64",
         "type": "integer"
        }
       ],
       "conversionMethod": "pd.DataFrame",
       "ref": "3b7822bf-37c6-457e-81c5-d5184dbc69b5",
       "rows": [
        [
         "0",
         "Colleen Olson",
         "4561 Jennifer Ways Suite 951\nNorth Selena, IL 76053",
         "West Josephton",
         "Oregon",
         "scottmiller@example.net",
         "78"
        ],
        [
         "1",
         "Charles Davis",
         "30174 Lee Park\nEast Tanyaville, WA 59861",
         "Timothyfort",
         "Kansas",
         "lawrencedonovan@example.org",
         "72"
        ],
        [
         "2",
         "Jeffrey Stewart",
         "4436 Pearson Roads Suite 629\nNorth Emily, NH 51260",
         "West Carlostown",
         "North Dakota",
         "christopher22@example.net",
         "11"
        ],
        [
         "3",
         "Miranda Becker",
         "2026 Estrada Place Apt. 603\nWest Kellimouth, WA 51994",
         "Port Todd",
         "New York",
         "andersenjonathan@example.net",
         "65"
        ],
        [
         "4",
         "Tara Navarro",
         "4966 Sara Bridge Suite 933\nSouth Kathrynland, MT 05643",
         "South Kristine",
         "Georgia",
         "ncook@example.net",
         "48"
        ],
        [
         "5",
         "Russell Morales",
         "097 Beverly Drive\nTranborough, MS 21691",
         "Ayersshire",
         "Montana",
         "jennifer43@example.com",
         "37"
        ],
        [
         "6",
         "Stephanie White",
         "55616 April Causeway Suite 485\nNew Crystal, MH 15137",
         "Choiborough",
         "Wisconsin",
         "choipaul@example.org",
         "65"
        ],
        [
         "7",
         "Danielle Miller",
         "64013 Amber Coves Suite 412\nAngelabury, RI 05860",
         "Alexanderburgh",
         "Indiana",
         "jason92@example.org",
         "14"
        ],
        [
         "8",
         "Ronald Lam",
         "66560 Wyatt Fork Apt. 251\nNew Margaret, WI 10680",
         "Danielview",
         "New York",
         "gregory55@example.com",
         "60"
        ],
        [
         "9",
         "Teresa Summers",
         "2487 Lauren Parkways Suite 763\nMcknightmouth, ND 81459",
         "South Travisshire",
         "Mississippi",
         "mroman@example.org",
         "56"
        ],
        [
         "10",
         "Ebony Young",
         "01525 Mark Trace\nBlackshire, MN 21035",
         "Port Stephenbury",
         "California",
         "wrightstacey@example.com",
         "59"
        ],
        [
         "11",
         "Benjamin Greene",
         "586 Sean Plains Suite 425\nFranklinport, NE 16444",
         "Holmesberg",
         "Wisconsin",
         "gallaghermichael@example.net",
         "23"
        ],
        [
         "12",
         "Mindy Hall",
         "08254 Megan Plains Suite 624\nPriceburgh, NJ 07735",
         "East Tyler",
         "California",
         "rsims@example.com",
         "47"
        ],
        [
         "13",
         "Jimmy Allen",
         "USCGC Anderson\nFPO AA 24206",
         "New Taylorberg",
         "Minnesota",
         "christopherconrad@example.com",
         "65"
        ],
        [
         "14",
         "Anthony Hopkins",
         "076 Johnson Place Apt. 860\nSouth Danielburgh, VI 12202",
         "Port Ricardo",
         "Mississippi",
         "iruiz@example.com",
         "64"
        ],
        [
         "15",
         "James Miranda",
         "319 Watkins Cape Apt. 729\nEast Susan, FL 97248",
         "Brandimouth",
         "Idaho",
         "ashley91@example.net",
         "42"
        ],
        [
         "16",
         "Manuel Garcia",
         "9084 Gardner Brooks Apt. 097\nNorth Joseph, NE 72136",
         "West Christinaview",
         "West Virginia",
         "donnacarrillo@example.net",
         "29"
        ],
        [
         "17",
         "Taylor Stuart",
         "6119 Dakota Village Apt. 110\nSouth Stephenshire, NY 87423",
         "Palmerport",
         "Alabama",
         "oherrera@example.com",
         "53"
        ],
        [
         "18",
         "Nicholas Hanson",
         "490 Andrew Crossing\nJosephside, MP 28950",
         "New James",
         "Maine",
         "mikesheppard@example.org",
         "55"
        ],
        [
         "19",
         "Zachary Thompson",
         "93022 Jensen Light Suite 984\nJacobburgh, PA 19929",
         "Saraborough",
         "Florida",
         "jonathan68@example.net",
         "43"
        ],
        [
         "20",
         "John Watson",
         "354 Bianca Rest Suite 368\nLuisville, MO 93704",
         "North Steven",
         "West Virginia",
         "fosterkeith@example.org",
         "70"
        ],
        [
         "21",
         "Christina Stewart",
         "826 Gabriel Mountains\nSouth Julieton, DE 10800",
         "South Shawn",
         "Oregon",
         "jacquelinemitchell@example.net",
         "33"
        ],
        [
         "22",
         "Jennifer Patel",
         "5399 Valdez Lock\nSouth Samantha, AK 78688",
         "Sarahside",
         "Montana",
         "qcurtis@example.com",
         "30"
        ],
        [
         "23",
         "Jeffrey Spencer",
         "958 Charles Trail\nDeborahborough, WY 87336",
         "Lake Williamchester",
         "Kansas",
         "beverlystout@example.com",
         "70"
        ],
        [
         "24",
         "Kristin Meyer",
         "520 Jacob Tunnel\nWest Steven, AS 96724",
         "Walterview",
         "Illinois",
         "lynnfreeman@example.org",
         "58"
        ],
        [
         "25",
         "William Marquez",
         "1599 Michael Glen Apt. 731\nMorsechester, MP 29125",
         "East Norman",
         "Minnesota",
         "twebb@example.net",
         "31"
        ],
        [
         "26",
         "Teresa Duarte",
         "647 Michael Fields\nBurgessville, NM 36087",
         "Port Peter",
         "New Hampshire",
         "jonathonmckenzie@example.net",
         "58"
        ],
        [
         "27",
         "Charles Barnett",
         "689 Kimberly Inlet\nJessicaburgh, LA 89935",
         "East Lindamouth",
         "Kansas",
         "uwalker@example.org",
         "58"
        ],
        [
         "28",
         "Michaela Harris",
         "126 Shane Run\nEast Karenburgh, VI 86292",
         "Kristenport",
         "Missouri",
         "umiller@example.net",
         "47"
        ],
        [
         "29",
         "Sean Shaw",
         "PSC 6510, Box 9015\nAPO AA 11210",
         "West Donna",
         "Montana",
         "palexander@example.com",
         "76"
        ],
        [
         "30",
         "James Larson",
         "308 Monroe Shoals\nPort Kimbury, AS 85455",
         "Port Coltonburgh",
         "Arizona",
         "susanwalker@example.com",
         "57"
        ],
        [
         "31",
         "Carmen Weiss DDS",
         "479 Nathaniel Brooks\nPort Philliptown, WI 43233",
         "Grantland",
         "Pennsylvania",
         "mlopez@example.net",
         "18"
        ],
        [
         "32",
         "Deanna Smith",
         "603 Larson Road\nNorth Timothyburgh, NH 87307",
         "Laurieshire",
         "Nevada",
         "xroberts@example.org",
         "66"
        ],
        [
         "33",
         "Lisa Garcia",
         "USCGC Cohen\nFPO AP 62029",
         "New Shawn",
         "Georgia",
         "kfox@example.net",
         "11"
        ],
        [
         "34",
         "Judy Munoz",
         "589 Delacruz Stream\nNorth Angela, KS 86223",
         "Lake Debbiehaven",
         "North Carolina",
         "anna60@example.org",
         "58"
        ],
        [
         "35",
         "Marcus Kim",
         "99762 Sarah Hollow\nNorth Renee, DE 44049",
         "Lake Josephberg",
         "Maine",
         "schultzerika@example.org",
         "56"
        ],
        [
         "36",
         "Gary Miller",
         "201 Samantha Mountain\nArmstrongberg, NJ 07479",
         "West Abigailborough",
         "South Carolina",
         "jacquelinegarcia@example.com",
         "55"
        ],
        [
         "37",
         "Mark Walker Jr.",
         "4453 Madeline Highway\nWest Ann, MT 70869",
         "Shepardchester",
         "West Virginia",
         "stevensonjonathan@example.org",
         "43"
        ],
        [
         "38",
         "Jacqueline Carroll",
         "0354 Cooper Shoal Apt. 371\nMeadowsmouth, MN 21574",
         "Randyside",
         "New Hampshire",
         "angelablackburn@example.net",
         "75"
        ],
        [
         "39",
         "Dennis Cox",
         "93579 Angela Shoal Apt. 332\nBrianchester, IN 08917",
         "Port Ryanshire",
         "North Carolina",
         "bchen@example.org",
         "75"
        ],
        [
         "40",
         "Troy Day",
         "562 Rios Rue\nHillside, MI 94685",
         "East Jeffrey",
         "New Mexico",
         "greenjames@example.org",
         "22"
        ],
        [
         "41",
         "Carla Howard",
         "PSC 5958, Box 2658\nAPO AA 22416",
         "Lake Richardfurt",
         "Vermont",
         "davidstevenson@example.org",
         "11"
        ],
        [
         "42",
         "Timothy Parsons",
         "USS Holloway\nFPO AA 94542",
         "East Mallory",
         "Delaware",
         "sarahjones@example.com",
         "29"
        ],
        [
         "43",
         "Patricia Burch",
         "2748 Erica Drive Suite 724\nNew Ryan, MT 80211",
         "North Dannyport",
         "Arizona",
         "gregory97@example.org",
         "16"
        ],
        [
         "44",
         "Sarah Andrews",
         "01161 Green Station Apt. 707\nWilliamchester, NY 41077",
         "Jeffreystad",
         "Maine",
         "cynthiaolson@example.net",
         "54"
        ],
        [
         "45",
         "Beth Bishop",
         "7679 Townsend Turnpike\nNorth Marymouth, MA 46474",
         "Cherylside",
         "Texas",
         "danielsnicholas@example.org",
         "53"
        ],
        [
         "46",
         "Stephanie Alexander",
         "98886 White Point\nPort Cody, IA 97861",
         "Moyermouth",
         "Nebraska",
         "greenrichard@example.com",
         "30"
        ],
        [
         "47",
         "Erin Lopez",
         "USNS Brown\nFPO AP 49674",
         "Atkinsonberg",
         "Minnesota",
         "parnold@example.org",
         "32"
        ],
        [
         "48",
         "Tommy Pollard",
         "348 Lindsey Summit\nWest Troyland, SD 97861",
         "Ronaldberg",
         "Louisiana",
         "yphillips@example.org",
         "28"
        ],
        [
         "49",
         "Nicholas Wilson",
         "Unit 4837 Box 3759\nDPO AE 66011",
         "New Michael",
         "Connecticut",
         "mario62@example.net",
         "39"
        ]
       ],
       "shape": {
        "columns": 6,
        "rows": 1000
       }
      },
      "text/html": [
       "<div>\n",
       "<style scoped>\n",
       "    .dataframe tbody tr th:only-of-type {\n",
       "        vertical-align: middle;\n",
       "    }\n",
       "\n",
       "    .dataframe tbody tr th {\n",
       "        vertical-align: top;\n",
       "    }\n",
       "\n",
       "    .dataframe thead th {\n",
       "        text-align: right;\n",
       "    }\n",
       "</style>\n",
       "<table border=\"1\" class=\"dataframe\">\n",
       "  <thead>\n",
       "    <tr style=\"text-align: right;\">\n",
       "      <th></th>\n",
       "      <th>name</th>\n",
       "      <th>address</th>\n",
       "      <th>city</th>\n",
       "      <th>state</th>\n",
       "      <th>email</th>\n",
       "      <th>age</th>\n",
       "    </tr>\n",
       "  </thead>\n",
       "  <tbody>\n",
       "    <tr>\n",
       "      <th>0</th>\n",
       "      <td>Colleen Olson</td>\n",
       "      <td>4561 Jennifer Ways Suite 951\\nNorth Selena, IL...</td>\n",
       "      <td>West Josephton</td>\n",
       "      <td>Oregon</td>\n",
       "      <td>scottmiller@example.net</td>\n",
       "      <td>78</td>\n",
       "    </tr>\n",
       "    <tr>\n",
       "      <th>1</th>\n",
       "      <td>Charles Davis</td>\n",
       "      <td>30174 Lee Park\\nEast Tanyaville, WA 59861</td>\n",
       "      <td>Timothyfort</td>\n",
       "      <td>Kansas</td>\n",
       "      <td>lawrencedonovan@example.org</td>\n",
       "      <td>72</td>\n",
       "    </tr>\n",
       "    <tr>\n",
       "      <th>2</th>\n",
       "      <td>Jeffrey Stewart</td>\n",
       "      <td>4436 Pearson Roads Suite 629\\nNorth Emily, NH ...</td>\n",
       "      <td>West Carlostown</td>\n",
       "      <td>North Dakota</td>\n",
       "      <td>christopher22@example.net</td>\n",
       "      <td>11</td>\n",
       "    </tr>\n",
       "    <tr>\n",
       "      <th>3</th>\n",
       "      <td>Miranda Becker</td>\n",
       "      <td>2026 Estrada Place Apt. 603\\nWest Kellimouth, ...</td>\n",
       "      <td>Port Todd</td>\n",
       "      <td>New York</td>\n",
       "      <td>andersenjonathan@example.net</td>\n",
       "      <td>65</td>\n",
       "    </tr>\n",
       "    <tr>\n",
       "      <th>4</th>\n",
       "      <td>Tara Navarro</td>\n",
       "      <td>4966 Sara Bridge Suite 933\\nSouth Kathrynland,...</td>\n",
       "      <td>South Kristine</td>\n",
       "      <td>Georgia</td>\n",
       "      <td>ncook@example.net</td>\n",
       "      <td>48</td>\n",
       "    </tr>\n",
       "    <tr>\n",
       "      <th>...</th>\n",
       "      <td>...</td>\n",
       "      <td>...</td>\n",
       "      <td>...</td>\n",
       "      <td>...</td>\n",
       "      <td>...</td>\n",
       "      <td>...</td>\n",
       "    </tr>\n",
       "    <tr>\n",
       "      <th>995</th>\n",
       "      <td>John Peterson</td>\n",
       "      <td>7657 Brooks Plains Apt. 008\\nJesseland, NV 58786</td>\n",
       "      <td>South Karenmouth</td>\n",
       "      <td>Hawaii</td>\n",
       "      <td>jonfitzpatrick@example.net</td>\n",
       "      <td>26</td>\n",
       "    </tr>\n",
       "    <tr>\n",
       "      <th>996</th>\n",
       "      <td>Cynthia Williams</td>\n",
       "      <td>043 Clark Ports Apt. 678\\nSouth Jacob, NV 31946</td>\n",
       "      <td>South Jacqueline</td>\n",
       "      <td>Nevada</td>\n",
       "      <td>simonadam@example.com</td>\n",
       "      <td>64</td>\n",
       "    </tr>\n",
       "    <tr>\n",
       "      <th>997</th>\n",
       "      <td>David Hicks</td>\n",
       "      <td>1745 Adam Lake Apt. 857\\nSouth Mark, WY 66904</td>\n",
       "      <td>South George</td>\n",
       "      <td>Minnesota</td>\n",
       "      <td>jamestapia@example.org</td>\n",
       "      <td>20</td>\n",
       "    </tr>\n",
       "    <tr>\n",
       "      <th>998</th>\n",
       "      <td>Anthony Duncan</td>\n",
       "      <td>0815 Deborah Turnpike\\nSweeneyfurt, NC 56647</td>\n",
       "      <td>Valdezmouth</td>\n",
       "      <td>New Jersey</td>\n",
       "      <td>dsawyer@example.org</td>\n",
       "      <td>59</td>\n",
       "    </tr>\n",
       "    <tr>\n",
       "      <th>999</th>\n",
       "      <td>Janet Holmes</td>\n",
       "      <td>9582 Lewis Courts\\nEast Ashleymouth, ME 95589</td>\n",
       "      <td>Davidbury</td>\n",
       "      <td>Washington</td>\n",
       "      <td>diazgary@example.net</td>\n",
       "      <td>44</td>\n",
       "    </tr>\n",
       "  </tbody>\n",
       "</table>\n",
       "<p>1000 rows × 6 columns</p>\n",
       "</div>"
      ],
      "text/plain": [
       "                 name                                            address  \\\n",
       "0       Colleen Olson  4561 Jennifer Ways Suite 951\\nNorth Selena, IL...   \n",
       "1       Charles Davis          30174 Lee Park\\nEast Tanyaville, WA 59861   \n",
       "2     Jeffrey Stewart  4436 Pearson Roads Suite 629\\nNorth Emily, NH ...   \n",
       "3      Miranda Becker  2026 Estrada Place Apt. 603\\nWest Kellimouth, ...   \n",
       "4        Tara Navarro  4966 Sara Bridge Suite 933\\nSouth Kathrynland,...   \n",
       "..                ...                                                ...   \n",
       "995     John Peterson   7657 Brooks Plains Apt. 008\\nJesseland, NV 58786   \n",
       "996  Cynthia Williams    043 Clark Ports Apt. 678\\nSouth Jacob, NV 31946   \n",
       "997       David Hicks      1745 Adam Lake Apt. 857\\nSouth Mark, WY 66904   \n",
       "998    Anthony Duncan       0815 Deborah Turnpike\\nSweeneyfurt, NC 56647   \n",
       "999      Janet Holmes      9582 Lewis Courts\\nEast Ashleymouth, ME 95589   \n",
       "\n",
       "                 city         state                         email  age  \n",
       "0      West Josephton        Oregon       scottmiller@example.net   78  \n",
       "1         Timothyfort        Kansas   lawrencedonovan@example.org   72  \n",
       "2     West Carlostown  North Dakota     christopher22@example.net   11  \n",
       "3           Port Todd      New York  andersenjonathan@example.net   65  \n",
       "4      South Kristine       Georgia             ncook@example.net   48  \n",
       "..                ...           ...                           ...  ...  \n",
       "995  South Karenmouth        Hawaii    jonfitzpatrick@example.net   26  \n",
       "996  South Jacqueline        Nevada         simonadam@example.com   64  \n",
       "997      South George     Minnesota        jamestapia@example.org   20  \n",
       "998       Valdezmouth    New Jersey           dsawyer@example.org   59  \n",
       "999         Davidbury    Washington          diazgary@example.net   44  \n",
       "\n",
       "[1000 rows x 6 columns]"
      ]
     },
     "execution_count": 3,
     "metadata": {},
     "output_type": "execute_result"
    }
   ],
   "source": [
    "from faker import Faker\n",
    "import pandas as pd\n",
    "from random import randrange\n",
    "import matplotlib.pyplot as plt\n",
    "\n",
    "fake = Faker()\n",
    "output =[{\n",
    "    \"name\" : fake.name(),\n",
    "    \"address\": fake.address(),\n",
    "    \"city\" :fake.city(),\n",
    "    \"state\" : fake.state(),\n",
    "    \"email\":fake.email(),\n",
    "    \"age\": 10 + randrange(70)\n",
    "\n",
    "    \n",
    "} for _ in range(1000)]\n",
    "df = pd.DataFrame(output)\n",
    "df"
   ]
  },
  {
   "cell_type": "code",
   "execution_count": 4,
   "id": "8571122e",
   "metadata": {},
   "outputs": [],
   "source": [
    "df.loc[df[\"age\"] < 20, \"age\"] = 20"
   ]
  },
  {
   "cell_type": "code",
   "execution_count": 5,
   "id": "64389609",
   "metadata": {},
   "outputs": [
    {
     "data": {
      "image/png": "[encoded data removed]",
      "text/plain": [
       "<Figure size 640x480 with 1 Axes>"
      ]
     },
     "metadata": {},
     "output_type": "display_data"
    }
   ],
   "source": [
    "df.hist(column = \"age\", bins =10)\n",
    "plt.show()"
   ]
  },
  {
   "cell_type": "code",
   "execution_count": 8,
   "id": "c58964b8",
   "metadata": {},
   "outputs": [],
   "source": [
    "df.to_csv('fake_data.csv', index=False)"
   ]
  },
  {
   "cell_type": "code",
   "execution_count": 9,
   "id": "97c2029b",
   "metadata": {},
   "outputs": [
    {
     "ename": "NameError",
     "evalue": "name 'fake_data' is not defined",
     "output_type": "error",
     "traceback": [
      "\u001b[31m---------------------------------------------------------------------------\u001b[39m",
      "\u001b[31mNameError\u001b[39m                                 Traceback (most recent call last)",
      "\u001b[36mCell\u001b[39m\u001b[36m \u001b[39m\u001b[32mIn[9]\u001b[39m\u001b[32m, line 1\u001b[39m\n\u001b[32m----> \u001b[39m\u001b[32m1\u001b[39m \u001b[43mfake_data\u001b[49m.csv\n",
      "\u001b[31mNameError\u001b[39m: name 'fake_data' is not defined"
     ]
    }
   ],
   "source": [
    "fake_data.csv"
   ]
  },
  {
   "cell_type": "code",
   "execution_count": null,
   "id": "080150e4",
   "metadata": {},
   "outputs": [],
   "source": []
  }
 ],
 "metadata": {
  "kernelspec": {
   "display_name": "Python 3",
   "language": "python",
   "name": "python3"
  },
  "language_info": {
   "codemirror_mode": {
    "name": "ipython",
    "version": 3
   },
   "file_extension": ".py",
   "mimetype": "text/x-python",
   "name": "python",
   "nbconvert_exporter": "python",
   "pygments_lexer": "ipython3",
   "version": "3.13.3"
  }
 },
 "nbformat": 4,
 "nbformat_minor": 5
}
