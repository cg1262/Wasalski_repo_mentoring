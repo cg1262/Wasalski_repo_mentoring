{
 "cells": [
  {
   "cell_type": "code",
   "execution_count": 1,
   "id": "b72e8cce",
   "metadata": {},
   "outputs": [
    {
     "data": {
      "application/vnd.microsoft.datawrangler.viewer.v0+json": {
       "columns": [
        {
         "name": "index",
         "rawType": "int64",
         "type": "integer"
        },
        {
         "name": "name",
         "rawType": "object",
         "type": "string"
        },
        {
         "name": "address",
         "rawType": "object",
         "type": "string"
        },
        {
         "name": "city",
         "rawType": "object",
         "type": "string"
        },
        {
         "name": "state",
         "rawType": "object",
         "type": "string"
        },
        {
         "name": "email",
         "rawType": "object",
         "type": "string"
        },
        {
         "name": "age",
         "rawType": "int64",
         "type": "integer"
        }
       ],
       "conversionMethod": "pd.DataFrame",
       "ref": "de6cd8e4-2c53-40b7-971b-651fce30a7c2",
       "rows": [
        [
         "0",
         "Jennifer Reid",
         "PSC 7629, Box 5787\nAPO AP 36334",
         "West Cherylland",
         "Massachusetts",
         "walkerbrian@example.com",
         "27"
        ],
        [
         "1",
         "Miss Catherine Richardson",
         "155 Martinez Valleys\nStephaniefurt, SC 84413",
         "North Marioview",
         "Massachusetts",
         "martinbrandon@example.com",
         "47"
        ],
        [
         "2",
         "Karla Phillips",
         "07066 Foster Fields\nSouth Davidborough, SD 52728",
         "Hernandezburgh",
         "Connecticut",
         "aking@example.org",
         "50"
        ],
        [
         "3",
         "Brian Cox",
         "8793 Butler Locks Apt. 416\nPort Wesleyhaven, NE 19355",
         "Port Jeremystad",
         "Delaware",
         "ambertrevino@example.org",
         "73"
        ],
        [
         "4",
         "Jordan Kline",
         "USS Schmitt\nFPO AP 85579",
         "Matthewburgh",
         "Oklahoma",
         "jessica34@example.com",
         "69"
        ],
        [
         "5",
         "Michael Howe",
         "8306 Brian Cape\nDonaldside, MP 05995",
         "South Matthewstad",
         "Nebraska",
         "scottjones@example.net",
         "73"
        ],
        [
         "6",
         "Renee Pierce",
         "90550 Kirby Landing Apt. 135\nNorth Ashley, NV 10072",
         "West Brittanytown",
         "Oregon",
         "robert41@example.com",
         "28"
        ],
        [
         "7",
         "Kevin Moore",
         "202 George Terrace Apt. 087\nEast Hannahmouth, NV 44361",
         "North Gary",
         "Alabama",
         "jmccormick@example.net",
         "58"
        ],
        [
         "8",
         "Allen Robinson",
         "7506 Amanda Estates\nWilkersonstad, PW 22998",
         "North Erinside",
         "Ohio",
         "rwang@example.net",
         "57"
        ],
        [
         "9",
         "Nathaniel Miller",
         "1068 Rodriguez Lodge Apt. 566\nHallmouth, NC 83187",
         "South Johnny",
         "Minnesota",
         "williamsclaudia@example.org",
         "18"
        ],
        [
         "10",
         "Pamela Martinez",
         "951 Grant Island\nSpenceshire, GU 17752",
         "Harveyland",
         "Illinois",
         "richard80@example.org",
         "39"
        ],
        [
         "11",
         "Jean Harris",
         "7338 Phelps Tunnel Suite 284\nMelanietown, KS 83120",
         "Dennisside",
         "Kansas",
         "rivasdavid@example.org",
         "76"
        ],
        [
         "12",
         "Thomas Smith",
         "PSC 2438, Box 1056\nAPO AE 07806",
         "Holmesborough",
         "Utah",
         "mitchellchristian@example.net",
         "54"
        ],
        [
         "13",
         "Jeffrey Robinson",
         "015 Levine Vista Suite 701\nLake Andreport, NC 48618",
         "East Joseberg",
         "Wyoming",
         "iwilson@example.com",
         "73"
        ],
        [
         "14",
         "Kelly Castaneda",
         "0372 Michael Brooks Apt. 573\nWest Valerie, FL 35170",
         "East Jeanmouth",
         "Oregon",
         "brianfisher@example.org",
         "78"
        ],
        [
         "15",
         "Amanda Walter",
         "86660 Gary View\nSingletonmouth, NV 90620",
         "Michaelland",
         "Michigan",
         "garciajill@example.org",
         "66"
        ],
        [
         "16",
         "Brittany Jackson",
         "9176 Kerri Squares\nMelissaland, VI 33334",
         "East Anita",
         "Minnesota",
         "alyssacarroll@example.com",
         "27"
        ],
        [
         "17",
         "Matthew Boyd",
         "350 John Loaf Apt. 629\nSouth Jenniferfurt, WY 43017",
         "Lake Alanbury",
         "Alabama",
         "angiephillips@example.net",
         "77"
        ],
        [
         "18",
         "Mark Gibson",
         "8193 Angela Green\nDavisburgh, AZ 78119",
         "Diazchester",
         "West Virginia",
         "mfrazier@example.org",
         "22"
        ],
        [
         "19",
         "Julie Jackson",
         "030 Lopez Lakes\nLake Scott, NV 11132",
         "Angelatown",
         "Utah",
         "oprice@example.net",
         "50"
        ],
        [
         "20",
         "Patricia Payne",
         "582 Gonzalez Points Apt. 412\nNorth Jessica, CT 49133",
         "Lake Christophertown",
         "Tennessee",
         "aimee34@example.org",
         "12"
        ],
        [
         "21",
         "Stephen Valencia",
         "74169 Tonya Lodge\nSouth Tammy, MN 79121",
         "East Amandashire",
         "Colorado",
         "shieldsrachel@example.org",
         "51"
        ],
        [
         "22",
         "Anne Jordan",
         "24859 Rowe Ridges Suite 966\nPort Patriciafurt, MN 23596",
         "Richardsside",
         "Michigan",
         "danielcampbell@example.com",
         "25"
        ],
        [
         "23",
         "Bob Schultz",
         "63506 Lee Mission Suite 248\nEast Michael, SC 38372",
         "Lake Matthewhaven",
         "Idaho",
         "xweaver@example.com",
         "32"
        ],
        [
         "24",
         "Margaret Gardner",
         "8774 Robin Turnpike Apt. 160\nSouth Connie, MD 01361",
         "East Donald",
         "Tennessee",
         "rita88@example.com",
         "39"
        ],
        [
         "25",
         "Joshua Gray",
         "38469 Mckenzie Light Suite 918\nSouth Andre, MO 48785",
         "South Christopher",
         "Pennsylvania",
         "alexanderthomas@example.com",
         "28"
        ],
        [
         "26",
         "Ms. Jessica Ayala DDS",
         "PSC 3894, Box 2228\nAPO AE 67184",
         "Davisview",
         "Virginia",
         "leebradley@example.com",
         "24"
        ],
        [
         "27",
         "Jacob Scott",
         "595 Garcia Ridges Suite 478\nNew Ginaville, GA 33250",
         "West Jodichester",
         "Georgia",
         "edwardsfrancis@example.com",
         "49"
        ],
        [
         "28",
         "Stephen Jarvis",
         "28989 Mary Causeway\nDianeport, MA 46881",
         "Port Matthewbury",
         "Connecticut",
         "john29@example.org",
         "15"
        ],
        [
         "29",
         "Erica Hamilton",
         "8800 Henderson Loop\nThomasside, VT 80383",
         "Andersonport",
         "West Virginia",
         "hoodmitchell@example.org",
         "37"
        ],
        [
         "30",
         "Christopher Torres",
         "8871 Dominique Rapids Suite 718\nHatfieldmouth, FL 71856",
         "Port Nicole",
         "Indiana",
         "grobbins@example.net",
         "34"
        ],
        [
         "31",
         "Jeanette Perez",
         "2120 Christine Curve Apt. 181\nMartinshire, NM 57050",
         "South Scottport",
         "Nebraska",
         "beckmelissa@example.org",
         "52"
        ],
        [
         "32",
         "Isaac Norton",
         "74440 Lee Street Apt. 506\nSouth Samuelburgh, SD 72262",
         "New Martin",
         "Ohio",
         "contrerassean@example.net",
         "42"
        ],
        [
         "33",
         "Kevin Little",
         "4656 Lee Plain Apt. 473\nKevinfort, HI 89285",
         "Lake Matthew",
         "Minnesota",
         "vlopez@example.net",
         "78"
        ],
        [
         "34",
         "Alexis Woodward",
         "5723 Brian Court Suite 392\nPhilipberg, GA 59336",
         "Cooperbury",
         "Nebraska",
         "jonesjessica@example.net",
         "77"
        ],
        [
         "35",
         "Diane Boone",
         "00503 Brown Lake Suite 142\nNew Cory, UT 28203",
         "Popeville",
         "Delaware",
         "briana13@example.com",
         "59"
        ],
        [
         "36",
         "Katherine Sullivan",
         "51710 Kennedy Mountain\nSouth Barry, OR 12036",
         "Richardview",
         "Wyoming",
         "alexkhan@example.com",
         "73"
        ],
        [
         "37",
         "Katrina Walker",
         "248 Ryan Common\nFaithburgh, GA 64811",
         "West Michaelborough",
         "Hawaii",
         "millerdevon@example.net",
         "28"
        ],
        [
         "38",
         "Martin Frazier",
         "480 Micheal Avenue Apt. 609\nKellyport, MI 85636",
         "Ninaburgh",
         "Michigan",
         "nathaniel22@example.org",
         "51"
        ],
        [
         "39",
         "Michelle Fuller",
         "893 Joseph Run\nLake Maria, ME 35229",
         "New Andrew",
         "Michigan",
         "montoyathomas@example.org",
         "77"
        ],
        [
         "40",
         "Gregory Hampton",
         "5351 Hunt Unions\nWest Melissahaven, RI 18951",
         "Dominguezshire",
         "New Mexico",
         "molly79@example.com",
         "16"
        ],
        [
         "41",
         "Garrett English",
         "7455 Dickerson Plain Suite 049\nSheriberg, GA 21084",
         "South Jessica",
         "South Carolina",
         "thomasshah@example.org",
         "71"
        ],
        [
         "42",
         "Kenneth Miles",
         "56372 Brandon Court\nWest Vanessamouth, RI 16365",
         "Port Christinachester",
         "Kentucky",
         "randy20@example.org",
         "33"
        ],
        [
         "43",
         "John Taylor",
         "035 Tamara Glens Apt. 622\nJohnview, DC 16229",
         "Reynoldsburgh",
         "Delaware",
         "jameslowery@example.net",
         "31"
        ],
        [
         "44",
         "Brittney Fields",
         "4722 Lyons Square Apt. 314\nWestshire, CO 87631",
         "Williamsshire",
         "Mississippi",
         "adamsangela@example.com",
         "57"
        ],
        [
         "45",
         "Daniel Scott",
         "173 Matthew Vista\nChavezchester, ID 27226",
         "East Adrianburgh",
         "Connecticut",
         "robersonrobin@example.net",
         "19"
        ],
        [
         "46",
         "Brian Stewart",
         "732 David Center\nLake Josephborough, CT 46397",
         "Lake Carla",
         "Florida",
         "stevencortez@example.net",
         "74"
        ],
        [
         "47",
         "Richard Blair",
         "900 Diane Stravenue\nPort Derek, AK 88477",
         "Gonzalezburgh",
         "Mississippi",
         "mariavargas@example.com",
         "42"
        ],
        [
         "48",
         "Alexander Miller",
         "572 Timothy Freeway\nKimberlyview, MN 07194",
         "Schultzmouth",
         "Florida",
         "vargasjeffrey@example.com",
         "42"
        ],
        [
         "49",
         "Larry Taylor",
         "5643 Jorge Plains Suite 592\nKimberlyland, VA 44672",
         "Harrisview",
         "Idaho",
         "jhardin@example.com",
         "15"
        ]
       ],
       "shape": {
        "columns": 6,
        "rows": 1000
       }
      },
      "text/html": [
       "<div>\n",
       "<style scoped>\n",
       "    .dataframe tbody tr th:only-of-type {\n",
       "        vertical-align: middle;\n",
       "    }\n",
       "\n",
       "    .dataframe tbody tr th {\n",
       "        vertical-align: top;\n",
       "    }\n",
       "\n",
       "    .dataframe thead th {\n",
       "        text-align: right;\n",
       "    }\n",
       "</style>\n",
       "<table border=\"1\" class=\"dataframe\">\n",
       "  <thead>\n",
       "    <tr style=\"text-align: right;\">\n",
       "      <th></th>\n",
       "      <th>name</th>\n",
       "      <th>address</th>\n",
       "      <th>city</th>\n",
       "      <th>state</th>\n",
       "      <th>email</th>\n",
       "      <th>age</th>\n",
       "    </tr>\n",
       "  </thead>\n",
       "  <tbody>\n",
       "    <tr>\n",
       "      <th>0</th>\n",
       "      <td>Jennifer Reid</td>\n",
       "      <td>PSC 7629, Box 5787\\nAPO AP 36334</td>\n",
       "      <td>West Cherylland</td>\n",
       "      <td>Massachusetts</td>\n",
       "      <td>walkerbrian@example.com</td>\n",
       "      <td>27</td>\n",
       "    </tr>\n",
       "    <tr>\n",
       "      <th>1</th>\n",
       "      <td>Miss Catherine Richardson</td>\n",
       "      <td>155 Martinez Valleys\\nStephaniefurt, SC 84413</td>\n",
       "      <td>North Marioview</td>\n",
       "      <td>Massachusetts</td>\n",
       "      <td>martinbrandon@example.com</td>\n",
       "      <td>47</td>\n",
       "    </tr>\n",
       "    <tr>\n",
       "      <th>2</th>\n",
       "      <td>Karla Phillips</td>\n",
       "      <td>07066 Foster Fields\\nSouth Davidborough, SD 52728</td>\n",
       "      <td>Hernandezburgh</td>\n",
       "      <td>Connecticut</td>\n",
       "      <td>aking@example.org</td>\n",
       "      <td>50</td>\n",
       "    </tr>\n",
       "    <tr>\n",
       "      <th>3</th>\n",
       "      <td>Brian Cox</td>\n",
       "      <td>8793 Butler Locks Apt. 416\\nPort Wesleyhaven, ...</td>\n",
       "      <td>Port Jeremystad</td>\n",
       "      <td>Delaware</td>\n",
       "      <td>ambertrevino@example.org</td>\n",
       "      <td>73</td>\n",
       "    </tr>\n",
       "    <tr>\n",
       "      <th>4</th>\n",
       "      <td>Jordan Kline</td>\n",
       "      <td>USS Schmitt\\nFPO AP 85579</td>\n",
       "      <td>Matthewburgh</td>\n",
       "      <td>Oklahoma</td>\n",
       "      <td>jessica34@example.com</td>\n",
       "      <td>69</td>\n",
       "    </tr>\n",
       "    <tr>\n",
       "      <th>...</th>\n",
       "      <td>...</td>\n",
       "      <td>...</td>\n",
       "      <td>...</td>\n",
       "      <td>...</td>\n",
       "      <td>...</td>\n",
       "      <td>...</td>\n",
       "    </tr>\n",
       "    <tr>\n",
       "      <th>995</th>\n",
       "      <td>Carmen Woods</td>\n",
       "      <td>4968 Smith Track Apt. 019\\nMcleanshire, NM 17398</td>\n",
       "      <td>West Denisebury</td>\n",
       "      <td>Florida</td>\n",
       "      <td>john13@example.com</td>\n",
       "      <td>22</td>\n",
       "    </tr>\n",
       "    <tr>\n",
       "      <th>996</th>\n",
       "      <td>Ryan Dodson</td>\n",
       "      <td>PSC 4527, Box 1286\\nAPO AA 47682</td>\n",
       "      <td>Lake Debbie</td>\n",
       "      <td>Missouri</td>\n",
       "      <td>charleshoover@example.org</td>\n",
       "      <td>76</td>\n",
       "    </tr>\n",
       "    <tr>\n",
       "      <th>997</th>\n",
       "      <td>Mrs. Linda Jones PhD</td>\n",
       "      <td>7494 Hampton Shoals\\nMichaelbury, KS 49140</td>\n",
       "      <td>East Michael</td>\n",
       "      <td>Alaska</td>\n",
       "      <td>marcus43@example.com</td>\n",
       "      <td>78</td>\n",
       "    </tr>\n",
       "    <tr>\n",
       "      <th>998</th>\n",
       "      <td>Ashley Davis</td>\n",
       "      <td>54317 Taylor Summit\\nTaylorside, IL 47908</td>\n",
       "      <td>Terryview</td>\n",
       "      <td>Maine</td>\n",
       "      <td>mcdanielmary@example.org</td>\n",
       "      <td>13</td>\n",
       "    </tr>\n",
       "    <tr>\n",
       "      <th>999</th>\n",
       "      <td>Scott Brown</td>\n",
       "      <td>2497 Long Vista\\nEast Carol, ID 33635</td>\n",
       "      <td>Juliefurt</td>\n",
       "      <td>Vermont</td>\n",
       "      <td>andreanguyen@example.org</td>\n",
       "      <td>70</td>\n",
       "    </tr>\n",
       "  </tbody>\n",
       "</table>\n",
       "<p>1000 rows × 6 columns</p>\n",
       "</div>"
      ],
      "text/plain": [
       "                          name  \\\n",
       "0                Jennifer Reid   \n",
       "1    Miss Catherine Richardson   \n",
       "2               Karla Phillips   \n",
       "3                    Brian Cox   \n",
       "4                 Jordan Kline   \n",
       "..                         ...   \n",
       "995               Carmen Woods   \n",
       "996                Ryan Dodson   \n",
       "997       Mrs. Linda Jones PhD   \n",
       "998               Ashley Davis   \n",
       "999                Scott Brown   \n",
       "\n",
       "                                               address             city  \\\n",
       "0                     PSC 7629, Box 5787\\nAPO AP 36334  West Cherylland   \n",
       "1        155 Martinez Valleys\\nStephaniefurt, SC 84413  North Marioview   \n",
       "2    07066 Foster Fields\\nSouth Davidborough, SD 52728   Hernandezburgh   \n",
       "3    8793 Butler Locks Apt. 416\\nPort Wesleyhaven, ...  Port Jeremystad   \n",
       "4                            USS Schmitt\\nFPO AP 85579     Matthewburgh   \n",
       "..                                                 ...              ...   \n",
       "995   4968 Smith Track Apt. 019\\nMcleanshire, NM 17398  West Denisebury   \n",
       "996                   PSC 4527, Box 1286\\nAPO AA 47682      Lake Debbie   \n",
       "997         7494 Hampton Shoals\\nMichaelbury, KS 49140     East Michael   \n",
       "998          54317 Taylor Summit\\nTaylorside, IL 47908        Terryview   \n",
       "999              2497 Long Vista\\nEast Carol, ID 33635        Juliefurt   \n",
       "\n",
       "             state                      email  age  \n",
       "0    Massachusetts    walkerbrian@example.com   27  \n",
       "1    Massachusetts  martinbrandon@example.com   47  \n",
       "2      Connecticut          aking@example.org   50  \n",
       "3         Delaware   ambertrevino@example.org   73  \n",
       "4         Oklahoma      jessica34@example.com   69  \n",
       "..             ...                        ...  ...  \n",
       "995        Florida         john13@example.com   22  \n",
       "996       Missouri  charleshoover@example.org   76  \n",
       "997         Alaska       marcus43@example.com   78  \n",
       "998          Maine   mcdanielmary@example.org   13  \n",
       "999        Vermont   andreanguyen@example.org   70  \n",
       "\n",
       "[1000 rows x 6 columns]"
      ]
     },
     "execution_count": 1,
     "metadata": {},
     "output_type": "execute_result"
    }
   ],
   "source": [
    "from faker import Faker\n",
    "import pandas as pd\n",
    "from random import randrange\n",
    "import snowflake.connector\n",
    "import matplotlib.pyplot as plt\n",
    "\n",
    "fake = Faker()\n",
    "output =[{\n",
    "    \"name\" : fake.name(),\n",
    "    \"address\": fake.address(),\n",
    "    \"city\" :fake.city(),\n",
    "    \"state\" : fake.state(),\n",
    "    \"email\":fake.email(),\n",
    "    \"age\": 10 + randrange(70)\n",
    "\n",
    "    \n",
    "} for _ in range(1000)]\n",
    "df = pd.DataFrame(output)\n",
    "df"
   ]
  },
  {
   "cell_type": "code",
   "execution_count": 2,
   "id": "8571122e",
   "metadata": {},
   "outputs": [],
   "source": [
    "df.loc[df[\"age\"] < 20, \"age\"] = 20"
   ]
  },
  {
   "cell_type": "code",
   "execution_count": 3,
   "id": "64389609",
   "metadata": {},
   "outputs": [
    {
     "data": {
      "image/png": "[encoded data removed]",
      "text/plain": [
       "<Figure size 640x480 with 1 Axes>"
      ]
     },
     "metadata": {},
     "output_type": "display_data"
    }
   ],
   "source": [
    "df.hist(column = \"age\", bins =10)\n",
    "plt.show()"
   ]
  },
  {
   "cell_type": "code",
   "execution_count": 4,
   "id": "c58964b8",
   "metadata": {},
   "outputs": [],
   "source": [
    "df.to_csv('fake_data.csv', index=False)"
   ]
  },
  {
   "cell_type": "code",
   "execution_count": null,
   "id": "080150e4",
   "metadata": {},
   "outputs": [],
   "source": []
  }
 ],
 "metadata": {
  "kernelspec": {
   "display_name": "Python 3",
   "language": "python",
   "name": "python3"
  },
  "language_info": {
   "codemirror_mode": {
    "name": "ipython",
    "version": 3
   },
   "file_extension": ".py",
   "mimetype": "text/x-python",
   "name": "python",
   "nbconvert_exporter": "python",
   "pygments_lexer": "ipython3",
   "version": "3.13.3"
  }
 },
 "nbformat": 4,
 "nbformat_minor": 5
}
