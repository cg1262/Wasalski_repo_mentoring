{
 "cells": [
  {
   "cell_type": "markdown",
   "metadata": {},
   "source": [
    "# Apify Bronze Layer - Data Exploration\n",
    "Notebook do eksploracji danych z Apify API (Bronze Layer)"
   ]
  },
  {
   "cell_type": "code",
   "execution_count": null,
   "metadata": {},
   "outputs": [],
   "source": [
    "# Importy\n",
    "from Core.ELTApify.DatasourceApifyClass import DatasourceApifyClass\n",
    "import pandas as pd"
   ]
  },
  {
   "cell_type": "code",
   "execution_count": null,
   "metadata": {},
   "outputs": [],
   "source": [
    "# Inicjalizacja i pobranie danych\n",
    "datasource = DatasourceApifyClass()\n",
    "bronze_data = datasource.bronzeprocessing()\n",
    "\n",
    "# DataFrame: actors\n",
    "actors = bronze_data['actors']\n",
    "actors"
   ]
  },
  {
   "cell_type": "code",
   "execution_count": null,
   "metadata": {},
   "outputs": [],
   "source": [
    "# DataFrame: actor_runs\n",
    "actor_runs = bronze_data['actor_runs']\n",
    "actor_runs"
   ]
  },
  {
   "cell_type": "code",
   "execution_count": null,
   "metadata": {},
   "outputs": [],
   "source": [
    "# DataFrame: actor_runs_details\n",
    "actor_runs_details = bronze_data['actor_runs_details']\n",
    "actor_runs_details"
   ]
  },
  {
   "cell_type": "code",
   "execution_count": null,
   "metadata": {},
   "outputs": [],
   "source": [
    "# Informacje o strukturze actors\n",
    "print(\"=== ACTORS ===\")\n",
    "print(f\"Shape: {actors.shape}\")\n",
    "print(f\"\\nColumns: {list(actors.columns)}\")\n",
    "actors.info()"
   ]
  },
  {
   "cell_type": "code",
   "execution_count": null,
   "metadata": {},
   "outputs": [],
   "source": [
    "# Informacje o strukturze actor_runs\n",
    "print(\"=== ACTOR RUNS ===\")\n",
    "print(f\"Shape: {actor_runs.shape}\")\n",
    "print(f\"\\nColumns: {list(actor_runs.columns)}\")\n",
    "actor_runs.info()"
   ]
  },
  {
   "cell_type": "code",
   "execution_count": null,
   "metadata": {},
   "outputs": [],
   "source": [
    "# Informacje o strukturze actor_runs_details\n",
    "print(\"=== ACTOR RUNS DETAILS ===\")\n",
    "print(f\"Shape: {actor_runs_details.shape}\")\n",
    "print(f\"\\nColumns: {list(actor_runs_details.columns)}\")\n",
    "actor_runs_details.info()"
   ]
  },
  {
   "cell_type": "code",
   "execution_count": 22,
   "metadata": {},
   "outputs": [
    {
     "data": {
      "text/plain": [
       "[[5, 0, 0, 0, 0, 0, 0, 0, 0, 0],\n",
       " [5, 0, 0, 0, 0, 0, 0, 0, 0, 0],\n",
       " [5, 0, 0, 0, 0, 0, 0, 0, 0, 0],\n",
       " [5, 0, 0, 0, 0, 0, 0, 0, 0, 0],\n",
       " [5, 0, 0, 0, 0, 0, 0, 0, 0, 0],\n",
       " [5, 0, 0, 0, 0, 0, 0, 0, 0, 0],\n",
       " [5, 0, 0, 0, 0, 0, 0, 0, 0, 0],\n",
       " [5, 0, 0, 0, 0, 0, 0, 0, 0, 0],\n",
       " [5, 0, 0, 0, 0, 0, 0, 0, 0, 0],\n",
       " [5, 0, 0, 0, 0, 0, 0, 0, 0, 0]]"
      ]
     },
     "execution_count": 22,
     "metadata": {},
     "output_type": "execute_result"
    }
   ],
   "source": [
    "# xs = [[0]*10 for _ in range(10)]\n",
    "xs = [[0]*10]*10 # refrence to the same list 10 times\n",
    "zz = xs.copy()\n",
    "zz[3][0] = 5\n",
    "# xs[0][1] = 6\n",
    "# xs[0][2] = 7\n",
    "zz"
   ]
  },
  {
   "cell_type": "code",
   "execution_count": null,
   "metadata": {},
   "outputs": [],
   "source": []
  }
 ],
 "metadata": {
  "kernelspec": {
   "display_name": "Python 3",
   "language": "python",
   "name": "python3"
  },
  "language_info": {
   "codemirror_mode": {
    "name": "ipython",
    "version": 3
   },
   "file_extension": ".py",
   "mimetype": "text/x-python",
   "name": "python",
   "nbconvert_exporter": "python",
   "pygments_lexer": "ipython3",
   "version": "3.13.2"
  }
 },
 "nbformat": 4,
 "nbformat_minor": 4
}
