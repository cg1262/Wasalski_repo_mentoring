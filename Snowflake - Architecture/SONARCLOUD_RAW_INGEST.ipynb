{
 "metadata": {
  "kernelspec": {
   "display_name": "Streamlit Notebook",
   "name": "streamlit"
  },
  "lastEditStatus": {
   "notebookId": "t2nv5t5tazqxowhm4ycu",
   "authorId": "557922832688",
   "authorName": "MTWA",
   "authorEmail": "mtwa@softwaremind.com",
   "sessionId": "56085508-1eb0-435d-89f7-584240767945",
   "lastEditTime": 1750070484196
  }
 },
 "nbformat_minor": 5,
 "nbformat": 4,
 "cells": [
  {
   "cell_type": "markdown",
   "id": "c853e53a-2e08-4db8-a7f3-01da10e80b73",
   "metadata": {
    "name": "api_documentation",
    "collapsed": false
   },
   "source": "# API Documentation\n\nhttps://sonarcloud.io/web_api/api/metrics?deprecated=false\n"
  },
  {
   "cell_type": "code",
   "id": "03cd8bc7-ebe0-4305-9f34-2bc4c154dd8b",
   "metadata": {
    "language": "sql",
    "name": "cell1"
   },
   "outputs": [],
   "source": "ALTER SESSION SET TIMEZONE = 'Europe/London';",
   "execution_count": null
  },
  {
   "cell_type": "markdown",
   "id": "2185f08a-b8eb-453d-afca-ca33eef4ace4",
   "metadata": {
    "name": "prod_db_doc",
    "collapsed": false
   },
   "source": "The production database is \"prod\". Data pulled directly from the API is being stored in the \"raw\" schema.\nWe are keeping commented a \"CREATE OR REPLACE\" query so that, if any modifications are needed, the script is very easy to update."
  },
  {
   "cell_type": "code",
   "id": "c421c999-8197-423d-a01d-886d50ed2688",
   "metadata": {
    "language": "python",
    "name": "variables"
   },
   "outputs": [],
   "source": "from sonarcloud_components import get_sonarcloud_components\nfrom sonarcloud_issues import get_sonarcloud_issues\nfrom sonarcloud_measure_components import get_sonarcloud_measures_component\nfrom sonarcloud_metrics import get_sonarcloud_metrics\nfrom sonarcloud_projects import get_sonarcloud_projects\n\nsession = get_active_session()",
   "execution_count": null
  },
  {
   "cell_type": "code",
   "id": "234a2710-eb8b-440d-8957-bbdb1e759563",
   "metadata": {
    "language": "python",
    "name": "components_function"
   },
   "outputs": [],
   "source": "components = get_sonarcloud_components()",
   "execution_count": null
  },
  {
   "cell_type": "code",
   "id": "6db8cdc1-0727-493c-9a09-161fa3915e22",
   "metadata": {
    "language": "python",
    "name": "components_session",
    "codeCollapsed": false
   },
   "outputs": [],
   "source": "# Starting Snowflake session to read data from df and build SQL queries upon that\ntemp_components_table = 'TEMP_COMPONENTS'\nsession.write_pandas(components,\n                         table_name=temp_components_table,\n                         auto_create_table=True,\n                         overwrite=True,\n                         table_type=\"temporary\")",
   "execution_count": null
  },
  {
   "cell_type": "code",
   "id": "d490ba0d-1dac-408a-bf99-ceb4ba5ef4ce",
   "metadata": {
    "language": "sql",
    "name": "components_query",
    "codeCollapsed": false
   },
   "outputs": [],
   "source": "CREATE OR REPLACE TABLE prod.raw.sonarcloud_components (\n    ORGANIZATION VARCHAR(16777216),\n    KEY VARCHAR(16777216),\n    NAME VARCHAR(16777216),\n    QUALIFIER VARCHAR(16777216),\n    PROJECT VARCHAR(16777216),\n timestamp timestamp_tz\n);\n\nTRUNCATE TABLE prod.raw.sonarcloud_components;\n\nINSERT INTO prod.raw.sonarcloud_components\nSELECT\n    \"ORGANIZATION\",\n    \"KEY\",\n    \"NAME\",\n    \"QUALIFIER\",\n    \"PROJECT\",\n    current_timestamp as timestamp\nFROM TEMP_COMPONENTS;\n",
   "execution_count": null
  },
  {
   "cell_type": "code",
   "id": "d1609741-da77-484c-865e-196055d45c68",
   "metadata": {
    "language": "python",
    "name": "issues_function"
   },
   "outputs": [],
   "source": "issues = get_sonarcloud_issues()",
   "execution_count": null
  },
  {
   "cell_type": "code",
   "id": "5731bec7-5e48-455e-b387-9f0ae9c005b6",
   "metadata": {
    "language": "python",
    "name": "issues_session",
    "codeCollapsed": false
   },
   "outputs": [],
   "source": "# Starting session for snowflake.\ntemp_issues_table = 'TEMP_ISSUES'\nsession.write_pandas(issues,\n                         table_name=temp_issues_table,\n                         auto_create_table=True,\n                         overwrite=True,\n                         table_type=\"temporary\") # no need to create table for this data, temp table is ok",
   "execution_count": null
  },
  {
   "cell_type": "code",
   "id": "b77e594b-8617-4785-8073-f95975d29dd5",
   "metadata": {
    "language": "sql",
    "name": "issues_query",
    "codeCollapsed": false
   },
   "outputs": [],
   "source": "CREATE OR REPLACE TABLE prod.raw.sonarcloud_issues (\n    KEY VARCHAR(16777216),\n    RULE VARCHAR(16777216),\n    SEVERITY VARCHAR(16777216),\n    COMPONENT VARCHAR(16777216),\n    PROJECT VARCHAR(16777216),\n    LINE FLOAT,\n    HASH VARCHAR(16777216),\n    TEXTRANGE OBJECT,\n    FLOWS ARRAY,\n    STATUS VARCHAR(16777216),\n    MESSAGE VARCHAR(16777216),\n    EFFORT VARCHAR(16777216),\n    DEBT VARCHAR(16777216),\n    ASSIGNEE VARCHAR(16777216),\n    AUTHOR VARCHAR(16777216),\n    TAGS ARRAY,\n    CREATIONDATE VARCHAR(16777216),\n    UPDATEDATE VARCHAR(16777216),\n    TYPE VARCHAR(16777216),\n    ORGANIZATION VARCHAR(16777216),\n    CLEANCODEATTRIBUTE VARCHAR(16777216),\n    CLEANCODEATTRIBUTECATEGORY VARCHAR(16777216),\n    IMPACTS ARRAY,\n    ISSUESTATUS VARCHAR(16777216),\n    EXTERNALRULEENGINE VARCHAR(16777216),\n    RESOLUTION VARCHAR(16777216),\n    CLOSEDATE VARCHAR(16777216),\n timestamp timestamp_tz\n);\n\nTRUNCATE TABLE prod.raw.sonarcloud_issues;\n\nINSERT INTO prod.raw.sonarcloud_issues\nSELECT\n    \"KEY\",\n    \"RULE\",\n    \"SEVERITY\",\n    \"COMPONENT\",\n    \"PROJECT\",\n    \"LINE\",\n    \"HASH\",\n    \"TEXTRANGE\",\n    \"FLOWS\",\n    \"STATUS\",\n    \"MESSAGE\",\n    \"EFFORT\",\n    \"DEBT\",\n    \"ASSIGNEE\",\n    \"AUTHOR\",\n    \"TAGS\",\n    \"CREATIONDATE\",\n    \"UPDATEDATE\",\n    \"TYPE\",\n    \"ORGANIZATION\",\n    \"CLEANCODEATTRIBUTE\",\n    \"CLEANCODEATTRIBUTECATEGORY\",\n    \"IMPACTS\",\n    \"ISSUESTATUS\",\n    \"EXTERNALRULEENGINE\",\n    \"RESOLUTION\",\n    \"CLOSEDATE\",\n    current_timestamp as timestamp\nFROM TEMP_ISSUES;",
   "execution_count": null
  },
  {
   "cell_type": "code",
   "id": "3cd1dea4-af18-493e-91a4-dcb984a3edc9",
   "metadata": {
    "language": "python",
    "name": "metrics_function",
    "codeCollapsed": false
   },
   "outputs": [],
   "source": "metrics = get_sonarcloud_metrics()",
   "execution_count": null
  },
  {
   "cell_type": "code",
   "id": "687505d7-6a18-4f9c-8a1d-a0370e05c42a",
   "metadata": {
    "language": "python",
    "name": "metrics_session"
   },
   "outputs": [],
   "source": "temp_measures_metrics_table = 'TEMP_METRICS_COMPONENT'\nsession.write_pandas(metrics,\n                         table_name=temp_measures_metrics_table,\n                         auto_create_table=True,\n                         overwrite=True,\n                         table_type=\"temporary\")\n",
   "execution_count": null
  },
  {
   "cell_type": "code",
   "id": "1ab4f901-381f-4862-91a2-54c1c258bbe6",
   "metadata": {
    "language": "sql",
    "name": "metrics_query",
    "codeCollapsed": false
   },
   "outputs": [],
   "source": "CREATE OR REPLACE TABLE prod.raw.sonarcloud_metrics (\n    ID VARCHAR(16777216),\n    KEY VARCHAR(16777216),\n    NAME VARCHAR(16777216),\n    TYPE VARCHAR(16777216),\n    DOMAIN VARCHAR(16777216),\n    HIDDEN BOOLEAN,\n    DIRECTION FLOAT,\n    DESCRIPTION VARCHAR(16777216),\n    QUALITATIVE BOOLEAN,\n    DECIMALSCALE FLOAT,\n timestamp timestamp_tz\n);\n\nTRUNCATE TABLE prod.raw.sonarcloud_metrics;\n\nINSERT INTO prod.raw.sonarcloud_metrics\nSELECT\n    \"ID\",\n    \"KEY\",\n    \"NAME\",\n    \"TYPE\",\n    \"DOMAIN\",\n    \"HIDDEN\",\n    \"DIRECTION\",\n    \"DESCRIPTION\",\n    \"QUALITATIVE\",\n    \"DECIMALSCALE\",\n    current_timestamp as timestamp\nFROM TEMP_METRICS_COMPONENT;",
   "execution_count": null
  },
  {
   "cell_type": "code",
   "id": "c0a14ed5-413c-483f-8907-320ca5126ed1",
   "metadata": {
    "language": "python",
    "name": "projects_function",
    "codeCollapsed": false
   },
   "outputs": [],
   "source": "projects = get_sonarcloud_projects()",
   "execution_count": null
  },
  {
   "cell_type": "code",
   "id": "379d21a6-73b9-401d-8424-23210b92ad9e",
   "metadata": {
    "language": "python",
    "name": "projects_session"
   },
   "outputs": [],
   "source": "temp_measures_projects_table = 'TEMP_PROJECTS'\nsession.write_pandas(projects,\n                         table_name=temp_measures_projects_table,\n                         auto_create_table=True,\n                         overwrite=True,\n                         table_type=\"temporary\")\n",
   "execution_count": null
  },
  {
   "cell_type": "code",
   "id": "8e97a366-0a21-4efa-94ec-e144a4910f25",
   "metadata": {
    "language": "sql",
    "name": "projects_query",
    "codeCollapsed": false
   },
   "outputs": [],
   "source": "CREATE OR REPLACE TABLE prod.raw.sonarcloud_projects (\n    ORGANIZATION VARCHAR(16777216),\n    KEY VARCHAR(16777216),\n    NAME VARCHAR(16777216),\n    REVISION VARCHAR(16777216),\n    QUALIFIER VARCHAR(16777216),\n    VISIBILITY VARCHAR(16777216),\n    LASTANALYSISDATE VARCHAR(16777216),\n timestamp timestamp_tz\n);\n\nTRUNCATE TABLE prod.raw.sonarcloud_projects;\n\nINSERT INTO prod.raw.sonarcloud_projects\nSELECT\n    \"ORGANIZATION\",\n    \"KEY\",\n    \"NAME\",\n    \"REVISION\",\n    \"QUALIFIER\",\n    \"VISIBILITY\",\n    \"LASTANALYSISDATE\",\n    current_timestamp as timestamp\nFROM TEMP_PROJECTS;",
   "execution_count": null
  },
  {
   "cell_type": "code",
   "id": "42341a24-1a3f-4c25-8643-f6973bf27442",
   "metadata": {
    "language": "python",
    "name": "measure_components_function"
   },
   "outputs": [],
   "source": "measures_component = get_sonarcloud_measures_component()",
   "execution_count": null
  },
  {
   "cell_type": "code",
   "id": "ee5970fe-a841-4107-a455-6e5fa744d996",
   "metadata": {
    "language": "python",
    "name": "measure_components_session",
    "codeCollapsed": false
   },
   "outputs": [],
   "source": "temp_measures_components_table = 'TEMP_MEASURES_COMPONENTS'\n\nsession.write_pandas(measures_component,\n                         table_name=temp_measures_components_table,\n                         auto_create_table=True,\n                         overwrite=True,\n                         table_type=\"temporary\")\n\n",
   "execution_count": null
  },
  {
   "cell_type": "code",
   "id": "4e85fa87-e100-4e34-99de-cf586c28aa6d",
   "metadata": {
    "language": "sql",
    "name": "measures_component_query",
    "codeCollapsed": false
   },
   "outputs": [],
   "source": "CREATE OR REPLACE TABLE prod.raw.sonarcloud_measures_component (\n    ID VARCHAR(16777216),\n    KEY VARCHAR(16777216),\n    NAME VARCHAR(16777216),\n    MEASURES ARRAY,\n    QUALIFIER VARCHAR(16777216),\n timestamp timestamp_tz\n);\n\nTRUNCATE TABLE prod.raw.sonarcloud_measures_component;\n\nINSERT INTO prod.raw.sonarcloud_measures_component\nSELECT\n    \"ID\",\n    \"KEY\",\n    \"NAME\",\n    \"MEASURES\",\n    \"QUALIFIER\",\n    current_timestamp as timestamp\nFROM TEMP_MEASURES_COMPONENTS;",
   "execution_count": null
  }
 ]
}