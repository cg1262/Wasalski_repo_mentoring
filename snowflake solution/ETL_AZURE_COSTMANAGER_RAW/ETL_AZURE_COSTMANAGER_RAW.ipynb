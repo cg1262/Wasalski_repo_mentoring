{
 "metadata": {
  "kernelspec": {
   "display_name": "Python 3",
   "language": "python",
   "name": "python3"
  },
  "language_info": {
   "codemirror_mode": {
    "name": "ipython",
    "version": 3
   },
   "file_extension": ".py",
   "mimetype": "text/x-python",
   "name": "python",
   "nbconvert_exporter": "python",
   "pygments_lexer": "ipython3",
   "version": "3.13.2"
  },
  "lastEditStatus": {
   "notebookId": "mnurv42vnxcnqatsxlt5",
   "authorId": "557922832688",
   "authorName": "MTWA",
   "authorEmail": "mtwa@softwaremind.com",
   "sessionId": "268e1af4-58c3-46c1-bebb-ee8e0a2aa1a2",
   "lastEditTime": 1753781273075
  }
 },
 "nbformat_minor": 5,
 "nbformat": 4,
 "cells": [
  {
   "cell_type": "code",
   "execution_count": null,
   "id": "6ef76884-ea1f-46cf-b92c-3b9693567e7e",
   "metadata": {
    "language": "sql",
    "name": "cell12"
   },
   "outputs": [],
   "source": [
    "ALTER SESSION SET TIMEZONE = 'Europe/London';"
   ]
  },
  {
   "cell_type": "code",
   "execution_count": 1,
   "id": "c695373e-ac74-4b62-a1f1-08206cbd5c81",
   "metadata": {
    "language": "python",
    "name": "cell3",
    "codeCollapsed": false
   },
   "outputs": [],
   "source": "import os\nimport requests\nfrom azure.identity import ClientSecretCredential\nimport pandas as pd\nfrom json import loads, dumps\nfrom datetime import datetime, timedelta\n\ntry:\n    from snowflake.snowpark.context import get_active_session\n    session = get_active_session()\n\n    tenant_id = session.sql(\"SELECT prod.raw.ADO_DEFENDER_TENANT_ID()\").collect()[0][0]\n\n    client_id = session.sql(\"SELECT prod.raw.ADO_DEFENDER_CLIENT_ID()\").collect()[0][0]\n\n    client_secret = session.sql(\"SELECT prod.raw.ADO_DEFENDER_CLIENT_SECRET()\").collect()[0][0]\n\n    subscription_id = session.sql(\"SELECT prod.raw.ADO_DEFENDER_SUBSCRIPTION_ID()\").collect()[0][0]\n\n    billing_account_id = session.sql(\"SELECT PROD.RAW.billing_account_id()\").collect()[0][0]\n    \nexcept:\n    from dotenv import load_dotenv\n    load_dotenv()\n    tenant_id = os.getenv('tenant_id')\n    client_id = os.getenv('client_id')\n    client_secret = os.getenv('client_secret')\n    subscription_id = os.getenv('subscription_id')\n    billing_account_id = os.getenv('billing_account_id')\n"
  },
  {
   "cell_type": "code",
   "execution_count": 2,
   "id": "aa066914-92e7-4607-a87b-adff7a23c69e",
   "metadata": {
    "codeCollapsed": false,
    "language": "python",
    "name": "cell2"
   },
   "outputs": [
    {
     "name": "stdout",
     "output_type": "stream",
     "text": [
      "Pobrano 1000 rekordów...\n",
      "Pobrano 2000 rekordów...\n",
      "Pobrano 3000 rekordów...\n",
      "Pobrano 4000 rekordów...\n",
      "Pobrano 5000 rekordów...\n",
      "Pobrano 6000 rekordów...\n",
      "Pobrano 7000 rekordów...\n",
      "Pobrano 8000 rekordów...\n",
      "Pobrano 9000 rekordów...\n",
      "Pobrano 10000 rekordów...\n",
      "Pobrano 11000 rekordów...\n",
      "Pobrano 12000 rekordów...\n",
      "Pobrano 13000 rekordów...\n",
      "Pobrano 14000 rekordów...\n",
      "Pobrano 15000 rekordów...\n",
      "Pobrano 16000 rekordów...\n",
      "Pobrano 17000 rekordów...\n",
      "Pobrano 18000 rekordów...\n",
      "Pobrano 19000 rekordów...\n",
      "Pobrano 20000 rekordów...\n",
      "Pobrano 21000 rekordów...\n",
      "Pobrano 22000 rekordów...\n",
      "Pobrano 23000 rekordów...\n",
      "Pobrano 24000 rekordów...\n",
      "Pobrano 25000 rekordów...\n",
      "Pobrano 26000 rekordów...\n",
      "Pobrano 27000 rekordów...\n"
     ]
    },
    {
     "ename": "KeyboardInterrupt",
     "evalue": "",
     "output_type": "error",
     "traceback": [
      "\u001b[31m---------------------------------------------------------------------------\u001b[39m",
      "\u001b[31mKeyboardInterrupt\u001b[39m                         Traceback (most recent call last)",
      "\u001b[36mCell\u001b[39m\u001b[36m \u001b[39m\u001b[32mIn[2]\u001b[39m\u001b[32m, line 45\u001b[39m\n\u001b[32m     43\u001b[39m     \u001b[38;5;28;01mreturn\u001b[39;00m all_data\n\u001b[32m     44\u001b[39m \u001b[38;5;66;03m# Pobierz wszystkie dane\u001b[39;00m\n\u001b[32m---> \u001b[39m\u001b[32m45\u001b[39m usage_data = \u001b[43mget_all_usage_details\u001b[49m\u001b[43m(\u001b[49m\u001b[43m)\u001b[49m\n\u001b[32m     46\u001b[39m df = pd.DataFrame(usage_data)\n\u001b[32m     47\u001b[39m \u001b[38;5;28mprint\u001b[39m(\u001b[33mf\u001b[39m\u001b[33m\"\u001b[39m\u001b[33mŁącznie rekordów: \u001b[39m\u001b[38;5;132;01m{\u001b[39;00m\u001b[38;5;28mlen\u001b[39m(df)\u001b[38;5;132;01m}\u001b[39;00m\u001b[33m\"\u001b[39m)\n",
      "\u001b[36mCell\u001b[39m\u001b[36m \u001b[39m\u001b[32mIn[2]\u001b[39m\u001b[32m, line 34\u001b[39m, in \u001b[36mget_all_usage_details\u001b[39m\u001b[34m()\u001b[39m\n\u001b[32m     25\u001b[39m \u001b[38;5;66;03m# params = {\u001b[39;00m\n\u001b[32m     26\u001b[39m \u001b[38;5;66;03m#     \"api-version\": \"2023-05-01\",\u001b[39;00m\n\u001b[32m     27\u001b[39m \u001b[38;5;66;03m#     # \"key\": \"usagedetailsamortized\",\u001b[39;00m\n\u001b[32m   (...)\u001b[39m\u001b[32m     30\u001b[39m \u001b[38;5;66;03m#     \"endDate\": '2025-07-31'\u001b[39;00m\n\u001b[32m     31\u001b[39m \u001b[38;5;66;03m# }\u001b[39;00m\n\u001b[32m     33\u001b[39m \u001b[38;5;28;01mwhile\u001b[39;00m url:\n\u001b[32m---> \u001b[39m\u001b[32m34\u001b[39m     response = \u001b[43mrequests\u001b[49m\u001b[43m.\u001b[49m\u001b[43mget\u001b[49m\u001b[43m(\u001b[49m\u001b[43murl\u001b[49m\u001b[43m,\u001b[49m\u001b[43m \u001b[49m\u001b[43mheaders\u001b[49m\u001b[43m=\u001b[49m\u001b[43mheaders\u001b[49m\u001b[43m,\u001b[49m\u001b[43m \u001b[49m\u001b[43mparams\u001b[49m\u001b[43m=\u001b[49m\u001b[43mparams\u001b[49m\u001b[43m \u001b[49m\u001b[38;5;28;43;01mif\u001b[39;49;00m\u001b[43m \u001b[49m\u001b[33;43m'\u001b[39;49m\u001b[33;43m?\u001b[39;49m\u001b[33;43m'\u001b[39;49m\u001b[43m \u001b[49m\u001b[38;5;129;43;01mnot\u001b[39;49;00m\u001b[43m \u001b[49m\u001b[38;5;129;43;01min\u001b[39;49;00m\u001b[43m \u001b[49m\u001b[43murl\u001b[49m\u001b[43m \u001b[49m\u001b[38;5;28;43;01melse\u001b[39;49;00m\u001b[43m \u001b[49m\u001b[38;5;28;43;01mNone\u001b[39;49;00m\u001b[43m)\u001b[49m\n\u001b[32m     35\u001b[39m     data = response.json()\n\u001b[32m     37\u001b[39m     all_data.extend(data.get(\u001b[33m'\u001b[39m\u001b[33mvalue\u001b[39m\u001b[33m'\u001b[39m, []))\n",
      "\u001b[36mFile \u001b[39m\u001b[32mc:\\Users\\mtwa\\AppData\\Local\\Programs\\Python\\Python313\\Lib\\site-packages\\requests\\api.py:73\u001b[39m, in \u001b[36mget\u001b[39m\u001b[34m(url, params, **kwargs)\u001b[39m\n\u001b[32m     62\u001b[39m \u001b[38;5;28;01mdef\u001b[39;00m\u001b[38;5;250m \u001b[39m\u001b[34mget\u001b[39m(url, params=\u001b[38;5;28;01mNone\u001b[39;00m, **kwargs):\n\u001b[32m     63\u001b[39m \u001b[38;5;250m    \u001b[39m\u001b[33mr\u001b[39m\u001b[33;03m\"\"\"Sends a GET request.\u001b[39;00m\n\u001b[32m     64\u001b[39m \n\u001b[32m     65\u001b[39m \u001b[33;03m    :param url: URL for the new :class:`Request` object.\u001b[39;00m\n\u001b[32m   (...)\u001b[39m\u001b[32m     70\u001b[39m \u001b[33;03m    :rtype: requests.Response\u001b[39;00m\n\u001b[32m     71\u001b[39m \u001b[33;03m    \"\"\"\u001b[39;00m\n\u001b[32m---> \u001b[39m\u001b[32m73\u001b[39m     \u001b[38;5;28;01mreturn\u001b[39;00m \u001b[43mrequest\u001b[49m\u001b[43m(\u001b[49m\u001b[33;43m\"\u001b[39;49m\u001b[33;43mget\u001b[39;49m\u001b[33;43m\"\u001b[39;49m\u001b[43m,\u001b[49m\u001b[43m \u001b[49m\u001b[43murl\u001b[49m\u001b[43m,\u001b[49m\u001b[43m \u001b[49m\u001b[43mparams\u001b[49m\u001b[43m=\u001b[49m\u001b[43mparams\u001b[49m\u001b[43m,\u001b[49m\u001b[43m \u001b[49m\u001b[43m*\u001b[49m\u001b[43m*\u001b[49m\u001b[43mkwargs\u001b[49m\u001b[43m)\u001b[49m\n",
      "\u001b[36mFile \u001b[39m\u001b[32mc:\\Users\\mtwa\\AppData\\Local\\Programs\\Python\\Python313\\Lib\\site-packages\\requests\\api.py:59\u001b[39m, in \u001b[36mrequest\u001b[39m\u001b[34m(method, url, **kwargs)\u001b[39m\n\u001b[32m     55\u001b[39m \u001b[38;5;66;03m# By using the 'with' statement we are sure the session is closed, thus we\u001b[39;00m\n\u001b[32m     56\u001b[39m \u001b[38;5;66;03m# avoid leaving sockets open which can trigger a ResourceWarning in some\u001b[39;00m\n\u001b[32m     57\u001b[39m \u001b[38;5;66;03m# cases, and look like a memory leak in others.\u001b[39;00m\n\u001b[32m     58\u001b[39m \u001b[38;5;28;01mwith\u001b[39;00m sessions.Session() \u001b[38;5;28;01mas\u001b[39;00m session:\n\u001b[32m---> \u001b[39m\u001b[32m59\u001b[39m     \u001b[38;5;28;01mreturn\u001b[39;00m \u001b[43msession\u001b[49m\u001b[43m.\u001b[49m\u001b[43mrequest\u001b[49m\u001b[43m(\u001b[49m\u001b[43mmethod\u001b[49m\u001b[43m=\u001b[49m\u001b[43mmethod\u001b[49m\u001b[43m,\u001b[49m\u001b[43m \u001b[49m\u001b[43murl\u001b[49m\u001b[43m=\u001b[49m\u001b[43murl\u001b[49m\u001b[43m,\u001b[49m\u001b[43m \u001b[49m\u001b[43m*\u001b[49m\u001b[43m*\u001b[49m\u001b[43mkwargs\u001b[49m\u001b[43m)\u001b[49m\n",
      "\u001b[36mFile \u001b[39m\u001b[32mc:\\Users\\mtwa\\AppData\\Local\\Programs\\Python\\Python313\\Lib\\site-packages\\requests\\sessions.py:589\u001b[39m, in \u001b[36mSession.request\u001b[39m\u001b[34m(self, method, url, params, data, headers, cookies, files, auth, timeout, allow_redirects, proxies, hooks, stream, verify, cert, json)\u001b[39m\n\u001b[32m    584\u001b[39m send_kwargs = {\n\u001b[32m    585\u001b[39m     \u001b[33m\"\u001b[39m\u001b[33mtimeout\u001b[39m\u001b[33m\"\u001b[39m: timeout,\n\u001b[32m    586\u001b[39m     \u001b[33m\"\u001b[39m\u001b[33mallow_redirects\u001b[39m\u001b[33m\"\u001b[39m: allow_redirects,\n\u001b[32m    587\u001b[39m }\n\u001b[32m    588\u001b[39m send_kwargs.update(settings)\n\u001b[32m--> \u001b[39m\u001b[32m589\u001b[39m resp = \u001b[38;5;28;43mself\u001b[39;49m\u001b[43m.\u001b[49m\u001b[43msend\u001b[49m\u001b[43m(\u001b[49m\u001b[43mprep\u001b[49m\u001b[43m,\u001b[49m\u001b[43m \u001b[49m\u001b[43m*\u001b[49m\u001b[43m*\u001b[49m\u001b[43msend_kwargs\u001b[49m\u001b[43m)\u001b[49m\n\u001b[32m    591\u001b[39m \u001b[38;5;28;01mreturn\u001b[39;00m resp\n",
      "\u001b[36mFile \u001b[39m\u001b[32mc:\\Users\\mtwa\\AppData\\Local\\Programs\\Python\\Python313\\Lib\\site-packages\\requests\\sessions.py:703\u001b[39m, in \u001b[36mSession.send\u001b[39m\u001b[34m(self, request, **kwargs)\u001b[39m\n\u001b[32m    700\u001b[39m start = preferred_clock()\n\u001b[32m    702\u001b[39m \u001b[38;5;66;03m# Send the request\u001b[39;00m\n\u001b[32m--> \u001b[39m\u001b[32m703\u001b[39m r = \u001b[43madapter\u001b[49m\u001b[43m.\u001b[49m\u001b[43msend\u001b[49m\u001b[43m(\u001b[49m\u001b[43mrequest\u001b[49m\u001b[43m,\u001b[49m\u001b[43m \u001b[49m\u001b[43m*\u001b[49m\u001b[43m*\u001b[49m\u001b[43mkwargs\u001b[49m\u001b[43m)\u001b[49m\n\u001b[32m    705\u001b[39m \u001b[38;5;66;03m# Total elapsed time of the request (approximately)\u001b[39;00m\n\u001b[32m    706\u001b[39m elapsed = preferred_clock() - start\n",
      "\u001b[36mFile \u001b[39m\u001b[32mc:\\Users\\mtwa\\AppData\\Local\\Programs\\Python\\Python313\\Lib\\site-packages\\requests\\adapters.py:667\u001b[39m, in \u001b[36mHTTPAdapter.send\u001b[39m\u001b[34m(self, request, stream, timeout, verify, cert, proxies)\u001b[39m\n\u001b[32m    664\u001b[39m     timeout = TimeoutSauce(connect=timeout, read=timeout)\n\u001b[32m    666\u001b[39m \u001b[38;5;28;01mtry\u001b[39;00m:\n\u001b[32m--> \u001b[39m\u001b[32m667\u001b[39m     resp = \u001b[43mconn\u001b[49m\u001b[43m.\u001b[49m\u001b[43murlopen\u001b[49m\u001b[43m(\u001b[49m\n\u001b[32m    668\u001b[39m \u001b[43m        \u001b[49m\u001b[43mmethod\u001b[49m\u001b[43m=\u001b[49m\u001b[43mrequest\u001b[49m\u001b[43m.\u001b[49m\u001b[43mmethod\u001b[49m\u001b[43m,\u001b[49m\n\u001b[32m    669\u001b[39m \u001b[43m        \u001b[49m\u001b[43murl\u001b[49m\u001b[43m=\u001b[49m\u001b[43murl\u001b[49m\u001b[43m,\u001b[49m\n\u001b[32m    670\u001b[39m \u001b[43m        \u001b[49m\u001b[43mbody\u001b[49m\u001b[43m=\u001b[49m\u001b[43mrequest\u001b[49m\u001b[43m.\u001b[49m\u001b[43mbody\u001b[49m\u001b[43m,\u001b[49m\n\u001b[32m    671\u001b[39m \u001b[43m        \u001b[49m\u001b[43mheaders\u001b[49m\u001b[43m=\u001b[49m\u001b[43mrequest\u001b[49m\u001b[43m.\u001b[49m\u001b[43mheaders\u001b[49m\u001b[43m,\u001b[49m\n\u001b[32m    672\u001b[39m \u001b[43m        \u001b[49m\u001b[43mredirect\u001b[49m\u001b[43m=\u001b[49m\u001b[38;5;28;43;01mFalse\u001b[39;49;00m\u001b[43m,\u001b[49m\n\u001b[32m    673\u001b[39m \u001b[43m        \u001b[49m\u001b[43massert_same_host\u001b[49m\u001b[43m=\u001b[49m\u001b[38;5;28;43;01mFalse\u001b[39;49;00m\u001b[43m,\u001b[49m\n\u001b[32m    674\u001b[39m \u001b[43m        \u001b[49m\u001b[43mpreload_content\u001b[49m\u001b[43m=\u001b[49m\u001b[38;5;28;43;01mFalse\u001b[39;49;00m\u001b[43m,\u001b[49m\n\u001b[32m    675\u001b[39m \u001b[43m        \u001b[49m\u001b[43mdecode_content\u001b[49m\u001b[43m=\u001b[49m\u001b[38;5;28;43;01mFalse\u001b[39;49;00m\u001b[43m,\u001b[49m\n\u001b[32m    676\u001b[39m \u001b[43m        \u001b[49m\u001b[43mretries\u001b[49m\u001b[43m=\u001b[49m\u001b[38;5;28;43mself\u001b[39;49m\u001b[43m.\u001b[49m\u001b[43mmax_retries\u001b[49m\u001b[43m,\u001b[49m\n\u001b[32m    677\u001b[39m \u001b[43m        \u001b[49m\u001b[43mtimeout\u001b[49m\u001b[43m=\u001b[49m\u001b[43mtimeout\u001b[49m\u001b[43m,\u001b[49m\n\u001b[32m    678\u001b[39m \u001b[43m        \u001b[49m\u001b[43mchunked\u001b[49m\u001b[43m=\u001b[49m\u001b[43mchunked\u001b[49m\u001b[43m,\u001b[49m\n\u001b[32m    679\u001b[39m \u001b[43m    \u001b[49m\u001b[43m)\u001b[49m\n\u001b[32m    681\u001b[39m \u001b[38;5;28;01mexcept\u001b[39;00m (ProtocolError, \u001b[38;5;167;01mOSError\u001b[39;00m) \u001b[38;5;28;01mas\u001b[39;00m err:\n\u001b[32m    682\u001b[39m     \u001b[38;5;28;01mraise\u001b[39;00m \u001b[38;5;167;01mConnectionError\u001b[39;00m(err, request=request)\n",
      "\u001b[36mFile \u001b[39m\u001b[32mc:\\Users\\mtwa\\AppData\\Local\\Programs\\Python\\Python313\\Lib\\site-packages\\urllib3\\connectionpool.py:716\u001b[39m, in \u001b[36mHTTPConnectionPool.urlopen\u001b[39m\u001b[34m(self, method, url, body, headers, retries, redirect, assert_same_host, timeout, pool_timeout, release_conn, chunked, body_pos, **response_kw)\u001b[39m\n\u001b[32m    713\u001b[39m     \u001b[38;5;28mself\u001b[39m._prepare_proxy(conn)\n\u001b[32m    715\u001b[39m \u001b[38;5;66;03m# Make the request on the httplib connection object.\u001b[39;00m\n\u001b[32m--> \u001b[39m\u001b[32m716\u001b[39m httplib_response = \u001b[38;5;28;43mself\u001b[39;49m\u001b[43m.\u001b[49m\u001b[43m_make_request\u001b[49m\u001b[43m(\u001b[49m\n\u001b[32m    717\u001b[39m \u001b[43m    \u001b[49m\u001b[43mconn\u001b[49m\u001b[43m,\u001b[49m\n\u001b[32m    718\u001b[39m \u001b[43m    \u001b[49m\u001b[43mmethod\u001b[49m\u001b[43m,\u001b[49m\n\u001b[32m    719\u001b[39m \u001b[43m    \u001b[49m\u001b[43murl\u001b[49m\u001b[43m,\u001b[49m\n\u001b[32m    720\u001b[39m \u001b[43m    \u001b[49m\u001b[43mtimeout\u001b[49m\u001b[43m=\u001b[49m\u001b[43mtimeout_obj\u001b[49m\u001b[43m,\u001b[49m\n\u001b[32m    721\u001b[39m \u001b[43m    \u001b[49m\u001b[43mbody\u001b[49m\u001b[43m=\u001b[49m\u001b[43mbody\u001b[49m\u001b[43m,\u001b[49m\n\u001b[32m    722\u001b[39m \u001b[43m    \u001b[49m\u001b[43mheaders\u001b[49m\u001b[43m=\u001b[49m\u001b[43mheaders\u001b[49m\u001b[43m,\u001b[49m\n\u001b[32m    723\u001b[39m \u001b[43m    \u001b[49m\u001b[43mchunked\u001b[49m\u001b[43m=\u001b[49m\u001b[43mchunked\u001b[49m\u001b[43m,\u001b[49m\n\u001b[32m    724\u001b[39m \u001b[43m\u001b[49m\u001b[43m)\u001b[49m\n\u001b[32m    726\u001b[39m \u001b[38;5;66;03m# If we're going to release the connection in ``finally:``, then\u001b[39;00m\n\u001b[32m    727\u001b[39m \u001b[38;5;66;03m# the response doesn't need to know about the connection. Otherwise\u001b[39;00m\n\u001b[32m    728\u001b[39m \u001b[38;5;66;03m# it will also try to release it and we'll have a double-release\u001b[39;00m\n\u001b[32m    729\u001b[39m \u001b[38;5;66;03m# mess.\u001b[39;00m\n\u001b[32m    730\u001b[39m response_conn = conn \u001b[38;5;28;01mif\u001b[39;00m \u001b[38;5;129;01mnot\u001b[39;00m release_conn \u001b[38;5;28;01melse\u001b[39;00m \u001b[38;5;28;01mNone\u001b[39;00m\n",
      "\u001b[36mFile \u001b[39m\u001b[32mc:\\Users\\mtwa\\AppData\\Local\\Programs\\Python\\Python313\\Lib\\site-packages\\urllib3\\connectionpool.py:468\u001b[39m, in \u001b[36mHTTPConnectionPool._make_request\u001b[39m\u001b[34m(self, conn, method, url, timeout, chunked, **httplib_request_kw)\u001b[39m\n\u001b[32m    463\u001b[39m             httplib_response = conn.getresponse()\n\u001b[32m    464\u001b[39m         \u001b[38;5;28;01mexcept\u001b[39;00m \u001b[38;5;167;01mBaseException\u001b[39;00m \u001b[38;5;28;01mas\u001b[39;00m e:\n\u001b[32m    465\u001b[39m             \u001b[38;5;66;03m# Remove the TypeError from the exception chain in\u001b[39;00m\n\u001b[32m    466\u001b[39m             \u001b[38;5;66;03m# Python 3 (including for exceptions like SystemExit).\u001b[39;00m\n\u001b[32m    467\u001b[39m             \u001b[38;5;66;03m# Otherwise it looks like a bug in the code.\u001b[39;00m\n\u001b[32m--> \u001b[39m\u001b[32m468\u001b[39m             \u001b[43msix\u001b[49m\u001b[43m.\u001b[49m\u001b[43mraise_from\u001b[49m\u001b[43m(\u001b[49m\u001b[43me\u001b[49m\u001b[43m,\u001b[49m\u001b[43m \u001b[49m\u001b[38;5;28;43;01mNone\u001b[39;49;00m\u001b[43m)\u001b[49m\n\u001b[32m    469\u001b[39m \u001b[38;5;28;01mexcept\u001b[39;00m (SocketTimeout, BaseSSLError, SocketError) \u001b[38;5;28;01mas\u001b[39;00m e:\n\u001b[32m    470\u001b[39m     \u001b[38;5;28mself\u001b[39m._raise_timeout(err=e, url=url, timeout_value=read_timeout)\n",
      "\u001b[36mFile \u001b[39m\u001b[32m<string>:3\u001b[39m, in \u001b[36mraise_from\u001b[39m\u001b[34m(value, from_value)\u001b[39m\n",
      "\u001b[36mFile \u001b[39m\u001b[32mc:\\Users\\mtwa\\AppData\\Local\\Programs\\Python\\Python313\\Lib\\site-packages\\urllib3\\connectionpool.py:463\u001b[39m, in \u001b[36mHTTPConnectionPool._make_request\u001b[39m\u001b[34m(self, conn, method, url, timeout, chunked, **httplib_request_kw)\u001b[39m\n\u001b[32m    460\u001b[39m \u001b[38;5;28;01mexcept\u001b[39;00m \u001b[38;5;167;01mTypeError\u001b[39;00m:\n\u001b[32m    461\u001b[39m     \u001b[38;5;66;03m# Python 3\u001b[39;00m\n\u001b[32m    462\u001b[39m     \u001b[38;5;28;01mtry\u001b[39;00m:\n\u001b[32m--> \u001b[39m\u001b[32m463\u001b[39m         httplib_response = \u001b[43mconn\u001b[49m\u001b[43m.\u001b[49m\u001b[43mgetresponse\u001b[49m\u001b[43m(\u001b[49m\u001b[43m)\u001b[49m\n\u001b[32m    464\u001b[39m     \u001b[38;5;28;01mexcept\u001b[39;00m \u001b[38;5;167;01mBaseException\u001b[39;00m \u001b[38;5;28;01mas\u001b[39;00m e:\n\u001b[32m    465\u001b[39m         \u001b[38;5;66;03m# Remove the TypeError from the exception chain in\u001b[39;00m\n\u001b[32m    466\u001b[39m         \u001b[38;5;66;03m# Python 3 (including for exceptions like SystemExit).\u001b[39;00m\n\u001b[32m    467\u001b[39m         \u001b[38;5;66;03m# Otherwise it looks like a bug in the code.\u001b[39;00m\n\u001b[32m    468\u001b[39m         six.raise_from(e, \u001b[38;5;28;01mNone\u001b[39;00m)\n",
      "\u001b[36mFile \u001b[39m\u001b[32mc:\\Users\\mtwa\\AppData\\Local\\Programs\\Python\\Python313\\Lib\\http\\client.py:1430\u001b[39m, in \u001b[36mHTTPConnection.getresponse\u001b[39m\u001b[34m(self)\u001b[39m\n\u001b[32m   1428\u001b[39m \u001b[38;5;28;01mtry\u001b[39;00m:\n\u001b[32m   1429\u001b[39m     \u001b[38;5;28;01mtry\u001b[39;00m:\n\u001b[32m-> \u001b[39m\u001b[32m1430\u001b[39m         \u001b[43mresponse\u001b[49m\u001b[43m.\u001b[49m\u001b[43mbegin\u001b[49m\u001b[43m(\u001b[49m\u001b[43m)\u001b[49m\n\u001b[32m   1431\u001b[39m     \u001b[38;5;28;01mexcept\u001b[39;00m \u001b[38;5;167;01mConnectionError\u001b[39;00m:\n\u001b[32m   1432\u001b[39m         \u001b[38;5;28mself\u001b[39m.close()\n",
      "\u001b[36mFile \u001b[39m\u001b[32mc:\\Users\\mtwa\\AppData\\Local\\Programs\\Python\\Python313\\Lib\\http\\client.py:331\u001b[39m, in \u001b[36mHTTPResponse.begin\u001b[39m\u001b[34m(self)\u001b[39m\n\u001b[32m    329\u001b[39m \u001b[38;5;66;03m# read until we get a non-100 response\u001b[39;00m\n\u001b[32m    330\u001b[39m \u001b[38;5;28;01mwhile\u001b[39;00m \u001b[38;5;28;01mTrue\u001b[39;00m:\n\u001b[32m--> \u001b[39m\u001b[32m331\u001b[39m     version, status, reason = \u001b[38;5;28;43mself\u001b[39;49m\u001b[43m.\u001b[49m\u001b[43m_read_status\u001b[49m\u001b[43m(\u001b[49m\u001b[43m)\u001b[49m\n\u001b[32m    332\u001b[39m     \u001b[38;5;28;01mif\u001b[39;00m status != CONTINUE:\n\u001b[32m    333\u001b[39m         \u001b[38;5;28;01mbreak\u001b[39;00m\n",
      "\u001b[36mFile \u001b[39m\u001b[32mc:\\Users\\mtwa\\AppData\\Local\\Programs\\Python\\Python313\\Lib\\http\\client.py:292\u001b[39m, in \u001b[36mHTTPResponse._read_status\u001b[39m\u001b[34m(self)\u001b[39m\n\u001b[32m    291\u001b[39m \u001b[38;5;28;01mdef\u001b[39;00m\u001b[38;5;250m \u001b[39m\u001b[34m_read_status\u001b[39m(\u001b[38;5;28mself\u001b[39m):\n\u001b[32m--> \u001b[39m\u001b[32m292\u001b[39m     line = \u001b[38;5;28mstr\u001b[39m(\u001b[38;5;28;43mself\u001b[39;49m\u001b[43m.\u001b[49m\u001b[43mfp\u001b[49m\u001b[43m.\u001b[49m\u001b[43mreadline\u001b[49m\u001b[43m(\u001b[49m\u001b[43m_MAXLINE\u001b[49m\u001b[43m \u001b[49m\u001b[43m+\u001b[49m\u001b[43m \u001b[49m\u001b[32;43m1\u001b[39;49m\u001b[43m)\u001b[49m, \u001b[33m\"\u001b[39m\u001b[33miso-8859-1\u001b[39m\u001b[33m\"\u001b[39m)\n\u001b[32m    293\u001b[39m     \u001b[38;5;28;01mif\u001b[39;00m \u001b[38;5;28mlen\u001b[39m(line) > _MAXLINE:\n\u001b[32m    294\u001b[39m         \u001b[38;5;28;01mraise\u001b[39;00m LineTooLong(\u001b[33m\"\u001b[39m\u001b[33mstatus line\u001b[39m\u001b[33m\"\u001b[39m)\n",
      "\u001b[36mFile \u001b[39m\u001b[32mc:\\Users\\mtwa\\AppData\\Local\\Programs\\Python\\Python313\\Lib\\socket.py:719\u001b[39m, in \u001b[36mSocketIO.readinto\u001b[39m\u001b[34m(self, b)\u001b[39m\n\u001b[32m    717\u001b[39m     \u001b[38;5;28;01mraise\u001b[39;00m \u001b[38;5;167;01mOSError\u001b[39;00m(\u001b[33m\"\u001b[39m\u001b[33mcannot read from timed out object\u001b[39m\u001b[33m\"\u001b[39m)\n\u001b[32m    718\u001b[39m \u001b[38;5;28;01mtry\u001b[39;00m:\n\u001b[32m--> \u001b[39m\u001b[32m719\u001b[39m     \u001b[38;5;28;01mreturn\u001b[39;00m \u001b[38;5;28;43mself\u001b[39;49m\u001b[43m.\u001b[49m\u001b[43m_sock\u001b[49m\u001b[43m.\u001b[49m\u001b[43mrecv_into\u001b[49m\u001b[43m(\u001b[49m\u001b[43mb\u001b[49m\u001b[43m)\u001b[49m\n\u001b[32m    720\u001b[39m \u001b[38;5;28;01mexcept\u001b[39;00m timeout:\n\u001b[32m    721\u001b[39m     \u001b[38;5;28mself\u001b[39m._timeout_occurred = \u001b[38;5;28;01mTrue\u001b[39;00m\n",
      "\u001b[36mFile \u001b[39m\u001b[32mc:\\Users\\mtwa\\AppData\\Local\\Programs\\Python\\Python313\\Lib\\ssl.py:1304\u001b[39m, in \u001b[36mSSLSocket.recv_into\u001b[39m\u001b[34m(self, buffer, nbytes, flags)\u001b[39m\n\u001b[32m   1300\u001b[39m     \u001b[38;5;28;01mif\u001b[39;00m flags != \u001b[32m0\u001b[39m:\n\u001b[32m   1301\u001b[39m         \u001b[38;5;28;01mraise\u001b[39;00m \u001b[38;5;167;01mValueError\u001b[39;00m(\n\u001b[32m   1302\u001b[39m           \u001b[33m\"\u001b[39m\u001b[33mnon-zero flags not allowed in calls to recv_into() on \u001b[39m\u001b[38;5;132;01m%s\u001b[39;00m\u001b[33m\"\u001b[39m %\n\u001b[32m   1303\u001b[39m           \u001b[38;5;28mself\u001b[39m.\u001b[34m__class__\u001b[39m)\n\u001b[32m-> \u001b[39m\u001b[32m1304\u001b[39m     \u001b[38;5;28;01mreturn\u001b[39;00m \u001b[38;5;28;43mself\u001b[39;49m\u001b[43m.\u001b[49m\u001b[43mread\u001b[49m\u001b[43m(\u001b[49m\u001b[43mnbytes\u001b[49m\u001b[43m,\u001b[49m\u001b[43m \u001b[49m\u001b[43mbuffer\u001b[49m\u001b[43m)\u001b[49m\n\u001b[32m   1305\u001b[39m \u001b[38;5;28;01melse\u001b[39;00m:\n\u001b[32m   1306\u001b[39m     \u001b[38;5;28;01mreturn\u001b[39;00m \u001b[38;5;28msuper\u001b[39m().recv_into(buffer, nbytes, flags)\n",
      "\u001b[36mFile \u001b[39m\u001b[32mc:\\Users\\mtwa\\AppData\\Local\\Programs\\Python\\Python313\\Lib\\ssl.py:1138\u001b[39m, in \u001b[36mSSLSocket.read\u001b[39m\u001b[34m(self, len, buffer)\u001b[39m\n\u001b[32m   1136\u001b[39m \u001b[38;5;28;01mtry\u001b[39;00m:\n\u001b[32m   1137\u001b[39m     \u001b[38;5;28;01mif\u001b[39;00m buffer \u001b[38;5;129;01mis\u001b[39;00m \u001b[38;5;129;01mnot\u001b[39;00m \u001b[38;5;28;01mNone\u001b[39;00m:\n\u001b[32m-> \u001b[39m\u001b[32m1138\u001b[39m         \u001b[38;5;28;01mreturn\u001b[39;00m \u001b[38;5;28;43mself\u001b[39;49m\u001b[43m.\u001b[49m\u001b[43m_sslobj\u001b[49m\u001b[43m.\u001b[49m\u001b[43mread\u001b[49m\u001b[43m(\u001b[49m\u001b[38;5;28;43mlen\u001b[39;49m\u001b[43m,\u001b[49m\u001b[43m \u001b[49m\u001b[43mbuffer\u001b[49m\u001b[43m)\u001b[49m\n\u001b[32m   1139\u001b[39m     \u001b[38;5;28;01melse\u001b[39;00m:\n\u001b[32m   1140\u001b[39m         \u001b[38;5;28;01mreturn\u001b[39;00m \u001b[38;5;28mself\u001b[39m._sslobj.read(\u001b[38;5;28mlen\u001b[39m)\n",
      "\u001b[31mKeyboardInterrupt\u001b[39m: "
     ]
    }
   ],
   "source": "\ncredential = ClientSecretCredential(tenant_id, client_id, client_secret)\ntoken = credential.get_token(\"https://management.azure.com/.default\")\nheaders = {\"Authorization\": f\"Bearer {token.token}\", \"Content-Type\": \"application/json\"}\ndef get_all_usage_details():\n    all_data = []\n    url = f\"https://management.azure.com/providers/Microsoft.Billing/billingAccounts/{billing_account_id}/providers/Microsoft.Consumption/usageDetails\"\n\n    # Ostatni miesiąc\n    end_date = datetime.now()\n    start_date = end_date - timedelta(days=1)\n\n    params = {\n        \"api-version\": \"2023-05-01\",\n        # \"metric\": \"AmortizedCost\",\n        # \"$top\": 1000,\n        \"startDate\": start_date.strftime(\"%Y-%m-%d\"),\n        \"endDate\": end_date.strftime(\"%Y-%m-%d\")\n    }\n    \n    # params = {\n    #     \"api-version\": \"2023-05-01\",\n    #     # \"key\": \"usagedetailsamortized\",\n    #     # \"$top\": 1000,\n    #     \"startDate\": '2025-07-01' ,\n    #     \"endDate\": '2025-07-31'\n    # }\n\n    while url:\n        response = requests.get(url, headers=headers, params=params if '?' not in url else None)\n        data = response.json()\n\n        all_data.extend(data.get('value', []))\n        url = data.get('nextLink')  # następna strona\n        params = None  # nextLink już zawiera wszystkie parametry\n\n        print(f\"Pobrano {len(all_data)} rekordów...\")\n\n    return all_data\n# Pobierz wszystkie dane\nusage_data = get_all_usage_details()\ndf = pd.DataFrame(usage_data)\nprint(f\"Łącznie rekordów: {len(df)}\")"
  },
  {
   "cell_type": "code",
   "execution_count": null,
   "id": "53be175e-9c51-4670-9c33-9bfbdc1401fd",
   "metadata": {
    "codeCollapsed": false,
    "language": "python",
    "name": "cell4"
   },
   "outputs": [],
   "source": [
    "df"
   ]
  },
  {
   "cell_type": "code",
   "execution_count": null,
   "id": "0280efef-cda2-44ef-a0e9-ecc552fc0d65",
   "metadata": {
    "codeCollapsed": false,
    "language": "python",
    "name": "cell6"
   },
   "outputs": [],
   "source": [
    "\n",
    "COSTS_FROM_PYTHON = 'COSTS_FROM_PYTHON'\n",
    "\n",
    "session.write_pandas(df,\n",
    "                         table_name=COSTS_FROM_PYTHON,\n",
    "                         auto_create_table=True,\n",
    "                         overwrite=True,\n",
    "                         table_type=\"temporary\")"
   ]
  },
  {
   "cell_type": "code",
   "execution_count": null,
   "id": "55470097-9984-4f41-8886-1ed3ab3dc2cc",
   "metadata": {
    "codeCollapsed": false,
    "language": "sql",
    "name": "cell23"
   },
   "outputs": [],
   "source": [
    "create or replace table prod.raw.azure_cost_manager  as\n",
    "select * from COSTS_FROM_PYTHON"
   ]
  },
  {
   "cell_type": "code",
   "execution_count": null,
   "id": "43be9c73-1be8-454a-bcd5-9c043b1d109b",
   "metadata": {
    "codeCollapsed": false,
    "language": "sql",
    "name": "cell8"
   },
   "outputs": [],
   "source": [
    "\n",
    "insert into prod.silver.azure_cost_manager\n",
    "select \n",
    "parse_json(\"properties\"):\"additionalInfo\" as additionalInfo,\n",
    "parse_json(\"properties\"):\"benefitId\" as benefitId,\n",
    "parse_json(\"properties\"):\"benefitName\" as benefitName,\n",
    "parse_json(\"properties\"):\"billingAccountId\" as billingAccountId,\n",
    "parse_json(\"properties\"):\"billingAccountName\" as billingAccountName,\n",
    "parse_json(\"properties\"):\"billingCurrencyCode\" as billingCurrencyCode,\n",
    "parse_json(\"properties\"):\"billingPeriodEndDate\" as billingPeriodEndDate,\n",
    "parse_json(\"properties\"):\"billingPeriodStartDate\" as billingPeriodStartDate,\n",
    "parse_json(\"properties\"):\"billingProfileId\" as billingProfileId,\n",
    "parse_json(\"properties\"):\"billingProfileName\" as billingProfileName,\n",
    "parse_json(\"properties\"):\"chargeType\" as chargeType,\n",
    "parse_json(\"properties\"):\"consumedService\" as consumedService,\n",
    "parse_json(\"properties\"):\"costAllocationRuleName\" as costAllocationRuleName,\n",
    "parse_json(\"properties\"):\"costCenter\" as costCenter,\n",
    "parse_json(\"properties\"):\"costInBillingCurrency\" as costInBillingCurrency,\n",
    "parse_json(\"properties\"):\"costInPricingCurrency\" as costInPricingCurrency,\n",
    "parse_json(\"properties\"):\"costInUSD\" as costInUSD,\n",
    "parse_json(\"properties\"):\"customerName\" as customerName,\n",
    "parse_json(\"properties\"):\"customerTenantId\" as customerTenantId,\n",
    "parse_json(\"properties\"):\"date\" as date,\n",
    "parse_json(\"properties\"):\"effectivePrice\" as effectivePrice,\n",
    "NULLIF(parse_json(\"properties\"):\"exchangeRate\"::string, '') as exchangeRate,\n",
    "parse_json(\"properties\"):\"exchangeRateDate\" as exchangeRateDate,\n",
    "parse_json(\"properties\"):\"exchangeRatePricingToBilling\" as exchangeRatePricingToBilling,\n",
    "parse_json(\"properties\"):\"frequency\" as frequency,\n",
    "parse_json(\"properties\"):\"instanceName\" as instanceName,\n",
    "parse_json(\"properties\"):\"invoiceId\" as invoiceId,\n",
    "parse_json(\"properties\"):\"invoiceSectionId\" as invoiceSectionId,\n",
    "parse_json(\"properties\"):\"invoiceSectionName\" as invoiceSectionName,\n",
    "parse_json(\"properties\"):\"isAzureCreditEligible\" as isAzureCreditEligible,\n",
    "parse_json(\"properties\"):\"meterCategory\" as meterCategory,\n",
    "parse_json(\"properties\"):\"meterId\" as meterId,\n",
    "parse_json(\"properties\"):\"meterName\" as meterName,\n",
    "parse_json(\"properties\"):\"meterRegion\" as meterRegion,\n",
    "parse_json(\"properties\"):\"meterSubCategory\" as meterSubCategory,\n",
    "parse_json(\"properties\"):\"partnerEarnedCreditApplied\" as partnerEarnedCreditApplied,\n",
    "parse_json(\"properties\"):\"partnerEarnedCreditRate\" as partnerEarnedCreditRate,\n",
    "parse_json(\"properties\"):\"partnerName\" as partnerName,\n",
    "parse_json(\"properties\"):\"partnerTenantId\" as partnerTenantId,\n",
    "parse_json(\"properties\"):\"payGPrice\" as payGPrice,\n",
    "parse_json(\"properties\"):\"paygCostInBillingCurrency\" as paygCostInBillingCurrency,\n",
    "parse_json(\"properties\"):\"paygCostInUSD\" as paygCostInUSD,\n",
    "parse_json(\"properties\"):\"previousInvoiceId\" as previousInvoiceId,\n",
    "parse_json(\"properties\"):\"pricingCurrencyCode\" as pricingCurrencyCode,\n",
    "parse_json(\"properties\"):\"pricingModel\" as pricingModel,\n",
    "parse_json(\"properties\"):\"product\" as product,\n",
    "parse_json(\"properties\"):\"productIdentifier\" as productIdentifier,\n",
    "parse_json(\"properties\"):\"productOrderId\" as productOrderId,\n",
    "parse_json(\"properties\"):\"productOrderName\" as productOrderName,\n",
    "parse_json(\"properties\"):\"provider\" as provider,\n",
    "parse_json(\"properties\"):\"publisherId\" as publisherId,\n",
    "parse_json(\"properties\"):\"publisherName\" as publisherName,\n",
    "parse_json(\"properties\"):\"publisherType\" as publisherType,\n",
    "parse_json(\"properties\"):\"quantity\" as quantity,\n",
    "parse_json(\"properties\"):\"resellerMpnId\" as resellerMpnId,\n",
    "parse_json(\"properties\"):\"resellerName\" as resellerName,\n",
    "parse_json(\"properties\"):\"reservationId\" as reservationId,\n",
    "parse_json(\"properties\"):\"reservationName\" as reservationName,\n",
    "parse_json(\"properties\"):\"resourceGroup\" as resourceGroup,\n",
    "parse_json(\"properties\"):\"resourceLocation\" as resourceLocation,\n",
    "parse_json(\"properties\"):\"resourceLocationNormalized\" as resourceLocationNormalized,\n",
    "parse_json(\"properties\"):\"serviceFamily\" as serviceFamily,\n",
    "parse_json(\"properties\"):\"serviceInfo1\" as serviceInfo1,\n",
    "parse_json(\"properties\"):\"serviceInfo2\" as serviceInfo2,\n",
    "parse_json(\"properties\"):\"servicePeriodEndDate\" as servicePeriodEndDate,\n",
    "parse_json(\"properties\"):\"servicePeriodStartDate\" as servicePeriodStartDate,\n",
    "parse_json(\"properties\"):\"subscriptionGuid\" as subscriptionGuid,\n",
    "parse_json(\"properties\"):\"subscriptionName\" as subscriptionName,\n",
    "parse_json(\"properties\"):\"term\" as term,\n",
    "parse_json(\"properties\"):\"unitOfMeasure\" as unitOfMeasure,\n",
    "parse_json(\"properties\"):\"unitPrice\" as unitPrice\n",
    "\n",
    "from prod.raw.azure_cost_manager"
   ]
  },
  {
   "cell_type": "code",
   "execution_count": null,
   "id": "fce9008f-21dd-464f-bac7-262b7aaba699",
   "metadata": {
    "codeCollapsed": false,
    "language": "sql",
    "name": "cell28"
   },
   "outputs": [],
   "source": [
    "-- select distinct \"type\"  from COSTS_FROM_PYTHON"
   ]
  },
  {
   "cell_type": "code",
   "execution_count": null,
   "id": "9b88413e-f607-4327-a068-5ecd653d89be",
   "metadata": {
    "codeCollapsed": false,
    "language": "sql",
    "name": "cell25"
   },
   "outputs": [],
   "source": [
    "-- select \n",
    "-- parse_json(\"properties\"):\"date\"::date as date, \n",
    "-- sum(parse_json(\"properties\"):\"costInBillingCurrency\")::int as costInBillingCurrency\n",
    "-- from COSTS_FROM_PYTHON\n",
    "-- group by date\n",
    "-- -- where date"
   ]
  },
  {
   "cell_type": "code",
   "execution_count": null,
   "id": "50b96d8f-2aab-4874-9451-78988d6ef88e",
   "metadata": {
    "language": "sql",
    "name": "cell29"
   },
   "outputs": [],
   "source": [
    "-- select \n",
    "-- parse_json(\"properties\"):\"date\" as date, \n",
    "-- sum(parse_json(\"properties\"):\"costInBillingCurrency\")::int as costInBillingCurrency\n",
    "-- from prod.raw.azure_cost_manager\n",
    "-- group by date\n",
    "-- -- where date"
   ]
  },
  {
   "cell_type": "markdown",
   "id": "3fda2b00-efa2-41d8-9b9b-e9390e0765b2",
   "metadata": {
    "collapsed": false,
    "name": "cell27"
   },
   "source": []
  },
  {
   "cell_type": "code",
   "execution_count": null,
   "id": "f35d6833-0160-463b-a0f2-77e110c3eb54",
   "metadata": {
    "codeCollapsed": false,
    "language": "sql",
    "name": "cell9"
   },
   "outputs": [],
   "source": [
    "-- select \n",
    "-- parse_json(\"properties\"):\"additionalInfo\" as additionalInfo,\n",
    "-- parse_json(\"properties\"):\"benefitId\" as benefitId,\n",
    "-- parse_json(\"properties\"):\"benefitName\" as benefitName,\n",
    "-- parse_json(\"properties\"):\"billingAccountId\" as billingAccountId,\n",
    "-- parse_json(\"properties\"):\"billingAccountName\" as billingAccountName,\n",
    "-- parse_json(\"properties\"):\"billingCurrencyCode\" as billingCurrencyCode,\n",
    "-- parse_json(\"properties\"):\"billingPeriodEndDate\" as billingPeriodEndDate,\n",
    "-- parse_json(\"properties\"):\"billingPeriodStartDate\" as billingPeriodStartDate,\n",
    "-- parse_json(\"properties\"):\"billingProfileId\" as billingProfileId,\n",
    "-- parse_json(\"properties\"):\"billingProfileName\" as billingProfileName,\n",
    "-- parse_json(\"properties\"):\"chargeType\" as chargeType,\n",
    "-- parse_json(\"properties\"):\"consumedService\" as consumedService,\n",
    "-- parse_json(\"properties\"):\"costAllocationRuleName\" as costAllocationRuleName,\n",
    "-- parse_json(\"properties\"):\"costCenter\" as costCenter,\n",
    "-- parse_json(\"properties\"):\"costInBillingCurrency\" as costInBillingCurrency,\n",
    "-- parse_json(\"properties\"):\"costInPricingCurrency\" as costInPricingCurrency,\n",
    "-- parse_json(\"properties\"):\"costInUSD\" as costInUSD,\n",
    "-- parse_json(\"properties\"):\"customerName\" as customerName,\n",
    "-- parse_json(\"properties\"):\"customerTenantId\" as customerTenantId,\n",
    "-- parse_json(\"properties\"):\"date\" as date,\n",
    "-- parse_json(\"properties\"):\"effectivePrice\" as effectivePrice,\n",
    "-- NULLIF(parse_json(\"properties\"):\"exchangeRate\"::string, '') as exchangeRate,\n",
    "-- parse_json(\"properties\"):\"exchangeRateDate\" as exchangeRateDate,\n",
    "-- parse_json(\"properties\"):\"exchangeRatePricingToBilling\" as exchangeRatePricingToBilling,\n",
    "-- parse_json(\"properties\"):\"frequency\" as frequency,\n",
    "-- parse_json(\"properties\"):\"instanceName\" as instanceName,\n",
    "-- parse_json(\"properties\"):\"invoiceId\" as invoiceId,\n",
    "-- parse_json(\"properties\"):\"invoiceSectionId\" as invoiceSectionId,\n",
    "-- parse_json(\"properties\"):\"invoiceSectionName\" as invoiceSectionName,\n",
    "-- parse_json(\"properties\"):\"isAzureCreditEligible\" as isAzureCreditEligible,\n",
    "-- parse_json(\"properties\"):\"meterCategory\" as meterCategory,\n",
    "-- parse_json(\"properties\"):\"meterId\" as meterId,\n",
    "-- parse_json(\"properties\"):\"meterName\" as meterName,\n",
    "-- parse_json(\"properties\"):\"meterRegion\" as meterRegion,\n",
    "-- parse_json(\"properties\"):\"meterSubCategory\" as meterSubCategory,\n",
    "-- parse_json(\"properties\"):\"partnerEarnedCreditApplied\" as partnerEarnedCreditApplied,\n",
    "-- parse_json(\"properties\"):\"partnerEarnedCreditRate\" as partnerEarnedCreditRate,\n",
    "-- parse_json(\"properties\"):\"partnerName\" as partnerName,\n",
    "-- parse_json(\"properties\"):\"partnerTenantId\" as partnerTenantId,\n",
    "-- parse_json(\"properties\"):\"payGPrice\" as payGPrice,\n",
    "-- parse_json(\"properties\"):\"paygCostInBillingCurrency\" as paygCostInBillingCurrency,\n",
    "-- parse_json(\"properties\"):\"paygCostInUSD\" as paygCostInUSD,\n",
    "-- parse_json(\"properties\"):\"previousInvoiceId\" as previousInvoiceId,\n",
    "-- parse_json(\"properties\"):\"pricingCurrencyCode\" as pricingCurrencyCode,\n",
    "-- parse_json(\"properties\"):\"pricingModel\" as pricingModel,\n",
    "-- parse_json(\"properties\"):\"product\" as product,\n",
    "-- parse_json(\"properties\"):\"productIdentifier\" as productIdentifier,\n",
    "-- parse_json(\"properties\"):\"productOrderId\" as productOrderId,\n",
    "-- parse_json(\"properties\"):\"productOrderName\" as productOrderName,\n",
    "-- parse_json(\"properties\"):\"provider\" as provider,\n",
    "-- parse_json(\"properties\"):\"publisherId\" as publisherId,\n",
    "-- parse_json(\"properties\"):\"publisherName\" as publisherName,\n",
    "-- parse_json(\"properties\"):\"publisherType\" as publisherType,\n",
    "-- parse_json(\"properties\"):\"quantity\" as quantity,\n",
    "-- parse_json(\"properties\"):\"resellerMpnId\" as resellerMpnId,\n",
    "-- parse_json(\"properties\"):\"resellerName\" as resellerName,\n",
    "-- parse_json(\"properties\"):\"reservationId\" as reservationId,\n",
    "-- parse_json(\"properties\"):\"reservationName\" as reservationName,\n",
    "-- parse_json(\"properties\"):\"resourceGroup\" as resourceGroup,\n",
    "-- parse_json(\"properties\"):\"resourceLocation\" as resourceLocation,\n",
    "-- parse_json(\"properties\"):\"resourceLocationNormalized\" as resourceLocationNormalized,\n",
    "-- parse_json(\"properties\"):\"serviceFamily\" as serviceFamily,\n",
    "-- parse_json(\"properties\"):\"serviceInfo1\" as serviceInfo1,\n",
    "-- parse_json(\"properties\"):\"serviceInfo2\" as serviceInfo2,\n",
    "-- parse_json(\"properties\"):\"servicePeriodEndDate\" as servicePeriodEndDate,\n",
    "-- parse_json(\"properties\"):\"servicePeriodStartDate\" as servicePeriodStartDate,\n",
    "-- parse_json(\"properties\"):\"subscriptionGuid\" as subscriptionGuid,\n",
    "-- parse_json(\"properties\"):\"subscriptionName\" as subscriptionName,\n",
    "-- parse_json(\"properties\"):\"term\" as term,\n",
    "-- parse_json(\"properties\"):\"unitOfMeasure\" as unitOfMeasure,\n",
    "-- parse_json(\"properties\"):\"unitPrice\" as unitPrice\n",
    "\n",
    "-- from COSTS_FROM_PYTHON"
   ]
  },
  {
   "cell_type": "code",
   "execution_count": null,
   "id": "db678968-795c-4aca-9a37-3dcddc83ab90",
   "metadata": {
    "language": "sql",
    "name": "cell24"
   },
   "outputs": [],
   "source": [
    "-- select \n",
    "-- parse_json(\"properties\"):\"date\"::date as date ,\n",
    "-- count(parse_json(\"properties\"):\"date\"::date) as date_count\n",
    "-- -- * \n",
    "\n",
    "-- from COSTS_FROM_PYTHON\n",
    "-- group by date\n",
    "-- -- where servicePeriodStartDate <> '2025-07-01'"
   ]
  },
  {
   "cell_type": "code",
   "execution_count": null,
   "id": "3272a5ba-1770-44b6-aa48-1d16b92084d8",
   "metadata": {
    "language": "sql",
    "name": "cell19"
   },
   "outputs": [],
   "source": [
    "-- select \n",
    "-- parse_json(\"properties\"):\"servicePeriodStartDate\"::date as servicePeriodStartDate ,\n",
    "-- count(parse_json(\"properties\"):\"servicePeriodStartDate\"::date) as servicePeriodStartDate_count\n",
    "-- -- * \n",
    "\n",
    "-- from COSTS_FROM_PYTHON\n",
    "-- group by servicePeriodStartDate\n",
    "-- -- where servicePeriodStartDate <> '2025-07-01'"
   ]
  },
  {
   "cell_type": "code",
   "execution_count": null,
   "id": "68024d41-ee7f-44e4-97d6-919c356a60b3",
   "metadata": {
    "language": "sql",
    "name": "cell21"
   },
   "outputs": [],
   "source": [
    "-- select \n",
    "-- parse_json(\"properties\"):\"servicePeriodStartDate\"::date as servicePeriodStartDate ,\n",
    "-- count(parse_json(\"properties\"):\"servicePeriodStartDate\"::date) as servicePeriodStartDate_count\n",
    "-- -- * \n",
    "\n",
    "-- from COSTS_FROM_PYTHON\n",
    "-- group by servicePeriodStartDate\n",
    "-- -- where servicePeriodStartDate <> '2025-07-01'"
   ]
  },
  {
   "cell_type": "code",
   "execution_count": null,
   "id": "be4fe8e1-ddeb-4216-ab72-2fb970ed77b8",
   "metadata": {
    "language": "sql",
    "name": "cell22"
   },
   "outputs": [],
   "source": [
    "-- select \n",
    "-- servicePeriodStartDate ,\n",
    "-- count(servicePeriodStartDate) as servicePeriodStartDate_count\n",
    "-- -- * \n",
    "\n",
    "-- from prod.silver.azure_cost_manager\n",
    "-- group by servicePeriodStartDate\n",
    "-- -- where servicePeriodStartDate <> '2025-07-01'"
   ]
  },
  {
   "cell_type": "code",
   "execution_count": null,
   "id": "b84a369e-8e01-4746-8b94-492b166258af",
   "metadata": {
    "language": "sql",
    "name": "cell20"
   },
   "outputs": [],
   "source": [
    "-- select \n",
    "-- date ,\n",
    "-- count(date) as date_count\n",
    "-- -- * \n",
    "\n",
    "-- from prod.silver.azure_cost_manager\n",
    "-- -- where date < '2025-07-01'\n",
    "-- group by date\n"
   ]
  },
  {
   "cell_type": "code",
   "execution_count": null,
   "id": "bff2dd4c-962c-4d7b-b778-7597cfe81201",
   "metadata": {
    "language": "sql",
    "name": "cell35"
   },
   "outputs": [],
   "source": [
    "-- select count(*) from prod.raw.azure_cost_manager "
   ]
  },
  {
   "cell_type": "code",
   "execution_count": null,
   "id": "217823f9-7390-4c12-aca1-fd20c1b680fa",
   "metadata": {
    "codeCollapsed": false,
    "language": "sql",
    "name": "cell5"
   },
   "outputs": [],
   "source": [
    "-- insert into prod.raw.azure_cost_manager \n",
    "-- select * from COSTS_FROM_PYTHON"
   ]
  },
  {
   "cell_type": "code",
   "execution_count": null,
   "id": "6fbc9513-b4df-427c-9826-1a6b92f44b5f",
   "metadata": {
    "language": "sql",
    "name": "cell17"
   },
   "outputs": [],
   "source": [
    "-- select count(*) from prod.raw.azure_cost_manager "
   ]
  },
  {
   "cell_type": "code",
   "execution_count": null,
   "id": "fc1f389b-d261-49e4-a8d0-3bdab42ad76f",
   "metadata": {
    "codeCollapsed": false,
    "language": "sql",
    "name": "cell7"
   },
   "outputs": [],
   "source": [
    "-- select top 10 * from prod.raw.azure_cost_manager"
   ]
  },
  {
   "cell_type": "code",
   "execution_count": null,
   "id": "a7e09b78-62ff-4816-8137-099beb6a8f2a",
   "metadata": {
    "language": "sql",
    "name": "cell15"
   },
   "outputs": [],
   "source": [
    "-- create or replace table prod.silver.azure_cost_manager as\n",
    "-- select\n",
    "-- parse_json(\"properties\"):\"additionalInfo\"::variant as additionalInfo,\n",
    "-- parse_json(\"properties\"):\"benefitId\"::string as benefitId,\n",
    "-- parse_json(\"properties\"):\"benefitName\"::string as benefitName,\n",
    "-- parse_json(\"properties\"):\"billingAccountId\"::string as billingAccountId,\n",
    "-- parse_json(\"properties\"):\"billingAccountName\"::string as billingAccountName,\n",
    "-- parse_json(\"properties\"):\"billingCurrencyCode\"::string as billingCurrencyCode,\n",
    "-- parse_json(\"properties\"):\"billingPeriodEndDate\"::date as billingPeriodEndDate,\n",
    "-- parse_json(\"properties\"):\"billingPeriodStartDate\"::date as billingPeriodStartDate,\n",
    "-- parse_json(\"properties\"):\"billingProfileId\"::string as billingProfileId,\n",
    "-- parse_json(\"properties\"):\"billingProfileName\"::string as billingProfileName,\n",
    "-- parse_json(\"properties\"):\"chargeType\"::string as chargeType,\n",
    "-- parse_json(\"properties\"):\"consumedService\"::string as consumedService,\n",
    "-- parse_json(\"properties\"):\"costAllocationRuleName\"::string as costAllocationRuleName,\n",
    "-- parse_json(\"properties\"):\"costCenter\"::string as costCenter,\n",
    "-- parse_json(\"properties\"):\"costInBillingCurrency\"::float as costInBillingCurrency,\n",
    "-- parse_json(\"properties\"):\"costInPricingCurrency\"::float as costInPricingCurrency,\n",
    "-- parse_json(\"properties\"):\"costInUSD\"::float as costInUSD,\n",
    "-- parse_json(\"properties\"):\"customerName\"::string as customerName,\n",
    "-- parse_json(\"properties\"):\"customerTenantId\"::string as customerTenantId,\n",
    "-- parse_json(\"properties\"):\"date\"::date as date,\n",
    "-- parse_json(\"properties\"):\"effectivePrice\"::float as effectivePrice,\n",
    "-- NULLIF(parse_json(\"properties\"):\"exchangeRate\"::string, '')::float as exchangeRate,\n",
    "-- parse_json(\"properties\"):\"exchangeRateDate\"::date as exchangeRateDate,\n",
    "-- parse_json(\"properties\"):\"exchangeRatePricingToBilling\"::float as exchangeRatePricingToBilling,\n",
    "-- parse_json(\"properties\"):\"frequency\"::string as frequency,\n",
    "-- parse_json(\"properties\"):\"instanceName\"::string as instanceName,\n",
    "-- parse_json(\"properties\"):\"invoiceId\"::string as invoiceId,\n",
    "-- parse_json(\"properties\"):\"invoiceSectionId\"::string as invoiceSectionId,\n",
    "-- parse_json(\"properties\"):\"invoiceSectionName\"::string as invoiceSectionName,\n",
    "-- parse_json(\"properties\"):\"isAzureCreditEligible\"::string as isAzureCreditEligible,\n",
    "-- parse_json(\"properties\"):\"meterCategory\"::string as meterCategory,\n",
    "-- parse_json(\"properties\"):\"meterId\"::string as meterId,\n",
    "-- parse_json(\"properties\"):\"meterName\"::string as meterName,\n",
    "-- parse_json(\"properties\"):\"meterRegion\"::string as meterRegion,\n",
    "-- parse_json(\"properties\"):\"meterSubCategory\"::string as meterSubCategory,\n",
    "-- parse_json(\"properties\"):\"partnerEarnedCreditApplied\"::string as partnerEarnedCreditApplied,\n",
    "-- parse_json(\"properties\"):\"partnerEarnedCreditRate\"::string as partnerEarnedCreditRate,\n",
    "-- parse_json(\"properties\"):\"partnerName\"::string as partnerName,\n",
    "-- parse_json(\"properties\"):\"partnerTenantId\"::string as partnerTenantId,\n",
    "-- parse_json(\"properties\"):\"payGPrice\"::float as payGPrice,\n",
    "-- parse_json(\"properties\"):\"paygCostInBillingCurrency\"::float as paygCostInBillingCurrency,\n",
    "-- parse_json(\"properties\"):\"paygCostInUSD\"::float as paygCostInUSD,\n",
    "-- parse_json(\"properties\"):\"previousInvoiceId\"::string as previousInvoiceId,\n",
    "-- parse_json(\"properties\"):\"pricingCurrencyCode\"::string as pricingCurrencyCode,\n",
    "-- parse_json(\"properties\"):\"pricingModel\"::string as pricingModel,\n",
    "-- parse_json(\"properties\"):\"product\"::string as product,\n",
    "-- parse_json(\"properties\"):\"productIdentifier\"::string as productIdentifier,\n",
    "-- parse_json(\"properties\"):\"productOrderId\"::string as productOrderId,\n",
    "-- parse_json(\"properties\"):\"productOrderName\"::string as productOrderName,\n",
    "-- parse_json(\"properties\"):\"provider\"::string as provider,\n",
    "-- parse_json(\"properties\"):\"publisherId\"::string as publisherId,\n",
    "-- parse_json(\"properties\"):\"publisherName\"::string as publisherName,\n",
    "-- parse_json(\"properties\"):\"publisherType\"::string as publisherType,\n",
    "-- parse_json(\"properties\"):\"quantity\"::int as quantity,\n",
    "-- parse_json(\"properties\"):\"resellerMpnId\"::string as resellerMpnId,\n",
    "-- parse_json(\"properties\"):\"resellerName\"::string as resellerName,\n",
    "-- parse_json(\"properties\"):\"reservationId\"::string as reservationId,\n",
    "-- parse_json(\"properties\"):\"reservationName\"::string as reservationName,\n",
    "-- parse_json(\"properties\"):\"resourceGroup\"::string as resourceGroup,\n",
    "-- parse_json(\"properties\"):\"resourceLocation\"::string as resourceLocation,\n",
    "-- parse_json(\"properties\"):\"resourceLocationNormalized\"::string as resourceLocationNormalized,\n",
    "-- parse_json(\"properties\"):\"serviceFamily\"::string as serviceFamily,\n",
    "-- parse_json(\"properties\"):\"serviceInfo1\"::string as serviceInfo1,\n",
    "-- parse_json(\"properties\"):\"serviceInfo2\"::string as serviceInfo2,\n",
    "-- parse_json(\"properties\"):\"servicePeriodEndDate\"::date as servicePeriodEndDate,\n",
    "-- parse_json(\"properties\"):\"servicePeriodStartDate\"::date as servicePeriodStartDate,\n",
    "-- parse_json(\"properties\"):\"subscriptionGuid\"::string as subscriptionGuid,\n",
    "-- parse_json(\"properties\"):\"subscriptionName\"::string as subscriptionName,\n",
    "-- parse_json(\"properties\"):\"term\"::string as term,\n",
    "-- parse_json(\"properties\"):\"unitOfMeasure\"::string as unitOfMeasure,\n",
    "-- parse_json(\"properties\"):\"unitPrice\"::float as unitPrice\n",
    "\n",
    "-- from prod.raw.azure_cost_manager"
   ]
  },
  {
   "cell_type": "code",
   "execution_count": null,
   "id": "46dd1f64-39b3-41b6-8f14-23aacc29fed9",
   "metadata": {
    "language": "sql",
    "name": "cell34"
   },
   "outputs": [],
   "source": [
    "select count(*) from prod.silver.azure_cost_manager"
   ]
  },
  {
   "cell_type": "code",
   "execution_count": null,
   "id": "9c0ec7a3-c2df-427c-acd5-61365336ebd9",
   "metadata": {
    "language": "sql",
    "name": "cell26"
   },
   "outputs": [],
   "source": [
    "-- select distinct subscriptionname from prod.silver.azure_cost_manager"
   ]
  },
  {
   "cell_type": "code",
   "execution_count": null,
   "id": "dea56c6c-7a54-416f-a90f-d12b44b40069",
   "metadata": {
    "language": "sql",
    "name": "cell31"
   },
   "outputs": [],
   "source": []
  },
  {
   "cell_type": "code",
   "execution_count": null,
   "id": "3d7e7583-3ab5-4cf1-b5bc-deb1ad5fd556",
   "metadata": {
    "language": "sql",
    "name": "cell30"
   },
   "outputs": [],
   "source": [
    "-- -- po staremu\n",
    "-- SELECT month(date) as month_date, subscriptionname, SUM(costInBillingCurrency) \n",
    "-- FROM prod.silver.azure_cost_manager\n",
    "-- GROUP BY month_date, subscriptionname"
   ]
  },
  {
   "cell_type": "code",
   "execution_count": null,
   "id": "2f3bfc6d-8cee-4bf4-bd46-7d81a4eff7d1",
   "metadata": {
    "language": "sql",
    "name": "cell33"
   },
   "outputs": [],
   "source": [
    "-- select * from prod.silver.azure_cost_manager"
   ]
  },
  {
   "cell_type": "code",
   "execution_count": null,
   "id": "bf495a7b-33c8-4563-9670-58300ac23fd2",
   "metadata": {
    "codeCollapsed": false,
    "language": "sql",
    "name": "cell10"
   },
   "outputs": [],
   "source": [
    "-- SELECT month(date) as month_date, subscriptionname, SUM(costInBillingCurrency) \n",
    "-- FROM prod.silver.azure_cost_manager\n",
    "-- WHERE subscriptionname not LIKE '%Develop%'\n",
    "-- GROUP BY month_date, subscriptionname"
   ]
  },
  {
   "cell_type": "code",
   "execution_count": null,
   "id": "a8c3b791-d675-4db0-84b4-f0789474783c",
   "metadata": {
    "codeCollapsed": false,
    "language": "sql",
    "name": "cell32"
   },
   "outputs": [],
   "source": [
    "-- SELECT month(date) as month_date, subscriptionname, SUM(costInBillingCurrency) \n",
    "-- FROM prod.silver.azure_cost_manager\n",
    "-- WHERE subscriptionname LIKE '%Develop%'\n",
    "-- GROUP BY month_date, subscriptionname"
   ]
  },
  {
   "cell_type": "code",
   "execution_count": null,
   "id": "6991e475-c87c-4d67-9166-f2e487d0a92f",
   "metadata": {
    "codeCollapsed": false,
    "language": "sql",
    "name": "cell11"
   },
   "outputs": [],
   "source": []
  }
 ]
}