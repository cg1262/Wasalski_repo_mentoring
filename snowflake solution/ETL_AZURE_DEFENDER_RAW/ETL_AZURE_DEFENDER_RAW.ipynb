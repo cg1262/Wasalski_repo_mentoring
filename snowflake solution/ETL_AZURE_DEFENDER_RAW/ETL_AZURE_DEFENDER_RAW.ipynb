{
 "metadata": {
  "kernelspec": {
   "display_name": "Streamlit Notebook",
   "name": "streamlit"
  },
  "lastEditStatus": {
   "notebookId": "7fkcvumw6r4c2pd27mhq",
   "authorId": "557922832688",
   "authorName": "MTWA",
   "authorEmail": "mtwa@softwaremind.com",
   "sessionId": "19a991b5-ec83-4203-8f1e-c6dea2d3a217",
   "lastEditTime": 1753781621382
  }
 },
 "nbformat_minor": 5,
 "nbformat": 4,
 "cells": [
  {
   "cell_type": "code",
   "id": "5cd04def-ac18-4a2b-afc4-7bbc9c52d9cb",
   "metadata": {
    "language": "sql",
    "name": "timezone_for_london"
   },
   "outputs": [],
   "source": "ALTER SESSION SET TIMEZONE = 'Europe/London';",
   "execution_count": null
  },
  {
   "cell_type": "code",
   "id": "933ad5a0-a202-456f-abec-4434da370486",
   "metadata": {
    "language": "python",
    "name": "import_libs_secrets",
    "collapsed": false,
    "codeCollapsed": false
   },
   "outputs": [],
   "source": "import os\nimport requests\nfrom azure.identity import ClientSecretCredential\nimport pandas as pd\nfrom json import loads, dumps\ntry:\n    from snowflake.snowpark.context import get_active_session\n\n    session = get_active_session()\n\n    results_tenant_id = session.sql(\"SELECT prod.raw.ADO_DEFENDER_TENANT_ID()\").collect()\n    tenant_id = results_tenant_id[0][0]\n\n    results_client_id = session.sql(\"SELECT prod.raw.ADO_DEFENDER_CLIENT_ID()\").collect()\n    client_id = results_client_id[0][0]\n\n    results_client_secret = session.sql(\"SELECT prod.raw.ADO_DEFENDER_CLIENT_SECRET()\").collect()\n    client_secret = results_client_secret[0][0]\n\n    results_subscription_id = session.sql(\"SELECT prod.raw.ADO_DEFENDER_SUBSCRIPTION_ID()\").collect()\n    subscription_id = results_subscription_id[0][0]\nexcept:\n    from dotenv import load_dotenv\n    load_dotenv()\n    tenant_id = os.getenv('tenant_id')\n    client_id = os.getenv('client_id')\n    client_secret = os.getenv('client_secret')\n    subscription_id = os.getenv('subscription_id')\n",
   "execution_count": null
  },
  {
   "cell_type": "markdown",
   "id": "e82ccb88-aadf-4a5f-b876-5655d4f50571",
   "metadata": {
    "name": "cell4",
    "collapsed": false
   },
   "source": "https://learn.microsoft.com/en-us/rest/api/defenderforcloud-composite/alerts/list?view=rest-defenderforcloud-composite-stable&tabs=HTTP"
  },
  {
   "cell_type": "code",
   "id": "3417a08e-4027-4f23-8256-703f3dbb126e",
   "metadata": {
    "language": "python",
    "name": "alerts_cell",
    "codeCollapsed": false,
    "collapsed": false
   },
   "outputs": [],
   "source": "# Authenticate\ncredential = ClientSecretCredential(tenant_id, client_id, client_secret)\ntoken = credential.get_token(\"https://management.azure.com/.default\")\n\n# API endpoint\nurl = f\"https://management.azure.com/subscriptions/{subscription_id}/providers/Microsoft.Security/alerts?api-version=2022-01-01\"\n\n# Headers with access token\nheaders = {\n    \"Authorization\": f\"Bearer {token.token}\",\n    \"Content-Type\": \"application/json\"\n}\n\n\n\nall_allerts= []\n\nresponse = requests.get(url, headers=headers)\ndata = response.json()\nall_allerts.extend(data.get('value', []))\n\nwhile \"nextLink\" in data:\n    next_url = data[\"nextLink\"]\n    response = requests.get(next_url, headers=headers)\n    data = response.json()\n    all_allerts.extend(data.get('value', []))\n\n\nalerts = pd.DataFrame(all_allerts)\n\nprint(f\"Alerts: {len(alerts)}\")\nalerts\n\n# # Make the API call\n# response = requests.get(url, headers=headers)\n# data = response.json()\n# alerts = pd.DataFrame(data['value'])\n# alerts",
   "execution_count": null
  },
  {
   "cell_type": "code",
   "id": "33d12ad3-253f-4f80-a087-c27535ff5219",
   "metadata": {
    "language": "python",
    "name": "alerts_session",
    "codeCollapsed": true,
    "collapsed": true
   },
   "outputs": [],
   "source": "\ntemp_alerts = 'TEMP_ALERTS'\n\nsession.write_pandas(alerts,\n                         table_name=temp_alerts,\n                         auto_create_table=True,\n                         overwrite=True,\n                         table_type=\"temporary\")",
   "execution_count": null
  },
  {
   "cell_type": "code",
   "id": "7772591b-4211-4c90-b1c5-9d8433db8eaf",
   "metadata": {
    "language": "sql",
    "name": "alerts_sql"
   },
   "outputs": [],
   "source": "CREATE OR REPLACE TABLE prod.raw.azure_defender_alerts AS \nSELECT\n  \"id\",\n  \"name\",\n  \"type\", \n  PARSE_JSON(\"properties\"):\"alertDisplayName\"::string      AS alert_display_name,\n  PARSE_JSON(\"properties\"):\"alertType\"::string              AS alert_type,\n  PARSE_JSON(\"properties\"):\"alertUri\"::string               AS alert_uri,\n  PARSE_JSON(\"properties\"):\"compromisedEntity\"   ::string   AS compromised_entity,\n  PARSE_JSON(\"properties\"):\"correlationKey\"   ::string      AS correlation_key,\n  PARSE_JSON(\"properties\"):\"description\"    ::string        AS description,\n  PARSE_JSON(\"properties\"):\"endTimeUtc\"  ::string           AS end_time_utc,\n  PARSE_JSON(\"properties\"):\"intent\"    ::string             AS intent,\n  PARSE_JSON(\"properties\"):\"isIncident\"  ::string           AS is_incident,\n  PARSE_JSON(\"properties\"):\"productName\"    ::string        AS product_name,\n  PARSE_JSON(\"properties\"):\"severity\" ::string              AS severity,\n  PARSE_JSON(\"properties\"):\"startTimeUtc\"   ::string        AS start_time_utc,\n  PARSE_JSON(\"properties\"):\"status\" ::string                AS status,\n  PARSE_JSON(\"properties\"):\"systemAlertId\" ::string         AS system_alert_id,\n  PARSE_JSON(\"properties\"):\"timeGeneratedUtc\"::timestamp_tz       AS time_generated,\n  PARSE_JSON(\"properties\"):\"entities\" ::variant              AS entities,\n  PARSE_JSON(\"properties\"):\"extendedProperties\"  ::variant   AS extended_properties,\n  PARSE_JSON(\"properties\"):\"remediationSteps\"::variant       AS remediation_steps,\nPARSE_JSON(\"properties\"):\"resourceIdentifiers\" ::variant   AS resource_identifiers,\n\nFROM TEMP_ALERTS;",
   "execution_count": null
  },
  {
   "cell_type": "markdown",
   "id": "4980c68e-9a51-47c8-9491-da08ca65912e",
   "metadata": {
    "name": "recommendations_doc",
    "collapsed": false
   },
   "source": "https://learn.microsoft.com/en-us/rest/api/advisor/recommendations/list?view=rest-advisor-2025-01-01&tabs=HTTP"
  },
  {
   "cell_type": "code",
   "id": "fa2a779f-d138-4105-b859-c74b5d1e3b15",
   "metadata": {
    "language": "python",
    "name": "recommendations_cell",
    "codeCollapsed": true,
    "collapsed": true
   },
   "outputs": [],
   "source": "# # Authenticate\n# credential = ClientSecretCredential(tenant_id, client_id, client_secret)\n# token = credential.get_token(\"https://management.azure.com/.default\")\n\n# # API endpoint\n# url = f\"https://management.azure.com/subscriptions/{subscription_id}/providers/Microsoft.Advisor/recommendations?api-version=2025-01-01\"\n\n# # Headers with access token\n# headers = {\n#     \"Authorization\": f\"Bearer {token.token}\",\n#     \"Content-Type\": \"application/json\"\n# }\n\n\n# all_recommendations= []\n\n# response = requests.get(url, headers=headers)\n# data = response.json()\n# all_recommendations.extend(data.get('value', []))\n\n# while \"nextLink\" in data:\n#     next_url = data[\"nextLink\"]\n#     response = requests.get(next_url, headers=headers)\n#     data = response.json()\n#     all_recommendations.extend(data.get('value', []))\n\n\n# recommendations = pd.DataFrame(all_recommendations)\n\n# print(f\"Recommendations: {len(recommendations)}\")\n# recommendations\n\n# # # Make the API call\n# # response = requests.get(url, headers=headers)\n# # data = response.json()\n# # recommendations = pd.DataFrame(data['value'])\n# # recommendations",
   "execution_count": null
  },
  {
   "cell_type": "code",
   "id": "1b92a1c0-9069-4832-bc3e-6108e1731b06",
   "metadata": {
    "language": "python",
    "name": "recomm_session",
    "codeCollapsed": true,
    "collapsed": true
   },
   "outputs": [],
   "source": "\n# temp_recommendations = 'TEMP_RECOMM'\n\n# session.write_pandas(recommendations,\n#                          table_name=temp_recommendations,\n#                          auto_create_table=True,\n#                          overwrite=True,\n#                          table_type=\"temporary\")",
   "execution_count": null
  },
  {
   "cell_type": "code",
   "id": "722100c8-96d7-4885-b562-88b07d332775",
   "metadata": {
    "language": "sql",
    "name": "recomm_sql",
    "collapsed": true,
    "codeCollapsed": true
   },
   "outputs": [],
   "source": "-- -- CREATE OR REPLACE TABLE prod.raw.azure_defender_recommendations AS \n\n-- select\n-- \"name\" as id,\n-- parse_json(\"properties\"):\"category\"::text as category,\n-- parse_json(\"properties\"):\"impact\"::text as impact,\n-- parse_json(\"properties\"):\"impactedField\"::text as impactedField,\n-- parse_json(\"properties\"):\"impactedValue\"::text as impactedValue,\n-- parse_json(\"properties\"):\"lastUpdated\"::text as lastUpdated,\n-- parse_json(\"properties\"):\"recommendationTypeId\"::text as recommendationTypeId,\n-- parse_json(\"properties\"):\"resourceMetadata\".\"resourceId\"::text as resourceId,\n-- parse_json(\"properties\"):\"shortDescription\".\"problem\"::text as shortDescription_problem,\n-- parse_json(\"properties\"):\"shortDescription\".\"solution\"::text as shortDescription_solution,\n-- parse_json(\"properties\"):\"extendedProperties\".\"assessmentKey\"::text as extendedProperties,\n-- parse_json(\"properties\"):\"extendedProperties\"::text as extendedProperties,\n-- parse_json(\"properties\"):\"extendedProperties\"::text as extendedProperties,\n-- parse_json(\"properties\"):\"extendedProperties\"::text as extendedProperties,\n-- parse_json(\"properties\")::variant as properties,\n-- parse_json(\"properties\"):\"resourceMetadata\"::text as resourceMetadata,\n-- from TEMP_RECOMM",
   "execution_count": null
  },
  {
   "cell_type": "markdown",
   "id": "532f0549-744a-4241-8734-c407c7d14afc",
   "metadata": {
    "name": "tasks_doc",
    "collapsed": false
   },
   "source": "https://learn.microsoft.com/en-us/rest/api/defenderforeasm/dataplanepreview/tasks/list-task?view=rest-defenderforeasm-dataplanepreview-2024-10-01-preview&tabs=HTTP"
  },
  {
   "cell_type": "code",
   "id": "67aa0362-2fef-48a8-be40-259d328e4436",
   "metadata": {
    "language": "python",
    "name": "tasks_cell",
    "codeCollapsed": true,
    "collapsed": true
   },
   "outputs": [],
   "source": "# Authenticate\ncredential = ClientSecretCredential(tenant_id, client_id, client_secret)\ntoken = credential.get_token(\"https://management.azure.com/.default\")\n\n# API endpoint\nurl = f\"https://management.azure.com/subscriptions/{subscription_id}/providers/Microsoft.Security/tasks?api-version=2015-06-01-preview\"\n\n# Headers with access token\nheaders = {\n    \"Authorization\": f\"Bearer {token.token}\",\n    \"Content-Type\": \"application/json\"\n}\n\n\n\nall_tasks= []\n\nresponse = requests.get(url, headers=headers)\ndata = response.json()\nall_tasks.extend(data.get('value', []))\n\nwhile \"nextLink\" in data:\n    next_url = data[\"nextLink\"]\n    response = requests.get(next_url, headers=headers)\n    data = response.json()\n    all_tasks.extend(data.get('value', []))\n\n\ntasks = pd.DataFrame(all_tasks)\n\nprint(f\"Tasks: {len(tasks)}\")\ntasks\n\n# # Make the API call\n# response = requests.get(url, headers=headers)\n# data = response.json()\n# tasks = pd.DataFrame(data['value'])\n# tasks",
   "execution_count": null
  },
  {
   "cell_type": "code",
   "id": "5a2a03c2-e6fd-4886-af2f-9ff98837cfa8",
   "metadata": {
    "language": "python",
    "name": "tasks_session",
    "collapsed": true,
    "codeCollapsed": true
   },
   "outputs": [],
   "source": "\ntemp_tasks= 'TEMP_TASKS'\n\nsession.write_pandas(tasks,\n                         table_name=temp_tasks,\n                         auto_create_table=True,\n                         overwrite=True,\n                         table_type=\"temporary\")",
   "execution_count": null
  },
  {
   "cell_type": "code",
   "id": "4980e063-ab30-42cd-a0e2-9f78754e2abc",
   "metadata": {
    "language": "sql",
    "name": "tasks_sql",
    "codeCollapsed": false
   },
   "outputs": [],
   "source": "CREATE OR REPLACE TABLE prod.raw.azure_defender_tasks AS \nselect \nparse_json(\"properties\") as prosp,\nparse_json(\"properties\"):\"creationTimeUtc\"::text as creationTimeUtc,\nparse_json(\"properties\"):\"lastStateChangeTimeUtc\"::text as lastStateChangeTimeUtc,\nparse_json(\"properties\"):\"securityTaskParameters\".\"name\"::text as securityTaskParameters,\nparse_json(\"properties\"):\"securityTaskParameters\".\"resourceId\"::text as resourceId,\nparse_json(\"properties\"):\"securityTaskParameters\".\"uniqueKey\"::text as uniqueKey,\nparse_json(\"properties\"):\"state\"::text as state,\nparse_json(\"properties\"):\"subState\"::text as subState\nfrom TEMP_TASKS",
   "execution_count": null
  },
  {
   "cell_type": "markdown",
   "id": "bcbb647c-33b0-4502-9e37-09cfcd38b18c",
   "metadata": {
    "name": "cell20",
    "collapsed": false
   },
   "source": "https://learn.microsoft.com/en-us/rest/api/defenderforcloud-composite/assessments/list?view=rest-defenderforcloud-composite-stable&tabs=HTTP"
  },
  {
   "cell_type": "code",
   "id": "a02efc7b-e9ad-45c3-8370-a00461b91a89",
   "metadata": {
    "language": "python",
    "name": "assessments_cell",
    "codeCollapsed": true,
    "collapsed": true
   },
   "outputs": [],
   "source": "# Authenticate\ncredential = ClientSecretCredential(tenant_id, client_id, client_secret)\ntoken = credential.get_token(\"https://management.azure.com/.default\")\n\n# API endpoint\nurl = f\"https://management.azure.com/subscriptions/{subscription_id}/providers/Microsoft.Security/assessments?api-version=2025-05-04\"\n\n# Nagłówki z tokenem dostępu\nheaders = {\n    \"Authorization\": f\"Bearer {token.token}\",\n    \"Content-Type\": \"application/json\"\n}\n\n# Pobieranie wszystkich alertów z obsługą paginacji\nall_assessments= []\n\nresponse = requests.get(url, headers=headers)\ndata = response.json()\nall_assessments.extend(data.get('value', []))\n\nwhile \"nextLink\" in data:\n    next_url = data[\"nextLink\"]\n    response = requests.get(next_url, headers=headers)\n    data = response.json()\n    all_assessments.extend(data.get('value', []))\n\n# Tworzenie DataFrame\nassessments = pd.DataFrame(all_assessments)\n\n# Wyświetlenie liczby pobranych alertów i przykładowych danych\nprint(f\"Assessments: {len(assessments)}\")\n\n\nassessments['subAssessmentsLink'] = assessments['properties'].apply(\n    lambda x: x.get('additionalData', {}).get('subAssessmentsLink') if isinstance(x, dict) else None\n)\nassessments['displayName'] = assessments['properties'].apply(lambda x: x.get('displayName') if isinstance(x, dict) else None)\n\nassessments['assessmentType'] = assessments['properties'].apply(\n    lambda x: x.get('metadata', {}).get('assessmentType') if isinstance(x, dict) else None\n)\nassessments['categories'] = assessments['properties'].apply(\n    lambda x: x.get('metadata', {}).get('categories') if isinstance(x, dict) else None\n)\nassessments['cloudProviders'] = assessments['properties'].apply(\n    lambda x: x.get('metadata', {}).get('cloudProviders') if isinstance(x, dict) else None\n)\n\nassessments['description'] = assessments['properties'].apply(\n    lambda x: x.get('metadata', {}).get('description') if isinstance(x, dict) else None\n)\n\nassessments['managementProvider'] = assessments['properties'].apply(\n    lambda x: x.get('metadata', {}).get('managementProvider') if isinstance(x, dict) else None\n)\n\nassessments['policyDefinitionId'] = assessments['properties'].apply(\n    lambda x: x.get('metadata', {}).get('policyDefinitionId') if isinstance(x, dict) else None\n)\n\n# assessments['publishDates'] = assessments['properties'].apply(\n#     lambda x: x.get('metadata', {}).get('publishDates') if isinstance(x, dict) else None\n# )\n\nassessments['recommendationCategory'] = assessments['properties'].apply(\n    lambda x: x.get('metadata', {}).get('recommendationCategory') if isinstance(x, dict) else None\n)\n\nassessments['remediationDescription'] = assessments['properties'].apply(\n    lambda x: x.get('metadata', {}).get('remediationDescription') if isinstance(x, dict) else None\n)\n\nassessments['securityCategories'] = assessments['properties'].apply(\n    lambda x: x.get('metadata', {}).get('securityCategories') if isinstance(x, dict) else None\n)\n\nassessments['securityIssue'] = assessments['properties'].apply(\n    lambda x: x.get('metadata', {}).get('securityIssue') if isinstance(x, dict) else None\n)\n\nassessments['techniques'] = assessments['properties'].apply(\n    lambda x: x.get('metadata', {}).get('techniques') if isinstance(x, dict) else None\n)\n\nassessments['threats'] = assessments['properties'].apply(\n    lambda x: x.get('metadata', {}).get('threats') if isinstance(x, dict) else None\n)\n\nassessments['resourceDetails_Id'] = assessments['properties'].apply(\n    lambda x: x.get('resourceDetails', {}).get('Id') if isinstance(x, dict) else None\n)\nassessments['NativeResourceId'] = assessments['properties'].apply(\n    lambda x: x.get('resourceDetails', {}).get('NativeResourceId') if isinstance(x, dict) else None\n)\n\n\nassessments['ResourceId'] = assessments['properties'].apply(\n    lambda x: x.get('resourceDetails', {}).get('ResourceId') if isinstance(x, dict) else None\n)\n\n\nassessments['ResourceName'] = assessments['properties'].apply(\n    lambda x: x.get('resourceDetails', {}).get('ResourceName') if isinstance(x, dict) else None\n)\n\n\nassessments['ResourceType'] = assessments['properties'].apply(\n    lambda x: x.get('resourceDetails', {}).get('ResourceType') if isinstance(x, dict) else None\n)\n\n\nassessments['Source'] = assessments['properties'].apply(\n    lambda x: x.get('resourceDetails', {}).get('Source') if isinstance(x, dict) else None\n)\n\n\nassessments['status_code'] = assessments['properties'].apply(\n    lambda x: x.get('status', {}).get('code') if isinstance(x, dict) else None\n)\n\nassessments['first_Evaluation_Date'] = assessments['properties'].apply(\n    lambda x: x.get('status', {}).get('firstEvaluationDate') if isinstance(x, dict) else None\n)\n\nassessments['status_Change_Date'] = assessments['properties'].apply(\n    lambda x: x.get('status', {}).get('statusChangeDate') if isinstance(x, dict) else None\n)\n\n# assessments['assessmentStatus'] = assessments['properties'].apply(\n#     lambda x: x.get('statusPerInitiative', {}).get('assessmentStatus') if isinstance(x, dict) else None\n# )\n\n# # detailed assessments didnt give any additional data\n# detailed_assessments = []\n\n# for index, row in assessments.iterrows():\n#         # Wyciągnij resourceId i assessmentName\n#         resource_id = row['properties']['resourceDetails']['Id']\n#         assessment_name = row['name']\n        \n#         # Zbuduj URL\n#         detail_url = f\"https://management.azure.com{resource_id}/providers/Microsoft.Security/assessments/{assessment_name}?api-version=2021-06-01\"\n        \n#         # Wykonaj zapytanie\n#         detail_response = requests.get(detail_url, headers=headers)\n        \n#         if detail_response.status_code == 200:\n#             detailed_assessments.append(detail_response.json())\n#         else:\n#             print(f\"Błąd dla assessment {assessment_name}: {detail_response.status_code}\")\n            \n\n# # Tworzenie DataFrame z szczegółami\n# detailed_df = pd.DataFrame(detailed_assessments)\n# detailed_df\n\nassessments = assessments.drop(columns=[\"tags\"\n                                        , \"properties\"\n                                       ])\n\nassessments",
   "execution_count": null
  },
  {
   "cell_type": "code",
   "id": "a9032824-4575-453b-8809-8dff99205c98",
   "metadata": {
    "language": "python",
    "name": "assessments_session",
    "codeCollapsed": false,
    "collapsed": true
   },
   "outputs": [],
   "source": "\ntemp_assessments = 'TEMP_ASSESSMENTS'\n\nsession.write_pandas(assessments,\n                         table_name=temp_assessments,\n                         auto_create_table=True,\n                         overwrite=True,\n                         table_type=\"temporary\")",
   "execution_count": null
  },
  {
   "cell_type": "code",
   "id": "b3b626d2-637d-4869-9e76-e0a1fdb74d85",
   "metadata": {
    "language": "sql",
    "name": "assessments_sql",
    "codeCollapsed": false
   },
   "outputs": [],
   "source": "create or replace table prod.raw.azure_defender_assessments as \n\nselect  \n-- parse_json(\"properties\"):\"additionalData\"::string additionalData,\n-- parse_json(\"properties\")::variant as properties,\n-- parse_json(\"properties\"):\"status\".\"code\"::string status_code,\n-- parse_json(\"properties\"):\"status\".\"firstEvaluationDate\"::string first_Evaluation_Date,\n-- parse_json(\"properties\"):\"status\".\"statusChangeDate\"::string status_Change_Date,\n-- parse_json(\"properties\"):\"displayName\"::string as display_name,\n-- parse_json(\"properties\"):\"resourceDetails\".\"ResourceName\"::string as Resource_name,\n-- parse_json(\"properties\"):\"resourceDetails\".\"ResourceProvider\"::string as Resource_Provider,\n-- parse_json(\"properties\"):\"resourceDetails\".\"ResourceType\"::string as ResourceType,\n-- parse_json(\"properties\"):\"resourceDetails\".\"Source\"::string as Source,\n-- parse_json(\"properties\"):\"additionalData\".\"maxCvss30Score\"::string as maxCvss30Score,\n\n-- \"type\", \"id\" , \"name\",\n*\nfrom TEMP_ASSESSMENTS",
   "execution_count": null
  },
  {
   "cell_type": "markdown",
   "id": "0c6ea257-3cb1-4b5c-baa4-086aac0bf4ac",
   "metadata": {
    "name": "cell21",
    "collapsed": false
   },
   "source": "https://learn.microsoft.com/en-us/rest/api/defenderforcloud-composite/assessments-metadata/list-by-subscription?view=rest-defenderforcloud-composite-stable&tabs=HTTP"
  },
  {
   "cell_type": "code",
   "id": "c7c72fbf-fea1-4e4f-abd9-bc4856eb09b0",
   "metadata": {
    "language": "python",
    "name": "assessments_md_cell",
    "codeCollapsed": true,
    "collapsed": true
   },
   "outputs": [],
   "source": "# Authenticate\ncredential = ClientSecretCredential(tenant_id, client_id, client_secret)\ntoken = credential.get_token(\"https://management.azure.com/.default\")\n\n# API endpoint\nurl = f\"https://management.azure.com/subscriptions/{subscription_id}/providers/Microsoft.Security/assessmentMetadata?api-version=2021-06-01\"\n\n# Headers with access token\nheaders = {\n    \"Authorization\": f\"Bearer {token.token}\",\n    \"Content-Type\": \"application/json\"\n}\n\nall_assessments_md= []\n\nresponse = requests.get(url, headers=headers)\ndata = response.json()\nall_assessments_md.extend(data.get('value', []))\n\nwhile \"nextLink\" in data:\n    next_url = data[\"nextLink\"]\n    response = requests.get(next_url, headers=headers)\n    data = response.json()\n    all_assessments_md.extend(data.get('value', []))\n\n\nassessments_md = pd.DataFrame(all_assessments_md)\nassessments_md = assessments_md.drop(columns='tags')\nprint(f\"Assessments metadata: {len(assessments_md)}\")\nassessments_md\n",
   "execution_count": null
  },
  {
   "cell_type": "code",
   "id": "79352dde-c86c-4b14-8892-15cd8cbf84c7",
   "metadata": {
    "language": "python",
    "name": "cell44",
    "codeCollapsed": true,
    "collapsed": true
   },
   "outputs": [],
   "source": "session = get_active_session()\ntemp_assessments_md = 'TEMP_ASSESSMENTS_MD'\n\nsession.write_pandas(assessments_md,\n                         table_name=temp_assessments_md,\n                         auto_create_table=True,\n                         overwrite=True,\n                         table_type=\"temporary\")",
   "execution_count": null
  },
  {
   "cell_type": "code",
   "id": "11b597aa-023c-4f4f-a346-3975d22014a7",
   "metadata": {
    "language": "sql",
    "name": "cell14",
    "codeCollapsed": false
   },
   "outputs": [],
   "source": "CREATE OR REPLACE TABLE prod.raw.azure_defender_assessments_metadata AS \n\nselect \nparse_json(\"properties\"):\"displayName\"::text as displayname,\nparse_json(\"properties\"):\"assessmentType\"::text as assessmentType,\nparse_json(\"properties\"):\"categories\"::variant as categories,\nparse_json(\"properties\"):\"cloudProviders\"::variant as cloudProviders,\nparse_json(\"properties\"):\"description\"::text as description,\nparse_json(\"properties\"):\"implementationEffort\"::text as implementationEffort,\nparse_json(\"properties\"):\"managementProvider\"::text as managementProvider,\nparse_json(\"properties\"):\"policyDefinitionId\"::text as policyDefinitionId,\nparse_json(\"properties\"):\"publishDates\".\"ga\"::text as publishDates_ga,\nparse_json(\"properties\"):\"publishDates\".\"public\"::text as publishDates_public,\nparse_json(\"properties\"):\"recommendationCategory\"::text as recommendationCategory,\nparse_json(\"properties\"):\"remediationDescription\"::text as remediationDescription,\nparse_json(\"properties\"):\"securityCategories\"::text as securityCategories,\nparse_json(\"properties\"):\"securityIssue\"::text as securityIssue,\nparse_json(\"properties\"):\"severity\"::text as severity,\nparse_json(\"properties\"):\"tactics\"::variant as tactics,\nparse_json(\"properties\"):\"techniques\"::variant as techniques,\nparse_json(\"properties\"):\"threats\"::text as variant,\nparse_json(\"properties\"):\"userImpact\"::text as userImpact,\nparse_json(\"properties\") as properties\n\nfrom TEMP_ASSESSMENTS_MD",
   "execution_count": null
  },
  {
   "cell_type": "markdown",
   "id": "17079a92-5c7a-47f6-9dc6-5717bc604913",
   "metadata": {
    "name": "cell1",
    "collapsed": false
   },
   "source": ""
  },
  {
   "cell_type": "code",
   "id": "5723037d-32ff-49dc-82e1-c41021e1eebb",
   "metadata": {
    "language": "sql",
    "name": "cell5",
    "codeCollapsed": false
   },
   "outputs": [],
   "source": "",
   "execution_count": null
  },
  {
   "cell_type": "code",
   "id": "e706326d-2409-40de-b5f1-c25939f887b2",
   "metadata": {
    "language": "python",
    "name": "cell2"
   },
   "outputs": [],
   "source": "# Authenticate\ncredential = ClientSecretCredential(tenant_id, client_id, client_secret)\ntoken = credential.get_token(\"https://management.azure.com/.default\")\n\n# API endpoint\nurl = f\"https://management.azure.com/subscriptions/{subscription_id}/providers/Microsoft.Security/allowedConnections?api-version=2020-01-01\"\n\n# Headers with access token\nheaders = {\n    \"Authorization\": f\"Bearer {token.token}\",\n    \"Content-Type\": \"application/json\"\n}\n\nresponse = requests.get(url, headers=headers)\ndata = response.json()\nprint(f\"{response}\")\ndata\n",
   "execution_count": null
  },
  {
   "cell_type": "code",
   "id": "aa77fdf3-e2de-4365-b7c3-e5b00abf9141",
   "metadata": {
    "language": "python",
    "name": "secureScoreControlDefinitions_cell"
   },
   "outputs": [],
   "source": "# Authenticate\ncredential = ClientSecretCredential(tenant_id, client_id, client_secret)\ntoken = credential.get_token(\"https://management.azure.com/.default\")\n\n# API endpoint\nurl = f\"https://management.azure.com/providers/Microsoft.Security/secureScoreControlDefinitions?api-version=2020-01-01\"\n\n# Headers with access token\nheaders = {\n    \"Authorization\": f\"Bearer {token.token}\",\n    \"Content-Type\": \"application/json\"\n}\n\n\nall_allerts= []\n\nresponse = requests.get(url, headers=headers)\ndata = response.json()\nall_allerts.extend(data.get('value', []))\n\nwhile \"nextLink\" in data:\n    next_url = data[\"nextLink\"]\n    response = requests.get(next_url, headers=headers)\n    data = response.json()\n    all_allerts.extend(data.get('value', []))\n\n\nsecureScoreControlDefinitions = pd.DataFrame(all_allerts)\n\nprint(f\"secureScoreControlDefinitions: {len(secureScoreControlDefinitions)}\")\nsecureScoreControlDefinitions",
   "execution_count": null
  },
  {
   "cell_type": "code",
   "id": "1d61ff38-724a-4883-9ccc-d3f170917534",
   "metadata": {
    "language": "python",
    "name": "secureScoreControls_cell"
   },
   "outputs": [],
   "source": "# Authenticate\ncredential = ClientSecretCredential(tenant_id, client_id, client_secret)\ntoken = credential.get_token(\"https://management.azure.com/.default\")\n\n# API endpoint\nurl = f\"https://management.azure.com/subscriptions/{subscription_id}/providers/Microsoft.Security/secureScoreControls?api-version=2020-01-01\"\n\n# Headers with access token\nheaders = {\n    \"Authorization\": f\"Bearer {token.token}\",\n    \"Content-Type\": \"application/json\"\n}\n\nall_allerts= []\n\nresponse = requests.get(url, headers=headers)\ndata = response.json()\nall_allerts.extend(data.get('value', []))\n\nwhile \"nextLink\" in data:\n    next_url = data[\"nextLink\"]\n    response = requests.get(next_url, headers=headers)\n    data = response.json()\n    all_allerts.extend(data.get('value', []))\n\n\nsecureScoreControls = pd.DataFrame(all_allerts)\n\nprint(f\"secureScoreControls: {len(secureScoreControls)}\")\nsecureScoreControls",
   "execution_count": null
  },
  {
   "cell_type": "code",
   "id": "c88fd848-12ec-4f70-b884-1d22175b36c0",
   "metadata": {
    "language": "python",
    "name": "secureScores_cell"
   },
   "outputs": [],
   "source": "# Authenticate\ncredential = ClientSecretCredential(tenant_id, client_id, client_secret)\ntoken = credential.get_token(\"https://management.azure.com/.default\")\n\n# API endpoint\nurl = f\"https://management.azure.com/subscriptions/{subscription_id}/providers/Microsoft.Security/secureScores?api-version=2020-01-01\"\n\n# Headers with access token\nheaders = {\n    \"Authorization\": f\"Bearer {token.token}\",\n    \"Content-Type\": \"application/json\"\n}\n\nall_allerts= []\n\nresponse = requests.get(url, headers=headers)\ndata = response.json()\nall_allerts.extend(data.get('value', []))\n\nwhile \"nextLink\" in data:\n    next_url = data[\"nextLink\"]\n    response = requests.get(next_url, headers=headers)\n    data = response.json()\n    all_allerts.extend(data.get('value', []))\n\n\nsecureScores = pd.DataFrame(all_allerts)\n\nprint(f\"secureScores: {len(secureScores)}\")\nsecureScores\n",
   "execution_count": null
  },
  {
   "cell_type": "code",
   "id": "3f690a45-da24-4123-b5d1-9fdfa087bee8",
   "metadata": {
    "language": "python",
    "name": "cell9"
   },
   "outputs": [],
   "source": "\ntemp_secureScores = 'TEMP_SECURE_SCORES'\n\nsession.write_pandas(secureScores,\n                         table_name=temp_secureScores,\n                         auto_create_table=True,\n                         overwrite=True,\n                         table_type=\"temporary\")",
   "execution_count": null
  },
  {
   "cell_type": "code",
   "id": "9209a26a-aaeb-44ff-91c6-e4d71b1461a3",
   "metadata": {
    "language": "python",
    "name": "securitySolutions_cell",
    "codeCollapsed": false
   },
   "outputs": [],
   "source": "# Authenticate\ncredential = ClientSecretCredential(tenant_id, client_id, client_secret)\ntoken = credential.get_token(\"https://management.azure.com/.default\")\n\n# API endpoint\nurl = f\"https://management.azure.com/subscriptions/{subscription_id}/providers/Microsoft.Security/securitySolutions?api-version=2020-01-01\"\n\n# Headers with access token\nheaders = {\n    \"Authorization\": f\"Bearer {token.token}\",\n    \"Content-Type\": \"application/json\"\n}\n\nall_allerts= []\n\nresponse = requests.get(url, headers=headers)\ndata = response.json()\nall_allerts.extend(data.get('value', []))\n\nwhile \"nextLink\" in data:\n    next_url = data[\"nextLink\"]\n    response = requests.get(next_url, headers=headers)\n    data = response.json()\n    all_allerts.extend(data.get('value', []))\n\n\nsecuritySolutions = pd.DataFrame(all_allerts)\n\nprint(f\"securitySolutions: {len(securitySolutions)}\")\nsecuritySolutions\n",
   "execution_count": null
  },
  {
   "cell_type": "code",
   "id": "ee0b13e5-2bd9-4418-ae91-00b2966d0fad",
   "metadata": {
    "language": "python",
    "name": "securityStandards_cell",
    "codeCollapsed": false
   },
   "outputs": [],
   "source": "# Authenticate\ncredential = ClientSecretCredential(tenant_id, client_id, client_secret)\ntoken = credential.get_token(\"https://management.azure.com/.default\")\n\n# API endpoint\nurl = f\"https://management.azure.com/subscriptions/{subscription_id}/providers/Microsoft.Security/securityStandards?api-version=2024-08-01\"\n\n# Headers with access token\nheaders = {\n    \"Authorization\": f\"Bearer {token.token}\",\n    \"Content-Type\": \"application/json\"\n}\n\nall_allerts= []\n\nresponse = requests.get(url, headers=headers)\ndata = response.json()\nall_allerts.extend(data.get('value', []))\n\nwhile \"nextLink\" in data:\n    next_url = data[\"nextLink\"]\n    response = requests.get(next_url, headers=headers)\n    data = response.json()\n    all_allerts.extend(data.get('value', []))\n\n\nsecurityStandards = pd.DataFrame(all_allerts)\n\nprint(f\"securityStandards: {len(securityStandards)}\")\nsecurityStandards",
   "execution_count": null
  },
  {
   "cell_type": "code",
   "id": "7aff0732-545b-40bb-83fc-6bd1a4f3eb00",
   "metadata": {
    "language": "python",
    "name": "pricings_cell",
    "codeCollapsed": false
   },
   "outputs": [],
   "source": "# Authenticate\ncredential = ClientSecretCredential(tenant_id, client_id, client_secret)\ntoken = credential.get_token(\"https://management.azure.com/.default\")\n\n# API endpoint\nurl = f\"https://management.azure.com/subscriptions/{subscription_id}/providers/Microsoft.Security/pricings?api-version=2024-01-01\"\n\n# Headers with access token\nheaders = {\n    \"Authorization\": f\"Bearer {token.token}\",\n    \"Content-Type\": \"application/json\"\n}\n\nall_pricings= []\n\nresponse = requests.get(url, headers=headers)\ndata = response.json()\nall_pricings.extend(data.get('value', []))\n\nwhile \"nextLink\" in data:\n    next_url = data[\"nextLink\"]\n    response = requests.get(next_url, headers=headers)\n    data = response.json()\n    all_pricings.extend(data.get('value', []))\n\n\npricings = pd.DataFrame(all_pricings)\npricings\n",
   "execution_count": null
  },
  {
   "cell_type": "code",
   "id": "aac063ff-6f3c-4f99-8e1e-045f7f451521",
   "metadata": {
    "language": "sql",
    "name": "cell7",
    "codeCollapsed": false
   },
   "outputs": [],
   "source": "",
   "execution_count": null
  },
  {
   "cell_type": "code",
   "id": "e3dab3fe-194a-4d78-b5c4-2cf3a6dec05f",
   "metadata": {
    "language": "python",
    "name": "pricings_session"
   },
   "outputs": [],
   "source": "\ntemp_pricings = 'TEMP_PRICINGS'\n\nsession.write_pandas(pricings,\n                         table_name=temp_pricings,\n                         auto_create_table=True,\n                         overwrite=True,\n                         table_type=\"temporary\")",
   "execution_count": null
  },
  {
   "cell_type": "code",
   "id": "390dd817-2a6a-4c34-8dbf-31e090c30509",
   "metadata": {
    "language": "sql",
    "name": "pricings_sql",
    "codeCollapsed": false
   },
   "outputs": [],
   "source": "create or replace table prod.raw.azure_defender_pricings as \nselect \n\"id\",\n\"name\",\n\"type\",\nparse_json(\"properties\"):\"enablementTime\"::timestamp_tz as enablementTime,\nparse_json(\"properties\"):\"extensions\"::text as extensions,\nparse_json(\"properties\"):\"freeTrialRemainingTime\"::text as freeTrialRemainingTime,\nparse_json(\"properties\"):\"pricingTier\"::text as pricingTier,\nparse_json(\"properties\"):\"resourcesCoverageStatus\"::text as resourcesCoverageStatus,\nparse_json(\"properties\"):\"deprecated\"::boolean as deprecated,\nparse_json(\"properties\"):\"subPlan\"::text as subPlan,\nparse_json(\"properties\"):\"replacedBy\"::text as replacedBy,\nparse_json(\"properties\")::text as properties\nfrom TEMP_PRICINGS",
   "execution_count": null
  },
  {
   "cell_type": "code",
   "id": "5a19a693-ce36-4c5a-b586-a06401b7adb1",
   "metadata": {
    "language": "sql",
    "name": "cell10"
   },
   "outputs": [],
   "source": "",
   "execution_count": null
  },
  {
   "cell_type": "code",
   "id": "97ea9bd4-cbb7-4a41-8e44-ed365c6a0805",
   "metadata": {
    "language": "python",
    "name": "cell6",
    "codeCollapsed": false
   },
   "outputs": [],
   "source": "# Authenticate\ncredential = ClientSecretCredential(tenant_id, client_id, client_secret)\ntoken = credential.get_token(\"https://management.azure.com/.default\")\n\n# API endpoint\nurl = f\"https://management.azure.com/subscriptions/{subscription_id}/providers/Microsoft.Security/healthReports?api-version=2023-05-01-preview\"\n\n# Headers with access token\nheaders = {\n    \"Authorization\": f\"Bearer {token.token}\",\n    \"Content-Type\": \"application/json\"\n}\n\nall_allowedConnections= []\n\nresponse = requests.get(url, headers=headers)\ndata = response.json()\nall_allowedConnections.extend(data.get('value', []))\n\nwhile \"nextLink\" in data:\n    next_url = data[\"nextLink\"]\n    response = requests.get(next_url, headers=headers)\n    data = response.json()\n    all_allowedConnections.extend(data.get('value', []))\n\n\ncustomRecommendations = pd.DataFrame(all_allowedConnections)\n# allowedConnections = allowedConnections.drop(columns='tags')\nprint(f\"Assessments metadata: {len(customRecommendations)}\")\ncustomRecommendations\n",
   "execution_count": null
  }
 ]
}