{
 "metadata": {
  "kernelspec": {
   "display_name": "Streamlit Notebook",
   "name": "streamlit"
  },
  "lastEditStatus": {
   "notebookId": "ha4r4ebe2jec5svadnkb",
   "authorId": "557922832688",
   "authorName": "MTWA",
   "authorEmail": "mtwa@softwaremind.com",
   "sessionId": "3df3cfd2-58e4-4d6f-a3b0-ab9b730d615b",
   "lastEditTime": 1750165085230
  }
 },
 "nbformat_minor": 5,
 "nbformat": 4,
 "cells": [
  {
   "cell_type": "code",
   "id": "4606b696-8926-4483-865e-1075aa56f82a",
   "metadata": {
    "language": "sql",
    "name": "show_secrets"
   },
   "outputs": [],
   "source": "show secrets",
   "execution_count": null
  },
  {
   "cell_type": "code",
   "id": "f599bd9e-28c9-4a2a-bc1a-95c438f461ed",
   "metadata": {
    "language": "sql",
    "name": "sonarcloud",
    "codeCollapsed": false
   },
   "outputs": [],
   "source": "CREATE OR REPLACE SECRET PROD.RAW.sonarcloud_api_key\n  TYPE = GENERIC_STRING\n  SECRET_STRING = ''\n  COMMENT = 'API key for sonarcloud api call'",
   "execution_count": null
  },
  {
   "cell_type": "code",
   "id": "af857c24-5a29-49d2-bcf9-a8992524105f",
   "metadata": {
    "language": "sql",
    "name": "jira_username_api_token",
    "codeCollapsed": false
   },
   "outputs": [],
   "source": "-- jira\n\nCREATE OR REPLACE SECRET PROD.RAW.jira_username\n  TYPE = GENERIC_STRING\n  SECRET_STRING = 'devops@phlexglobal.com'\n  COMMENT = 'Jira username';\n\n  CREATE OR REPLACE SECRET PROD.RAW.jira_api_token\n  TYPE = GENERIC_STRING\n  SECRET_STRING = ''\n  COMMENT = 'Jira api token';\n",
   "execution_count": null
  },
  {
   "cell_type": "code",
   "id": "f0433cf9-6b80-4c6c-91d8-d0414c2a3128",
   "metadata": {
    "language": "sql",
    "name": "mend_jwt_token"
   },
   "outputs": [],
   "source": "-- mend jwt token\nCREATE OR REPLACE SECRET PROD.RAW.mend_orgUuid_jwtToken\nTYPE = GENERIC_STRING\nseCRET_STRING = ''\nCOMMENT = 'mend orgUuid to get jwtToken';\n\nCREATE OR REPLACE SECRET PROD.RAW.mend_user_key_jwtToken\nTYPE = GENERIC_STRING\nSECRET_STRING = ''\nCOMMENT = 'mend userKey to get jwtToken';\n\nCREATE OR REPLACE SECRET \nPROD.RAW.mend_email_jwtToken\nTYPE = GENERIC_STRING\nSECRET_STRING = ''\nCOMMENT = 'mend email to get jwtToken';",
   "execution_count": null
  },
  {
   "cell_type": "code",
   "id": "f3c34fad-9fcd-4182-9500-41e4ae391873",
   "metadata": {
    "language": "sql",
    "name": "ado_pat"
   },
   "outputs": [],
   "source": "CREATE OR REPLACE SECRET \nPROD.RAW.ADO_PAT\nTYPE = GENERIC_STRING\nSECRET_STRING = ''\nCOMMENT = 'ADO personal access token';",
   "execution_count": null
  },
  {
   "cell_type": "code",
   "id": "a3f8f028-bd83-40f6-9241-79dff37c39ea",
   "metadata": {
    "language": "sql",
    "name": "defender"
   },
   "outputs": [],
   "source": "CREATE OR REPLACE SECRET PROD.RAW.ADO_DEFENDER_TENANT_ID\nTYPE = GENERIC_STRING\nSECRET_STRING = ''\nCOMMENT = 'TENANT_ID for Defender API';\n\nCREATE OR REPLACE SECRET PROD.RAW.ADO_DEFENDER_CLIENT_ID\nTYPE = GENERIC_STRING\nSECRET_STRING = ''\nCOMMENT = 'CLIENT_ID for Defender API';\n\nCREATE OR REPLACE SECRET PROD.RAW.ADO_DEFENDER_CLIENT_SECRET\nTYPE = GENERIC_STRING\nSECRET_STRING = ''\nCOMMENT = 'CLIENT_SECRET for Defender API';\n\nCREATE OR REPLACE SECRET PROD.RAW.ADO_DEFENDER_SUBSCRIPTION_ID\nTYPE = GENERIC_STRING\nSECRET_STRING = ''\nCOMMENT = 'SUBSCRIPTION_ID for Defender API';",
   "execution_count": null
  },
  {
   "cell_type": "code",
   "id": "4edc5619-226e-431a-a515-acfc8adb96ca",
   "metadata": {
    "language": "sql",
    "name": "cell1"
   },
   "outputs": [],
   "source": "CREATE OR REPLACE SECRET \nPROD.RAW.NEW_RELIC\nTYPE = GENERIC_STRING\nSECRET_STRING = ''\nCOMMENT = 'NEW_RELIC api key';",
   "execution_count": null
  },
  {
   "cell_type": "code",
   "id": "490628e2-2121-4bb8-b843-aad770226360",
   "metadata": {
    "language": "sql",
    "name": "cell2"
   },
   "outputs": [],
   "source": "",
   "execution_count": null
  }
 ]
}