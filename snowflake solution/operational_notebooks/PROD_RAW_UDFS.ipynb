{
 "metadata": {
  "kernelspec": {
   "display_name": "Streamlit Notebook",
   "name": "streamlit"
  },
  "lastEditStatus": {
   "notebookId": "oozm67hlofcs4esoxamd",
   "authorId": "557922832688",
   "authorName": "MTWA",
   "authorEmail": "mtwa@softwaremind.com",
   "sessionId": "401ec899-562e-4db2-8ea1-2e923dcc5c40",
   "lastEditTime": 1750155574886
  }
 },
 "nbformat_minor": 5,
 "nbformat": 4,
 "cells": [
  {
   "cell_type": "markdown",
   "id": "09c11944-9a85-4634-917a-922869515c0f",
   "metadata": {
    "name": "ado_udfs",
    "collapsed": false
   },
   "source": "# Azure DevOps"
  },
  {
   "cell_type": "code",
   "id": "d5800fa9-9f82-4bb3-bf28-5fb7dbdc50bb",
   "metadata": {
    "language": "sql",
    "name": "get_builds"
   },
   "outputs": [],
   "source": "CREATE OR REPLACE FUNCTION get_builds(PROJECT_NAME STRING, REPO_ID STRING)\n  RETURNS VARIANT\n  LANGUAGE PYTHON\n  RUNTIME_VERSION = 3.9\n  HANDLER = 'get_builds_handler'\n  EXTERNAL_ACCESS_INTEGRATIONS = (azure_devops_integration)\n  PACKAGES = ('requests')\n  SECRETS = ('pat' = PROD.RAW.ADO_PAT)\nAS\n$$\nimport requests\nfrom datetime import datetime, timedelta\nimport _snowflake\nfrom urllib.parse import urlencode\nfrom requests.auth import HTTPBasicAuth\n\ndef get_builds_handler(PROJECT_NAME, REPO_ID):\n    # Define the variables\n    api_version = \"7.1\"\n    \n    pat = _snowflake.get_generic_secret_string('pat')\n\n\n    yesterday = datetime.now() - timedelta(days=1)\n    yesterday_year = yesterday.year\n    yesterday_month = yesterday.month\n    yesterday_day_no = yesterday.day\n    \n    min_time = datetime(yesterday_year, yesterday_month, yesterday_day_no, 0, 0, 0).strftime(\"%Y-%m-%dT%H:%M:%SZ\")  # Start date\n    max_time = datetime(yesterday_year, yesterday_month, yesterday_day_no, 23, 59, 59).strftime(\"%Y-%m-%dT%H:%M:%SZ\")  # End date\n\n\n\n    # Base URL\n    base_url = f\"https://dev.azure.com/phlexglobal/{PROJECT_NAME}/_apis/build/builds\"\n    params = {\n        \"repositoryId\": REPO_ID,\n        \"minTime\": min_time,\n        \"maxTime\": max_time,\n        \"repositoryType\": \"TfsGit\",\n        \"api-version\": api_version\n    }\n    url = f\"{base_url}?{urlencode(params)}\"\n\n    # Headers\n    headers = {\n        \"Accept\": \"application/json\"\n    }\n    \n    # Make GET request\n    response = requests.get(\n        url,\n        headers=headers,\n        auth=HTTPBasicAuth(\"\", pat)\n    )\n\n    try:\n        parsed_data = response.json()\n        value = parsed_data.get(\"value\", [])\n        count = parsed_data.get(\"count\", 0)\n        builds = []\n    \n        for build in value:\n            parsed_build = {\n                \"URI\": build.get(\"uri\"),\n                \"URL\": build.get(\"url\"),\n                \"LOGS\": build.get(\"logs\"),\n                \"TAGS\": build.get(\"tags\", []),\n                \"PLANS\": build.get(\"plans\", []),\n                \"QUEUE\": build.get(\"queue\"),\n                \"_LINKS\": build.get(\"_links\"),\n                \"REASON\": build.get(\"reason\"),\n                \"RESULT\": build.get(\"result\"),\n                \"STATUS\": build.get(\"status\"),\n                \"PROJECT\": build.get(\"project\"),\n                \"PRIORITY\": build.get(\"priority\"),\n                \"QUEUETIME\": build.get(\"queueTime\"),\n                \"STARTTIME\": build.get(\"startTime\"),\n                \"DEFINITION\": build.get(\"definition\"),\n                \"FINISHTIME\": build.get(\"finishTime\"),\n                \"PARAMETERS\": None,  # This field is missing in JSON; set to None\n                \"PROPERTIES\": build.get(\"properties\"),\n                \"REPOSITORY\": build.get(\"repository\"),\n                \"BUILDNUMBER\": build.get(\"buildNumber\"),\n                \"REQUESTEDBY\": build.get(\"requestedBy\"),\n                \"TRIGGERINFO\": build.get(\"triggerInfo\"),\n                \"REQUESTEDFOR\": build.get(\"requestedFor\"),\n                \"SOURCEBRANCH\": build.get(\"sourceBranch\"),\n                \"LASTCHANGEDBY\": build.get(\"lastChangedBy\"),\n                \"SOURCEVERSION\": build.get(\"sourceVersion\"),\n                \"LASTCHANGEDDATE\": build.get(\"lastChangedDate\"),\n                \"ORCHESTRATIONPLAN\": build.get(\"orchestrationPlan\"),\n                \"RETAINEDBYRELEASE\": build.get(\"retainedByRelease\"),\n                \"VALIDATIONRESULTS\": build.get(\"validationResults\", []),\n                \"TEMPLATEPARAMETERS\": build.get(\"templateParameters\"),\n                \"BUILDNUMBERREVISION\": build.get(\"buildNumberRevision\"),\n                \"APPENDCOMMITMESSAGETORUNNAME\": build.get(\"appendCommitMessageToRunName\"),\n            }\n            \n            builds.append(parsed_build)\n        \n        return {\"count\": count, \"builds\": builds}  # Fix the unhashable type issue\n\n    except Exception as e:\n        return {\"error\": str(e)}\n$$;",
   "execution_count": null
  },
  {
   "cell_type": "code",
   "id": "365fd363-ae70-4387-9ef8-f594ad475c98",
   "metadata": {
    "language": "sql",
    "name": "get_pull_requests"
   },
   "outputs": [],
   "source": "CREATE OR REPLACE FUNCTION get_pull_request(PROJECT_NAME STRING, REPO_ID STRING)\n  RETURNS VARIANT\n  LANGUAGE PYTHON\n  RUNTIME_VERSION = 3.9\n  HANDLER = 'get_pull_request_handler'\n  EXTERNAL_ACCESS_INTEGRATIONS = (azure_devops_integration)\n  PACKAGES = ('requests')\n  SECRETS = ('pat' = PROD.RAW.ADO_PAT)\nAS\n$$\nimport requests\nfrom datetime import datetime, timedelta\nimport _snowflake\nfrom urllib.parse import urlencode\nfrom requests.auth import HTTPBasicAuth\n\n\n\ndef get_pull_request_handler(PROJECT_NAME, REPO_ID):\n    # Define the variables\n    api_version = \"7.1\"\n    pat = _snowflake.get_generic_secret_string('pat')\n    # Get yesterday's date\n    yesterday = datetime.utcnow() - timedelta(days=14)\n    min_time = yesterday.replace(hour=0, minute=0, second=0).strftime(\"%Y-%m-%dT%H:%M:%SZ\")\n    max_time = yesterday.replace(hour=23, minute=59, second=59).strftime(\"%Y-%m-%dT%H:%M:%SZ\")\n    year_2024 = datetime(2024, 1, 1).strftime(\"%Y-%m-%dT%H:%M:%SZ\")\n    utc_now = datetime.utcnow()\n    utc_now_min = utc_now - timedelta(days=14)\n    \n    base_url = f\"https://dev.azure.com/phlexglobal/{PROJECT_NAME}/_apis/git/repositories/{REPO_ID}/pullrequests?searchCriteria.status=all&searchCriteria.minTime={year_2024}&searchCriteria.maxTime={utc_now}&searchCriteria.timeRangeType=created&api-version=7.1\"\n\n    # Retrieve the PAT securely from Snowflake secrets\n    # pat = _snowflake.get_generic_secret_string('pat')\n    \n    # Headers\n    headers = {\n        \"Accept\": \"application/json\"\n    }\n    \n    # Make GET request\n    response = requests.get(\n        base_url,\n        headers=headers,\n        auth=HTTPBasicAuth(\"\", pat)\n    )\n\n    try:\n        parsed_data = response.json()\n        count = parsed_data.get(\"count\", 0)\n        value = parsed_data.get(\"value\", [])\n        \n        flattened_prs = []\n        for pr in value:\n            flat_pr = {\n                'repository': pr.get('repository', {}),\n                'pullRequestId': pr.get('pullRequestId'),\n                'codeReviewId': pr.get('codeReviewId'),\n                'status': pr.get('status'),\n                'createdBy': pr.get('createdBy', {}),\n                'creationDate': pr.get('creationDate'),\n                'closedDate': pr.get('closedDate'),\n                'title': pr.get('title'),\n                'description': pr.get('description'),\n                'sourceRefName': pr.get('sourceRefName'),\n                'targetRefName': pr.get('targetRefName'),\n                'mergeStatus': pr.get('mergeStatus'),\n                'isDraft': pr.get('isDraft'),\n                'mergeId': pr.get('mergeId'),\n                'lastMergeSourceCommit': pr.get('lastMergeSourceCommit', {}),\n                'lastMergeTargetCommit': pr.get('lastMergeTargetCommit', {}),\n                'lastMergeCommit': pr.get('lastMergeCommit', {}),\n                'reviewers': pr.get('reviewers', []),\n                'url': pr.get('url'),\n                'completionOptions': pr.get('completionOptions', {}),\n                'supportsIterations': pr.get('supportsIterations')\n            }\n            flattened_prs.append(flat_pr)\n        \n        return {\"count\": count, \"pullRequests\": flattened_prs}\n\n    except Exception as e:\n        return {\"error\": str(e)}\n$$;",
   "execution_count": null
  },
  {
   "cell_type": "code",
   "id": "d55b0d78-59e9-4b78-b06c-e11984c5f1d7",
   "metadata": {
    "language": "sql",
    "name": "get_branches"
   },
   "outputs": [],
   "source": "CREATE OR REPLACE FUNCTION get_branches(project STRING, repo STRING)\n  RETURNS ARRAY\n  LANGUAGE PYTHON\n  RUNTIME_VERSION = 3.9\n  HANDLER = 'get_branches_handler'\n  EXTERNAL_ACCESS_INTEGRATIONS = (azure_devops_integration)\n  PACKAGES = ('requests')\n  SECRETS = ('pat' = prod.raw.ado_pat)\nAS\n$$\nimport requests\nfrom requests.auth import HTTPBasicAuth\nimport _snowflake\n\ndef get_branches_handler(project, repo):\n    # API URL\n    url = f\"https://dev.azure.com/phlexglobal/{project}/_apis/sourceProviders/TfsGit/branches?repository={repo}&api-version=7.1\"\n    # Retrieve PAT securely from Snowflake secrets\n    pat = _snowflake.get_generic_secret_string('pat')\n\n    # Headers\n    headers = {\n        \"Accept\": \"application/json\"\n    }\n\n    # Make the GET request\n    response = requests.get(url, headers=headers, auth=HTTPBasicAuth(\"\", pat))\n\n    # Handle response\n    if response.status_code == 200:\n        branches = response.json()\n\n        # Ensure 'value' exists and is a list\n        if 'value' in branches and isinstance(branches['value'], list):\n            # Extract branch names and remove 'refs/heads/' prefix\n            branches_name = [i.replace('refs/heads/', '') for i in branches['value']]\n            return branches_name\n        else:\n            # Handle unexpected API structure\n            return [f\"Unexpected response format: {branches}\"]\n    else:\n        # Handle API errors\n        return [f\"Error: {response.status_code}, {response.text}\"]\n$$;",
   "execution_count": null
  },
  {
   "cell_type": "code",
   "id": "250eb08c-c67d-483a-8950-635d30cc77ab",
   "metadata": {
    "language": "sql",
    "name": "get_commits"
   },
   "outputs": [],
   "source": "CREATE OR REPLACE FUNCTION get_commits(repo STRING, branch STRING)\n  RETURNS VARIANT\n  LANGUAGE PYTHON\n  RUNTIME_VERSION = 3.9\n  HANDLER = 'get_commits_handler'\n  EXTERNAL_ACCESS_INTEGRATIONS = (azure_devops_integration)\n  PACKAGES = ('requests')\n  SECRETS = ('pat' = prod.raw.ado_pat)\nAS\n$$\nimport requests\nfrom requests.auth import HTTPBasicAuth\nimport time\nimport _snowflake\n\ndef get_commits_handler(repo, branch):\n    # API URL\n    url = f\"https://dev.azure.com/phlexglobal/_apis/git/repositories/{repo}/commits?searchCriteria.itemVersion.version={branch}&api-version=7.1\"\n\n    pat = _snowflake.get_generic_secret_string('pat')\n    # Headers\n    headers = {\n        \"Accept\": \"application/json\"\n    }\n\n    # Retry logic with exponential backoff\n    retries = 3\n    backoff_factor = 2\n    for attempt in range(retries):\n        try:\n            # Make the GET request\n            response = requests.get(url, headers=headers, auth=HTTPBasicAuth(\"\", pat))\n            response.raise_for_status()  # Raise an exception for HTTP errors\n            \n            # Parse response JSON\n            commits = response.json()\n\n            # Extract commit count and metadata\n            if response.status_code == 200:\n                return commits\n            else:\n                # Handle unexpected API structure\n                return {\"error\": \"Unexpected API response\", \"response\": commits}\n        except requests.exceptions.RequestException as e:\n            if attempt < retries - 1:\n                time.sleep(backoff_factor ** attempt)  # Exponential backoff\n            else:\n                # Return error after exhausting retries\n                return {\"error\": \"Request failed\", \"message\": str(e)}\n$$;",
   "execution_count": null
  },
  {
   "cell_type": "code",
   "id": "ee60ca30-c37c-45e8-ac87-cc22c2094f6e",
   "metadata": {
    "language": "sql",
    "name": "ado_secrets"
   },
   "outputs": [],
   "source": "CREATE OR REPLACE FUNCTION PROD.RAW.ado_secrets()\nRETURNS VARCHAR\nLANGUAGE PYTHON\nRUNTIME_VERSION = '3.9'\nHANDLER = 'ado_secrets'\nEXTERNAL_ACCESS_INTEGRATIONS = (AZURE_DEVOPS_INTEGRATION)\nSECRETS = ('pat'=PROD.RAW.ADO_PAT)\nAS '\nimport _snowflake\n\ndef ado_secrets():   \n  my_api_key = _snowflake.get_generic_secret_string(''pat'') \n  return my_api_key\n';",
   "execution_count": null
  },
  {
   "cell_type": "markdown",
   "id": "344d6204-909b-4721-80d1-259763194290",
   "metadata": {
    "name": "jira_udfs",
    "collapsed": false
   },
   "source": "# Jira"
  },
  {
   "cell_type": "code",
   "id": "7b78b8d9-72e0-4307-b706-3ce3b68517c2",
   "metadata": {
    "language": "sql",
    "name": "jira_username"
   },
   "outputs": [],
   "source": "CREATE OR REPLACE FUNCTION PROD.RAW.jira_username()\nRETURNS VARCHAR\nLANGUAGE PYTHON\nRUNTIME_VERSION = '3.9'\nHANDLER = 'jira_username'\nEXTERNAL_ACCESS_INTEGRATIONS = (jira_integration)\nSECRETS = ('jira_username'=PROD.RAW.jira_username)\nAS '\nimport _snowflake\n\ndef jira_username():   \n  my_api_key = _snowflake.get_generic_secret_string(''jira_username'') \n  return my_api_key\n';",
   "execution_count": null
  },
  {
   "cell_type": "code",
   "id": "3c136857-aa3f-4527-9cda-b300db9a5112",
   "metadata": {
    "language": "sql",
    "name": "jira_api_token",
    "codeCollapsed": false
   },
   "outputs": [],
   "source": "CREATE OR REPLACE FUNCTION PROD.RAW.jira_api_token()\nRETURNS VARCHAR\nLANGUAGE PYTHON\nRUNTIME_VERSION = '3.9'\nHANDLER = 'jira_api_token'\nEXTERNAL_ACCESS_INTEGRATIONS = (jira_integration)\nSECRETS = ('jira_api_token'=PROD.RAW.jira_api_token)\nAS '\nimport _snowflake\n\ndef jira_api_token():   \n  my_api_key = _snowflake.get_generic_secret_string(''jira_api_token'') \n  return my_api_key\n';",
   "execution_count": null
  },
  {
   "cell_type": "code",
   "id": "6ad766b7-c1ae-4a77-950a-1ea01d3393e4",
   "metadata": {
    "language": "sql",
    "name": "get_sprint_issues"
   },
   "outputs": [],
   "source": "CREATE OR REPLACE FUNCTION get_sprint_issues(\n    sprint_id int\n)\nRETURNS VARIANT\nLANGUAGE PYTHON\nRUNTIME_VERSION = '3.9'\nEXTERNAL_ACCESS_INTEGRATIONS = (jira_integration)\nPACKAGES = ('requests', 'pandas')\nHANDLER = 'get_sprint_issues'\nSECRETS = ('jira_username' = PROD.RAW.jira_username, 'jira_api_token'= PROD.RAW.jira_api_token)\nAS \n$$\nimport requests\nimport pandas as pd\nimport time\nimport _snowflake\n\ndef get_sprint_issues(sprint_id):\n    jira_username = _snowflake.get_generic_secret_string('jira_username')\n    jira_api_token = _snowflake.get_generic_secret_string('jira_api_token')\n    if not jira_username or not jira_api_token:\n        return {\"status\": \"error\", \"message\": \"Missing credentials\"} \n    time.sleep(3)\n    params = {\n        \"startAt\": 0,\n        \"maxResults\": 1000\n    }\n\n    url = f\"https://phlexglobal.atlassian.net/rest/agile/1.0/sprint/{sprint_id}/issue\"\n    headers = {\"Accept\": \"application/json\"}\n\n    for attempt in range(3):\n        response = requests.get(\n            url,\n            auth=(jira_username, jira_api_token),\n            headers=headers,\n            params=params\n        )\n\n        if response.status_code == 429:  # rate limited\n            retry_after = int(response.headers.get(\"Retry-After\", \"3\"))\n            time.sleep(retry_after)\n            continue\n        elif response.status_code != 200:\n            return {\n                \"status\": \"error\",\n                \"code\": response.status_code,\n                \"message\": response.text\n            }\n        else:\n            break\n\n    issues = response.json().get(\"issues\", [])\n\n    needed_columns = [\n        \"id\", \"key\", \"self\", \"expand\",\n        \"fields.created\", \"fields.updated\", \n        \"fields.customfield_10006\", \n        \"fields.customfield_11302\", \n        \"fields.status.description\", \n        \"fields.status.iconUrl\", \n        \"fields.status.id\", \n        \"fields.status.name\", \n        \"fields.status.self\", \n        \"fields.status.statusCategory.colorName\",\n        \"fields.status.statusCategory.id\",\n        \"fields.status.statusCategory.key\",\n        \"fields.status.statusCategory.name\",\n        \"fields.status.statusCategory.self\"\n    ]\n\n    try:\n        df = pd.json_normalize(issues)\n        df = df[needed_columns].reset_index()\n    except KeyError:\n        return []\n\n    return df.to_dict(orient=\"records\")\n    print(f\"sprint_id : {sprint_id}\")\n\n$$;\n",
   "execution_count": null
  },
  {
   "cell_type": "markdown",
   "id": "0d6def5c-0e50-453c-a173-2d13bc5639fd",
   "metadata": {
    "name": "mend_udfs",
    "collapsed": false
   },
   "source": "# Mend "
  },
  {
   "cell_type": "code",
   "id": "8cbde82d-5305-4bb6-9a43-9a20533a1370",
   "metadata": {
    "language": "sql",
    "name": "mend_secrets"
   },
   "outputs": [],
   "source": "-- mend jwt token\nCREATE OR REPLACE SECRET mend_orgUuid_jwtToken\nTYPE = GENERIC_STRING\nseCRET_STRING = '71003aaf-b8e7-4e7b-a622-736b775a0eff'\nCOMMENT = 'mend orgUuid to get jwtToken';\n\nCREATE OR REPLACE SECRET mend_user_key_jwtToken\nTYPE = GENERIC_STRING\nSECRET_STRING = '8ded55a66bb04810bc4ce5d227cff997dd178fe0b56b4495b77b16417ab1032b'\nCOMMENT = 'mend userKey to get jwtToken';\n\nCREATE OR REPLACE SECRET mend_email_jwtToken\nTYPE = GENERIC_STRING\nSECRET_STRING = 'ajoyce@phlexglobal.com'\nCOMMENT = 'mend email to get jwtToken';",
   "execution_count": null
  },
  {
   "cell_type": "code",
   "id": "af2f9f73-7769-4024-bc28-b07cfa6220b9",
   "metadata": {
    "language": "sql",
    "name": "mend_orguuid_jwttoken"
   },
   "outputs": [],
   "source": "CREATE OR REPLACE FUNCTION PROD.RAW.mend_orguuid_jwttoken()\nRETURNS VARCHAR\nLANGUAGE PYTHON\nRUNTIME_VERSION = '3.9'\nHANDLER = 'mend_orguuid_jwttoken'\nEXTERNAL_ACCESS_INTEGRATIONS = (mend_api_integration)\nSECRETS = ('mend_orguuid_jwttoken'=PROD.RAW.mend_orgUuid_jwtToken)\nAS '\nimport _snowflake\n\ndef mend_orguuid_jwttoken():   \n  my_api_key = _snowflake.get_generic_secret_string(''mend_orguuid_jwttoken'') \n  return my_api_key\n';",
   "execution_count": null
  },
  {
   "cell_type": "code",
   "id": "8cba469d-7d79-44e3-82b7-c75f07def1c6",
   "metadata": {
    "language": "sql",
    "name": "mend_user_key_jwttoken"
   },
   "outputs": [],
   "source": "CREATE OR REPLACE FUNCTION PROD.RAW.mend_user_key_jwttoken()\nRETURNS VARCHAR\nLANGUAGE PYTHON\nRUNTIME_VERSION = '3.9'\nHANDLER = 'mend_user_key_jwttoken'\nEXTERNAL_ACCESS_INTEGRATIONS = (mend_api_integration)\nSECRETS = ('mend_user_key_jwttoken'=PROD.RAW.mend_user_key_jwttoken)\nAS '\nimport _snowflake\n\ndef mend_user_key_jwttoken():   \n  my_api_key = _snowflake.get_generic_secret_string(''mend_user_key_jwttoken'') \n  return my_api_key\n';",
   "execution_count": null
  },
  {
   "cell_type": "code",
   "id": "a19e05b4-1fc4-42f2-98f8-7d3cadb41b5b",
   "metadata": {
    "language": "sql",
    "name": "mend_email_jwttoken"
   },
   "outputs": [],
   "source": "CREATE OR REPLACE FUNCTION PROD.RAW.mend_email_jwttoken()\nRETURNS VARCHAR\nLANGUAGE PYTHON\nRUNTIME_VERSION = '3.9'\nHANDLER = 'mend_email_jwttoken'\nEXTERNAL_ACCESS_INTEGRATIONS = (mend_api_integration)\nSECRETS = ('mend_email_jwttoken'=PROD.RAW.mend_email_jwttoken)\nAS '\nimport _snowflake\n\ndef mend_email_jwttoken():   \n  my_api_key = _snowflake.get_generic_secret_string(''mend_email_jwttoken'') \n  return my_api_key\n';",
   "execution_count": null
  },
  {
   "cell_type": "markdown",
   "id": "f9418d6a-68b2-4313-a918-ce5aa3a4e119",
   "metadata": {
    "name": "sonarcloud_udfs",
    "collapsed": false
   },
   "source": "# Sonarcloud"
  },
  {
   "cell_type": "code",
   "id": "3c8e9246-e9c8-4bd7-98a1-f4800102244d",
   "metadata": {
    "language": "sql",
    "name": "sonarcloud_api_key"
   },
   "outputs": [],
   "source": "CREATE OR REPLACE FUNCTION PROD.RAW.sonarcloud_api_key()\nRETURNS VARCHAR\nLANGUAGE PYTHON\nRUNTIME_VERSION = '3.9'\nHANDLER = 'sonarcloud_api_key'\nEXTERNAL_ACCESS_INTEGRATIONS = (sonarcloud_api_integration)\nSECRETS = ('sonarcloud_api_key'=PROD.RAW.sonarcloud_api_key)\nAS '\nimport _snowflake\n\ndef sonarcloud_api_key():   \n  my_api_key = _snowflake.get_generic_secret_string(''sonarcloud_api_key'') \n  return my_api_key\n';",
   "execution_count": null
  },
  {
   "cell_type": "markdown",
   "id": "eaa1313a-0542-467a-8ee6-8518fb6e41d4",
   "metadata": {
    "name": "defender_udfs",
    "collapsed": false
   },
   "source": "# Defender"
  },
  {
   "cell_type": "code",
   "id": "1e235a42-3598-456d-af8d-be9e53ae97f3",
   "metadata": {
    "language": "sql",
    "name": "ADO_DEFENDER_SECRETS"
   },
   "outputs": [],
   "source": "CREATE OR REPLACE FUNCTION PROD.RAW.ADO_DEFENDER_TENANT_ID()\nRETURNS VARCHAR\nLANGUAGE PYTHON\nRUNTIME_VERSION = '3.9'\nHANDLER = 'ADO_DEFENDER_TENANT_ID'\nEXTERNAL_ACCESS_INTEGRATIONS = (microsoft_api_integration)\nSECRETS = ('ADO_DEFENDER_TENANT_ID'=PROD.RAW.ADO_DEFENDER_TENANT_ID)\nAS '\nimport _snowflake\n\ndef ADO_DEFENDER_TENANT_ID():   \n  my_api_key = _snowflake.get_generic_secret_string(''ADO_DEFENDER_TENANT_ID'') \n  return my_api_key\n';\n\nCREATE OR REPLACE FUNCTION PROD.RAW.ADO_DEFENDER_CLIENT_ID()\nRETURNS VARCHAR\nLANGUAGE PYTHON\nRUNTIME_VERSION = '3.9'\nHANDLER = 'ADO_DEFENDER_CLIENT_ID'\nEXTERNAL_ACCESS_INTEGRATIONS = (microsoft_api_integration)\nSECRETS = ('ADO_DEFENDER_CLIENT_ID'=PROD.RAW.ADO_DEFENDER_CLIENT_ID)\nAS '\nimport _snowflake\n\ndef ADO_DEFENDER_CLIENT_ID():   \n  my_api_key = _snowflake.get_generic_secret_string(''ADO_DEFENDER_CLIENT_ID'') \n  return my_api_key\n';\n\nCREATE OR REPLACE FUNCTION PROD.RAW.ADO_DEFENDER_CLIENT_SECRET()\nRETURNS VARCHAR\nLANGUAGE PYTHON\nRUNTIME_VERSION = '3.9'\nHANDLER = 'ADO_DEFENDER_CLIENT_SECRET'\nEXTERNAL_ACCESS_INTEGRATIONS = (microsoft_api_integration)\nSECRETS = ('ADO_DEFENDER_CLIENT_SECRET'=PROD.RAW.ADO_DEFENDER_CLIENT_SECRET)\nAS '\nimport _snowflake\n\ndef ADO_DEFENDER_CLIENT_SECRET():   \n  my_api_key = _snowflake.get_generic_secret_string(''ADO_DEFENDER_CLIENT_SECRET'') \n  return my_api_key\n';\n\nCREATE OR REPLACE FUNCTION PROD.RAW.ADO_DEFENDER_SUBSCRIPTION_ID()\nRETURNS VARCHAR\nLANGUAGE PYTHON\nRUNTIME_VERSION = '3.9'\nHANDLER = 'ADO_DEFENDER_SUBSCRIPTION_ID'\nEXTERNAL_ACCESS_INTEGRATIONS = (microsoft_api_integration)\nSECRETS = ('ADO_DEFENDER_SUBSCRIPTION_ID'=PROD.RAW.ADO_DEFENDER_SUBSCRIPTION_ID)\nAS '\nimport _snowflake\n\ndef ADO_DEFENDER_SUBSCRIPTION_ID():   \n  my_api_key = _snowflake.get_generic_secret_string(''ADO_DEFENDER_SUBSCRIPTION_ID'') \n  return my_api_key\n';",
   "execution_count": null
  },
  {
   "cell_type": "code",
   "id": "9c8487d9-bdfd-4df9-941d-312ea52d43d0",
   "metadata": {
    "language": "sql",
    "name": "cell1"
   },
   "outputs": [],
   "source": "CREATE OR REPLACE FUNCTION PROD.RAW.new_relic_secrets()\nRETURNS VARCHAR\nLANGUAGE PYTHON\nRUNTIME_VERSION = '3.9'\nHANDLER = 'ado_secrets'\nEXTERNAL_ACCESS_INTEGRATIONS = (newrelic_api_integration)\nSECRETS = ('nr'=PROD.RAW.NEW_RELIC)\nAS '\nimport _snowflake\n\ndef ado_secrets():   \n  my_api_key = _snowflake.get_generic_secret_string(''nr'') \n  return my_api_key\n';",
   "execution_count": null
  },
  {
   "cell_type": "code",
   "id": "96d6ee5d-b5d3-430f-93cc-a5f7d81a1c89",
   "metadata": {
    "language": "sql",
    "name": "cell2"
   },
   "outputs": [],
   "source": "",
   "execution_count": null
  }
 ]
}