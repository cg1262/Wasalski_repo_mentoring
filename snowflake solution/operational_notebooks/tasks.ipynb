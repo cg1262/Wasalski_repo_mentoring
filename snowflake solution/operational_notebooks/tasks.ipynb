{
 "cells": [
  {
   "cell_type": "code",
   "execution_count": null,
   "id": "2b4b974b",
   "metadata": {
    "vscode": {
     "languageId": "sql"
    }
   },
   "outputs": [],
   "source": [
    "create or replace task PROD.RAW.\"ado_raw_ingest\"\n",
    "\twarehouse=AIRBYTE_WH\n",
    "\tschedule='USING CRON 0 */4 * * * Europe/Warsaw'\n",
    "\tTASK_AUTO_RETRY_ATTEMPTS=3\n",
    "\tas EXECUTE NOTEBOOK \"PROD\".\"RAW\".\"ADO_RAW_INGEST\"();"
   ]
  },
  {
   "cell_type": "code",
   "execution_count": null,
   "id": "f57957c1",
   "metadata": {
    "vscode": {
     "languageId": "sql"
    }
   },
   "outputs": [],
   "source": [
    "create or replace task PROD.RAW.\"jira_raw_inget\"\n",
    "\twarehouse=AIRBYTE_WH\n",
    "\tschedule='USING CRON 0 */4 * * * Europe/Warsaw'\n",
    "\tTASK_AUTO_RETRY_ATTEMPTS=3\n",
    "\tas EXECUTE NOTEBOOK \"PROD\".\"RAW\".\"JIRA_RAW_INGEST\"();"
   ]
  },
  {
   "cell_type": "code",
   "execution_count": null,
   "id": "bd06a563",
   "metadata": {
    "vscode": {
     "languageId": "sql"
    }
   },
   "outputs": [],
   "source": [
    "create or replace task PROD.RAW.\"mend_raw_ingest\"\n",
    "\twarehouse=AIRBYTE_WH\n",
    "\tschedule='USING CRON 0 */4 * * * Europe/Warsaw'\n",
    "\tTASK_AUTO_RETRY_ATTEMPTS=3\n",
    "\tas EXECUTE NOTEBOOK \"PROD\".\"RAW\".\"MEND_RAW_INGEST\"();"
   ]
  },
  {
   "cell_type": "code",
   "execution_count": null,
   "id": "e7653cf5",
   "metadata": {
    "vscode": {
     "languageId": "sql"
    }
   },
   "outputs": [],
   "source": [
    "create or replace task PROD.RAW.\"newrelic_daily\"\n",
    "\twarehouse=AIRBYTE_WH\n",
    "\tschedule='USING CRON 0 8 * * * Europe/Warsaw'\n",
    "\tTASK_AUTO_RETRY_ATTEMPTS=3\n",
    "\tas EXECUTE NOTEBOOK \"PROD\".\"RAW\".\"NEWRELIC_RAW_INGEST\"();   "
   ]
  },
  {
   "cell_type": "code",
   "execution_count": null,
   "id": "a19a2b22",
   "metadata": {
    "vscode": {
     "languageId": "sql"
    }
   },
   "outputs": [],
   "source": [
    "create or replace task PROD.RAW.\"sonarcloud_raw_ingest\"\n",
    "\twarehouse=AIRBYTE_WH\n",
    "\tschedule='USING CRON 0 */4 * * * Europe/Warsaw'\n",
    "\tTASK_AUTO_RETRY_ATTEMPTS=3\n",
    "\tas EXECUTE NOTEBOOK \"PROD\".\"RAW\".\"SONARCLOUD_RAW_INGEST\"();"
   ]
  },
  {
   "cell_type": "code",
   "execution_count": null,
   "id": "e01e88da",
   "metadata": {
    "vscode": {
     "languageId": "sql"
    }
   },
   "outputs": [],
   "source": [
    "create or replace task PROD.SILVER.\"ado_silver_transform\"\n",
    "\twarehouse=AIRBYTE_WH\n",
    "\tschedule='USING CRON 30 */4 * * * Europe/Warsaw'\n",
    "\tTASK_AUTO_RETRY_ATTEMPTS=3\n",
    "\tas EXECUTE NOTEBOOK \"PROD\".\"SILVER\".\"ADO_SILVER_TRANSFORM\"();"
   ]
  },
  {
   "cell_type": "code",
   "execution_count": null,
   "id": "31af4953",
   "metadata": {
    "vscode": {
     "languageId": "sql"
    }
   },
   "outputs": [],
   "source": [
    "create or replace task PROD.SILVER.\"jira_silver_transform\"\n",
    "\twarehouse=AIRBYTE_WH\n",
    "\tschedule='USING CRON 30 */4 * * * Europe/Warsaw'\n",
    "\tTASK_AUTO_RETRY_ATTEMPTS=3\n",
    "\tas EXECUTE NOTEBOOK \"PROD\".\"SILVER\".\"JIRA_SILVER_TRANSFORM\"();"
   ]
  },
  {
   "cell_type": "code",
   "execution_count": null,
   "id": "000d3d5e",
   "metadata": {
    "vscode": {
     "languageId": "sql"
    }
   },
   "outputs": [],
   "source": [
    "create or replace task PROD.SILVER.\"mend_silver_transform\"\n",
    "\twarehouse=AIRBYTE_WH\n",
    "\tschedule='USING CRON 30 */4 * * * Europe/Warsaw'\n",
    "\tTASK_AUTO_RETRY_ATTEMPTS=3\n",
    "\tas EXECUTE NOTEBOOK \"PROD\".\"SILVER\".\"MEND_SILVER_TRANSFORM\"();"
   ]
  },
  {
   "cell_type": "code",
   "execution_count": null,
   "id": "567c596c",
   "metadata": {
    "vscode": {
     "languageId": "sql"
    }
   },
   "outputs": [],
   "source": [
    "create or replace task PROD.SILVER.\"products_silver_transform\"\n",
    "\twarehouse=AIRBYTE_WH\n",
    "\tschedule='USING CRON 35 */4 * * * Europe/Warsaw'\n",
    "\tas EXECUTE NOTEBOOK \"PROD\".\"SILVER\".\"PRODUCTS_SILVER_TRANSFORM\"();"
   ]
  },
  {
   "cell_type": "code",
   "execution_count": null,
   "id": "c259edbf",
   "metadata": {
    "vscode": {
     "languageId": "sql"
    }
   },
   "outputs": [],
   "source": [
    "create or replace task PROD.SILVER.\"sonarcloud_silver_ingest\"\n",
    "\twarehouse=AIRBYTE_WH\n",
    "\tschedule='USING CRON 30 */4 * * * Europe/Warsaw'\n",
    "\tTASK_AUTO_RETRY_ATTEMPTS=3\n",
    "\tas EXECUTE NOTEBOOK \"PROD\".\"SILVER\".\"SONARCLOUD_SILVER_INGEST\"();"
   ]
  },
  {
   "cell_type": "code",
   "execution_count": null,
   "id": "dbe40e5a",
   "metadata": {
    "vscode": {
     "languageId": "sql"
    }
   },
   "outputs": [],
   "source": []
  }
 ],
 "metadata": {
  "language_info": {
   "name": "python"
  }
 },
 "nbformat": 4,
 "nbformat_minor": 5
}
