{
 "metadata": {
  "kernelspec": {
   "display_name": "Streamlit Notebook",
   "name": "streamlit"
  },
  "lastEditStatus": {
   "notebookId": "ynw54gexsepnpct47jwm",
   "authorId": "557922832688",
   "authorName": "MTWA",
   "authorEmail": "mtwa@softwaremind.com",
   "sessionId": "dbee797b-cba3-410c-b0bd-a927771197b6",
   "lastEditTime": 1750155459585
  }
 },
 "nbformat_minor": 5,
 "nbformat": 4,
 "cells": [
  {
   "cell_type": "code",
   "id": "3c80251e-cd6e-4c0c-97b4-694850ce39f4",
   "metadata": {
    "language": "sql",
    "name": "mend",
    "codeCollapsed": false
   },
   "outputs": [],
   "source": "CREATE OR REPLACE NETWORK RULE mend_api_access_rule\nVALUE_LIST = ('api-saas-eu.whitesourcesoftware.com', 'api-saas-eu.mend.io')\nTYPE = HOST_PORT\nMODE = EGRESS;\n\nCREATE OR REPLACE EXTERNAL ACCESS INTEGRATION mend_api_integration\nALLOWED_NETWORK_RULES = (mend_api_access_rule)\nALLOWED_AUTHENTICATION_SECRETS = (PROD.RAW.mend_orgUuid_jwtToken, PROD.RAW.mend_user_key_jwtToken, PROD.RAW.mend_email_jwtToken)\nENABLED = TRUE;",
   "execution_count": null
  },
  {
   "cell_type": "code",
   "id": "1d467163-b2ce-4747-823e-7a249f705898",
   "metadata": {
    "language": "sql",
    "name": "jira",
    "codeCollapsed": false
   },
   "outputs": [],
   "source": "CREATE OR REPLACE NETWORK RULE jira_network_rule\n  MODE = EGRESS\n  TYPE = HOST_PORT\n  VALUE_LIST = ('phlexglobal.atlassian.net:443');\n\nCREATE OR REPLACE EXTERNAL ACCESS INTEGRATION jira_integration\n  ALLOWED_NETWORK_RULES = (jira_network_rule)\n  ALLOWED_AUTHENTICATION_SECRETS = (PROD.RAW.jira_username, PROD.RAW.jira_api_token)\n  ENABLED = TRUE;",
   "execution_count": null
  },
  {
   "cell_type": "code",
   "id": "46b632c0-8a4f-4d1e-9650-125c1a1b6dfc",
   "metadata": {
    "language": "sql",
    "name": "sonarcloud",
    "codeCollapsed": false
   },
   "outputs": [],
   "source": "CREATE OR REPLACE NETWORK RULE sonarcloud_api_access_rule\nVALUE_LIST = ('sonarcloud.io')\nTYPE = HOST_PORT\nMODE = EGRESS;\n\nCREATE OR REPLACE EXTERNAL ACCESS INTEGRATION sonarcloud_api_integration\nALLOWED_NETWORK_RULES = (sonarcloud_api_access_rule)\nALLOWED_AUTHENTICATION_SECRETS = (PROD.RAW.sonarcloud_api_key)\nENABLED = TRUE;",
   "execution_count": null
  },
  {
   "cell_type": "code",
   "id": "1084aa06-198c-427d-af24-a27df8356834",
   "metadata": {
    "language": "sql",
    "name": "cell8"
   },
   "outputs": [],
   "source": "",
   "execution_count": null
  },
  {
   "cell_type": "code",
   "id": "3a6ef7e0-b2bc-4dbb-9081-10b8a484fc0f",
   "metadata": {
    "language": "sql",
    "name": "ADO"
   },
   "outputs": [],
   "source": "CREATE OR REPLACE NETWORK RULE dev_azure_network_rule\nMODE = EGRESS\nTYPE = HOST_PORT\nVALUE_LIST = ('dev.azure.com');\n\nCREATE OR REPLACE EXTERNAL ACCESS INTEGRATION azure_devops_integration\nALLOWED_NETWORK_RULES = (dev_azure_network_rule)\nALLOWED_AUTHENTICATION_SECRETS = (METRICS.PUBLIC.AZURE_DEVOPS_PAT, PROD.RAW.ADO_PAT, PROD.RAW.ADO_DEFENDER_TENANT_ID,PROD.RAW.ADO_DEFENDER_CLIENT_ID,PROD.RAW.ADO_DEFENDER_CLIENT_SECRET)\nENABLED = TRUE;",
   "execution_count": null
  },
  {
   "cell_type": "code",
   "id": "c3c310ab-6895-4287-a0a0-5ac52f310d95",
   "metadata": {
    "language": "sql",
    "name": "new_relic",
    "codeCollapsed": false
   },
   "outputs": [],
   "source": "CREATE OR REPLACE NETWORK RULE newrelic_api_access_rule\nVALUE_LIST = ('api.newrelic.com')\nTYPE = HOST_PORT\nMODE = EGRESS;\n\nCREATE OR REPLACE EXTERNAL ACCESS INTEGRATION newrelic_api_integration\nALLOWED_NETWORK_RULES = (newrelic_api_access_rule)\nALLOWED_AUTHENTICATION_SECRETS = (PROD.RAW.NEW_RELIC)\nENABLED = TRUE;",
   "execution_count": null
  },
  {
   "cell_type": "code",
   "id": "a0e24496-0c16-4588-8692-ea9e1f9f568d",
   "metadata": {
    "language": "sql",
    "name": "microsoft",
    "codeCollapsed": false
   },
   "outputs": [],
   "source": "CREATE OR REPLACE NETWORK RULE microsoft_api_rule\nVALUE_LIST = ('management.azure.com', 'login.microsoftonline.com')\nTYPE = HOST_PORT\nMODE = EGRESS;\n\nCREATE OR REPLACE EXTERNAL ACCESS INTEGRATION microsoft_api_integration\nALLOWED_NETWORK_RULES = (microsoft_api_rule)\nALLOWED_AUTHENTICATION_SECRETS = (PROD.RAW.ADO_DEFENDER_TENANT_ID, PROD.RAW.ADO_DEFENDER_CLIENT_ID, PROD.RAW.ADO_DEFENDER_CLIENT_SECRET,PROD.RAW.ADO_DEFENDER_SUBSCRIPTION_ID)\nENABLED = TRUE;",
   "execution_count": null
  },
  {
   "cell_type": "code",
   "id": "9c6e4e13-e446-4caa-aec4-47821f9108ae",
   "metadata": {
    "language": "sql",
    "name": "cell7"
   },
   "outputs": [],
   "source": "",
   "execution_count": null
  }
 ]
}