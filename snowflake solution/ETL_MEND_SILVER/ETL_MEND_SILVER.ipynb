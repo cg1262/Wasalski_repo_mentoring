{
 "metadata": {
  "kernelspec": {
   "display_name": "Streamlit Notebook",
   "name": "streamlit"
  },
  "lastEditStatus": {
   "notebookId": "5xwtpkapad3se7uj3nol",
   "authorId": "557922832688",
   "authorName": "MTWA",
   "authorEmail": "mtwa@softwaremind.com",
   "sessionId": "0122d315-5c9b-4b53-a6a9-faa4f64a698d",
   "lastEditTime": 1749620393514
  }
 },
 "nbformat_minor": 5,
 "nbformat": 4,
 "cells": [
  {
   "cell_type": "code",
   "id": "de27c90c-e7af-4f76-8c7a-3c4bb917fe83",
   "metadata": {
    "language": "sql",
    "name": "cell1"
   },
   "outputs": [],
   "source": "ALTER SESSION SET TIMEZONE = 'Europe/London';",
   "execution_count": null
  },
  {
   "cell_type": "code",
   "id": "2a5ab769-97cf-4899-938c-c820d621e36c",
   "metadata": {
    "language": "sql",
    "name": "projects"
   },
   "outputs": [],
   "source": "-- MEND_PROJECTS\n-- CREATE OR REPLACE TABLE prod.silver.MEND_PROJECTS\n-- (PROJECT_ID\tVARCHAR(16777216),\n-- PROJECT_NAME\tVARCHAR(16777216),\n-- PATH\tVARCHAR(16777216),\n-- PRODUCT_NAME\tVARCHAR(16777216),\n-- PRODUCT_ID\tVARCHAR(16777216),\n-- TIMESTAMP\tTIMESTAMP_TZ);\n\ntruncate table prod.silver.MEND_PROJECTS;\n\n\ninsert into prod.silver.MEND_PROJECTS\nselect\nUUID as PROJECT_ID,\nNAME as PROJECT_NAME,\nPATH,\napplicationname as PRODUCT_NAME,\napplicationuuid as PRODUCT_ID,\ncurrent_timestamp as timestamp\nfrom prod.raw.MEND_PROJECTS;",
   "execution_count": null
  },
  {
   "cell_type": "code",
   "id": "568a239b-19fc-4b21-8f79-f6698216d9e6",
   "metadata": {
    "language": "sql",
    "name": "products"
   },
   "outputs": [],
   "source": "-- # ----- # ------ #------ # --- # ------ #-----\n-- STAGED.MEND_PRODUCTS\n-- CREATE OR REPLACE TABLE prod.silver.mend_products\n-- (PRODUCT_ID\tVARCHAR(16777216),\n-- PRODUCT_NAME\tVARCHAR(16777216),\n-- TIMESTAMP\tTIMESTAMP_TZ);\n\ntruncate table prod.silver.mend_products;\n\ninsert into prod.silver.mend_products\nselect\nUUID as product_id,\nNAME as product_name\n      ,current_timestamp as timestamp\nFROM prod.raw.mend_applications;",
   "execution_count": null
  },
  {
   "cell_type": "code",
   "id": "75cae31b-b066-4326-8acc-4336c032c2c9",
   "metadata": {
    "language": "sql",
    "name": "alert_types"
   },
   "outputs": [],
   "source": "-- CREATE OR REPLACE TABLE prod.silver.MEND_ALERT_TYPES\n-- (POLICIESVIOLATIONS\tVARCHAR(16777216),\n-- LIBRARIESCRITICAL\tVARCHAR(16777216),\n-- LIBRARIESHIGH\tVARCHAR(16777216),\n-- LIBRARIESMEDIUM\tVARCHAR(16777216),\n-- LIBRARIESLOW\tVARCHAR(16777216),\n-- VIOLATEDLIBRARIES\tVARCHAR(16777216),\n-- VULNERABILITIESCRITICAL\tVARCHAR(16777216),\n-- VULNERABILITIESHIGH\tVARCHAR(16777216),\n-- VULNERABILITIESMEDIUM\tVARCHAR(16777216),\n-- VULNERABILITIESLOW\tVARCHAR(16777216),\n-- VIOLATEDVULNERABILITIES\tVARCHAR(16777216),\n-- TIMESTAMP\tTIMESTAMP_TZ);\n\ntruncate table prod.silver.mend_alert_types;\n\ninsert into prod.silver.mend_alert_types\nSELECT\npolicies:violations::string AS PoliciesViolations,\nsecurityperlibrary:librariesWithCritical::string AS librariesCritical,\nsecurityperlibrary:librariesWithHigh::string AS librariesHigh,\nsecurityperlibrary:librariesWithMedium::string AS librariesMedium,\nsecurityperlibrary:librariesWithLow::string AS librariesLow,\nsecurityperlibrary:total::string AS ViolatedLibraries,\nsecuritypervulnerability:critical::string AS vulnerabilitiesCritical,\nsecuritypervulnerability:high::string AS vulnerabilitiesHigh,\nsecuritypervulnerability:medium::string AS vulnerabilitiesMedium,\nsecuritypervulnerability:low::string AS vulnerabilitiesLow,\nsecuritypervulnerability:total::string AS ViolatedVulnerabilities\n      ,current_timestamp as timestamp\nFROM prod.raw.MEND_ALERT_TYPES;",
   "execution_count": null
  },
  {
   "cell_type": "code",
   "id": "12c299ad-6fcc-4110-927e-6bce7fba24a6",
   "metadata": {
    "language": "sql",
    "name": "alerts_severity"
   },
   "outputs": [],
   "source": "--- # ---- # ---- #--- #-- #---\n-- STAGED.MEND_ALERTS_SEVERITY\n-- CREATE OR REPLACE  TABLE prod.silver.mend_alerts_severity\n-- (LOW\tFLOAT,\n-- MEDIUM\tFLOAT,\n-- HIGH\tFLOAT,\n-- CRITICAL\tFLOAT,\n-- TOTAL\tFLOAT,\n-- TIMESTAMP\tTIMESTAMP_TZ);\n\n\ntruncate table prod.silver.mend_alerts_severity;\n\ninsert into prod.silver.mend_alerts_severity\nSELECT\nlow,\nmedium,\nhigh,\ncritical,\ntotal\n      ,current_timestamp as timestamp\nFROM prod.raw.mend_alerts_severity;",
   "execution_count": null
  },
  {
   "cell_type": "code",
   "id": "5b84c7c0-e010-482b-984f-3e19e85693a2",
   "metadata": {
    "language": "sql",
    "name": "labels"
   },
   "outputs": [],
   "source": "-- # --- #--- #--- #--- #--- #--- \n-- STAGED.MEND_LABELS\n-- CREATE OR REPLACE  TABLE prod.silver.MEND_LABELS\n-- (LABEL_ID\tVARCHAR(16777216),\n-- VALUE\tVARCHAR(16777216),\n-- SYSTEM\tBOOLEAN,\n-- PROJECT_COUNT\tFLOAT,\n-- CREATEDAT\tVARCHAR(16777216),\n-- CREATEDBY\tVARCHAR(16777216),\n-- PRODUCT_COUNT\tFLOAT,\n-- TIMESTAMP\tTIMESTAMP_LTZ(9));\n\ntruncate table prod.silver.mend_labels;\n\ninsert into prod.silver.mend_labels\nSELECT\nuuid as label_id,\nvalue,\nsystem,\nprojects as project_count,\ncreatedat,\ncreatedby,\napplications as product_count\n      ,current_timestamp as timestamp\nFROM prod.raw.MEND_LABELS;\n",
   "execution_count": null
  },
  {
   "cell_type": "code",
   "id": "737dd1b9-2118-4dbf-beaf-c8630e4a57e5",
   "metadata": {
    "language": "sql",
    "name": "project_due_diligence"
   },
   "outputs": [],
   "source": "-- # --- #--- #-- #---- #---- #----- \n\n-- CREATE OR REPLACE TABLE prod.silver.mend_project_due_diligence (\n--     UUID VARCHAR(16777216),\n--     NAME VARCHAR(16777216),\n--     LICENSENAME VARCHAR(16777216),\n--     LICENSEUUID VARCHAR(16777216),\n--     PROJECTNAME VARCHAR(16777216),\n--     PROJECTUUID VARCHAR(16777216),\n--     COMPONENTNAME VARCHAR(16777216),\n--     COMPONENTUUID VARCHAR(16777216),\n--     ARTIFACTID VARCHAR(16777216),\n--     RISKSCORE VARCHAR(16777216),\n--     TIMESTAMP TIMESTAMP_TZ\n-- );\n\ntruncate table prod.silver.mend_project_due_diligence;\n\ninsert into prod.silver.mend_project_due_diligence\nSELECT \nuuid,\nname,\nlicense:name::string AS licenseName,\nlicense:uuid::string AS licenseUuid,\nproject:name::string AS projectName,\nproject:uuid::string AS projectUuid,\ncomponent:name::string AS componentName,\ncomponent:uuid::string AS componentUuid,\ncomponent:artifactId::string AS artifactId,\nriskscore:riskScore::string AS riskScore\n      ,current_timestamp as timestamp\nFROM prod.raw.mend_project_due_diligence;\n",
   "execution_count": null
  },
  {
   "cell_type": "code",
   "id": "2d8a3fe3-c1fd-495c-b8d7-70b243107f98",
   "metadata": {
    "language": "sql",
    "name": "libraries"
   },
   "outputs": [],
   "source": "--- #---- #---- 3---- #---- #---- \n\n-- STAGED.MEND_LIBRARIES\n-- CREATE OR REPLACE TABLE prod.silver.mend_libraries(\n-- PROJECT_ID\tVARCHAR(16777216),\n-- LIBRARY_ID\tVARCHAR(16777216),\n-- LIBRARY_NAME\tVARCHAR(16777216),\n-- PURL\tVARCHAR(16777216),\n-- TYPE\tVARCHAR(16777216),\n-- GROUPID\tVARCHAR(16777216),\n-- VERSION\tVARCHAR(16777216),\n-- EXTENSION\tVARCHAR(16777216),\n-- ARTIFACTID\tVARCHAR(16777216),\n-- CLASSIFIER\tVARCHAR(16777216),\n-- LIBRARYTYPE\tVARCHAR(16777216),\n-- DIRECTDEPENDENCY\tBOOLEAN,\n-- TIMESTAMP\tTIMESTAMP_LTZ(9)\n-- );\n\ntruncate table prod.silver.mend_libraries;\n\ninsert into prod.silver.mend_libraries\nSELECT\nproject_uuid as project_id,\nuuid as library_id,\nname as library_name,\npurl,\ntype,\ngroupid,\nversion,\nextension,\nartifactid,\nclassifier,\nlibrarytype,\ndirectdependency\n      ,current_timestamp as timestamp\nFROM prod.raw.mend_libraries;",
   "execution_count": null
  },
  {
   "cell_type": "code",
   "id": "bfee17c5-600d-4b04-b7b7-1506240fc9ff",
   "metadata": {
    "language": "sql",
    "name": "vulnerabilities_project"
   },
   "outputs": [],
   "source": "--- #---- #---- #---- #---- \n-- CREATE OR REPLACE table  prod.silver.mend_vulnerabilities_project\n-- (UUID\tVARCHAR(16777216),\n-- PRODUCTNAME\tVARCHAR(16777216),\n-- PROJECTNAME\tVARCHAR(16777216),\n-- VULNERABLELIBRARIES\tFLOAT,\n-- TIMESTAMP\tTIMESTAMP_LTZ(9));\n\ntruncate table prod.silver.mend_vulnerabilities_project;\n\ninsert into prod.silver.mend_vulnerabilities_project\nSELECT\nuuid,\nproductname,\nprojectname,\nvulnerableLibraries\n,current_timestamp as timestamp\nFROM prod.raw.mend_vulnerabilities_project;\n",
   "execution_count": null
  },
  {
   "cell_type": "code",
   "id": "b9a867f1-e6c0-4e86-a344-dcb1cc8600a5",
   "metadata": {
    "language": "sql",
    "name": "alerts_per_library"
   },
   "outputs": [],
   "source": "---- # ---- ---- #--- \n-- create or replace table prod.silver.mend_security_alerts_per_library\n-- (LIBRARY_ID\tVARCHAR(16777216),\n-- LIBRARY_NAME\tVARCHAR(16777216),\n-- LIBRARYTYPE\tVARCHAR(16777216),\n-- STATUS\tVARCHAR(16777216),\n-- SEVERITY\tVARCHAR(16777216),\n-- TOTAL\tFLOAT,\n-- CRITICALNUM\tFLOAT,\n-- HIGHNUM\tFLOAT,\n-- MEDIUMNUM\tFLOAT,\n-- LOWNUM\tFLOAT,\n-- PROJECTID\tVARCHAR(16777216),\n-- PRODUCTID\tVARCHAR(16777216),\n-- LASTSCAN\tVARCHAR(16777216),\n-- DETECTEDAT\tVARCHAR(16777216),\n-- PUBLISHEDAT\tVARCHAR(16777216),\n-- LASTCVEUPDATEDAT\tVARCHAR(16777216),\n-- MODIFIEDAT\tVARCHAR(16777216),\n-- TIMESTAMP\tTIMESTAMP_LTZ(9));\n\ntruncate table prod.silver.mend_security_alerts_per_library;\ninsert into prod.silver.mend_security_alerts_per_library\nSELECT\nuuid as library_id,\nname as library_name,\nlibrarytype,\nstatus,\nseverity,\ntotal,\ncriticalnum,\nhighnum,\nmediumnum,\nlownum,\nproject:uuid::string AS projectId,\nproduct:uuid::string AS productId,\nlastscan,\ndetectedat,\npublishedat,\nlastcveupdatedat,\nmodifiedat\n      ,current_timestamp as timestamp\nFROM prod.raw.mend_security_alerts_per_library;",
   "execution_count": null
  },
  {
   "cell_type": "code",
   "id": "d2c3ebb4-3d2d-4161-923e-8664d9b5812b",
   "metadata": {
    "language": "sql",
    "name": "alerts_per_project"
   },
   "outputs": [],
   "source": "---- # ---- # ---- #--- #---- #--- \n-- create or replace table prod.silver.mend_security_alerts_per_project\n-- (UUID\tVARCHAR(16777216),\n-- NAME\tVARCHAR(16777216),\n-- TYPE\tVARCHAR(16777216),\n-- EXPLOITABLE\tBOOLEAN,\n-- FIXID\tVARCHAR(16777216),\n-- FIXDATE\tTIMESTAMP_NTZ(9),\n-- FIXRESOLUTION\tVARCHAR(16777216),\n-- FIXTYPE\tVARCHAR(16777216),\n-- PROJECTNAME\tVARCHAR(16777216),\n-- PROJECTID\tVARCHAR(16777216),\n-- ARTIFACTID\tVARCHAR(16777216),\n-- PRODUCTNAME\tVARCHAR(16777216),\n-- PRODUCTID\tVARCHAR(16777216),\n-- DETECTEDAT\tTIMESTAMP_NTZ(9),\n-- MODIFIEDAT\tTIMESTAMP_NTZ(9),\n-- FINDINGSTATUS\tVARCHAR(16777216),\n-- SCORE\tFLOAT,\n-- SEVERITY\tVARCHAR(16777216),\n-- DETECTEDAGEDAYS\tNUMBER(9,0),\n-- FIXAGEDAYS\tNUMBER(9,0),\n-- TIMESTAMP\tTIMESTAMP_LTZ(9));\n\ntruncate table prod.silver.mend_security_alerts_per_project;\n\ninsert into prod.silver.mend_security_alerts_per_project\nSELECT\nuuid,\nname,\ntype,\nexploitable,\ntopfix:id::string AS fixId,\ntopfix:date::datetime AS fixDate,\ntopfix:fixResolution::string AS fixResolution,\ntopfix:type::string AS fixType,\nproject:name::string AS projectName,\nproject:uuid::string AS projectId,\ncomponent:artifactId::string AS artifactId,\napplication:name::string AS ProductName,\napplication:uuid::string AS ProductId,\ndetected_at::datetime AS detectedAt,\nmodified_at::datetime AS modifiedAt,\nstatus::string AS findingStatus,\nvulnerability:score::float AS score,\nvulnerability:severity::string AS severity,\nDATEDIFF(DAY, detected_at::datetime, CURRENT_TIMESTAMP()) AS detectedAgeDays,\nDATEDIFF(DAY, topfix:date::datetime, CURRENT_TIMESTAMP()) AS fixAgeDays\n      ,current_timestamp as timestamp\nFROM prod.raw.mend_security_alerts_per_project;",
   "execution_count": null
  },
  {
   "cell_type": "code",
   "id": "92e42e51-59e7-4ba3-af37-59cfad160605",
   "metadata": {
    "language": "sql",
    "name": "license_policy_violations"
   },
   "outputs": [],
   "source": "---- #---- #---- #---- #---- \n-- create or replace table prod.silver.mend_license_policy_violations\n-- (POLICY_ID\tVARCHAR(16777216),\n-- POLICY_NAME\tVARCHAR(16777216),\n-- TYPE\tVARCHAR(16777216),\n-- PROJECTID\tVARCHAR(16777216),\n-- STATUS\tVARCHAR(16777216),\n-- DETECTED_AT\tTIMESTAMP_NTZ(9),\n-- MODIFIED_AT\tTIMESTAMP_NTZ(9),\n-- LIBRARY_ID\tVARCHAR(16777216),\n-- LIBRARY_NAME\tVARCHAR(16777216),\n-- TIMESTAMP\tTIMESTAMP_LTZ(9));\n\ntruncate table prod.silver.mend_license_policy_violations;\n\ninsert into prod.silver.mend_license_policy_violations\nSELECT\nuuid as policy_id,\nname as policy_name,\ntype,\nproject:uuid::string AS projectId,\nstatus::string AS status,\nCAST(detected_At::string AS DATETIME) AS detected_at,\nCAST(modified_At::string AS DATETIME) AS modified_at,\ncomponent:uuid::string AS library_id,\ncomponent:name::string AS library_name\n,current_timestamp as timestamp\nFROM prod.raw.mend_license_policy_violations;",
   "execution_count": null
  }
 ]
}