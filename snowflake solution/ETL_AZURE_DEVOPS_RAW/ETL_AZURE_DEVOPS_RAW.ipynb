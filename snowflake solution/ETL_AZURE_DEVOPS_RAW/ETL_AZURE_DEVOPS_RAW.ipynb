{
 "metadata": {
  "kernelspec": {
   "display_name": "Streamlit Notebook",
   "name": "streamlit"
  },
  "lastEditStatus": {
   "notebookId": "eawnuhdkhoqznopkof6q",
   "authorId": "557922832688",
   "authorName": "MTWA",
   "authorEmail": "mtwa@softwaremind.com",
   "sessionId": "0da4ebca-433e-4366-9ade-9693a7e07efb",
   "lastEditTime": 1753782937807
  }
 },
 "nbformat_minor": 5,
 "nbformat": 4,
 "cells": [
  {
   "cell_type": "code",
   "id": "a9981778-82b1-4272-9713-1e47212bf368",
   "metadata": {
    "language": "sql",
    "name": "alter_timezone",
    "codeCollapsed": false
   },
   "outputs": [],
   "source": "ALTER SESSION SET TIMEZONE = 'Europe/London';",
   "execution_count": null
  },
  {
   "cell_type": "code",
   "id": "262df9f9-980a-4f63-b953-1cb63698b3f8",
   "metadata": {
    "language": "python",
    "name": "cell28"
   },
   "outputs": [],
   "source": "try:\n    import requests\n    import pandas as pd\n    from requests.auth import HTTPBasicAuth \n    from snowflake.snowpark.context import get_active_session\n    import _snowflake\n    session = get_active_session()\n    personal_access_token = session.sql(\"SELECT prod.raw.ado_secrets()\").collect()[0][0]\n\nexcept:    \n    import requests\n    import pandas as pd\n    from requests.auth import HTTPBasicAuth \n    from snowflake.snowpark.context import get_active_session\n",
   "execution_count": null
  },
  {
   "cell_type": "code",
   "id": "035e6136-8b3e-418b-979a-8b10b7e22f68",
   "metadata": {
    "language": "python",
    "name": "cell26"
   },
   "outputs": [],
   "source": "class Azure_DevOps:\n    def __init__(self):\n        self.organization_name = \"Phlexglobal\"\n        self.personal_access_token = personal_access_token\n        self.auth = HTTPBasicAuth('', self.personal_access_token)\n        self.params = {'$top': 5000}\n        self.pipelines = [2441]\n        \n        # to be changed into secret\n        self.sub_id = '8642d1ba-f201-45c8-955d-2347876e4145'\n    \n    def get_ado_projects(self): \n        url_projects = f\"https://dev.azure.com/Phlexglobal/_apis/projects?api-version=7.1\"\n        \n        response = requests.get(url_projects, auth=self.auth, params = self.params)\n        \n        resp = response.json()['value']\n        df_projects = pd.DataFrame(resp)\n        unique_ids = df_projects['id'] .astype(str).unique().tolist()\n        \n        new_order = ['id', 'url', 'name', 'state', 'revision', 'visibility', 'description', 'lastUpdateTime']\n        df_projects = df_projects[new_order]\n        \n        df_projects.columns = ['ID', 'URL', 'NAME', 'STATE', 'REVISION', 'VISIBILITY',  'DESCRIPTION', 'LASTUPDATETIME']\n        return df_projects\n\n\n    def get_unique_projects(self):\n        unique_ids = self.get_ado_projects()['ID'] .astype(str).unique().tolist()\n        return unique_ids\n        \n    def get_ado_approvals(self): \n    \n        url_projects = f\"https://dev.azure.com/Phlexglobal/_apis/projects?api-version=7.1\"  \n    \n        approvals = []\n    \n        for i in self.get_unique_projects():\n            url_approvals = f\"https://dev.azure.com/Phlexglobal/{i}/_apis/pipelines/approvals?api-version=7.1\"\n            response = requests.get(url_approvals, auth=self.auth, params = self.params)\n            resp = response.json()['value']\n            approvals.extend(resp)\n    \n        df_approvals = pd.DataFrame(approvals)\n    \n    \n        new_order = ['id', 'steps', '_links', 'status', 'pipeline', 'createdOn', 'executionOrder', 'lastModifiedOn', 'blockedApprovers', 'minRequiredApprovers']\n        df_approvals = df_approvals[new_order]\n    \n        df_approvals.columns = ['ID', 'STEPS', '_LINKS', 'STATUS', 'PIPELINE', 'CREATEDON', 'EXECUTIONORDER', 'LASTMODIFIEDON', 'BLOCKEDAPPROVERS', 'MINREQUIREDAPPROVERS']\n    \n        return df_approvals\n\n    def get_ado_definitions(self): \n    \n        definitions = []\n    \n        for i in self.get_unique_projects():\n    \n            url_definitions = f\"https://dev.azure.com/Phlexglobal/{i}/_apis/build/definitions?api-version=7.1\"\n            response = requests.get(url_definitions, auth=self.auth, params = self.params)\n            resp = response.json()['value']\n            definitions.extend(resp)\n            \n        df_definitions = pd.DataFrame(definitions)\n    \n    \n        new_order = [\n            'id', \n            'uri', \n            'url', \n            'name', \n            'path', \n            'type', \n            'queue', \n            '_links', \n            'drafts', \n            'project', \n            'quality', \n            'revision', \n            'authoredBy', \n            'createdDate', \n            'queueStatus'\n        ]\n    \n        df_definitions = df_definitions[new_order]\n    \n        df_definitions.columns = [\n            'ID', \n            'URI', \n            'URL', \n            'NAME', \n            'PATH', \n            'TYPE', \n            'QUEUE', \n            '_LINKS', \n            'DRAFTS', \n            'PROJECT', \n            'QUALITY', \n            'REVISION', \n            'AUTHOREDBY', \n            'CREATEDDATE', \n            'QUEUESTATUS'\n        ]\n    \n        df_definitions['PROJECTID'] = df_definitions['PROJECT'].apply(lambda x: x['id'])\n        df_definitions['PROJECTNAME'] = df_definitions['PROJECT'].apply(lambda x: x['name'])\n    \n        return df_definitions\n        \n    def get_ado_pipelines(self):\n\n        pipelines = []\n        for i in self.get_unique_projects():\n            url_pipelines = f\"https://dev.azure.com/Phlexglobal/{i}/_apis/pipelines?api-version=7.1\"\n            response = requests.get(url_pipelines, auth=self.auth, params=self.params)\n            resp = response.json()['value']\n            pipelines.extend(resp)\n            \n        df_pipelines = pd.DataFrame(pipelines)\n    \n        new_order = [\n            'id', \n            'url', \n            'name', \n            '_links', \n            'folder', \n            'revision'\n        ]\n    \n        df_pipelines = df_pipelines[new_order]\n    \n        df_pipelines.columns = [\n            'ID', \n            'URL', \n            'NAME', \n            '_LINKS', \n            'FOLDER', \n            'REVISION'\n        ]\n        return df_pipelines\n\n        \n    def get_ado_source_providers(self):\n\n        src_providers = []\n        for i in self.get_unique_projects():\n            url_src_providers = f\"https://dev.azure.com/Phlexglobal/{i}/_apis/sourceproviders?api-version=7.1\"\n            response = requests.get(url_src_providers, auth=self.auth, params=self.params)\n            resp = response.json()['value']\n            src_providers.extend(resp)\n        df_source_providers = pd.DataFrame(src_providers)\n    \n    \n        new_order = [\n            'name', \n            'supportedTriggers', \n            'supportedCapabilities'\n        ]\n    \n        df_source_providers = df_source_providers[new_order]\n    \n        df_source_providers.columns = [\n            'NAME', \n            'SUPPORTEDTRIGGERS', \n            'SUPPORTEDCAPABILITIES'\n        ]   \n        return df_source_providers\n\n    def get_ado_repos(self):\n\n        repos = []\n        for i in self.get_unique_projects():\n            url_repos =f\"https://dev.azure.com/PhlexGlobal/{i}/_apis/git/repositories?api-version=4.1\"\n            response = requests.get(url_repos,auth=self.auth, params=self.params)\n            resp = response.json()['value']\n            repos.extend(resp)\n        df_repos = pd.DataFrame(repos)\n    \n        new_order = [\n            'id', \n            'url', \n            'name', \n            'size', \n            'sshUrl', \n            'webUrl', \n            'project', \n            'remoteUrl', \n            'isDisabled', \n            'defaultBranch', \n            'isInMaintenance'\n        ]\n    \n        df_repos = df_repos[new_order]\n    \n    \n        df_repos.columns = [\n            'ID', \n            'URL', \n            'NAME', \n            'SIZE', \n            'SSHURL', \n            'WEBURL', \n            'PROJECT', \n            'REMOTEURL', \n            'ISDISABLED', \n            'DEFAULTBRANCH', \n            'ISINMAINTENANCE'\n        ]\n    \n        df_repos['proj_id'] = df_repos['PROJECT'].apply(lambda x: x['id'])\n    \n        df_repos_uniques = df_repos['ID'].astype(str).unique().tolist()\n    \n        return df_repos\n\n    def get_unique_pipeline_runs(self):\n      \n        for i in self.pipelines:\n            url = f\"https://dev.azure.com/Phlexglobal/{self.sub_id}/_apis/pipelines/{i}/runs?api-version=7.1\"\n            response = requests.get(url, auth=self.auth, params=self.params)\n        \n            resp = response.json()\n        \n            df = pd.DataFrame(resp['value']) \n        \n            # Filter by name containing 'PEL'\n            filtered_df = df[df['name'].str.contains('PEL', case=False, na=False)].copy()\n            filtered_df['issue_key'] = filtered_df['name'].astype(str).str.split('#').str[1]\n            filtered_df['env'] = filtered_df['name'].astype(str).str.split('#').str[-1]\n            unique_names = filtered_df['issue_key'].unique().tolist()\n            \n        return unique_names, filtered_df\n            \n    def get_pipeline_runs(self):\n        runs = []\n        \n        unique_names, filtered_df = self.get_unique_pipeline_runs()\n        \n        for i in unique_names:  # Now iterate over unique_names\n            name_df = filtered_df[filtered_df['issue_key'] == i].copy()\n            \n            name_df['rank'] = (name_df.groupby('state')['finishedDate']\n                                .rank(method='min', ascending=True))\n        \n            succeeded_df = name_df[name_df['result'] == 'succeeded']\n            if not succeeded_df.empty:\n                min_succeeded_rank = succeeded_df['rank'].min()\n                name_df['first_is_succeeded'] = (\n                        (name_df['result'] == 'succeeded') & \n                        (name_df['rank'] == min_succeeded_rank)\n                    )\n            else:\n                    name_df['first_is_succeeded'] = False\n                \n            runs.append(name_df)\n        \n        # Move this outside the loop\n        final_df = pd.concat(runs, ignore_index=True).drop(columns='templateParameters')\n        return final_df\n        \napi = Azure_DevOps()\n        ",
   "execution_count": null
  },
  {
   "cell_type": "code",
   "id": "10e94679-e353-4577-a730-71e805f55f6d",
   "metadata": {
    "language": "python",
    "name": "cell27",
    "codeCollapsed": false
   },
   "outputs": [],
   "source": "df_projects = api.get_ado_projects()\ndf_projects",
   "execution_count": null
  },
  {
   "cell_type": "code",
   "id": "3f6ecfb8-a45a-44dc-8470-317be43d013f",
   "metadata": {
    "language": "python",
    "name": "projects_session",
    "codeCollapsed": false
   },
   "outputs": [],
   "source": "temp_projects_table = 'PROJECTS_FROM_PYTHON'\n\nunique_ids = df_projects['ID'] .astype(str).unique().tolist()\n\nsession.write_pandas(df_projects,\n                         table_name=temp_projects_table,\n                         auto_create_table=True,\n                         overwrite=True,\n                         table_type=\"temporary\")",
   "execution_count": null
  },
  {
   "cell_type": "code",
   "id": "40d0d996-0a64-458c-a02d-df5e454f041b",
   "metadata": {
    "language": "sql",
    "name": "projects_query",
    "collapsed": false,
    "codeCollapsed": false
   },
   "outputs": [],
   "source": "create or replace table prod.raw.ado_projects\n(\nID string,\nURL string,\nNAME string,\nSTATE string,\nREVISION float,\nVISIBILITY string,\nDESCRIPTION string,\nLASTUPDATETIME timestamp_tz,\ntimestamp timestamp_tz\n);\n\ntruncate table prod.raw.ado_projects;\n\nINSERT INTO prod.raw.ado_projects\nSELECT\n    \"ID\",\n    \"URL\",\n    \"NAME\",\n    \"STATE\",\n    \"REVISION\",\n    \"VISIBILITY\",\n    \"DESCRIPTION\",\n    \"LASTUPDATETIME\",\n    current_timestamp as timestamp\nFROM PROJECTS_FROM_PYTHON;\n\nselect top 15 * from prod.raw.ado_projects",
   "execution_count": null
  },
  {
   "cell_type": "code",
   "id": "4492b4ec-92a7-4e1d-8119-7c926fb0fb35",
   "metadata": {
    "language": "sql",
    "name": "cell1"
   },
   "outputs": [],
   "source": "-- select * from prod.raw.ado_projects",
   "execution_count": null
  },
  {
   "cell_type": "code",
   "id": "2499fbdb-5226-44e3-ab84-8b0ce11c7e0b",
   "metadata": {
    "language": "python",
    "name": "approvals_function",
    "codeCollapsed": false
   },
   "outputs": [],
   "source": "approvals = api.get_ado_approvals()\napprovals",
   "execution_count": null
  },
  {
   "cell_type": "code",
   "id": "cdcbee2e-5476-400b-b58d-ccf85a2affc5",
   "metadata": {
    "language": "python",
    "name": "approvals_session"
   },
   "outputs": [],
   "source": "temp_approvals_table = 'TEMP_APPROVALS'\n\nsession.write_pandas(approvals,\n                         table_name=temp_approvals_table,\n                         auto_create_table=True,\n                         overwrite=True,\n                         table_type=\"temporary\")",
   "execution_count": null
  },
  {
   "cell_type": "code",
   "id": "996d2287-701f-4419-9497-a378f994ffa1",
   "metadata": {
    "language": "sql",
    "name": "approvals_query",
    "codeCollapsed": false
   },
   "outputs": [],
   "source": "-- CREATE OR REPLACE TABLE prod.raw.ado_approvals (\n--     ID VARCHAR(16777216),\n--     STEPS ARRAY,\n--     _LINKS OBJECT,\n--     STATUS VARCHAR(16777216),\n--     PIPELINE OBJECT,\n--     CREATEDON VARCHAR(16777216),\n--     EXECUTIONORDER VARCHAR(16777216),\n--     LASTMODIFIEDON VARCHAR(16777216),\n--     BLOCKEDAPPROVERS ARRAY,\n--     MINREQUIREDAPPROVERS FLOAT,\n--     PIPELINEID int,\n--     PIPELINEOWNERID int,\n--     PIPELINENAME string,\n--     timestamp timestamp_tz\n-- );\n\nTRUNCATE TABLE prod.raw.ado_approvals;\n\nINSERT INTO prod.raw.ado_approvals\nSELECT\n    ID,\n    STEPS,\n    _LINKS,\n    STATUS,\n    PIPELINE,\n    CREATEDON,\n    EXECUTIONORDER,\n    LASTMODIFIEDON,\n    BLOCKEDAPPROVERS,\n    MINREQUIREDAPPROVERS,\n    parse_json(PIPELINE):id::int as PIPELINEID,\n    parse_json(PIPELINE):owner.id::int as PIPELINEOWNERID,\n    parse_json(PIPELINE):name::string as PIPELINENAME,\n    current_timestamp as timestamp\nFROM TEMP_APPROVALS;\n\nSELECT TOP 15 * FROM prod.raw.ado_approvals;",
   "execution_count": null
  },
  {
   "cell_type": "code",
   "id": "57cdc4f4-cb74-4c1e-9b22-de02cacb60ae",
   "metadata": {
    "language": "sql",
    "name": "builds_snowflake_tmp"
   },
   "outputs": [],
   "source": "CREATE OR REPLACE TABLE prod.raw.ADO_BUILD_SNOWFLAKE_TMP AS\nWITH b AS (\n    -- Get all project IDs and names\n    SELECT\n        PROJECT_NAME,\n        REPO_ID,\n        prod.raw.get_builds(PROJECT_NAME, REPO_ID) AS builds,\n        CURRENT_TIMESTAMP AS timestamp\n    FROM prod.raw.ado_repos\n),\nflattened_data AS (\n    SELECT\n        b.PROJECT_NAME::VARIANT as PROJECT_NAME,\n        b.REPO_ID::VARIANT as REPO_ID,\n        b.timestamp,\n        f.value:URI::STRING AS URI,\n        f.value:URL::STRING AS URL,\n        f.value:LOGS::STRING AS LOGS,\n        f.value:TAGS::ARRAY AS TAGS,\n        f.value:PLANS::ARRAY AS PLANS,\n        f.value:QUEUE::OBJECT AS QUEUE,\n        f.value:_LINKS::OBJECT AS _LINKS,\n        f.value:REASON::STRING AS REASON,\n        f.value:RESULT::STRING AS RESULT,\n        f.value:STATUS::STRING AS STATUS,\n        f.value:PROJECT::OBJECT AS PROJECT,\n        f.value:PRIORITY::STRING AS PRIORITY,\n        f.value:QUEUETIME::STRING AS QUEUETIME,\n        f.value:STARTTIME::STRING AS STARTTIME,\n        f.value:DEFINITION::OBJECT AS DEFINITION,\n        f.value:FINISHTIME::STRING AS FINISHTIME,\n        f.value:PARAMETERS::STRING AS PARAMETERS,\n        f.value:PROPERTIES::OBJECT AS PROPERTIES,\n        f.value:REPOSITORY::OBJECT AS REPOSITORY,\n        f.value:BUILDNUMBER::STRING AS BUILDNUMBER,\n        f.value:REQUESTEDBY::OBJECT AS REQUESTEDBY,\n        f.value:TRIGGERINFO::OBJECT AS TRIGGERINFO,\n        f.value:REQUESTEDFOR::OBJECT AS REQUESTEDFOR,\n        f.value:SOURCEBRANCH::STRING AS SOURCEBRANCH,\n        f.value:LASTCHANGEDBY::OBJECT AS LASTCHANGEDBY,\n        f.value:SOURCEVERSION::STRING AS SOURCEVERSION,\n        f.value:LASTCHANGEDDATE::STRING AS LASTCHANGEDDATE,\n        f.value:ORCHESTRATIONPLAN::OBJECT AS ORCHESTRATIONPLAN,\n        f.value:RETAINEDBYRELEASE::BOOLEAN AS RETAINEDBYRELEASE,\n        f.value:VALIDATIONRESULTS::ARRAY AS VALIDATIONRESULTS,\n        f.value:TEMPLATEPARAMETERS::OBJECT AS TEMPLATEPARAMETERS,\n        f.value:BUILDNUMBERREVISION::FLOAT AS BUILDNUMBERREVISION,\n        f.value:APPENDCOMMITMESSAGETORUNNAME::BOOLEAN AS APPENDCOMMITMESSAGETORUNNAME\n    FROM b,\n    LATERAL FLATTEN(INPUT => PARSE_JSON(b.builds):builds) f\n)\nSELECT * FROM flattened_data;",
   "execution_count": null
  },
  {
   "cell_type": "code",
   "id": "18d9af15-1333-43b1-82a2-a1839fa9007b",
   "metadata": {
    "language": "sql",
    "name": "builds_snowflake",
    "codeCollapsed": false
   },
   "outputs": [],
   "source": "INSERT INTO prod.raw.ADO_BUILD_SNOWFLAKE\nSELECT DISTINCT *\nFROM prod.raw.ADO_BUILD_SNOWFLAKE_TMP\nWHERE NOT EXISTS (\n    SELECT 1 \n    FROM prod.raw.ADO_BUILD_SNOWFLAKE target\n    WHERE target.URI = prod.raw.ADO_BUILD_SNOWFLAKE_TMP.URI\n);",
   "execution_count": null
  },
  {
   "cell_type": "code",
   "id": "01a0d3e3-e135-4060-ade3-964788793065",
   "metadata": {
    "language": "sql",
    "name": "cell5"
   },
   "outputs": [],
   "source": "CREATE OR REPLACE  TABLE prod.silver.ADO_BUILDS_SNOWFLAKE\nas\nSELECT\n    reason,\n    result, \n    status, \n    project:id::string AS projectId,\n    priority,\n    CAST(queuetime AS DATETIME) AS queuetime,\n    CAST(starttime AS DATETIME) AS starttime,\n    CAST(finishtime AS DATETIME) AS finishtime,\n    definition:id::string AS definitionId,\n    repository:id::string AS repositoryId,\n    buildnumber,\n    requestedby:displayName::string AS requestedBy,\n    requestedfor:displayName::string AS requestedFor,\n    lastchangedby:displayName::string AS lastChangedBy,\n    sourcebranch,\n    CAST(lastchangeddate AS DATETIME) AS lastchangeddate,\n    buildnumberrevision,\n    SPLIT_PART(URI, '/', -1) AS BuldId,\n    current_timestamp as timestamp\n\nFROM prod.raw.ADO_BUILD_SNOWFLAKE;",
   "execution_count": null
  },
  {
   "cell_type": "code",
   "id": "dcd7f31b-ec7a-45ad-a7fa-4534ddb839ba",
   "metadata": {
    "language": "python",
    "name": "definitions_function",
    "codeCollapsed": false
   },
   "outputs": [],
   "source": "definitions = api.get_ado_definitions()\ndefinitions",
   "execution_count": null
  },
  {
   "cell_type": "code",
   "id": "b439bdbb-edd4-4153-a501-ee36803b8f44",
   "metadata": {
    "language": "python",
    "name": "definitions_session",
    "codeCollapsed": false
   },
   "outputs": [],
   "source": "temp_definitions_table = 'TEMP_DEFINITIONS'\n\nsession.write_pandas(definitions,\n                         table_name=temp_definitions_table,\n                         auto_create_table=True,\n                         overwrite=True,\n                         table_type=\"temporary\")",
   "execution_count": null
  },
  {
   "cell_type": "code",
   "id": "c58aee13-fa7a-4511-b289-2eda11142e94",
   "metadata": {
    "language": "sql",
    "name": "definitions_query",
    "codeCollapsed": false
   },
   "outputs": [],
   "source": "-- CREATE OR REPLACE TABLE prod.raw.ado_definitions (\n--     ID FLOAT,\n--     URI VARCHAR(16777216),\n--     URL VARCHAR(16777216),\n--     NAME VARCHAR(16777216),\n--     PATH VARCHAR(16777216),\n--     TYPE VARCHAR(16777216),\n--     QUEUE OBJECT,\n--     _LINKS OBJECT,\n--     DRAFTS ARRAY,\n--     PROJECT OBJECT,\n--     QUALITY VARCHAR(16777216),\n--     REVISION FLOAT,\n--     AUTHOREDBY OBJECT,\n--     CREATEDDATE VARCHAR(16777216),\n--     QUEUESTATUS VARCHAR(16777216),\n--     PROJECTID string,\n--     PROJECTNAME string,\n--     timestamp timestamp_tz\n-- );\n\nTRUNCATE TABLE prod.raw.ado_definitions;\n\nINSERT INTO prod.raw.ado_definitions\nSELECT\n    \"ID\",\n    \"URI\",\n    \"URL\",\n    \"NAME\",\n    \"PATH\",\n    \"TYPE\",\n    \"QUEUE\",\n    \"_LINKS\",\n    \"DRAFTS\",\n    \"PROJECT\",\n    \"QUALITY\",\n    \"REVISION\",\n    \"AUTHOREDBY\",\n    \"CREATEDDATE\",\n    \"QUEUESTATUS\",\n    \"PROJECTID\",\n    \"PROJECTNAME\",\n    current_timestamp as timestamp\nFROM TEMP_DEFINITIONS;\n\nSELECT TOP 15 * FROM prod.raw.ado_definitions;",
   "execution_count": null
  },
  {
   "cell_type": "code",
   "id": "4ea4a4a4-fbb5-4919-b575-87b72ce3d681",
   "metadata": {
    "language": "python",
    "name": "pipelines_function"
   },
   "outputs": [],
   "source": "pipelines = api.get_ado_pipelines()\npipelines",
   "execution_count": null
  },
  {
   "cell_type": "code",
   "id": "4d809455-b86c-4c09-a533-4a8d8a4de7f0",
   "metadata": {
    "language": "python",
    "name": "pipelines_session",
    "codeCollapsed": false
   },
   "outputs": [],
   "source": "temp_pipelines_table = 'TEMP_PIPELINES'\nsession.write_pandas(pipelines,\n                         table_name=temp_pipelines_table,\n                         auto_create_table=True,\n                         overwrite=True,\n                         table_type=\"temporary\")",
   "execution_count": null
  },
  {
   "cell_type": "code",
   "id": "ec818685-df14-4470-a204-9bc302ae3a83",
   "metadata": {
    "language": "sql",
    "name": "pipelines_query",
    "codeCollapsed": false
   },
   "outputs": [],
   "source": "-- CREATE OR REPLACE TABLE prod.raw.ado_pipelines (\n--     ID FLOAT,\n--     URL VARCHAR(16777216),\n--     NAME VARCHAR(16777216),\n--     _LINKS OBJECT,\n--     FOLDER VARCHAR(16777216),\n--     REVISION FLOAT,\n--     timestamp timestamp_tz\n-- );\n\nTRUNCATE TABLE prod.raw.ado_pipelines;\n\nINSERT INTO prod.raw.ado_pipelines\nSELECT\n    \"ID\",\n    \"URL\",\n    \"NAME\",\n    \"_LINKS\",\n    \"FOLDER\",\n    \"REVISION\",\n        current_timestamp as timestamp\nFROM TEMP_PIPELINES;\n\nSELECT TOP 15 * FROM prod.raw.ado_pipelines;",
   "execution_count": null
  },
  {
   "cell_type": "code",
   "id": "cd201cad-70c0-4a82-86b5-ea7f8ad599ee",
   "metadata": {
    "language": "sql",
    "name": "pull_requests_snowflake_tmp_array"
   },
   "outputs": [],
   "source": "CREATE OR REPLACE TABLE prod.raw.ADO_PULL_REQUESTS_SNOWFLAKE_TMP_ARRAY AS\nWITH pull_request AS (\n    SELECT\n        b.PROJECT_NAME,\n        b.REPO_ID,\n        prod.raw.get_pull_request(b.PROJECT_NAME, b.REPO_ID) AS pull_request_data,\n        CURRENT_TIMESTAMP() as timestamp\n    FROM prod.raw.ado_repos b\n),\nsplit_data AS (\n    SELECT\n        PROJECT_NAME,\n        REPO_ID,\n        pull_request_data:count::INT AS count, -- Extract the count field\n        pull_request_data:pullRequests AS pullRequests, -- Extract the pullRequests array\n        timestamp\n    FROM pull_request\n)\nSELECT \n    PROJECT_NAME,\n    REPO_ID,\n    count,\n    pullRequests,\n    timestamp\nFROM split_data\nWHERE count > 0;\n\nselect top 10 * from prod.raw.ADO_PULL_REQUESTS_SNOWFLAKE_TMP_ARRAY",
   "execution_count": null
  },
  {
   "cell_type": "code",
   "id": "fd76abe1-4038-4392-a11b-94217b4580e1",
   "metadata": {
    "language": "sql",
    "name": "pull_requests_snowflake_tmp",
    "codeCollapsed": false
   },
   "outputs": [],
   "source": "CREATE OR REPLACE TABLE prod.raw.ADO_PULL_REQUESTS_SNOWFLAKE_TMP AS\nWITH FlattenedData AS (\n   SELECT \n        PROJECT_NAME,\n        REPO_ID,\n        timestamp,\n        value:repository AS repository,\n        value:pullRequestId::STRING AS pullRequestId,\n        value:codeReviewId::STRING AS codeReviewId,\n        value:status::STRING AS status,\n        value:createdBy AS createdBy,\n        value:creationDate::STRING AS creationDate,\n        value:closedDate::STRING AS closedDate,\n        value:title::STRING AS title,\n        value:description::STRING AS description,\n        value:sourceRefName::STRING AS sourceRefName,\n        value:targetRefName::STRING AS targetRefName,\n        value:mergeStatus::STRING AS mergeStatus,\n        value:isDraft::BOOLEAN AS isDraft,\n        value:mergeId::STRING AS mergeId,\n        value:lastMergeSourceCommit AS lastMergeSourceCommit,\n        value:lastMergeTargetCommit AS lastMergeTargetCommit,\n        value:lastMergeCommit AS lastMergeCommit,\n        value:reviewers AS reviewers,\n        value:url::STRING AS url,\n        value:completionOptions AS completionOptions,\n        value:supportsIterations::BOOLEAN AS supportsIterations\n    FROM prod.raw.ADO_PULL_REQUESTS_SNOWFLAKE_TMP_ARRAY,\n    LATERAL FLATTEN(input => pullRequests) -- Replace with your array column name\n)\nSELECT *\nFROM FlattenedData;\n\nselect top 10 * from prod.raw.ADO_PULL_REQUESTS_SNOWFLAKE_TMP",
   "execution_count": null
  },
  {
   "cell_type": "code",
   "id": "a1365424-07ab-483e-8b52-426417e065a9",
   "metadata": {
    "language": "sql",
    "name": "cell14",
    "codeCollapsed": false
   },
   "outputs": [],
   "source": "CREATE OR REPLACE TABLE prod.raw.ADO_PULL_REQUESTS_SNOWFLAKE AS\nSELECT  *\nFROM prod.raw.ADO_PULL_REQUESTS_SNOWFLAKE_TMP;",
   "execution_count": null
  },
  {
   "cell_type": "code",
   "id": "d38d460b-9ad8-493f-95db-b71b8b631dcf",
   "metadata": {
    "language": "sql",
    "name": "insert_into_pull_requests_snowflake",
    "codeCollapsed": false
   },
   "outputs": [],
   "source": "INSERT INTO prod.raw.ADO_PULL_REQUESTS_SNOWFLAKE\nSELECT DISTINCT *\nFROM prod.raw.ADO_PULL_REQUESTS_SNOWFLAKE_TMP\nWHERE NOT EXISTS (\n    SELECT 1 \n    FROM prod.raw.ADO_PULL_REQUESTS_SNOWFLAKE target\n    WHERE target.pullRequestId = ADO_PULL_REQUESTS_SNOWFLAKE_TMP.pullRequestId\n);",
   "execution_count": null
  },
  {
   "cell_type": "code",
   "id": "8dd1903c-4239-4914-9982-68e42f466807",
   "metadata": {
    "language": "sql",
    "name": "cell12"
   },
   "outputs": [],
   "source": "CREATE OR REPLACE TABLE prod.silver.ADO_PULL_REQUESTS_SNOWFLAKE\nAS\nWITH base_data AS (\n    SELECT\n        pullRequestId,\n        mergeId,\n        title,\n        description,\n        status,\n        isDraft,\n        CAST(creationDate AS DATETIME) AS creationDate,\n        CAST(closedDate AS DATETIME) AS closedDate,\n        DATEDIFF(MINUTE, creationDate, closedDate) AS age,\n        mergeStatus,\n        PARSE_JSON(createdby) AS createdByJson,\n        PARSE_JSON(repository) AS repositoryJson,\n        timestamp\n--        reviewers\n    FROM prod.raw.ADO_PULL_REQUESTS_SNOWFLAKE\n)\n\nSELECT\n    pullRequestId,\n    mergeId,\n    title,\n    description,\n    status,\n    isDraft,\n    creationDate,\n    closedDate,\n    age,\n    mergeStatus,\n    createdByJson:displayName::STRING AS createdBy,\n--    reviewer.value:displayName::STRING AS reviewers,\n    repositoryJson:\"name\"::STRING AS repository,\n    repositoryJson:\"id\"::STRING AS repositoryId,\n    timestamp\nFROM base_data;\n--   LATERAL FLATTEN(input => base_data.reviewers) AS reviewer;",
   "execution_count": null
  },
  {
   "cell_type": "code",
   "id": "48c97132-e1e4-493b-b6b7-ef060c3ec6e8",
   "metadata": {
    "language": "sql",
    "name": "cell6",
    "codeCollapsed": false
   },
   "outputs": [],
   "source": "-- select * from prod.silver.ADO_PULL_REQUESTS_SNOWFLAKE\n-- where closeddate is null",
   "execution_count": null
  },
  {
   "cell_type": "code",
   "id": "5def77ad-96cd-4133-bc36-78e5e96116e5",
   "metadata": {
    "language": "sql",
    "name": "cell13",
    "codeCollapsed": false
   },
   "outputs": [],
   "source": "drop table prod.raw.ADO_PULL_REQUESTS_SNOWFLAKE_TMP;\ndrop table prod.raw.ADO_PULL_REQUESTS_SNOWFLAKE_TMP_ARRAY;",
   "execution_count": null
  },
  {
   "cell_type": "code",
   "id": "4df81834-cf8d-4977-aea4-6c375e5f54cc",
   "metadata": {
    "language": "python",
    "name": "source_providers_function",
    "codeCollapsed": false
   },
   "outputs": [],
   "source": "source_providers = api.get_ado_source_providers()\nsource_providers",
   "execution_count": null
  },
  {
   "cell_type": "code",
   "id": "61e40d77-8d9e-410e-85ea-5d11979711e0",
   "metadata": {
    "language": "python",
    "name": "source_providers_session",
    "codeCollapsed": false
   },
   "outputs": [],
   "source": "\ntemp_pull_requests_table = 'TEMP_SOURCE_PROVIDERS'\nsession.write_pandas(source_providers,\n                         table_name=temp_pull_requests_table,\n                         auto_create_table=True,\n                         overwrite=True,\n                         table_type=\"temporary\")",
   "execution_count": null
  },
  {
   "cell_type": "code",
   "id": "39398524-2ba9-491b-8945-112767c48e1c",
   "metadata": {
    "language": "sql",
    "name": "source_providers_query",
    "codeCollapsed": false
   },
   "outputs": [],
   "source": "CREATE OR REPLACE TABLE prod.raw.ado_source_providers (\n    NAME VARCHAR(16777216),\n    SUPPORTEDTRIGGERS ARRAY,\n    SUPPORTEDCAPABILITIES OBJECT,\n    timestamp timestamp_tz\n);\n\nTRUNCATE TABLE prod.raw.ado_source_providers;\n\nINSERT INTO prod.raw.ado_source_providers\nSELECT\n    \"NAME\",\n    \"SUPPORTEDTRIGGERS\",\n    \"SUPPORTEDCAPABILITIES\",\n        current_timestamp as timestamp\nFROM TEMP_SOURCE_PROVIDERS;\n\nSELECT TOP 15 * FROM prod.raw.ado_source_providers;",
   "execution_count": null
  },
  {
   "cell_type": "code",
   "id": "1e354a79-35e4-4208-bdf9-b8926eb90285",
   "metadata": {
    "language": "python",
    "name": "repos_function"
   },
   "outputs": [],
   "source": "repos = api.get_ado_repos()\nrepos",
   "execution_count": null
  },
  {
   "cell_type": "code",
   "id": "536ec8b7-52d1-4fd6-b0f0-263daf2d57cf",
   "metadata": {
    "language": "python",
    "name": "repos_session",
    "codeCollapsed": false
   },
   "outputs": [],
   "source": "temp_repos_table = 'TEMP_REPOS'\nsession.write_pandas(repos,\n                         table_name=temp_repos_table,\n                         auto_create_table=True,\n                         overwrite=True,\n                         table_type=\"temporary\")\n\n",
   "execution_count": null
  },
  {
   "cell_type": "code",
   "id": "c5ea8c01-f905-46f2-a54f-8929ebd178b6",
   "metadata": {
    "language": "sql",
    "name": "repos_query",
    "codeCollapsed": false
   },
   "outputs": [],
   "source": "-- CREATE OR REPLACE TABLE prod.raw.ado_repos (\n--     REPO_ID VARCHAR(16777216),\n--     URL VARCHAR(16777216),\n--     NAME VARCHAR(16777216),\n--     SIZE FLOAT,\n--     SSHURL VARCHAR(16777216),\n--     WEBURL VARCHAR(16777216),\n--     PROJECT VARCHAR(16777216),\n--     REMOTEURL VARCHAR(16777216),\n--     ISDISABLED BOOLEAN,\n--     DEFAULTBRANCH VARCHAR(16777216),\n--     ISINMAINTENANCE BOOLEAN,\n--     PROJECT_NAME string,\n--     timestamp timestamp_tz\n-- );\n\nTRUNCATE TABLE prod.raw.ado_repos;\n\nINSERT INTO prod.raw.ado_repos\nSELECT\n    ID as REPO_ID,\n    URL,\n    NAME,\n    SIZE,\n    SSHURL,\n    WEBURL,\n    PROJECT,\n    REMOTEURL,\n    ISDISABLED,\n    DEFAULTBRANCH,\n    ISINMAINTENANCE,\n    parse_json(PROJECT):name::string as PROJECT_NAME,\n        current_timestamp as timestamp\nFROM TEMP_REPOS;\n\nSELECT TOP 15 * FROM prod.raw.ado_repos;",
   "execution_count": null
  },
  {
   "cell_type": "code",
   "id": "d2fb59f2-9f07-43aa-b151-ebda5a9ff785",
   "metadata": {
    "language": "sql",
    "name": "cell3",
    "codeCollapsed": false
   },
   "outputs": [],
   "source": "CREATE OR REPLACE TABLE prod.raw.ado_branches AS\nWITH projects AS (\n    -- Fetch project names and repository IDs\n    SELECT PROJECT_NAME, REPO_ID\n    FROM prod.raw.ado_repos\n),\nbranches_data AS (\n    -- Call get_branches for each project and repository\n    SELECT\n        p.PROJECT_NAME,\n        p.REPO_ID,\n        b.value AS branch_name,\n            current_timestamp as timestamp\n    FROM projects p,\n         LATERAL FLATTEN(INPUT => prod.raw.get_branches(p.PROJECT_NAME, p.REPO_ID)) b\n)\nSELECT *\nFROM branches_data;",
   "execution_count": null
  },
  {
   "cell_type": "code",
   "id": "78fbda8b-1e76-4c2c-b69e-8f8fc3f431e1",
   "metadata": {
    "language": "sql",
    "name": "cell16",
    "codeCollapsed": false
   },
   "outputs": [],
   "source": "CREATE OR REPLACE TABLE prod.raw.ado_commits (\n    REPO_ID STRING,\n    BRANCH_NAME STRING,\n    RESULT_COMMIT STRING,\n    timestamp timestamp_tz\n);\n\nINSERT INTO prod.raw.ado_commits (REPO_ID, BRANCH_NAME, RESULT_COMMIT, timestamp)\nSELECT \n    REPO_ID, \n    BRANCH_NAME,\n    prod.raw.get_commits(REPO_ID, BRANCH_NAME) AS RESULT_COMMIT,\n        current_timestamp as timestamp\nFROM \n    prod.raw.ado_branches;",
   "execution_count": null
  },
  {
   "cell_type": "code",
   "id": "be4d6f7e-3107-4654-bf38-6076939e64e2",
   "metadata": {
    "language": "python",
    "name": "ado_pipeline_runs",
    "codeCollapsed": false
   },
   "outputs": [],
   "source": "pipeline_runs = api.get_pipeline_runs()\npipeline_runs",
   "execution_count": null
  },
  {
   "cell_type": "code",
   "id": "0a9bdb11-86bf-46d1-b312-03f62af54438",
   "metadata": {
    "language": "python",
    "name": "cell30",
    "codeCollapsed": false
   },
   "outputs": [],
   "source": "temp_pipeline_runs_table = 'TEMP_PIPELINE_RUNS'\nsession.write_pandas(pipeline_runs,\n                         table_name=temp_pipeline_runs_table,\n                         auto_create_table=True,\n                         overwrite=True,\n                         table_type=\"temporary\")",
   "execution_count": null
  },
  {
   "cell_type": "code",
   "id": "bfccdf69-31b8-42ad-9045-71ffe30a461b",
   "metadata": {
    "language": "sql",
    "name": "cell15",
    "codeCollapsed": false
   },
   "outputs": [],
   "source": "create or replace table prod.raw.ado_pipeline_runs as\nselect\n*\nfrom TEMP_PIPELINE_RUNS\n",
   "execution_count": null
  },
  {
   "cell_type": "code",
   "id": "832b9449-508b-46af-9664-c81dc71b1f7c",
   "metadata": {
    "language": "sql",
    "name": "cell4"
   },
   "outputs": [],
   "source": "select * from prod.raw.ado_pipeline_runs ",
   "execution_count": null
  },
  {
   "cell_type": "code",
   "id": "461b560d-d56b-4c63-8cfe-88d9793c4b6d",
   "metadata": {
    "language": "sql",
    "name": "cell2",
    "codeCollapsed": false
   },
   "outputs": [],
   "source": "",
   "execution_count": null
  },
  {
   "cell_type": "code",
   "id": "bb2b2166-5402-43ae-b342-41f858b41722",
   "metadata": {
    "language": "sql",
    "name": "cell7"
   },
   "outputs": [],
   "source": "create or replace table prod.silver.ado_pipeline_runs as\nselect\n\"env\"::string as environment,\n\"pipeline\"::variant as pipeline,\n\"state\"::varchar as state,\n\"url\"::varchar as url,\n\"id\"::int as id,\n\"result\"::varchar as result,\n\"createdDate\"::datetime as createddate,\n\"finishedDate\"::datetime as finishedDate,\ndatediff(m,\"createdDate\",\"finishedDate\") as run_time_minutes,\n\"issue_key\"::varchar as issue_key,\n\"rank\"::int as rank_from_finished_date_asc,\n\"first_is_succeeded\"::boolean as first_success\nfrom prod.raw.ado_pipeline_runs;\n",
   "execution_count": null
  },
  {
   "cell_type": "code",
   "id": "3301e42f-5ea9-4850-805d-d502c83a3348",
   "metadata": {
    "language": "sql",
    "name": "cell25"
   },
   "outputs": [],
   "source": "select * from prod.silver.ado_pipeline_runs",
   "execution_count": null
  },
  {
   "cell_type": "code",
   "id": "4cf43ca5-beb9-4836-a305-5be6591540ca",
   "metadata": {
    "language": "sql",
    "name": "cell11",
    "codeCollapsed": false
   },
   "outputs": [],
   "source": "create or replace temp table prod.silver.ado_pipeline_runs_sum_first_succeeded as\nwith min_rank as (\n    select issue_key,\n           min(rank_from_finished_date_asc) as rank_min\n    from prod.silver.ado_pipeline_runs \n    where result = 'succeeded'\n    group by issue_key\n)\nselect \n    apr.issue_key,\n    sum(apr.run_time_minutes) as total_run_time_minutes\nfrom prod.silver.ado_pipeline_runs apr\ninner join min_rank mr on apr.issue_key = mr.issue_key\nwhere apr.rank_from_finished_date_asc <= mr.rank_min\ngroup by apr.issue_key;",
   "execution_count": null
  },
  {
   "cell_type": "code",
   "id": "51a40c8c-8124-4403-9472-86e27e54b93e",
   "metadata": {
    "language": "sql",
    "name": "cell20",
    "codeCollapsed": false
   },
   "outputs": [],
   "source": "select * \n  from prod.silver.ado_pipeline_runs\n  where issue_key = 'PEL-23'",
   "execution_count": null
  },
  {
   "cell_type": "code",
   "id": "edbddab6-5a08-45d6-815a-f3d972e60ede",
   "metadata": {
    "language": "sql",
    "name": "cell19",
    "codeCollapsed": false
   },
   "outputs": [],
   "source": "      select issue_key,\n      min(rank_from_finished_date_asc)  \n      from prod.silver.ado_pipeline_runs sub \n      where result = 'succeeded'\n      group by issue_key",
   "execution_count": null
  },
  {
   "cell_type": "code",
   "id": "11e17d71-eb8f-43fc-be26-4d299515fcbc",
   "metadata": {
    "language": "sql",
    "name": "cell9",
    "codeCollapsed": false
   },
   "outputs": [],
   "source": "\ncreate or replace table prod.silver.ado_pipeline_runs_agg as \nwith first_success_run_time as (\n  select \n    issue_key,\n    run_time_minutes as first_succeeded_run_time\n  from prod.silver.ado_pipeline_runs\n  where result = 'succeeded' \n    and rank_from_finished_date_asc = (\n      select min(rank_from_finished_date_asc) \n      from prod.silver.ado_pipeline_runs sub \n      where sub.issue_key = prod.silver.ado_pipeline_runs.issue_key \n        and sub.result = 'succeeded'\n    )\n),\nfirst_success as (\n  select \n    issue_key,\n    min(rank_from_finished_date_asc) as successful_attempt,\n    avg(run_time_minutes) as avg_run_time\n  from prod.silver.ado_pipeline_runs\n  where result = 'succeeded'\n  group by issue_key\n)\nselect\n  apr.issue_key,\n  fs.successful_attempt,\n  concat(round(fs.avg_run_time), ' min') as avg_run_time_for_succeeded,\n  concat(round(fsrt.first_succeeded_run_time), ' min') as first_succeeded_build_time,\n  sfs.total_run_time_minutes as minutes_with_first_success\nfrom (select distinct \"issue_key\" as issue_key from prod.raw.ado_pipeline_runs) apr\nleft join first_success fs on apr.issue_key = fs.issue_key\nleft join first_success_run_time fsrt on apr.issue_key = fsrt.issue_key\nleft join prod.silver.ado_pipeline_runs_sum_first_succeeded sfs on apr.issue_key = sfs.issue_key;\n\nselect * from prod.silver.ado_pipeline_runs_agg;",
   "execution_count": null
  },
  {
   "cell_type": "code",
   "id": "3646fad5-899e-4c17-9d89-b3233c4daa92",
   "metadata": {
    "language": "sql",
    "name": "cell21",
    "codeCollapsed": false
   },
   "outputs": [],
   "source": "create or replace table prod.silver.ado_pipeline_runs_agg_minutes_env as\nselect\n-- issue_key,\nenvironment,\nsum(run_time_minutes) as summed_run_time_minutes\nfrom prod.silver.ado_pipeline_runs\ngroup by 1\norder by 1",
   "execution_count": null
  },
  {
   "cell_type": "code",
   "id": "f8ba605c-4088-4075-8886-5229c31df469",
   "metadata": {
    "language": "sql",
    "name": "cell22",
    "codeCollapsed": false
   },
   "outputs": [],
   "source": "select * from prod.silver.ado_pipeline_runs_agg_minutes_env",
   "execution_count": null
  },
  {
   "cell_type": "code",
   "id": "0959d6a4-7825-4f10-af32-aa299784accf",
   "metadata": {
    "language": "sql",
    "name": "cell23"
   },
   "outputs": [],
   "source": "create or replace table prod.silver.ado_pipeline_runs_agg_minutes_issue_key as\nselect\nissue_key,\n-- environment,\nsum(run_time_minutes) as summed_run_time_minutes\nfrom prod.silver.ado_pipeline_runs\ngroup by 1\norder by 1",
   "execution_count": null
  },
  {
   "cell_type": "code",
   "id": "384529b8-4148-466b-955a-075efb1b1ec1",
   "metadata": {
    "language": "sql",
    "name": "cell24"
   },
   "outputs": [],
   "source": "select * from prod.silver.ado_pipeline_runs_agg_minutes_issue_key",
   "execution_count": null
  },
  {
   "cell_type": "code",
   "id": "17e5ebcd-d7ff-42b6-80d8-3bde0d582df1",
   "metadata": {
    "language": "sql",
    "name": "cell10",
    "codeCollapsed": false
   },
   "outputs": [],
   "source": "select * from prod.silver.ado_pipeline_runs\nwhere issue_key = 'PEL-23'",
   "execution_count": null
  },
  {
   "cell_type": "code",
   "id": "83c1acd0-af8f-4744-a7a1-15e00ae036a2",
   "metadata": {
    "language": "sql",
    "name": "cell18",
    "codeCollapsed": false
   },
   "outputs": [],
   "source": "select * from prod.silver.ado_pipeline_runs_agg",
   "execution_count": null
  },
  {
   "cell_type": "code",
   "id": "674a059f-10a2-4b0d-928f-209e88bed7a7",
   "metadata": {
    "language": "python",
    "name": "cell17",
    "codeCollapsed": false
   },
   "outputs": [],
   "source": "",
   "execution_count": null
  },
  {
   "cell_type": "code",
   "id": "0eed30d9-5da1-4cca-a60c-7c605f764869",
   "metadata": {
    "language": "python",
    "name": "cell8",
    "codeCollapsed": false
   },
   "outputs": [],
   "source": "# 8642d1ba-f201-45c8-955d-2347876e4145\n\n# 2441",
   "execution_count": null
  }
 ]
}