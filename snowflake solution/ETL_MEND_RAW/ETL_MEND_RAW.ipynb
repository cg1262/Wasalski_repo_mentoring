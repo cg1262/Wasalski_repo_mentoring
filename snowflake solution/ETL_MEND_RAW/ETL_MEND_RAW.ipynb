{
 "metadata": {
  "kernelspec": {
   "display_name": "Streamlit Notebook",
   "name": "streamlit"
  },
  "lastEditStatus": {
   "notebookId": "tkgafmmhsiscit2ojsjr",
   "authorId": "557922832688",
   "authorName": "MTWA",
   "authorEmail": "mtwa@softwaremind.com",
   "sessionId": "ffa36bf9-8b4e-460e-9b50-89787766e15f",
   "lastEditTime": 1753729751481
  }
 },
 "nbformat_minor": 5,
 "nbformat": 4,
 "cells": [
  {
   "cell_type": "markdown",
   "id": "e2ee99a5-158f-44ff-b3be-78ceac2a806a",
   "metadata": {
    "name": "doc",
    "collapsed": false
   },
   "source": "# Mend Applications\n\nhttps://api-docs.mend.io/platform/3.0/applications/getorganizationapplications"
  },
  {
   "cell_type": "code",
   "id": "f8b06e9a-0b59-4fa7-a292-18b0080816ef",
   "metadata": {
    "language": "sql",
    "name": "cell2"
   },
   "outputs": [],
   "source": "ALTER SESSION SET TIMEZONE = 'Europe/London';",
   "execution_count": null
  },
  {
   "cell_type": "code",
   "id": "05ce3216-220c-4c65-ac4d-a27e2f096d94",
   "metadata": {
    "language": "python",
    "name": "cell4"
   },
   "outputs": [],
   "source": "import os\nimport requests\nimport pandas as pd\nfrom json import loads, dumps\n\ntry:\n    \n    from snowflake.snowpark.context import get_active_session\n    session = get_active_session()\n    results = session.sql(\"SELECT PROD.RAW.mend_orgUuid_jwtToken()\").collect()\n    orgUuid = results[0][0]\n\n    \n    from snowflake.snowpark.context import get_active_session\n    session = get_active_session()\n    results = session.sql(\"SELECT PROD.RAW.mend_user_key_jwtToken()\").collect()\n    userKey = results[0][0]\n\n    \n    from snowflake.snowpark.context import get_active_session\n    session = get_active_session()\n    results = session.sql(\"SELECT PROD.RAW.mend_email_jwtToken()\").collect()\n    email = results[0][0]\n    \nexcept:\n    from dotenv import load_dotenv\n    load_dotenv()\n    orgUuid = os.getenv('orgUuid')\n    userKey = os.getenv('userKey')\n    email = os.getenv('email')\n",
   "execution_count": null
  },
  {
   "cell_type": "code",
   "id": "08edcc3f-d2a2-46d9-b670-188bf2bdc322",
   "metadata": {
    "language": "python",
    "name": "cell3"
   },
   "outputs": [],
   "source": "class Mend:\n    \n    def __init__(self):\n        self.orgUuid = orgUuid\n        self.userKey = userKey\n        self.email = email\n        self.login_body = {\n            \"email\": email,\n            \"orgUuid\": orgUuid,\n            \"userKey\": userKey\n        }\n        self.url_applications = f\"https://api-saas-eu.whitesourcesoftware.com/api/v3.0/orgs/{self.orgUuid}\"\n\n    ###################################################\n    # AUTH\n    ###################################################\n    def authenticate_user(self):\n        \"\"\"\n        Authenticates user and returns JWT token\n        \"\"\"\n        # Endpoint do logowania\n        url_login = \"https://api-saas-eu.whitesourcesoftware.com/api/v3.0/login\"\n        \n        # Wykonanie żądania POST do logowania\n        response_login = requests.post(url_login, json=self.login_body)\n        response_login.raise_for_status()\n        login_data = response_login.json()\n        refresh_token = login_data['response']['refreshToken']\n        \n        # Uzyskanie access token'a używającego refresh token'a\n        url_access_token = f\"{url_login}/accessToken\"\n        refresh_token_headers = {\n            \"wss-refresh-token\": refresh_token\n        }\n        \n        # Wykonanie żądania POST do uzyskania JWT tokena\n        access_token_response = requests.post(url_access_token, headers=refresh_token_headers)\n        access_token_response.raise_for_status()\n        access_token_data = access_token_response.json()\n        \n        # Fixed: You need to check the actual response structure\n        # This might be 'jwtToken', 'accessToken', or another key\n        jwt_token = access_token_data['response']['jwtToken']  # Update this based on actual API response\n        \n        return jwt_token\n\n    def get_headers(self):\n        headers = {\n            \"Authorization\": f\"Bearer {self.authenticate_user()}\"\n        }\n        return headers\n\n    ###################################################\n    # BASIC\n    ###################################################\n    def get_applications(self):\n        headers_applications = {\n            \"Authorization\": f\"Bearer {self.authenticate_user()}\"\n        }\n        \n        url_applications = f\"{self.url_applications}/applications\"\n        all_aplications = []\n        applications_cursor = None\n        \n        # Initial parameters - max limit is 10000 according to documentation\n        applications_params = {\n            \"limit\": 1000,  # Requesting 1000 items per page\n            \"cursor\": None,  # If Cursor is not empty it indicates there is more data to fetch\n            # and we need to iterate through all pages\n        }\n        \n        while True:\n            # Add the cursor to the parameters if it exists\n            if applications_cursor:\n                applications_params[\"cursor\"] = applications_cursor\n        \n            # making request\n            response_applications = requests.get(url_applications, headers=self.get_headers(), params=applications_params)\n            applications_data = response_applications.json()\n        \n            # extracting data and extending all_aplications list\n            applications = applications_data.get('response', [])\n            all_aplications.extend(applications)\n        \n            # Check if there is a next page\n            \n            # if there is another page output would look like this:\n            # {'additionalData': {'totalItems': 96,\n            # 'paging': {'next': 'https://api-saas-eu.whitesourcesoftware.com/api/v3.0/orgs/71003aaf-b8e7-4e7b-a622-736b775a0eff/applications?limit=50&cursor=1'}},\n            \n            # if there is no additional page:\n            # {'additionalData': {'totalItems': 96, 'paging': {}},\n            cursor = applications_data['additionalData'].get('paging', {}).get('next')\n            if not cursor:\n                break\n        \n        # ---- # ---- Endpoint specific logic ---- # ----\n        \n        if all_aplications:  # Check if data was actually fetched\n            all_applications_df = pd.DataFrame(all_aplications)\n        else:\n            print(\"\\nNo application data fetched, temporary table not created.\")\n            all_applications_df = pd.DataFrame()\n            \n        return all_applications_df \n\n    def get_projects(self):\n        headers = {\n            'Authorization': f'Bearer {self.authenticate_user()}',\n        }\n    \n        base_projects_url = f\"{self.url_applications}/projects\"\n        all_projects = []  # empty list to store all projects\n        has_more = True  # flag to control pagination\n        cursor = None  # cursor for pagination\n    \n        # Initial parameters - max limit is 10000 according to documentation\n        params = {\n            \"limit\": \"1000\",  # Requesting 1000 items per page\n            \"populateApplications\": \"true\"  # Include application details in the response\n        }\n    \n        print(\"Fetching projects data with pagination...\")\n    \n        # Continue fetching while there are more pages\n        while has_more:\n            # Add cursor to parameters if we're not on the first page\n            if cursor:\n                params[\"cursor\"] = cursor\n            \n            # Make the request\n            response_projects = requests.get(base_projects_url, headers=self.get_headers(), params=params)\n            \n            # Check if the request was successful\n            if response_projects.status_code != 200:\n                # print(f\"Error fetching projects data: {response_projects.status_code}\")\n                # print(response_projects.text)\n                break\n            \n            # Parse the JSON response\n            response_data = response_projects.json()\n            \n            # Extract projects data from the response\n            projects = response_data.get('response', [])\n            \n            # If we got no projects or empty response, break the loop\n            if not projects:\n                has_more = False\n                continue\n            \n            # Append the current page's data to the list\n            all_projects.extend(projects)\n            # print(f\"Retrieved {len(projects)} projects. Total so far: {len(all_projects)}\")\n            \n            # Check if there's a cursor for the next page\n            additional_data = response_data.get('additionalData', {})\n            cursor = additional_data.get('cursor')\n            \n            # If no cursor is returned, we've reached the end\n            if not cursor:\n                has_more = False\n    \n        projects_data = pd.DataFrame(all_projects)\n        \n        print(projects_data.reset_index().columns)\n    \n        return projects_data\n\n    def get_alert_types(self):\n    \n        url_alert_types = f\"https://api-saas-eu.whitesourcesoftware.com/api/v2.0/orgs/{self.orgUuid}/summary/alertTypes\"\n        response_alert_types = requests.get(url_alert_types, headers=self.get_headers())\n        alert_types_data = response_alert_types.json()\n    \n        # ---- # ---- Endpoint specific logic ---- # ----\n    \n        # Create Pandas DataFrame\n        df = pd.DataFrame(alert_types_data).reset_index().rename(columns={'index': 'PATH'})\n        df = df[['PATH', 'retVal']]\n        df['row'] = 0\n        wide1 = df.pivot(index='row', columns='PATH', values='retVal').reset_index().drop('row', axis=1)\n    \n        return wide1\n\n    def get_vulnerabilities_project(self):\n        vulnerabilities_project = []\n        page = 0\n        page_size = 10000\n        is_last_page = False\n        headers = {\n            'Authorization': f'Bearer {self.authenticate_user()}',\n        }\n        \n        while not is_last_page:\n            url = f\"https://api-saas-eu.whitesourcesoftware.com/api/v2.0/orgs/{orgUuid}/summary/projects/vulnerableLibraryCount?search=projectName:like:\"\n                    \n            params = {\n                \"page\": str(page),\n                \"pageSize\": str(page_size)\n            }\n                    \n            response = requests.get(url, headers=self.get_headers(), params=params)\n            data = response.json()\n                    \n            print(f\"Page {page} Vulnerabilities Project: \", data)\n            vulnerabilities_project.append(data)\n            page += 1\n            is_last_page = data['additionalData']['isLastPage']\n        \n        vulnerabilities_project_df = pd.DataFrame(vulnerabilities_project)['retVal'].iloc[0]\n        vulnerabilities_project_df = pd.DataFrame(vulnerabilities_project_df)\n        \n        return vulnerabilities_project_df\n    \n    def get_alerts_severity(self):\n        all_aplications = []\n        applications_cursor = None\n\n        url_alerts_severity = f\"https://api-saas-eu.whitesourcesoftware.com/api/v2.0/orgs/{orgUuid}/summary/alertCountPerSeverity\"\n        \n        response_alerts_severity = requests.get(url_alerts_severity, headers=self.get_headers())\n        alerts_severity_data = response_alerts_severity.json()\n        print(\"Alerts Severity: \", alerts_severity_data)\n        df_alerts_severity_data = pd.DataFrame([alerts_severity_data['retVal']])\n       \n        return df_alerts_severity_data\n\n    def get_labels(self):\n        # ——— ## ———— ## ————\n        # Stream: Labels\n        # This stream gets labels associated with the organization.\n        url_labels = f\"{self.url_applications}/labels\"\n        response_labels = requests.get(url_labels, headers=self.get_headers())  # Fixed: removed extra parenthesis\n        labels_data = response_labels.json()\n    \n        labels_data = pd.DataFrame(labels_data['response'])\n    \n        # Assume df_labels holds the final DataFrame for this notebook\n        # <<<< ADJUST THE DATAFRAME VARIABLE NAME BELOW IF IT'S DIFFERENT >>>>\n    \n        # Display the DataFrame (optional, for confirmation in notebooks)\n        return labels_data\n    \n    ###################################################\n    # UNIQUES\n    ###################################################\n    def get_unique_product_uuids(self):\n        unique_product_uuids = self.get_applications()['uuid'].unique().tolist()\n        return unique_product_uuids\n        \n    def get_unique_uuid(self):\n        unique_uuid = self.get_projects()['uuid'].unique().tolist()\n        return unique_uuid  # Fixed: was returning undefined 'unique_projects'\n        \n    def get_unique_policy_violations(self):\n        policy_violations = self.get_projects()['applicationUuid'].tolist()\n        return policy_violations\n        \n    ###################################################\n    # LOOPS\n    ###################################################\n    def get_alerts_per_library(self):\n        all_security_alerts_data = []\n        page_size = 1000  # Using a smaller page size for example, adjust as needed (max 10000)\n        \n        for project_token in self.get_unique_uuid():\n            page = 0\n            while True:\n                url_security_alerts_library = f\"https://api-saas-eu.whitesourcesoftware.com/api/v2.0/projects/{project_token}/alerts/security/groupBy/component\"\n                params = {\"pageSize\": str(page_size), \"page\": str(page)}\n                response = requests.get(url_security_alerts_library, headers=self.get_headers(), params=params)\n                # Raise an exception for bad status codes (4xx client error or 5xx server error)\n                response.raise_for_status()\n                data_page = response.json()\n        \n                # Extract the list of alerts, default to empty list if 'retVal' is missing or null\n                alerts = data_page.get('retVal', [])\n        \n                # Add project token to each alert record for context\n                for alert in alerts:\n                    alert['projectToken'] = project_token\n                all_security_alerts_data.extend(alerts)\n        \n                # If the number of returned alerts is less than the page size, it's the last page\n                if len(alerts) < page_size:\n                    break\n        \n                # Increment page number for the next request\n                page += 1\n        \n        df_security_alerts = pd.DataFrame(all_security_alerts_data)\n        return df_security_alerts\n    \n    def get_alerts_per_project(self):\n        all_security_findings = []  # Initialize list to store all findings from all projects\n\n        for project_uuid in self.get_unique_uuid():\n            url_security_alerts_project = f\"https://api-saas-eu.whitesourcesoftware.com/api/v3.0/projects/{project_uuid}/dependencies/findings/security\"\n            params = {\"limit\": \"10000\"}\n            response_security_alerts_project = requests.get(url_security_alerts_project, headers=self.get_headers(), params=params)\n            security_alerts_project_data = response_security_alerts_project.json()['response']\n            all_security_findings.extend(security_alerts_project_data)\n        \n        df_final_alerts = pd.DataFrame(all_security_findings)\n        # Now df_final_alerts contains all findings from all projects\n        # You can display it or process it further\n        df_final_alerts['status'] = df_final_alerts['findingInfo'].apply(lambda x: x.get('status') if x else None)\n        df_final_alerts['detected_at'] = df_final_alerts['findingInfo'].apply(lambda x: x.get('detectedAt') if x else None)\n        df_final_alerts['modified_at'] = df_final_alerts['findingInfo'].apply(lambda x: x.get('modifiedAt') if x else None)\n        df_final_alerts.drop(columns=['findingInfo'])\n        \n        list_of_alerts_cleaned = df_final_alerts[['name', 'type', 'uuid', 'topFix', 'project', 'component',\n                                                   'application', 'exploitable', 'vulnerability', 'threatAssessment', \n                                                   'scoreMetadataVector', 'status', 'detected_at', 'modified_at']]\n        \n        # Display the DataFrame (optional, for confirmation in notebooks)\n        # list_of_alerts_cleaned.columns\n        return list_of_alerts_cleaned\n        \n    def get_libraries(self):\n        params = {\n            \"limit\": \"10000\",  # Requesting 1000 items per page\n        }\n    \n        all_libraries = []  # Empty list to store all libraries\n        # count_libraries = 0\n    \n        # Iterate over each project UUID\n        for project_uuid in self.get_unique_uuid():\n            # print(f\"Fetching library no {count_libraries}\")\n            # count_libraries += 1\n            # print(f\"Fetching libraries for project {project_uuid}...\")\n            has_more = True  # Reset pagination flag for each project\n            cursor = None  # Reset cursor for each project\n            \n            while has_more:\n                # Add cursor to parameters if we're not on the first page\n                if cursor:\n                    params[\"cursor\"] = cursor\n                \n                # Construct the URL for fetching libraries\n                url_libraries = f\"https://api-saas-eu.whitesourcesoftware.com/api/v3.0/projects/{project_uuid}/dependencies/libraries\"\n                response_libraries = requests.get(url_libraries, headers=self.get_headers(), params=params)\n                \n                # Check if the request was successful\n                if response_libraries.status_code != 200:\n                    # print(f\"Error fetching libraries for project {project_uuid}: {response_libraries.status_code}\")\n                    print(response_libraries.text)\n                    break\n                \n                # Parse the JSON response\n                libraries_data = response_libraries.json()\n                \n                # Extract libraries from the response\n                libraries = libraries_data.get('response', [])\n                \n                # Add project_uuid to each library\n                for library in libraries:\n                    library['project_uuid'] = project_uuid\n                \n                # Append the current page's data to the list\n                all_libraries.extend(libraries)\n                # print(f\"Retrieved {len(libraries)} libraries for project {project_uuid}. Total so far: {len(all_libraries)}\")\n                \n                # Check if there's a cursor for the next page\n                additional_data = libraries_data.get('additionalData', {})\n                cursor = additional_data.get('cursor')\n                \n                # If no cursor is returned, we've reached the end\n                has_more = bool(cursor)\n                \n        all_libraries_df = pd.DataFrame(all_libraries)\n        # wide1 = wide1.drop('row', axis = 1)\n    \n        return all_libraries_df\n    \n    def get_license_policy_violations(self):\n        policy_violations_list = []\n        # for product_uuid in unique_product_uuids:\n        for product_uuid in self.get_unique_policy_violations():  # lub unique_product_uuids\n            page = 0\n            is_last_page = False\n        \n            while not is_last_page:\n                params = {\n                    'pageSize': '10000',\n                    'page': str(page)\n                }\n                url_licence_policy_violations = (\n                    f\"https://api-saas-eu.whitesourcesoftware.com/api/v2.0/products/{product_uuid}/alerts/legal\"\n                )\n                response = requests.get(url_licence_policy_violations, headers=self.get_headers(), params=params)\n                data = response.json()\n        \n                # Dodaj wyniki z tej strony do listy\n                if 'retVal' in data and isinstance(data['retVal'], list):\n                    policy_violations_list.extend(data['retVal'])\n        \n                # Sprawdź czy to ostatnia strona\n                is_last_page = data.get('body', {}).get('additionalData', {}).get('isLastPage', True)\n                # Jeśli nie ma body, spróbuj bezpośrednio z głównego poziomu (dostosuj w zależności od API)\n                if not isinstance(is_last_page, bool):\n                    is_last_page = data.get('additionalData', {}).get('isLastPage', True)\n        \n                page += 1\n        \n        # Tworzenie DataFrame z zebranych danych\n        policy_violations_df = pd.DataFrame(policy_violations_list)\n        \n        # Jeżeli alertInfo jest słownikiem, wyciągnij potrzebne pola\n        policy_violations_df['status'] = policy_violations_df['alertInfo'].apply(lambda x: x.get('status') if isinstance(x, dict) else None)\n        policy_violations_df['detected_at'] = policy_violations_df['alertInfo'].apply(lambda x: x.get('detectedAt') if isinstance(x, dict) else None)\n        policy_violations_df['modified_at'] = policy_violations_df['alertInfo'].apply(lambda x: x.get('modifiedAt') if isinstance(x, dict) else None)\n        \n        policy_violations_df = policy_violations_df[[\n            'name', 'type', 'uuid', 'project', 'component',\n            'policyName', 'status', 'detected_at', 'modified_at'\n        ]]\n        \n        # Display the DataFrame (optional, for confirmation in notebooks)\n        policy_violations_df = policy_violations_df.drop_duplicates(subset=['uuid'])\n        policy_violations_df = policy_violations_df.reset_index(drop=True)\n        return policy_violations_df\n        \n    def get_project_due_diligence(self):\n        all_due_diligence = []  # empty list to store all due diligence data\n        params = {\n            'limit': \"10000\"\n        }\n        for i in self.get_unique_uuid():\n            due_diligence_url = f\"https://api-saas-eu.whitesourcesoftware.com/api/v3.0/projects/{i}/dependencies/libraries/licenses\"\n            response_due_diligence = requests.get(due_diligence_url, headers=self.get_headers(), params=params) \n            due_diligence = response_due_diligence.json().get('response', [])\n            all_due_diligence.extend(due_diligence)\n        \n        return pd.DataFrame(all_due_diligence)\n\n\n###################################################\n# CLASS INSTANTIATION\n###################################################\n# To use the class:\napi = Mend()",
   "execution_count": null
  },
  {
   "cell_type": "code",
   "id": "ecbd2ae9-d31c-42fa-9e5a-b09b0545598c",
   "metadata": {
    "language": "python",
    "name": "cell10",
    "codeCollapsed": false
   },
   "outputs": [],
   "source": "auth = api.authenticate_user()\nauth",
   "execution_count": null
  },
  {
   "cell_type": "code",
   "id": "0967731e-c8c8-4d10-9423-e15654ba50f3",
   "metadata": {
    "language": "python",
    "name": "applications_function",
    "codeCollapsed": false
   },
   "outputs": [],
   "source": "applications = api.get_applications()\napplications\n",
   "execution_count": null
  },
  {
   "cell_type": "code",
   "id": "4a586fad-ca91-4aba-84b8-ed6a1c6dacf1",
   "metadata": {
    "language": "python",
    "name": "applications_session",
    "codeCollapsed": false
   },
   "outputs": [],
   "source": "applications_table = 'PYTHON_APPLICATIONS'\n\nsession.write_pandas(applications,\n                         table_name=applications_table,\n                         auto_create_table=True,\n                         overwrite=True,\n                         table_type=\"temporary\")",
   "execution_count": null
  },
  {
   "cell_type": "code",
   "id": "4f863c34-9a82-493c-b052-85edf0f27aca",
   "metadata": {
    "language": "sql",
    "name": "applications_query"
   },
   "outputs": [],
   "source": "-- CREATE OR REPLACE TABLE prod.raw.mend_applications\n-- (uuid varchar,\n-- name varchar,\n-- timestamp timestamp_tz);\n\n-- truncate prod.raw.mend_applications;\n\ninsert overwrite into prod.raw.mend_applications\nSELECT\n    \"uuid\", -- Use quotes if column names are case-sensitive\n    \"name\",\n    current_timestamp as timestamp\nFROM PYTHON_APPLICATIONS;",
   "execution_count": null
  },
  {
   "cell_type": "markdown",
   "id": "7dfff299-6a66-4be0-aaad-04f5822262af",
   "metadata": {
    "name": "projects_doc",
    "collapsed": false
   },
   "source": "# Mend Projects\n\nhttps://api-docs.mend.io/platform/3.0/projects/getorganizationprojects"
  },
  {
   "cell_type": "code",
   "id": "992dbb90-da2e-4ce5-894e-c161a649fdc7",
   "metadata": {
    "language": "python",
    "name": "projects_function"
   },
   "outputs": [],
   "source": "projects = api.get_projects()\nprojects",
   "execution_count": null
  },
  {
   "cell_type": "code",
   "id": "41b61de9-a959-4d0d-a92b-3de6a08b5414",
   "metadata": {
    "language": "python",
    "name": "projects_session",
    "codeCollapsed": false
   },
   "outputs": [],
   "source": "projects_table = 'PYTHON_PROJECTS'\n\nsession.write_pandas(projects,\n                         table_name=projects_table,\n                         auto_create_table=True,\n                         overwrite=True,\n                         table_type=\"temporary\")",
   "execution_count": null
  },
  {
   "cell_type": "code",
   "id": "e4c95c80-ac14-484c-8799-0d9e2388f7a2",
   "metadata": {
    "language": "sql",
    "name": "projects_query"
   },
   "outputs": [],
   "source": "-- create or replace table prod.raw.mend_projects \n-- (\n-- name varchar,\n-- path varchar,\n-- uuid varchar,\n-- applicationname varchar,\n-- applicationuuid varchar,\n-- timestamp timestamp_tz);\n\n-- -- select \n-- -- value:name::string as name,\n-- -- value:path::string as path,\n-- -- value:uuid::string as uuid,\n-- -- value:applicationName::string as applicationName,\n-- -- value:applicationUuid::string as applicationUuid\n-- -- from table (flatten(input => get_mend_projects()));\n\n\n-- truncate prod.raw.mend_projects;\n\ninsert overwrite into prod.raw.mend_projects\nSELECT\n    \"name\", -- Use quotes if column names are case-sensitive\n    \"path\",\n    \"uuid\",\n    \"applicationName\",\n    \"applicationUuid\",\n    current_timestamp as timestamp\nFROM PYTHON_PROJECTS;\n\n-- SELECT top 15 * from prod.raw.mend_projects ",
   "execution_count": null
  },
  {
   "cell_type": "markdown",
   "id": "0dd085e0-67a3-4000-b265-d764836604a2",
   "metadata": {
    "name": "alert_types_doc",
    "collapsed": false
   },
   "source": "# Mend Alert Types\n\nhttps://api-docs.mend.io/sca/2.0/summary-organization/getorganizationalerttypesummaries"
  },
  {
   "cell_type": "code",
   "id": "50a2d490-8edd-4ba7-9d99-674d4037f88a",
   "metadata": {
    "language": "python",
    "name": "alert_types_function"
   },
   "outputs": [],
   "source": "alert_types = api.get_alert_types()",
   "execution_count": null
  },
  {
   "cell_type": "code",
   "id": "ccc2552f-feb9-4081-9c03-e610de341b82",
   "metadata": {
    "language": "python",
    "name": "alert_types_session"
   },
   "outputs": [],
   "source": "alert_types_table = 'PYTHON_ALERT_TYPES'\n\nsession.write_pandas(alert_types,\n                         table_name=alert_types_table,\n                         auto_create_table=True,\n                         overwrite=True,\n                         table_type=\"temporary\")",
   "execution_count": null
  },
  {
   "cell_type": "code",
   "id": "19484522-b4fe-4123-b5f6-6008dd591df3",
   "metadata": {
    "language": "sql",
    "name": "alert_types_query"
   },
   "outputs": [],
   "source": "-- create or replace table prod.raw.mend_alert_types\n-- (\n-- libraries variant,\n-- policies variant,\n-- securityPerLibrary variant,\n-- securityPerVulnerability variant,\n-- timestamp timestamp_tz\n-- );\n\n-- truncate prod.raw.mend_alert_types;\n\ninsert overwrite into prod.raw.mend_alert_types\nselect \n\"libraries\",\n\"policies\",\n\"securityPerLibrary\",\n\"securityPerVulnerability\",\ncurrent_timestamp as timestamp\nFROM PYTHON_ALERT_TYPES;\n\n-- SELECT top 15 * from prod.raw.mend_alert_types ",
   "execution_count": null
  },
  {
   "cell_type": "markdown",
   "id": "878269fa-5b09-4438-9507-e47350fd6b3c",
   "metadata": {
    "name": "alerts_severity_doc"
   },
   "source": "# Mend Alerts Severity\n\nhttps://api-docs.mend.io/sca/2.0/summary-organization/getorganizationalertcountperseverity"
  },
  {
   "cell_type": "code",
   "id": "f4bf2878-1e28-4d75-9688-4e0d1e40e77f",
   "metadata": {
    "language": "python",
    "name": "alerts_severity_function"
   },
   "outputs": [],
   "source": "alerts_severity = api.get_alerts_severity()",
   "execution_count": null
  },
  {
   "cell_type": "code",
   "id": "927c6dfd-3bcd-49a7-84d9-eb7d641a31a9",
   "metadata": {
    "language": "python",
    "name": "alerts_severity_session"
   },
   "outputs": [],
   "source": "\nALERTS_SEVERITY_TABLE = 'PYTHON_ALERTS_SEVERITY'\n\nsession.write_pandas(alerts_severity,\n                            table_name=ALERTS_SEVERITY_TABLE,\n                            auto_create_table=True,\n                            overwrite=True,\n                            table_type=\"temporary\")",
   "execution_count": null
  },
  {
   "cell_type": "code",
   "id": "a65bb345-cd62-49b6-bd8a-853ed6e5de75",
   "metadata": {
    "language": "sql",
    "name": "alerts_severity_query"
   },
   "outputs": [],
   "source": "-- create or replace table prod.raw.mend_alerts_severity(\n-- low string,\n-- high string,\n-- total string,\n-- medium string,\n-- critical string,\n-- timestamp timestamp_tz\n-- );\n\n-- truncate prod.raw.mend_alerts_severity;\n\ninsert overwrite into prod.raw.mend_alerts_severity\nselect \n\"low\",\n\"high\",\n\"total\",\n\"medium\",\n\"critical\",\ncurrent_timestamp as timestamp\nfrom PYTHON_ALERTS_SEVERITY;\n\n-- select top 15 * from prod.raw.mend_alerts_severity",
   "execution_count": null
  },
  {
   "cell_type": "markdown",
   "id": "7576ce26-6745-4034-b820-45b884598f33",
   "metadata": {
    "name": "libraries_dc",
    "collapsed": false
   },
   "source": "# Mend libraries\n\nhttps://api-docs.mend.io/test/mend_api_3.0_swagger/findings-project/getlibraries"
  },
  {
   "cell_type": "code",
   "id": "27bf579c-5052-4b2d-b170-7fd60d050660",
   "metadata": {
    "language": "python",
    "name": "libraries_function"
   },
   "outputs": [],
   "source": "libraries = api.get_libraries()\n",
   "execution_count": null
  },
  {
   "cell_type": "code",
   "id": "abaf365d-ca7f-428a-bf09-70c437581425",
   "metadata": {
    "language": "python",
    "name": "libraries_session"
   },
   "outputs": [],
   "source": "\nLIBRARIES_TABLE = 'PYTHON_LIBRARIES'\n\nsession.write_pandas(libraries,\n                            table_name=LIBRARIES_TABLE,\n                            auto_create_table=True,\n                            overwrite=True,\n                            table_type=\"temporary\")",
   "execution_count": null
  },
  {
   "cell_type": "code",
   "id": "e91b4b65-9e7e-4285-b304-34d5dc70aa86",
   "metadata": {
    "language": "sql",
    "name": "libraries_query"
   },
   "outputs": [],
   "source": "-- create or replace table prod.raw.mend_libraries \n-- (name  string,\n-- purl  string,\n-- sha1  string,\n-- type  string,\n-- uuid  string,\n-- groupid  string,\n-- version  string,\n-- licenses  variant,\n-- extension  string,\n-- locations  string,\n-- artifactId  string,\n-- classifier  string,\n-- project_uuid  string,\n-- description  string,\n-- libraryType  string,\n-- architecture  string,\n-- languageVersion  string,\n-- directDependency  boolean,\n-- copyrightReferences variant,\n-- timestamp timestamp_tz);\n\n-- truncate table prod.raw.mend_libraries;\n\ninsert overwrite into prod.raw.mend_libraries \nselect \n\"name\",\n\"purl\",\n\"sha1\",\n\"type\",\n\"uuid\",\n\"groupId\",\n\"version\" ,\n\"licenses\",\n\"extension\",\n\"locations\",\n\"artifactId\",\n\"classifier\",\n\"project_uuid\",\n\"description\",\n\"libraryType\",\n\"architecture\",\n\"languageVersion\",\n\"directDependency\",\n\"copyrightReferences\",\ncurrent_timestamp as timestamp\nfrom PYTHON_LIBRARIES;\n\n-- select top 15 * from prod.raw.mend_libraries",
   "execution_count": null
  },
  {
   "cell_type": "markdown",
   "id": "373f6f3e-4cce-44af-bf7e-e004b6df1232",
   "metadata": {
    "name": "labels_doc",
    "collapsed": false
   },
   "source": "# Mend labels\n\nhttps://api-docs.mend.io/platform/3.0/administration-labels/getlabels"
  },
  {
   "cell_type": "code",
   "id": "8a304995-be7d-4d34-8804-d7a39c62fdbd",
   "metadata": {
    "language": "python",
    "name": "labels_function"
   },
   "outputs": [],
   "source": "labels = api.get_labels()\nlabels",
   "execution_count": null
  },
  {
   "cell_type": "code",
   "id": "9afbee01-2f3e-4239-bcab-36038734bb0e",
   "metadata": {
    "language": "python",
    "name": "labels_session",
    "codeCollapsed": false
   },
   "outputs": [],
   "source": "\nLABELS_TABLE = 'PYTHON_LABELS'\n\nsession.write_pandas(labels,\n                            table_name=LABELS_TABLE,\n                            auto_create_table=True,\n                            overwrite=True,\n                            table_type=\"temporary\")",
   "execution_count": null
  },
  {
   "cell_type": "code",
   "id": "b9b315c8-7442-4cdd-b6e3-be9b6a59cc8a",
   "metadata": {
    "language": "sql",
    "name": "labels_query"
   },
   "outputs": [],
   "source": "-- create or replace table prod.raw.mend_labels\n-- (id int,\n-- uuid string,\n-- value string, \n-- system boolean,\n-- createdAt timestamp_tz,\n-- createdBy string, \n-- namespace string, \n-- applications int,\n-- projects int,\n-- timestamp timestamp_tz);\n\n-- truncate table prod.raw.mend_labels;\n\ninsert overwrite into prod.raw.mend_labels\nselect\n\"id\",\n\"uuid\",\n\"value\" , \n\"system\" ,\n\"createdAt\" ,\n\"createdBy\" , \n\"namespace\" , \n\"applications\" ,\n\"projects\" ,\ncurrent_timestamp as timestamp\nfrom \nPYTHON_LABELS;\n\n-- select top 15 * from prod.raw.mend_labels",
   "execution_count": null
  },
  {
   "cell_type": "markdown",
   "id": "0755f958-1e55-4ad3-ac6e-ddaddeb243da",
   "metadata": {
    "name": "cell8",
    "collapsed": false
   },
   "source": "# Mend Security alerts per project\n\nhttps://api-docs.mend.io/platform/3.0/findings-project/getsecurityvulnerabilityfindings"
  },
  {
   "cell_type": "code",
   "id": "e1bed61b-cb9e-4b52-aeaa-68c73045ee61",
   "metadata": {
    "language": "python",
    "name": "alerts_per_project_function"
   },
   "outputs": [],
   "source": "# \n\nalerts_per_project = api.get_alerts_per_project()\nalerts_per_project",
   "execution_count": null
  },
  {
   "cell_type": "code",
   "id": "cafec3bb-6474-40be-96f9-72aae88e0ff5",
   "metadata": {
    "language": "python",
    "name": "alerts_per_project_session",
    "codeCollapsed": false
   },
   "outputs": [],
   "source": "\nALERTS_PER_PROJECT_TABLE = 'PYTHON_ALERTS_PER_PROJECT'\n\nsession.write_pandas(alerts_per_project,\n                            table_name=ALERTS_PER_PROJECT_TABLE,\n                            auto_create_table=True,\n                            overwrite=True,\n                            table_type=\"temporary\")",
   "execution_count": null
  },
  {
   "cell_type": "code",
   "id": "b1293fb8-67f4-48f9-9e4c-9f88a860ccb8",
   "metadata": {
    "language": "sql",
    "name": "alerts_per_project_query"
   },
   "outputs": [],
   "source": "-- create or replace table prod.raw.mend_security_alerts_per_project\n-- (\n-- name string,\n-- uuid string,\n-- topFix object,\n-- project object,\n-- component object,\n-- -- effective string,\n-- application object,\n-- exploitable boolean,\n-- vulnerability object,\n-- threatAssessment object,\n-- scoreMetadataVector string,\n-- status string,\n-- detected_at  timestamp_tz,\n-- modified_at timestamp_tz,\n-- type string,\n-- timestamp timestamp_tz\n-- );\n\n-- truncate table prod.raw.mend_security_alerts_per_project;\n\n\ninsert overwrite into prod.raw.mend_security_alerts_per_project\nselect \n\"name\" ,\n\"uuid\" ,\n\"topFix\" ,\n\"project\" ,\n\"component\" ,\n-- \"effective\" ,\n\"application\" ,\n\"exploitable\" ,\n\"vulnerability\" ,\n\"threatAssessment\" ,\n\"scoreMetadataVector\" ,\n\"status\" ,\n\"detected_at\"  ,\n\"modified_at\" ,\n\"type\" ,\ncurrent_timestamp as timestamp\nfrom PYTHON_ALERTS_PER_PROJECT;\n\n-- select top 15 * from prod.raw.mend_security_alerts_per_project",
   "execution_count": null
  },
  {
   "cell_type": "markdown",
   "id": "b279632b-91d7-46b5-8a54-6cc183e3cc80",
   "metadata": {
    "name": "alerts_per_library_doc",
    "collapsed": false
   },
   "source": "\n# Mend Security alerts per Library\n\nhttps://api-docs.mend.io/sca/2.0/alerts-project/getlibrarysecurityvulnerabilityalerts"
  },
  {
   "cell_type": "code",
   "id": "08354c3e-a3ef-44b7-b526-b50a05c1e5f7",
   "metadata": {
    "language": "python",
    "name": "alerts_per_library_function"
   },
   "outputs": [],
   "source": "\n# unique_uuid = projects['uuid'].unique().tolist()\n\nalerts_per_library = api.get_alerts_per_library()\nalerts_per_library",
   "execution_count": null
  },
  {
   "cell_type": "code",
   "id": "c03330e6-09e6-424d-9abe-fc12ed38c7c0",
   "metadata": {
    "language": "python",
    "name": "alerts_per_library_session",
    "codeCollapsed": false
   },
   "outputs": [],
   "source": "\nPYTHON_ALERTS_PER_LIBRARY_TABLE = 'PYTHON_ALERTS_PER_LIBRARY'\n\nsession.write_pandas(alerts_per_library,\n                     table_name=PYTHON_ALERTS_PER_LIBRARY_TABLE,\n                     auto_create_table=True,\n                     overwrite=True,\n                     table_type=\"temporary\")\n",
   "execution_count": null
  },
  {
   "cell_type": "code",
   "id": "dd21e3fb-86af-4024-9ec7-521593a7f2b5",
   "metadata": {
    "language": "sql",
    "name": "alerts_per_library_query"
   },
   "outputs": [],
   "source": "\n-- create or replace table prod.raw.mend_security_alerts_per_library\n-- (\n-- name string,\n-- uuid string,\n-- total int,\n-- lowNum int,\n-- status string,\n-- highNum int,\n-- product variant,\n-- project variant,\n-- lastScan timestamp_tz,\n-- severity string,\n-- component variant,\n-- effective string,\n-- ignoreNum int,\n-- malicious boolean,\n-- mediumNum int,\n-- detectedAt timestamp_tz,\n-- modifiedAt timestamp_tz,\n-- criticalNum int,\n-- exploitable boolean,\n-- libraryType string,\n-- publishedAt timestamp_tz,\n-- reachability string,\n-- numOfMalicious int,\n-- numOfReachable int,\n-- lastCveUpdatedAt timestamp_tz,\n-- exploitCodeMaturity string,\n-- timestamp timestamp_tz\n-- );\n\n-- truncate table prod.raw.mend_security_alerts_per_library;\n\ninsert overwrite into prod.raw.mend_security_alerts_per_library\nselect\n\"name\",\n\"uuid\",\n\"total\",\n\"lowNum\",\n\"status\",\n\"highNum\",\n\"product\",\n\"project\",\n\"lastScan\",\n\"severity\",\n\"component\",\n\"effective\",\n\"ignoreNum\",\n\"malicious\",\n\"mediumNum\",\n\"detectedAt\",\n\"modifiedAt\",\n\"criticalNum\",\n\"exploitable\",\n\"libraryType\",\n\"publishedAt\",\n\"reachability\",\n\"numOfMalicious\",\n\"numOfReachable\",\n\"lastCveUpdatedAt\",\n\"exploitCodeMaturity\",\ncurrent_timestamp as timestamp\nfrom PYTHON_ALERTS_PER_LIBRARY;\n\n-- select top 15 * from prod.raw.mend_security_alerts_per_library",
   "execution_count": null
  },
  {
   "cell_type": "markdown",
   "id": "d428541a-6965-4afa-b600-3c8302509910",
   "metadata": {
    "name": "vulnerabilities_project_doc",
    "collapsed": false
   },
   "source": "# Mend Vulnerabilities Project\nhttps://api-docs.mend.io/sca/2.0/summary-organization/getvulnerablelibscountbyprojects"
  },
  {
   "cell_type": "code",
   "id": "a6623fcb-4e6f-4f8f-8ca1-a6b6bfde18e9",
   "metadata": {
    "language": "python",
    "name": "vulnerabilities_project__function"
   },
   "outputs": [],
   "source": "vulnerabilities_project = api.get_vulnerabilities_project()\n",
   "execution_count": null
  },
  {
   "cell_type": "code",
   "id": "66ffdf30-f25a-4857-bd7a-d2e36ecf1af8",
   "metadata": {
    "language": "python",
    "name": "vulnerabilities_session",
    "codeCollapsed": false
   },
   "outputs": [],
   "source": "VULNERABILITIES_PROJECT_TABLE = 'PYTHON_VULNERABILITIES_PROJECT'\n\nsession.write_pandas(vulnerabilities_project,\n                     table_name=VULNERABILITIES_PROJECT_TABLE,\n                     auto_create_table=True,\n                     overwrite=True,\n                     table_type=\"temporary\")",
   "execution_count": null
  },
  {
   "cell_type": "code",
   "id": "7e75d7ab-a0c5-419c-8d8c-7dafdc5678ee",
   "metadata": {
    "language": "sql",
    "name": "cell1"
   },
   "outputs": [],
   "source": "-- create or replace table prod.raw.mend_vulnerabilities_project\n-- (\n-- uuid string,\n-- productName string,\n-- projectName string,\n-- vulnerableLibraries int,\n-- timestamp timestamp_tz\n-- );\n\n-- truncate table prod.raw.mend_vulnerabilities_project;\n\ninsert overwrite into prod.raw.mend_vulnerabilities_project\nselect\n\"uuid\",\n\"productName\",\n\"projectName\",\n\"vulnerableLibraries\",\ncurrent_timestamp as timestamp\nfrom PYTHON_VULNERABILITIES_PROJECT;\n\n-- select top 15 * from prod.raw.mend_vulnerabilities_project",
   "execution_count": null
  },
  {
   "cell_type": "markdown",
   "id": "0fa11400-1db8-46e1-9d69-f9097ef784fd",
   "metadata": {
    "name": "project_due_diligence_doc",
    "collapsed": false
   },
   "source": "# Mend Project Due Diligence\nhttps://api-docs.mend.io/test/mend_api_3.0_swagger/findings-project/getduediligenceinfobymultiplecontexts"
  },
  {
   "cell_type": "code",
   "id": "bc73d6cb-0990-46a0-b857-217444f47f36",
   "metadata": {
    "language": "python",
    "name": "project_due_diligence__function"
   },
   "outputs": [],
   "source": "# unique_uuid = projects['uuid'].unique().tolist()\n\nproject_due_diligence = api.get_project_due_diligence()\nproject_due_diligence",
   "execution_count": null
  },
  {
   "cell_type": "code",
   "id": "5f2a7502-9c04-4116-a4eb-79d08b24194a",
   "metadata": {
    "language": "python",
    "name": "project_due_diligence_session",
    "codeCollapsed": false
   },
   "outputs": [],
   "source": "\nPROJECT_DUE_DILIGENCE_TABLE = 'PYTHON_PROJECT_DUE_DILIGENCE'\n\nsession.write_pandas(project_due_diligence,\n                         table_name=PROJECT_DUE_DILIGENCE_TABLE,\n                         auto_create_table=True,\n                         overwrite=True,\n                         table_type=\"temporary\")",
   "execution_count": null
  },
  {
   "cell_type": "code",
   "id": "799a2ce6-0e03-47ef-81a9-cd56b987ba0d",
   "metadata": {
    "language": "sql",
    "name": "project_due_diligence_query"
   },
   "outputs": [],
   "source": "-- create or replace table prod.raw.mend_project_due_diligence\n-- (\n-- uuid string,\n-- name string,\n-- license variant,\n-- project variant,\n-- component variant,\n-- extradata variant,\n-- riskscore variant,\n-- copyrights string,\n-- timestamp timestamp_tz\n-- );\n\n-- truncate table prod.raw.mend_project_due_diligence;\n\n\ninsert overwrite into prod.raw.mend_project_due_diligence\nselect\n\"uuid\",\n\"name\",\n\"license\",\n\"project\",\n\"component\",\n\"extraData\",\n\"riskScore\",\n\"copyrights\",\ncurrent_timestamp as timestamp\nfrom PYTHON_PROJECT_DUE_DILIGENCE\nwhere \"uuid\" is not null;\n\n-- select top 15 * from prod.raw.mend_project_due_diligence",
   "execution_count": null
  },
  {
   "cell_type": "markdown",
   "id": "660b0709-f8ac-40a1-919c-4e2f9697ee2b",
   "metadata": {
    "name": "cell6"
   },
   "source": "\n# Mend License Policy Violations\nhttps://api-docs.mend.io/sca/2.0/alerts-project/getlegalandcompliancealerts"
  },
  {
   "cell_type": "code",
   "id": "79fc411c-bd3d-4065-b920-4d3926677251",
   "metadata": {
    "language": "python",
    "name": "license_policy_violations_function"
   },
   "outputs": [],
   "source": "# policy_violations = projects['applicationUuid'].tolist()\n\nlicense_policy_violations = api.get_license_policy_violations()\nlicense_policy_violations\n                                                                   ",
   "execution_count": null
  },
  {
   "cell_type": "code",
   "id": "6a0f1d16-4359-4e9a-aed7-d39db056e854",
   "metadata": {
    "language": "python",
    "name": "license_policy_violations_session",
    "codeCollapsed": false
   },
   "outputs": [],
   "source": "LICENSE_POLICY_VIOLATIONS_TABLE = 'PYTHON_LICENCE_POLICY_VIOLATIONS'\n\nsession.write_pandas(license_policy_violations,\n                     table_name=LICENSE_POLICY_VIOLATIONS_TABLE,\n                     auto_create_table=True,\n                     overwrite=True,\n                     table_type=\"temporary\")\n",
   "execution_count": null
  },
  {
   "cell_type": "code",
   "id": "0825a0f8-dcfb-43a6-95cb-73665c93dca7",
   "metadata": {
    "language": "sql",
    "name": "license_policy_violations_query"
   },
   "outputs": [],
   "source": "-- create or replace table prod.raw.mend_license_policy_violations\n-- (\n-- name string,\n-- type string,\n-- uuid string,\n-- project variant,\n-- component variant,\n-- policyName string,\n-- status string,\n-- detected_at timestamp_tz,\n-- modified_at timestamp_tz,\n-- timestamp timestamp_tz\n-- );\n\n-- truncate table prod.raw.mend_license_policy_violations;\n\n\ninsert overwrite into prod.raw.mend_license_policy_violations\nselect\n\"name\",\n\"type\",\n\"uuid\",\n\"project\",\n\"component\",\n\"policyName\",\n\"status\",\n\"detected_at\",\n\"modified_at\",\ncurrent_timestamp as timestamp\nfrom PYTHON_LICENCE_POLICY_VIOLATIONS;\n\n-- select top 15 * from prod.raw.mend_license_policy_violations",
   "execution_count": null
  }
 ]
}