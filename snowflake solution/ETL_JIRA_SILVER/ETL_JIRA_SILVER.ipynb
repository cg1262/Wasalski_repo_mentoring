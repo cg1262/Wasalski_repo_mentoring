{
 "metadata": {
  "kernelspec": {
   "display_name": "Streamlit Notebook",
   "name": "streamlit"
  },
  "lastEditStatus": {
   "notebookId": "ozxinwlzdyqaom2n2icu",
   "authorId": "557922832688",
   "authorName": "MTWA",
   "authorEmail": "mtwa@softwaremind.com",
   "sessionId": "9b021387-b6ad-4c13-99d6-7bbc7a8c638b",
   "lastEditTime": 1752046564447
  }
 },
 "nbformat_minor": 5,
 "nbformat": 4,
 "cells": [
  {
   "cell_type": "markdown",
   "id": "8fb9f1f0-7118-4fe3-8567-7c14693fe008",
   "metadata": {
    "name": "cell15"
   },
   "source": "-- create or replace TABLE prod.silver.JIRA_COMPONENTS_MAPPED as\n-- select * from METRICS.STAGED.JIRA_COMPONENTS_MAPPED"
  },
  {
   "cell_type": "code",
   "id": "dd3c4627-8af1-4d05-8960-e1dc820ac737",
   "metadata": {
    "language": "sql",
    "name": "cell7"
   },
   "outputs": [],
   "source": "ALTER SESSION SET TIMEZONE = 'Europe/London';",
   "execution_count": null
  },
  {
   "cell_type": "code",
   "id": "95629ea1-92fd-4c83-97de-ba8a669fc358",
   "metadata": {
    "language": "sql",
    "name": "cell17"
   },
   "outputs": [],
   "source": "\n-- insert into prod.silver.jira_issues\n-- select * from metrics.staged.jira_issues",
   "execution_count": null
  },
  {
   "cell_type": "code",
   "id": "0c2ad6a9-39d2-43b7-adb3-5ae02ed785b8",
   "metadata": {
    "language": "sql",
    "name": "cell4"
   },
   "outputs": [],
   "source": "-- alter table prod.silver.jira_issues add GOALS varchar",
   "execution_count": null
  },
  {
   "cell_type": "code",
   "id": "41d854ed-6093-4879-99b0-cd9cff89c465",
   "metadata": {
    "language": "sql",
    "name": "issues",
    "codeCollapsed": false
   },
   "outputs": [],
   "source": "-- jira issues\ninsert into prod.silver.jira_issues\n-- create or replace table prod.silver.jira_issues as\nselect\n\"id\"::text AS ID,\n\"key\"::text as key,\nto_timestamp_tz(\n            REGEXP_REPLACE(parse_json(\"versionedRepresentations\"):\"created\".\"1\", '(\\\\d{2})(\\\\d{2})$', '\\\\1:\\\\2')\n            ) AS CREATED,\nto_timestamp_tz(\n            REGEXP_REPLACE(parse_json(\"versionedRepresentations\"):\"updated\".\"1\", '(\\\\d{2})(\\\\d{2})$', '\\\\1:\\\\2')\n            ) AS UPDATED,\n-- -- jira.value:\"renderedFields\".\"created\" as created,\n-- -- jira.value:\"renderedFields\".\"updated\" as updated,\nparse_json(\"versionedRepresentations\"):\"project\".\"1\".\"id\"::TEXT as projectid, \n\nparse_json(\"versionedRepresentations\"):\"project\".\"1\".\"key\"::TEXT as projectkey,\nto_date(\n            REGEXP_REPLACE(parse_json(\"versionedRepresentations\"):\"duedate\".\"1\", '(\\\\d{2})(\\\\d{2})$', '\\\\1:\\\\2')\n            ) AS due_date,\nparse_json(\"versionedRepresentations\"):\"status\".\"1\".\"name\"::text AS CURRENTSTATUS,  parse_json(\"versionedRepresentations\"):\"assignee\".\"1\".\"displayName\"::text as ASSIGNEE,    \nparse_json(\"versionedRepresentations\"):\"reporter\".\"1\".\"displayName\"::text as reporter, \nto_timestamp_tz(\n            REGEXP_REPLACE(parse_json(\"versionedRepresentations\"):\"resolutiondate\".\"1\", '(\\\\d{2})(\\\\d{2})$', '\\\\1:\\\\2')\n            ) AS resolution_date, \n\nparse_json(\"versionedRepresentations\"):\"resolutiondate\".\"1\"::text as resolution_date_string, \nparse_json(\"versionedRepresentations\"):\"summary\".\"1\"::text as summary, \nparse_json(\"versionedRepresentations\"):\"customfield_10006\".\"1\"::int as storypoint, \nparse_json(\"versionedRepresentations\"):\"customfield_11328\".\"1\".\"value\"::TEXT as OWNER_TEAM,\nparse_json(\"versionedRepresentations\"):\"priority\".\"1\".\"name\"::text as priority, \nparse_json(\"versionedRepresentations\"):\"customfield_11418\".\"1\".\"value\"::TEXT as ISSUE_CATEGORY,\n\nparse_json(\"versionedRepresentations\"):\"customfield_10017\".\"1\".\"value\"::TEXT as impact,\nparse_json(\"versionedRepresentations\"):\"customfield_11365\".\"1\".\"value\"::TEXT as  ROOT_CAUSE_CATEGORY,\nparse_json(\"versionedRepresentations\"):\"customfield_10206\".\"1\".\"value\"::TEXT as CLIENT_NAME,\nparse_json(\"fields\"):\"customfield_10028\"::TEXT as ROOT_CAUSE,\nparse_json(\"versionedRepresentations\"):\"components\".\"1\"[0].\"name\"::text as COMPONENTS,\nparse_json(\"fields\"):\"parent\".\"fields\".\"issuetype\".\"name\"::TEXT as ISSUETYPE,\n\n\nparse_json(\"versionedRepresentations\"):\"customfield_10004\".\"1\"[0].\"name\"::TEXT AS SPRINTNAME,\nparse_json(\"versionedRepresentations\"):\"customfield_10004\".\"1\"[0].\"id\"::TEXT AS SPRINTID,\nparse_json(\"versionedRepresentations\"):\"customfield_10004\".\"1\"[0].\"boardId\"::TEXT AS BOARDID,\n-- parse_json(\"versionedRepresentations\"):\"customfield_10004\".\"1\"[0].\"completeDate\"::TEXT AS completeDate,\n\n-- parse_json(\"versionedRepresentations\"):\"customfield_10004\".\"1\"[0].\"endDate\"::TEXT AS endDate,\n-- parse_json(\"versionedRepresentations\"):\"customfield_10004\".\"1\"[0].\"startDate\"::TEXT AS startDate,\n-- parse_json(\"versionedRepresentations\"):\"customfield_10004\".\"1\"[0].\"state\"::TEXT AS state,\nparse_json(\"versionedRepresentations\"):\"customfield_11443\".\"1\".\"value\"::text as  Bug_Discovery_11443,\nparse_json(\"versionedRepresentations\"):\"customfield_11898\".\"1\".\"value\"::text as  Failure_Rate_11898,\n\nparse_json(\"versionedRepresentations\"):\"customfield_11763\".\"1\".\"value\"::variant as  Change_Failure_11763,\nparse_json(\"versionedRepresentations\"):\"customfield_11310\".\"1\"::text as  INHERENT_RISK_11310,\n\nparse_json(\"versionedRepresentations\"):\"customfield_11575\".\"1\".\"value\"::text as  INHERENT_RISK_LEVEL_11575,\n-- parse_json(\"versionedRepresentations\")::variant as vRepr,\ncurrent_timestamp as timestamp,\nparse_json(\"versionedRepresentations\"):\"customfield_11765\".\"1\"[0].\"id\"::text as  GOALS,\n\nfrom prod.raw.jira_issues\n-- WHERE GOALS IS NOT NULL\n-- LATERAL FLATTEN(input => response_json) AS jira\n\n",
   "execution_count": null
  },
  {
   "cell_type": "markdown",
   "id": "12f4b1e7-2b9c-48df-bce1-b475bf358bc9",
   "metadata": {
    "name": "cell5",
    "collapsed": false
   },
   "source": "-- insert into prod.silver.jira_issues\n-- select * from metrics.staged.jira_issues"
  },
  {
   "cell_type": "code",
   "id": "4ea177ae-ea8a-4794-99b6-e941361123c1",
   "metadata": {
    "language": "sql",
    "name": "issues_dedup",
    "codeCollapsed": false
   },
   "outputs": [],
   "source": "INSERT OVERWRITE INTO prod.silver.jira_issues (\n  ID,\n  KEY,\n  CREATED,\n  UPDATED,\n  PROJECTID,\n  PROJECTKEY,\n  DUE_DATE,\n  CURRENTSTATUS,\n  ASSIGNEE,\n  REPORTER,\n  RESOLUTION_DATE,\n  RESOLUTION_DATE_STRING,\n  SUMMARY,\n  STORYPOINT,\n    OWNER_TEAM,\n  PRIORITY,\n\n  ISSUE_CATEGORY,\n  IMPACT,\n  ROOT_CAUSE_CATEGORY,\n  CLIENT_NAME,\n  ROOT_CAUSE,\n\n  COMPONENTS,\n    ISSUETYPE,\n  SPRINTNAME,\n  SPRINTID,\n  BOARDID,\n  \"Bug_Discovery_11443\",\n  \"Failure_Rate_11898\",\n  \"Change_Failure_11763\",\n  INHERENT_RISK_11310,\n  INHERENT_RISK_LEVEL_11575,\n  TIMESTAMP,\n  GOALS\n)\nWITH ranked_issues AS (\n  SELECT \n    ID,\n    KEY,\n    CREATED,\n    UPDATED,\n    PROJECTID,\n    PROJECTKEY,\n    DUE_DATE,\n    CURRENTSTATUS,\n    ASSIGNEE,\n    REPORTER,\n    RESOLUTION_DATE,\n    RESOLUTION_DATE_STRING,\n    SUMMARY,\n    STORYPOINT,\n      OWNER_TEAM,\n    PRIORITY,\n    ISSUE_CATEGORY,\n    IMPACT,\n    ROOT_CAUSE_CATEGORY,\n    CLIENT_NAME,\n    ROOT_CAUSE,\n\n    COMPONENTS,\n        ISSUETYPE,\n    SPRINTNAME,\n    SPRINTID,\n    BOARDID,\n  \"Bug_Discovery_11443\",\n  \"Failure_Rate_11898\",\n  \"Change_Failure_11763\",\n    INHERENT_RISK_11310,\n    INHERENT_RISK_LEVEL_11575,\n    TIMESTAMP,\n    GOALS,\n    ROW_NUMBER() OVER (PARTITION BY ID ORDER BY UPDATED DESC) AS RN\n  FROM prod.silver.jira_issues\n)\nSELECT \n  ID,\n  KEY,\n  CREATED,\n  UPDATED,\n  PROJECTID,\n  PROJECTKEY,\n  DUE_DATE,\n  CURRENTSTATUS,\n  ASSIGNEE,\n  REPORTER,\n  RESOLUTION_DATE,\n  RESOLUTION_DATE_STRING,\n  SUMMARY,\n  STORYPOINT,\n    OWNER_TEAM,\n  PRIORITY,\n  ISSUE_CATEGORY,\n  IMPACT,\n  ROOT_CAUSE_CATEGORY,\n  CLIENT_NAME,\n  ROOT_CAUSE,\n\n  COMPONENTS,\n    ISSUETYPE,\n  SPRINTNAME,\n  SPRINTID,\n  BOARDID,\n  \"Bug_Discovery_11443\",\n  \"Failure_Rate_11898\",\n  \"Change_Failure_11763\",\n  INHERENT_RISK_11310,\n  INHERENT_RISK_LEVEL_11575,\n  TIMESTAMP,\n  GOALS\nFROM ranked_issues\nWHERE RN = 1;\n",
   "execution_count": null
  },
  {
   "cell_type": "code",
   "id": "7774312d-fabb-4439-907e-5ed38030572d",
   "metadata": {
    "language": "sql",
    "name": "issues_changes",
    "codeCollapsed": false
   },
   "outputs": [],
   "source": "-- -- -- -- jira issues changes\ninsert into prod.silver.jira_issues_changes \nSELECT \n\"id\"::int as issueid,\n\"key\"::text as KEY,\nDATE(SUBSTRING(parse_json(\"changelog\"):\"histories\"[0].\"created\"::string, 1, CHARINDEX('T', parse_json(\"changelog\"):\"histories\"[0].\"created\"::string) - 1)) AS createddate,\nparse_json(\"changelog\"):\"histories\"[0].\"id\"::string as changeid,\nparse_json(\"changelog\"):\"histories\"[0].\"items\"[0].\"fromString\"::string  AS fromState,\nparse_json(\"changelog\"):\"histories\"[0].\"items\"[0].\"toString\"::string AS toState,\ncurrent_timestamp as timestamp\nFROM\nprod.raw.jira_issues\nWHERE parse_json(\"changelog\"):\"histories\"[0].\"items\"[0].\"field\"::string = 'status';\n-- where jira.value:\"key\" = 'RM-1652'",
   "execution_count": null
  },
  {
   "cell_type": "code",
   "id": "eb1e1f1a-347d-43f9-a2dd-90fa4271d455",
   "metadata": {
    "language": "sql",
    "name": "issues_changes_dedup"
   },
   "outputs": [],
   "source": "INSERT OVERWRITE INTO prod.silver.jira_issues_changes\nWITH ranked_issues AS (\n  SELECT \n    issueid,\n    KEY,\n    createddate,\n    changeid,\n    fromState,\n    toState,\n    timestamp,\n    ROW_NUMBER() OVER (\n      PARTITION BY (issueid || '-' || KEY || '-' || createddate || '-' || changeid || '-' || fromState || '-' || toState)\n      ORDER BY timestamp DESC\n    ) AS RN\n  FROM prod.silver.jira_issues_changes\n)\nSELECT \n  issueid,\n  KEY,\n  createddate,\n  changeid,\n  fromState,\n  toState,\n  timestamp\nFROM ranked_issues\nWHERE RN = 1;\n",
   "execution_count": null
  },
  {
   "cell_type": "code",
   "id": "2c3fa241-7b0f-4cd6-b011-20d924e531ac",
   "metadata": {
    "language": "sql",
    "name": "issues_changes_TLS"
   },
   "outputs": [],
   "source": "insert into prod.silver.JIRA_ISSUES_CHANGES_OwnerTeam_TLS \nSELECT \n\"id\"::int as ISSUEID,\n\"key\"::text as KEY,\nDATE(SUBSTRING(parse_json(\"changelog\"):\"histories\"[0].\"created\"::string, 1, CHARINDEX('T', parse_json(\"changelog\"):\"histories\"[0].\"created\"::string) - 1)) AS CREATEDDATE,\nparse_json(\"changelog\"):\"histories\"[0].\"id\"::string as changeid,\nparse_json(\"changelog\"):\"histories\"[0].\"items\"[0].\"fromString\"::string  AS FROMOWNERTEAM,\nparse_json(\"changelog\"):\"histories\"[0].\"items\"[0].\"toString\"::string AS TOOWNERTEAM,\ncurrent_timestamp as timestamp\nFROM\nprod.raw.jira_issues\nWHERE \n-- parse_json(\"changelog\"):\"histories\"[0].\"items\"[0].\"field\"::string = 'Owner Team' and \n\"key\" like 'TLS%';",
   "execution_count": null
  },
  {
   "cell_type": "code",
   "id": "2b4fb6c3-92b8-4b16-9477-a195dc267daf",
   "metadata": {
    "language": "sql",
    "name": "issues_changes_TLS_dedup"
   },
   "outputs": [],
   "source": "INSERT OVERWRITE INTO prod.silver.JIRA_ISSUES_CHANGES_OwnerTeam_TLS\nWITH ranked_issues AS (\n  SELECT \n    issueid,\n    KEY,\n    CREATEDDATE,\n    changeid,\n    FROMOWNERTEAM,\n    TOOWNERTEAM,\n    timestamp,\n    ROW_NUMBER() OVER (\n      PARTITION BY (issueid || '-' || KEY || '-' || CREATEDDATE || '-' || changeid || '-' || FROMOWNERTEAM || '-' || TOOWNERTEAM)\n      ORDER BY timestamp DESC\n    ) AS RN\n  FROM prod.silver.JIRA_ISSUES_CHANGES_OwnerTeam_TLS\n)\nSELECT \n    issueid,\n    KEY,\n    CREATEDDATE,\n    changeid,\n    FROMOWNERTEAM,\n    TOOWNERTEAM,\n    timestamp,\nFROM ranked_issues\nWHERE RN = 1;",
   "execution_count": null
  },
  {
   "cell_type": "code",
   "id": "9c6c115b-a8ea-4628-a08d-25a8764669fe",
   "metadata": {
    "language": "sql",
    "name": "silver_projects"
   },
   "outputs": [],
   "source": "-- jira projects\n\n    CREATE OR REPLACE TABLE prod.silver.JIRA_PROJECTS as\nSELECT\nid,\nkey,\nname,\nisprivate,\nprojecttypekey\n,current_timestamp as timestamp\nFROM prod.raw.JIRA_PROJECTS;\n\nselect * from prod.silver.JIRA_PROJECTS;",
   "execution_count": null
  },
  {
   "cell_type": "code",
   "id": "c2ce9b14-efd3-4b97-8b87-88797b12f541",
   "metadata": {
    "language": "sql",
    "name": "silver_boards"
   },
   "outputs": [],
   "source": "-- jira boards\n-- CREATE OR REPLACE table prod.silver.jira_boards\n-- (\n-- id int,\n-- name varchar,\n-- type varchar,\n-- projectid int, \n-- projectkey varchar,\n-- sprintid int,\n-- currentsprinturl varchar,\n-- timestamp timestamp_tz\n-- );\n\ntruncate prod.silver.jira_boards;\n\ninsert into prod.silver.jira_boards\nWITH sprintBoard AS (\n SELECT\n    sprintId,\n    boardid\n  FROM\n    metrics.staged.jira_issues \n  group by \n  sprintId,boardid\n  having boardid is not NULL\n)\nSELECT \nId,\nName,\nType,\nProjectId,\nProjectKey,\nsb.sprintid,\nCONCAT('https://phlexglobal.atlassian.net/jira/software/c/projects/', ProjectKey , '/boards/' , Id,'?sprints=',sb.sprintid) AS CurrentSprintUrl\n  ,current_timestamp as timestamp\nFROM prod.raw.jira_boards b\njoin sprintBoard sb ON sb.boardid = b.Id;\n\n-- select * from prod.silver.jira_boards",
   "execution_count": null
  },
  {
   "cell_type": "code",
   "id": "332740a6-0565-4072-ade1-3832bffbe3dd",
   "metadata": {
    "language": "sql",
    "name": "silver_sprints"
   },
   "outputs": [],
   "source": "-- jira sprints\n\n-- # ----- # ----- # -----# ----- #\n\n-- CREATE OR REPLACE table prod.silver.jira_sprints\n-- (id int,\n-- name varchar,\n-- state varchar,\n-- enddate date,\n-- startdate date,\n-- createddate date,\n-- completedate varchar,\n-- timestamp timestamp_tz);\n\ntruncate table prod.silver.jira_sprints;\n\ninsert into prod.silver.jira_sprints\nSELECT distinct\nid,\nname,\nstate,\nenddate,\nstartdate,\ncreateddate,\ncompletedate\n  ,current_timestamp as timestamp\nFROM prod.raw.jira_sprints;\n\nselect * from prod.silver.jira_sprints\nwhere state <> 'closed'",
   "execution_count": null
  },
  {
   "cell_type": "code",
   "id": "29ef7e47-e469-453b-bd1c-f082fd6c6050",
   "metadata": {
    "language": "sql",
    "name": "silver_project_versions",
    "codeCollapsed": false
   },
   "outputs": [],
   "source": "-- jira project versions\n\n-- CREATE OR REPLACE TABLE prod.silver.JIRA_PROJECT_VERSIONS (\n--     id STRING,\n--     name STRING,\n--     self STRING,\n--     overdue BOOLEAN,\n--     archived BOOLEAN,\n--     released BOOLEAN,\n--     projectid STRING,\n--     startdate DATE,\n--     description STRING,\n--     releasedate DATE,\n--     userstartdate DATE,\n-- timestamp timestamp_tz);\n\n\ntruncate table prod.silver.JIRA_PROJECT_VERSIONS;\n\ninsert into prod.silver.JIRA_PROJECT_VERSIONS\nSELECT\nid,\nname,\nself,\noverdue,\narchived,\nreleased,\nprojectid,\nstartdate,\ndescription,\nreleasedate,\nuserstartdate\n  ,current_timestamp as timestamp\nFROM prod.raw.JIRA_PROJECT_VERSIONS;\n\nselect * from prod.silver.JIRA_PROJECT_VERSIONS;",
   "execution_count": null
  },
  {
   "cell_type": "code",
   "id": "9c22a1f2-e6f2-47c2-bc30-28b06f2aaaf7",
   "metadata": {
    "language": "sql",
    "name": "silver_change_lead_time",
    "codeCollapsed": false
   },
   "outputs": [],
   "source": "-- -- jira change lead time\n\nCREATE OR REPLACE TABLE prod.silver.JIRA_CHANGE_LEAD_TIME\nAS\nSELECT \nic.issueid AS issueId,\nMAX(CASE WHEN fromstate = 'To Do' AND tostate <> 'To Do' THEN createddate END) AS toDoDate,\nMAX(CASE WHEN fromstate <> 'Done' AND tostate = 'Done' THEN createddate END) AS doneDate,\nCAST(TIMESTAMPDIFF(DAY, \n        MAX(CASE WHEN fromstate = 'To Do' AND tostate <> 'To Do' THEN createddate END),\n        MAX(CASE WHEN fromstate <> 'Done' AND tostate = 'Done' THEN createddate END)\n    )AS INTEGER)+1 AS duration\n      ,current_timestamp as timestamp\nFROM prod.silver.JIRA_ISSUES_CHANGES ic\nJOIN prod.silver.JIRA_ISSUES i on ic.issueid=i.id\nWHERE i.currentstatus='Done'\nAND (fromstate = 'To Do' OR tostate = 'Done')\nGROUP BY\nic.issueid,i.currentstatus\nHAVING\nToDoDate IS NOT NULL AND DoneDate IS NOT NULL;\n\nselect * from prod.silver.JIRA_CHANGE_LEAD_TIME",
   "execution_count": null
  },
  {
   "cell_type": "code",
   "id": "4d36c19c-77e0-4292-b4c7-03a6571cb76c",
   "metadata": {
    "language": "sql",
    "name": "silver_sprint_issues"
   },
   "outputs": [],
   "source": "CREATE OR REPLACE TABLE prod.silver.JIRA_SPRINT_ISSUES as\nSELECT\nid,\nISSUE_KEY as key,\nISSUE_ID as issueid,\nsprint_id as sprintid,\ncreated,\nupdated\n  ,current_timestamp as timestamp\nFROM prod.raw.JIRA_SPRINT_ISSUES_SNOWFLAKE;\n\nselect * from prod.silver.JIRA_SPRINT_ISSUES;",
   "execution_count": null
  },
  {
   "cell_type": "code",
   "id": "523e4c88-7103-425a-8273-a5a0917e4e1a",
   "metadata": {
    "language": "sql",
    "name": "silver_sprint_velocity",
    "codeCollapsed": false
   },
   "outputs": [],
   "source": "-- jira sprint velocity\n\n-- CREATE OR REPLACE TABLE prod.silver.JIRA_SPRINT_VELOCITY (\n--     sprintid STRING,\n--    sprintname STRING,\n--     startdate DATE,\n--     enddate DATE,\n--     sprint_duration INT,\n--     issues_created INT,\n--     issues_completed INT,\n--     velocity FLOAT,\n--     sprint_success_rate_perc FLOAT\n-- );\n\n\ntruncate table prod.silver.JIRA_SPRINT_VELOCITY;\n\ninsert into prod.silver.JIRA_SPRINT_VELOCITY\nWITH completed_issues AS (\n SELECT\n    s.id as sprintid,\n    s.name as sprintname,\n    COUNT(DISTINCT i.key) as issues_completed\n  FROM\n        prod.silver.JIRA_SPRINTS s\n  JOIN\n    prod.silver.JIRA_SPRINT_ISSUES i ON s.id=i.sprintid\nJOIN prod.silver.jira_issues_changes ic on ic.createddate BETWEEN DATE(s.startdate) AND DATE(s.completedate)\nAND ic.issueid=i.issueid\n    AND ic.tostate = 'Done'\n    GROUP BY\n    s.id,\n    s.name\n)\n\nSELECT\n  s.id as sprintid,\n  s.name as sprintname,\n  DATE(s.startdate) as startdate,\n  DATE(s.completedate) enddate,\n  DATEDIFF(day, s.startdate, s.completedate) AS sprint_duration,\n  COUNT(DISTINCT i.issueid) AS issues_created,\n  COALESCE(ci.issues_completed, 0) AS issues_completed,\n  COALESCE(ci.issues_completed, 0)/DATEDIFF(day, s.startdate, s.completedate) as velocity,\n  COALESCE(ci.issues_completed / NULLIF(issues_created, 0), 0)*100 AS sprint_success_rate_perc\nFROM\n  prod.silver.JIRA_SPRINTS s\n  JOIN\n    prod.silver.JIRA_SPRINT_ISSUES i ON s.id = i.sprintid\nLEFT JOIN\n  completed_issues ci ON s.id = ci.sprintid\n  WHERE s.startdate >= '2024-01-01'\n  AND s.state = 'closed'\n  AND DATEDIFF(day, s.startdate, s.completedate) > 0\n  GROUP BY \n  s.id,\n  s.name,\n  s.startdate,\n  s.completedate,\n  ci.issues_completed;\n",
   "execution_count": null
  },
  {
   "cell_type": "code",
   "id": "72ceb27b-9cdb-4b1f-9fad-55f4a93f87a1",
   "metadata": {
    "language": "sql",
    "name": "cell3"
   },
   "outputs": [],
   "source": "select * from prod.silver.JIRA_SPRINT_VELOCITY",
   "execution_count": null
  },
  {
   "cell_type": "code",
   "id": "26a9d976-8d28-41a1-bbfb-160d133653a2",
   "metadata": {
    "language": "sql",
    "name": "silver_sprint_velocity_open",
    "codeCollapsed": false
   },
   "outputs": [],
   "source": "-- jira sprint velocity open\n\n-- CREATE OR REPLACE TABLE prod.silver.JIRA_SPRINT_VELOCITY_OPEN (\n--     sprintid STRING,\n--     sprintname STRING,\n--     storypoint_completed FLOAT,\n--     all_completed FLOAT,\n--     startdate DATE,\n--     enddate DATE,\n--     sprint_duration INT,\n--     daysremaining INT,\n--     issues_created INT,\n--     issues_completed INT,\n--     velocity FLOAT,\n--     sprint_success_rate_perc FLOAT,\n-- timestamp timestamp_tz);\n\n    truncate table prod.silver.JIRA_SPRINT_VELOCITY_OPEN;\n\ninsert into prod.silver.JIRA_SPRINT_VELOCITY_OPEN\n        WITH completed_issues AS (\n        \n        Select sprintid,sprintname,sum(issues_completed) as issues_completed,sum(storypoint) as storypoint_completed from\n        (\n         SELECT\n            s.id as sprintid,\n            s.name as sprintname,\n            COUNT(DISTINCT i.key) as issues_completed,\n            i.key,\n            --ji.boardid as boardid,\n            (Select sum(storypoint) as storypoint  from (select distinct ji.id,ji.key, ji.storypoint as storypoint  from prod.silver.jira_issues ji where ji.currentstatus = 'Done') where key =i.key ) as storypoint\n          FROM\n            prod.silver.JIRA_SPRINTS s\n          Left JOIN prod.silver.JIRA_SPRINT_ISSUES i ON s.id=i.sprintid\n          JOIN prod.silver.jira_issues ji ON ji.key =i.key and ji.currentstatus = 'Done'\n          GROUP BY\n            s.id,\n            s.name,\n            i.key\n            --ji.boardid\n        ) group by sprintid,sprintname,issues_completed--,boardid\n        \n        ),\n        all_issues AS (\n        Select sprintid,sum(storypoint) as storypoint_completed from\n        \n            prod.silver.jira_issues\n          GROUP BY\n            sprintid\n        )\n        SELECT\n          s.id as sprintid,\n          s.name as sprintname,\n          COALESCE(ci.storypoint_completed, 0)  as storypoint_completed,\n          COALESCE(ai.storypoint_completed, 0)  as all_completed,\n          DATE(s.startdate) as startdate,\n          DATE(s.enddate) enddate,\n          DATEDIFF(day, s.startdate, s.enddate) AS sprint_duration,\n          DATEDIFF(day,  Getdate(),s.enddate) AS daysremaining,\n          COUNT(DISTINCT i.issueid) AS issues_created,\n          COALESCE(ci.issues_completed, 0) AS issues_completed,\n          COALESCE(ci.issues_completed, 0)/DATEDIFF(day, s.startdate, Getdate()) as velocity,\n          COALESCE(ci.issues_completed / NULLIF(issues_created, 0), 0)*100 AS sprint_success_rate_perc\n            ,current_timestamp as timestamp\n        FROM prod.silver.JIRA_SPRINTS s\n          JOIN prod.silver.JIRA_SPRINT_ISSUES i ON s.id = i.sprintid\n          JOIN prod.silver.jira_issues ji ON ji.id =i.issueid\n          LEFT JOIN completed_issues ci ON s.id = ci.sprintid\n          LEFT JOIN all_issues ai ON s.id = ai.sprintid\n          WHERE s.startdate >= '2024-01-01'\n          AND s.state = 'active'\n           AND \n          DATEDIFF(day, s.startdate, Getdate()) > 0\n          GROUP BY \n          s.id,\n          s.name,\n          s.startdate,\n          s.enddate,\n          s.completedate,\n          ci.issues_completed,\n          ci.storypoint_completed,\n          ai.storypoint_completed;\n\n  select * from prod.silver.JIRA_SPRINT_VELOCITY_OPEN",
   "execution_count": null
  },
  {
   "cell_type": "code",
   "id": "49b6fb9d-cd1b-40b7-946d-6e1a982bfdaa",
   "metadata": {
    "language": "sql",
    "name": "cell8"
   },
   "outputs": [],
   "source": "select * from prod.silver.JIRA_SPRINT_VELOCITY_OPEN",
   "execution_count": null
  },
  {
   "cell_type": "code",
   "id": "f0fd84cb-9209-430d-855b-ab6ff5424809",
   "metadata": {
    "language": "sql",
    "name": "risk_manager",
    "codeCollapsed": false
   },
   "outputs": [],
   "source": "-- RiskManager\ninsert into prod.silver.jira_risk_manager \nSELECT\nparse_json(\"versionedRepresentations\"):\"customfield_11664\".\"1\".\"displayName\"::string as USER_NAME,\n\"key\"::text as ISSUE_KEY,\nparse_json(\"versionedRepresentations\"):\"customfield_11664\".\"1\".\"accountId\"::string as USER_ACCOUNT_ID\n,current_timestamp as timestamp\nFROM prod.raw.JIRA_ISSUES\nwhere USER_NAME is not null;",
   "execution_count": null
  },
  {
   "cell_type": "code",
   "id": "a4075b9c-1bcd-475c-aa5d-314fc86d3e25",
   "metadata": {
    "language": "sql",
    "name": "risk_manager_dedup",
    "codeCollapsed": false
   },
   "outputs": [],
   "source": "INSERT OVERWRITE INTO prod.silver.jira_risk_manager \nWITH ranked_issues AS (\n  SELECT \nUSER_NAME,\nISSUE_KEY,\nUSER_ACCOUNT_ID,\n    TIMESTAMP,\n    ROW_NUMBER() OVER (PARTITION BY (USER_NAME || '-' ||\nISSUE_KEY|| '-' ||\nUSER_ACCOUNT_ID) ORDER BY TIMESTAMP DESC) AS RN\n  FROM prod.silver.jira_risk_manager \n)\nSELECT \nUSER_NAME,\nISSUE_KEY,\nUSER_ACCOUNT_ID,\n    TIMESTAMP,\nFROM ranked_issues\nWHERE RN = 1;\n",
   "execution_count": null
  },
  {
   "cell_type": "code",
   "id": "cdd9d27b-4a24-4dee-8a37-9c8ece1172d2",
   "metadata": {
    "language": "sql",
    "name": "targets",
    "codeCollapsed": false
   },
   "outputs": [],
   "source": "-- Targets table manual input:\nCREATE OR REPLACE TABLE prod.silver.jira_targets (\n    \"Zero\" INT, \n    \"Hundred\" INT, \n    \"SLA_Target\" FLOAT, \n    \"Regression_Target\" INT, \n    \"MTTR_Target\" INT, \n    \"Steps_Target\" FLOAT, \n    \"RiskMTTR_Target\" INT, \n    \"NA\" INT, \n    \"DevAzure_Target\" INT, \n    \"ProdAzure_Target\" INT, \n    \"OtherAzure_Target\" INT, \n    \"PercSupported_Target\" FLOAT, \n    \"Velocity_Target\" FLOAT, \n    \"Int_Target\" INT, \n    \"AutoInt_Target\" INT, \n    \"Unit_Target\" INT, \n    \"AutoUnit_Target\" INT\n);\n\nINSERT INTO prod.silver.jira_targets (\n    \"Zero\", \n    \"Hundred\", \n    \"SLA_Target\", \n    \"Regression_Target\", \n    \"MTTR_Target\", \n    \"Steps_Target\", \n    \"RiskMTTR_Target\", \n    \"NA\", \n    \"DevAzure_Target\", \n    \"ProdAzure_Target\", \n    \"OtherAzure_Target\", \n    \"PercSupported_Target\", \n    \"Velocity_Target\", \n    \"Int_Target\", \n    \"AutoInt_Target\", \n    \"Unit_Target\", \n    \"AutoUnit_Target\"\n) VALUES (\n    0, \n    100,\n    99.95, \n    5, \n    5, \n    1.5, \n    90, \n    -1, \n    67000, \n    125000, \n    7000, \n    95, \n    0.8, \n    0, \n    0, \n    0, \n    0\n);\n",
   "execution_count": null
  },
  {
   "cell_type": "code",
   "id": "ac844b8f-c159-4992-9b68-7b21030c660e",
   "metadata": {
    "language": "sql",
    "name": "risk_types_creation",
    "collapsed": false,
    "codeCollapsed": false
   },
   "outputs": [],
   "source": "-- create or replace table prod.silver.jira_risk_types as\n-- select * from metrics.staged.di_kpi_risk_types;\n-- select * from prod.silver.jira_risk_types\n",
   "execution_count": null
  },
  {
   "cell_type": "code",
   "id": "9629fbf9-1835-430f-9846-4d5885faf5f6",
   "metadata": {
    "language": "sql",
    "name": "risk_types",
    "codeCollapsed": false
   },
   "outputs": [],
   "source": "-- RiskTypes\ninsert into prod.silver.jira_risk_types \nSELECT\n\"key\"::text as ISSUE_KEY,\nparse_json(\"versionedRepresentations\"):\"customfield_11570\".\"1\"[0].\"value\"::string as \"Risk_Type\",\n\ncurrent_timestamp as timestamp\nFROM prod.raw.JIRA_ISSUES\nwhere \"Risk_Type\" is not null;\n\nselect * from prod.silver.jira_risk_types ",
   "execution_count": null
  },
  {
   "cell_type": "code",
   "id": "870c2875-3055-40c8-bb5e-bf67a25b69fa",
   "metadata": {
    "language": "sql",
    "name": "risk_types_dedup",
    "codeCollapsed": false
   },
   "outputs": [],
   "source": "INSERT OVERWRITE INTO prod.silver.jira_risk_types\nWITH ranked_issues AS (\n  SELECT \nISSUE_KEY,\n\"Risk_Type\",\n    TIMESTAMP,\n    ROW_NUMBER() OVER (PARTITION BY (\"Risk_Type\" || '-' ||\nISSUE_KEY) ORDER BY TIMESTAMP DESC) AS RN\n  FROM prod.silver.jira_risk_types\n)\nSELECT \nISSUE_KEY,\n\"Risk_Type\",\n    TIMESTAMP,\nFROM ranked_issues\nWHERE RN = 1;\n",
   "execution_count": null
  },
  {
   "cell_type": "code",
   "id": "ed89b7de-c6ee-4314-88b2-f64e8197d920",
   "metadata": {
    "language": "sql",
    "name": "cell1"
   },
   "outputs": [],
   "source": "select * from PROD.SILVER.JIRA_ISSUES\nWHERE GOALS is not null",
   "execution_count": null
  },
  {
   "cell_type": "code",
   "id": "1501d625-cfec-48ed-93af-f70a3c492c31",
   "metadata": {
    "language": "sql",
    "name": "cell6",
    "codeCollapsed": false
   },
   "outputs": [],
   "source": "-- create table prod.silver.PRODUCTS as\n-- select * from METRICS.STAGED.PRODUCTS",
   "execution_count": null
  },
  {
   "cell_type": "code",
   "id": "fbf85475-5bb7-4ac5-a30a-c93ea7d20ae4",
   "metadata": {
    "language": "sql",
    "name": "cell2"
   },
   "outputs": [],
   "source": "-- Create or Replace TABLE prod.silver.PRODUCTS_SILVER AS SELECT * FROM METRICS.STAGED.PRODUCTS;",
   "execution_count": null
  }
 ]
}