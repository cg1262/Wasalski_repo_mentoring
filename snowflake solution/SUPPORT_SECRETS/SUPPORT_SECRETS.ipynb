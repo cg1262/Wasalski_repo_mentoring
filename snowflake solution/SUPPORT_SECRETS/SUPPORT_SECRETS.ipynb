{
 "metadata": {
  "kernelspec": {
   "display_name": "Streamlit Notebook",
   "name": "streamlit"
  },
  "lastEditStatus": {
   "notebookId": "kbpgc66apijw4iaptkux",
   "authorId": "557922832688",
   "authorName": "MTWA",
   "authorEmail": "mtwa@softwaremind.com",
   "sessionId": "b7efaa50-456a-4770-b36f-0d9204b20797",
   "lastEditTime": 1753967973641
  }
 },
 "nbformat_minor": 5,
 "nbformat": 4,
 "cells": [
  {
   "cell_type": "code",
   "execution_count": null,
   "id": "4606b696-8926-4483-865e-1075aa56f82a",
   "metadata": {
    "language": "sql",
    "name": "show_secrets"
   },
   "outputs": [],
   "source": [
    "show secrets"
   ]
  },
  {
   "cell_type": "code",
   "execution_count": null,
   "id": "f599bd9e-28c9-4a2a-bc1a-95c438f461ed",
   "metadata": {
    "codeCollapsed": false,
    "language": "sql",
    "name": "sonarcloud"
   },
   "outputs": [],
   "source": [
    "CREATE OR REPLACE SECRET PROD.RAW.sonarcloud_api_key\n",
    "  TYPE = GENERIC_STRING\n",
    "  SECRET_STRING = ''\n",
    "  COMMENT = 'API key for sonarcloud api call'"
   ]
  },
  {
   "cell_type": "code",
   "execution_count": null,
   "id": "af857c24-5a29-49d2-bcf9-a8992524105f",
   "metadata": {
    "codeCollapsed": false,
    "language": "sql",
    "name": "jira_username_api_token"
   },
   "outputs": [],
   "source": [
    "-- jira\n",
    "\n",
    "CREATE OR REPLACE SECRET PROD.RAW.jira_username\n",
    "  TYPE = GENERIC_STRING\n",
    "  SECRET_STRING = 'devops@phlexglobal.com'\n",
    "  COMMENT = 'Jira username';\n",
    "\n",
    "  CREATE OR REPLACE SECRET PROD.RAW.jira_api_token\n",
    "  TYPE = GENERIC_STRING\n",
    "  SECRET_STRING = ''\n",
    "  COMMENT = 'Jira api token';\n"
   ]
  },
  {
   "cell_type": "code",
   "execution_count": null,
   "id": "f0433cf9-6b80-4c6c-91d8-d0414c2a3128",
   "metadata": {
    "language": "sql",
    "name": "mend_jwt_token"
   },
   "outputs": [],
   "source": [
    "-- mend jwt token\n",
    "CREATE OR REPLACE SECRET PROD.RAW.mend_orgUuid_jwtToken\n",
    "TYPE = GENERIC_STRING\n",
    "seCRET_STRING = ''\n",
    "COMMENT = 'mend orgUuid to get jwtToken';\n",
    "\n",
    "CREATE OR REPLACE SECRET PROD.RAW.mend_user_key_jwtToken\n",
    "TYPE = GENERIC_STRING\n",
    "SECRET_STRING = ''\n",
    "COMMENT = 'mend userKey to get jwtToken';\n",
    "\n",
    "CREATE OR REPLACE SECRET \n",
    "PROD.RAW.mend_email_jwtToken\n",
    "TYPE = GENERIC_STRING\n",
    "SECRET_STRING = ''\n",
    "COMMENT = 'mend email to get jwtToken';"
   ]
  },
  {
   "cell_type": "code",
   "execution_count": null,
   "id": "f3c34fad-9fcd-4182-9500-41e4ae391873",
   "metadata": {
    "language": "sql",
    "name": "ado_pat"
   },
   "outputs": [],
   "source": [
    "CREATE OR REPLACE SECRET \n",
    "PROD.RAW.ADO_PAT\n",
    "TYPE = GENERIC_STRING\n",
    "SECRET_STRING = ''\n",
    "COMMENT = 'ADO personal access token';"
   ]
  },
  {
   "cell_type": "code",
   "execution_count": null,
   "id": "a3f8f028-bd83-40f6-9241-79dff37c39ea",
   "metadata": {
    "language": "sql",
    "name": "defender"
   },
   "outputs": [],
   "source": [
    "CREATE OR REPLACE SECRET PROD.RAW.ADO_DEFENDER_TENANT_ID\n",
    "TYPE = GENERIC_STRING\n",
    "SECRET_STRING = ''\n",
    "COMMENT = 'TENANT_ID for Defender API';\n",
    "\n",
    "CREATE OR REPLACE SECRET PROD.RAW.ADO_DEFENDER_CLIENT_ID\n",
    "TYPE = GENERIC_STRING\n",
    "SECRET_STRING = ''\n",
    "COMMENT = 'CLIENT_ID for Defender API';\n",
    "\n",
    "CREATE OR REPLACE SECRET PROD.RAW.ADO_DEFENDER_CLIENT_SECRET\n",
    "TYPE = GENERIC_STRING\n",
    "SECRET_STRING = ''\n",
    "COMMENT = 'CLIENT_SECRET for Defender API';\n",
    "\n",
    "CREATE OR REPLACE SECRET PROD.RAW.ADO_DEFENDER_SUBSCRIPTION_ID\n",
    "TYPE = GENERIC_STRING\n",
    "SECRET_STRING = ''\n",
    "COMMENT = 'SUBSCRIPTION_ID for Defender API';"
   ]
  },
  {
   "cell_type": "code",
   "execution_count": null,
   "id": "4edc5619-226e-431a-a515-acfc8adb96ca",
   "metadata": {
    "language": "sql",
    "name": "new_relic"
   },
   "outputs": [],
   "source": [
    "CREATE OR REPLACE SECRET \n",
    "PROD.RAW.NEW_RELIC\n",
    "TYPE = GENERIC_STRING\n",
    "SECRET_STRING = ''\n",
    "COMMENT = 'NEW_RELIC api key';"
   ]
  },
  {
   "cell_type": "code",
   "execution_count": null,
   "id": "490628e2-2121-4bb8-b843-aad770226360",
   "metadata": {
    "language": "sql",
    "name": "checkmarx"
   },
   "outputs": [],
   "source": [
    "CREATE OR REPLACE SECRET \n",
    "PROD.RAW.checkmarx\n",
    "TYPE = GENERIC_STRING\n",
    "SECRET_STRING =  ''\n",
    "COMMENT = 'Checkmarx API Key to creater JWT Token';"
   ]
  },
  {
   "cell_type": "code",
   "execution_count": null,
   "id": "7175cc46-637f-41d0-90c6-8bc6f56ec06a",
   "metadata": {
    "language": "sql",
    "name": "pagerduty"
   },
   "outputs": [],
   "source": [
    "CREATE OR REPLACE SECRET \n",
    "PROD.RAW.pagerduty_api_key\n",
    "TYPE = GENERIC_STRING\n",
    "SECRET_STRING =  ''\n",
    "COMMENT = 'Pagerduty API Key';"
   ]
  },
  {
   "cell_type": "code",
   "execution_count": null,
   "id": "c586ce80-e711-4900-91e0-bb27c3ecb0c8",
   "metadata": {
    "language": "sql",
    "name": "cell1"
   },
   "outputs": [],
   "source": [
    "\n",
    "\n",
    "CREATE OR REPLACE SECRET \n",
    "PROD.RAW.billing_account_id\n",
    "TYPE = GENERIC_STRING\n",
    "SECRET_STRING =  '4a592141-ce4a-5ba4-90aa-b03a514d8e0d:50f88b94-86fe-4379-a82a-763ec8c8eef7_2019-05-31'\n",
    "COMMENT = 'Azure Cost Managements billing account id';"
   ]
  },
  {
   "cell_type": "code",
   "execution_count": null,
   "id": "50bfd5c9-3635-40f7-a6e5-8239f1416f87",
   "metadata": {
    "name": "cell2",
    "language": "sql"
   },
   "outputs": [],
   "source": "CREATE OR REPLACE SECRET \nPROD.RAW.mabl_api_key\nTYPE = GENERIC_STRING\nSECRET_STRING =  ''\nCOMMENT = 'Mabl api key';"
  },
  {
   "cell_type": "code",
   "id": "747cfeda-5978-42ef-b7de-5cbad6852904",
   "metadata": {
    "language": "sql",
    "name": "cell3"
   },
   "outputs": [],
   "source": "CREATE OR REPLACE SECRET \nPROD.RAW.apify_secret\nTYPE = GENERIC_STRING\nSECRET_STRING =  ''\nCOMMENT = 'Apify api key';",
   "execution_count": null
  }
 ]
}