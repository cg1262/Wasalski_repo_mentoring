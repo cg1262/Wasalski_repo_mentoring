{
 "metadata": {
  "kernelspec": {
   "display_name": "Streamlit Notebook",
   "name": "streamlit"
  },
  "lastEditStatus": {
   "notebookId": "yzmyivhovwnjbdrqz53z",
   "authorId": "557922832688",
   "authorName": "MTWA",
   "authorEmail": "mtwa@softwaremind.com",
   "sessionId": "bda6e0dd-155b-4d57-89ef-efb343a67346",
   "lastEditTime": 1753191834116
  }
 },
 "nbformat_minor": 5,
 "nbformat": 4,
 "cells": [
  {
   "cell_type": "code",
   "id": "a3f14f4e-69b8-41cb-8b52-2efe9977cb01",
   "metadata": {
    "language": "sql",
    "name": "cell1"
   },
   "outputs": [],
   "source": "ALTER SESSION SET TIMEZONE = 'Europe/London';",
   "execution_count": null
  },
  {
   "cell_type": "code",
   "id": "e40b697f-8b0d-4e44-90f6-308111f7e5a6",
   "metadata": {
    "language": "sql",
    "name": "components"
   },
   "outputs": [],
   "source": "--SONARCLOUD_COMPONENTS\n\n-- CREATE OR REPLACE TABLE prod.silver.SONARCLOUD_COMPONENTS (\n--     ORGANIZATION VARCHAR(16777216),\n--     KEY VARCHAR(16777216),\n--     NAME VARCHAR(16777216),\n--     QUALIFIER VARCHAR(16777216),\n--     PROJECT VARCHAR(16777216),\n--     timestamp timestamp_tz\n-- );\n\ntruncate table prod.silver.SONARCLOUD_COMPONENTS;\n\ninsert into  prod.silver.SONARCLOUD_COMPONENTS\nselect\n    ORGANIZATION,\n    KEY,\n    NAME,\n    QUALIFIER,\n    PROJECT,\n    current_timestamp as timestamp\nfrom prod.raw.sonarcloud_components;\n\n\n\n\n",
   "execution_count": null
  },
  {
   "cell_type": "code",
   "id": "36d41148-ff10-48bd-9265-3f3e33e948c4",
   "metadata": {
    "language": "sql",
    "name": "projects"
   },
   "outputs": [],
   "source": "\n-- # ---- # ---- # ---- # ---- # ---- # ---- # ---- # ---- # --\n\n-- SONARCLOUD_PROJECTS\n\n-- CREATE OR REPLACE TABLE prod.silver.SONARCLOUD_PROJECTS (\n--     KEY VARCHAR(16777216),\n--     NAME VARCHAR(16777216),\n--     REVISION VARCHAR(16777216),\n--     -- QUALIFIER VARCHAR(16777216),\n--     -- VISIBILITY VARCHAR(16777216),\n--     -- ORGANIZATION VARCHAR(16777216),\n--     LASTANALYSISDATE timestamp_tz,\n--     timestamp timestamp_tz\n-- );\n\ntruncate table prod.silver.SONARCLOUD_PROJECTS;\n\ninsert into prod.silver.SONARCLOUD_PROJECTS\nselect\n    \"KEY\",\n    \"NAME\",\n    \"REVISION\",\nto_timestamp_tz(\n            REGEXP_REPLACE(LASTANALYSISDATE, '(\\\\d{2})(\\\\d{2})$', '\\\\1:\\\\2')\n            ) AS \"LASTANALYSISDATE\",\n    current_timestamp as timestamp\nfrom prod.raw.SONARCLOUD_PROJECTS;",
   "execution_count": null
  },
  {
   "cell_type": "code",
   "id": "10c2ae97-acc9-4520-a734-ff53714efdaf",
   "metadata": {
    "language": "sql",
    "name": "cell2"
   },
   "outputs": [],
   "source": "select * from prod.silver.SONARCLOUD_PROJECTS",
   "execution_count": null
  },
  {
   "cell_type": "code",
   "id": "9b7ff05e-e281-40c4-ac99-9f4640853e86",
   "metadata": {
    "language": "sql",
    "name": "metrics",
    "codeCollapsed": false
   },
   "outputs": [],
   "source": "\n-- # ---- # ---- # ---- # ---- # ---- # ---- # ---- # ---- # --\n\n-- SONARCLOUD_METRICS\n\n-- CREATE OR REPLACE TABLE prod.silver.SONARCLOUD_METRICS\n--     (\n--     KEY VARCHAR(16777216),\n--     NAME VARCHAR(16777216),\n--     TYPE VARCHAR(16777216),\n--     DOMAIN VARCHAR(16777216),\n--     HIDDEN\tBOOLEAN,\n--     DIRECTION\tFLOAT,\n--     DESCRIPTION\tVARCHAR(16777216),\n--     QUALITATIVE\tBOOLEAN,\n--     DECIMALSCALE FLOAT,\n--     timestamp timestamp_tz\n--     );\n\ntruncate table prod.silver.SONARCLOUD_METRICS;\n\ninsert into prod.silver.SONARCLOUD_METRICS\nselect\n    KEY,\n    NAME,\n    TYPE,\n    DOMAIN,\n    HIDDEN,\n    DIRECTION,\n    DESCRIPTION,\n    QUALITATIVE,\n    DECIMALSCALE\n    ,current_timestamp as timestamp\nfrom prod.raw.SONARCLOUD_METRICS;",
   "execution_count": null
  },
  {
   "cell_type": "code",
   "id": "9a6d5d81-5b5a-488a-98ca-643e7d56c635",
   "metadata": {
    "language": "sql",
    "name": "issues"
   },
   "outputs": [],
   "source": "-- # ---- # ---- # ---- # ---- # ---- # ---- # ---- # ---- # --\n-- SONARCLOUD_ISSUES\n\n\n-- create or replace table prod.silver.SONARCLOUD_ISSUES\n-- (\n-- issue_key VARCHAR(16777216),\n-- DEBT\tVARCHAR(16777216),\n-- HASH\tVARCHAR(16777216),\n-- LINE\tFLOAT,\n-- RULE\tVARCHAR(16777216),\n-- TAGS\tARRAY,\n-- TYPE\tVARCHAR(16777216),\n-- FLOWS\tARRAY,\n-- AUTHOR\tVARCHAR(16777216),\n-- EFFORT\tVARCHAR(16777216),\n-- STATUS\tVARCHAR(16777216),\n-- IMPACTS\tARRAY,\n-- MESSAGE\tVARCHAR(16777216),\n-- PROJECT\tVARCHAR(16777216),\n-- ASSIGNEE\tVARCHAR(16777216),\n-- SEVERITY\tVARCHAR(16777216),\n-- CLOSEDATE\tVARCHAR(16777216),\n-- COMPONENT\tVARCHAR(16777216),\n-- TEXTRANGE\tOBJECT,\n-- RESOLUTION\tVARCHAR(16777216),\n-- UPDATEDATE\tVARCHAR(16777216),\n-- ISSUESTATUS\tVARCHAR(16777216),\n-- CREATIONDATE\tVARCHAR(16777216),\n-- ORGANIZATION\tVARCHAR(16777216),\n-- CLEANCODEATTRIBUTE\tVARCHAR(16777216),\n-- EXTERNALRULEENGINE\tVARCHAR(16777216),\n-- CLEANCODEATTRIBUTECATEGORY\tVARCHAR(16777216),\n-- impact_severity string,\n-- software_quality string,\n-- timestamp timestamp_tz\n-- );\n\ntruncate table prod.silver.SONARCLOUD_ISSUES ;\n\nINSERT INTO prod.silver.SONARCLOUD_ISSUES (\n    issue_key,\n    TYPE,\n    AUTHOR,\n    MESSAGE,\n    LINE,\n    ISSUESTATUS,\n    EFFORT,\n    UPDATEDATE,\n    RULE,\n    PROJECT,\n    TAGS,\n    CLEANCODEATTRIBUTECATEGORY,\n    STATUS,\n    CREATIONDATE,\n    SEVERITY,\n    EXTERNALRULEENGINE,\n    RESOLUTION,\n    ASSIGNEE,\n    CLOSEDATE,\n    COMPONENT,\n    impact_severity,\n    software_quality,\n    timestamp\n)\nSELECT \n    issues.KEY AS issue_key,\n    issues.TYPE,\n    issues.AUTHOR,\n    issues.MESSAGE,\n    issues.LINE,\n    issues.ISSUESTATUS,\n    issues.EFFORT,\n    issues.UPDATEDATE,\n    issues.RULE,\n    issues.PROJECT,\n    issues.TAGS,\n    issues.CLEANCODEATTRIBUTECATEGORY,\n    issues.STATUS,\n    issues.CREATIONDATE,\n    issues.SEVERITY,\n    issues.EXTERNALRULEENGINE,\n    issues.RESOLUTION,\n    issues.ASSIGNEE,\n    issues.CLOSEDATE,\n    issues.COMPONENT,\n    impacts.VALUE:\"severity\"::STRING AS impact_severity,\n    impacts.VALUE:\"softwareQuality\"::STRING AS software_quality,\n    current_timestamp() AS timestamp\nFROM prod.raw.SONARCLOUD_ISSUES AS issues,\nLATERAL FLATTEN(input => issues.IMPACTS) AS impacts\nWHERE\n    issues.KEY IS NOT NULL\n    AND issues.TYPE IS NOT NULL\n    AND issues.PROJECT IS NOT NULL\n    AND issues.STATUS IS NOT NULL\n    AND issues.UPDATEDATE IS NOT NULL\n    AND issues.SEVERITY IS NOT NULL;",
   "execution_count": null
  },
  {
   "cell_type": "code",
   "id": "3028bdf7-b196-4211-ac8a-7b23f2900977",
   "metadata": {
    "language": "sql",
    "name": "measure_component"
   },
   "outputs": [],
   "source": "\n-- -- # ---- # ---- # ---- # ---- # ---- # ---- # ---- # ---- # --\n-- SONARCLOUD_MEASURES_COMPONENT\n\n-- CREATE OR REPLACE TABLE prod.silver.SONARCLOUD_MEASURES_COMPONENT (\n--   id STRING,\n--   key STRING,\n--   name STRING,\n--   files INTEGER,\n--   codeLines INTEGER,\n--   maintainability_total INTEGER,\n--   maintainability_high INTEGER,\n--   maintainability_medium INTEGER,\n--   maintainability_low INTEGER,\n--   reliability_total INTEGER,\n--   reliability_high INTEGER,\n--   reliability_medium INTEGER,\n--   reliability_low INTEGER,\n--   security_total INTEGER,\n--   security_high INTEGER,\n--   security_medium INTEGER,\n--   security_low INTEGER,\n--   securityHotspots INTEGER,\n--   lineCoverage INTEGER,\n--   duplicated_lines INTEGER,\n--   duplicated_lines_density FLOAT,\n--   timestamp TIMESTAMP_TZ\n-- );\n\nTRUNCATE TABLE prod.silver.SONARCLOUD_MEASURES_COMPONENT;\n\nINSERT INTO prod.silver.SONARCLOUD_MEASURES_COMPONENT (\n  id, key, name, files, codeLines, maintainability_total, maintainability_high,\n  maintainability_medium, maintainability_low, reliability_total, reliability_high,\n  reliability_medium, reliability_low, security_total, security_high, security_medium,\n  security_low, securityHotspots, lineCoverage, duplicated_lines,\n  duplicated_lines_density, timestamp\n)\nWITH PIVOTED_TABLE AS (\n  SELECT *\n  FROM (\n    SELECT\n      t.ID AS id,\n      t.KEY AS key,\n      t.NAME AS name,\n      m.value:metric::STRING AS metric,\n      m.value:value::STRING AS value\n    FROM prod.raw.SONARCLOUD_MEASURES_COMPONENT t,\n    LATERAL FLATTEN(input => t.MEASURES) m\n  )\n  PIVOT (\n    MAX(VALUE) FOR METRIC IN (\n      'files', 'ncloc', 'maintainability_issues', 'reliability_issues', \n      'security_hotspots', 'security_issues', 'line_coverage', \n      'duplicated_lines', 'duplicated_lines_density'\n    )\n  )\n)\nSELECT\n  id,\n  key,\n  name,\n  TRY_CAST(w.\"'files'\" AS INTEGER) AS files,\n  TRY_CAST(w.\"'ncloc'\" AS INTEGER) AS codeLines,\n  TRY_CAST(PARSE_JSON(w.\"'maintainability_issues'\"):total::STRING AS INTEGER) AS maintainability_total,\n  TRY_CAST(PARSE_JSON(w.\"'maintainability_issues'\"):HIGH::STRING AS INTEGER) AS maintainability_high,\n  TRY_CAST(PARSE_JSON(w.\"'maintainability_issues'\"):MEDIUM::STRING AS INTEGER) AS maintainability_medium,\n  TRY_CAST(PARSE_JSON(w.\"'maintainability_issues'\"):LOW::STRING AS INTEGER) AS maintainability_low,\n  TRY_CAST(PARSE_JSON(w.\"'reliability_issues'\"):total::STRING AS INTEGER) AS reliability_total,\n  TRY_CAST(PARSE_JSON(w.\"'reliability_issues'\"):HIGH::STRING AS INTEGER) AS reliability_high,\n  TRY_CAST(PARSE_JSON(w.\"'reliability_issues'\"):MEDIUM::STRING AS INTEGER) AS reliability_medium,\n  TRY_CAST(PARSE_JSON(w.\"'reliability_issues'\"):LOW::STRING AS INTEGER) AS reliability_low,\n  TRY_CAST(PARSE_JSON(w.\"'security_issues'\"):total::STRING AS INTEGER) AS security_total,\n  TRY_CAST(PARSE_JSON(w.\"'security_issues'\"):HIGH::STRING AS INTEGER) AS security_high,\n  TRY_CAST(PARSE_JSON(w.\"'security_issues'\"):MEDIUM::STRING AS INTEGER) AS security_medium,\n  TRY_CAST(PARSE_JSON(w.\"'security_issues'\"):LOW::STRING AS INTEGER) AS security_low,\n  TRY_CAST(w.\"'security_hotspots'\" AS INTEGER) AS securityHotspots,\n  TRY_CAST(w.\"'line_coverage'\" AS INTEGER) AS lineCoverage,\n  TRY_CAST(w.\"'duplicated_lines'\" AS INTEGER) AS duplicated_lines,\n  TRY_CAST(w.\"'duplicated_lines_density'\" AS FLOAT) AS duplicated_lines_density,\n  current_timestamp() as timestamp\nFROM PIVOTED_TABLE w;",
   "execution_count": null
  }
 ]
}