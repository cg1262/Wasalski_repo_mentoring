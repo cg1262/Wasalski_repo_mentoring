{
 "metadata": {
  "kernelspec": {
   "display_name": "Streamlit Notebook",
   "name": "streamlit"
  },
  "lastEditStatus": {
   "notebookId": "cicoxv5eknropg2wkoni",
   "authorId": "557922832688",
   "authorName": "MTWA",
   "authorEmail": "mtwa@softwaremind.com",
   "sessionId": "723ed3ae-3389-47f6-a655-8a44b1a2f1c4",
   "lastEditTime": 1753784650278
  }
 },
 "nbformat_minor": 5,
 "nbformat": 4,
 "cells": [
  {
   "cell_type": "markdown",
   "id": "bc98108b-4b8a-4b3b-aadc-1c1efbd6b5d8",
   "metadata": {
    "collapsed": true,
    "name": "ADR"
   },
   "source": [
    "ADR: Rewriting Airbyte connectors to python.\n",
    "\n",
    "Status: What is the status, such as proposed, accepted, rejected, deprecated, superseded, etc.?\n",
    "\n",
    "Accepted\n",
    "\n",
    "Context: What is the issue that we're seeing that is motivating this decision or change?\n",
    "\n",
    "While fetching data with Airbyte, a new table was being created each time. This behavior is a default functionality of Airbyte that we couldn't change when performing a full overwrite on a table.\n",
    "As a result, the tables had the change_tracking attribute set to false, whereas we needed it to be set to true for Dynamic Tables to work properly.\n",
    "Because of this, we had to orchestrate altering the Airbyte-created tables manually, as it couldn't be done within a single orchestrated chain.\n",
    "\n",
    "Decision: What is the change that we're proposing and/or doing?\n",
    "\n",
    "We are rewriting the Airbyte connectors in Python within a notebook. This will allow us to orchestrate the process using Snowflake tasks, decommission Airbyte, and keep the entire pipeline within Snowflake.\n",
    "\n",
    "Consequences: What becomes easier or more difficult to do because of this change?\n",
    "\n",
    "Easier:\n",
    "\n",
    "Orchestration\n",
    "\n",
    "CI/CD, as everything is now done within Notebooks that can be connected to a Git repository\n",
    "\n",
    "Managing the entire process from bronze to gold data layers becomes simpler "
   ]
  },
  {
   "cell_type": "code",
   "execution_count": null,
   "id": "c18f979a-757b-4412-b7e3-1a245e0ff13a",
   "metadata": {
    "language": "sql",
    "name": "cell10"
   },
   "outputs": [],
   "source": [
    "ALTER SESSION SET TIMEZONE = 'Europe/London';"
   ]
  },
  {
   "cell_type": "code",
   "id": "24c30d5e-8aa3-4554-93b5-4238b15c5dbf",
   "metadata": {
    "language": "python",
    "name": "cell11"
   },
   "outputs": [],
   "source": "try:\n    from requests.auth import HTTPBasicAuth\n    import requests\n    import pandas as pd\n    import json\n    from snowflake.snowpark.context import get_active_session\n    session = get_active_session()\n    username = session.sql(\"SELECT PROD.RAW.jira_username()\").collect()[0][0]\n    api_token = session.sql(\"SELECT PROD.RAW.jira_api_token()\").collect()[0][0]\n    \nexcept:\n    from requests.auth import HTTPBasicAuth\n    import requests\n    import pandas as pd\n    from dotenv import load_dotenv\n    import json\n    load_dotenv() \n    username = os.getenv('username')\n    api_token = os.getenv('api_token')",
   "execution_count": null
  },
  {
   "cell_type": "code",
   "execution_count": null,
   "id": "ca392519-5eaa-4660-be04-3cbe8740d159",
   "metadata": {
    "language": "python",
    "name": "cell12"
   },
   "outputs": [],
   "source": "# Start time\nimport time\nstart_time = time.time()\n\nclass Jira():\n    def __init__(self):\n        self.username = username\n        self.api_token = api_token\n        self.auth = HTTPBasicAuth(self.username, self.api_token)\n        self.headers = {\"Accept\": \"application/json\"}\n    \n    def get_jira_boards(self):\n        \"\"\"\n        Fetches all Jira boards using the Jira Agile API with pagination.\n        \n        Returns:\n            DataFrame of all boards\n        \"\"\"\n        time.sleep(1)\n        startAt = 0\n        maxResults = 50\n        all_boards = []\n        \n        while True:  # Added the missing while loop\n            params = {\n                \"startAt\": startAt,\n                \"maxResults\": maxResults\n            }\n        \n            response = requests.get(\n                url=\"https://phlexglobal.atlassian.net/rest/agile/1.0/board\",\n                headers=self.headers,\n                auth=self.auth,\n                params=params\n            )\n        \n            if response.status_code == 200:\n                data = response.json()\n                all_boards.extend(data.get(\"values\", []))\n                if data.get(\"isLast\", True):\n                    break\n                startAt += maxResults\n            else:\n                print(f\"Błąd {response.status_code}: {response.text}\")\n                break\n        \n        all_boards_df = pd.DataFrame(all_boards)\n        all_boards_df.reset_index(drop=True, inplace=True)  # Fixed reset_index\n        return all_boards_df\n    \n    def get_unique_boards(self):\n        \"\"\"\n        Gets unique board IDs from all Jira boards.\n        \n        Returns:\n            list of unique board IDs\n        \"\"\"\n        unique_boards = self.get_jira_boards()['id'].astype(str).unique().tolist()\n        return unique_boards\n\n    def get_jira_issue_fields(self):\n\n          response = requests.get(\n            url = 'https://phlexglobal.atlassian.net/rest/api/3/field',\n            headers=self.headers,\n            auth=self.auth\n          )\n          data = response.json()\n          # print(json.dumps(json.loads(response.text), sort_keys=True, indent=4, separators=(\",\", \": \")))\n          issue_fields = pd.DataFrame(data)\n        \n          return issue_fields\n\n    def get_jira_projects(self):\n\n    \n        # Query parameters\n        params = {\n            \"expand\": 'description,projectKeys,lead,issueTypes,url,insight,deletedby'\n        }\n    \n        # Fetch projects\n        response = requests.get(\n            url = \"https://phlexglobal.atlassian.net/rest/api/3/project\",\n            headers=self.headers,\n            auth=self.auth,\n            params=params\n        )\n    \n        # Convert response to DataFrame\n        projects = pd.DataFrame(response.json())\n    \n        # Ensure 'id' is numeric\n        # projects['id'] = pd.to_numeric(projects['id'], errors='coerce').fillna(0).astype(int)\n        projects = projects.drop(columns='properties')\n        return projects\n    def get_unique_jira_projects(self):\n        \n        unique_projects = self.get_jira_projects()['id'].astype(str).unique().tolist()\n        return unique_projects\n        \n    def get_jira_project_versions(self):\n\n        time.sleep(1)\n        projects_unique = self.get_unique_jira_projects()\n    \n        all_versions = []\n    \n        for i in projects_unique:\n            start_at = 0\n            is_last = False\n    \n            while not is_last:\n    \n                params = {\n                    'startAt': start_at,\n                    'maxResults': 50\n                }\n    \n                response = requests.get(\n                url = f\"https://phlexglobal.atlassian.net/rest/api/3/project/{i}/version\",\n                headers=self.headers, \n                auth=self.auth, \n                params=params)\n                data = response.json()\n    \n                sprints_batch = data.get('values', [])\n                all_versions.extend(sprints_batch)\n    \n                is_last = data.get('isLast', True)\n                start_at += len(sprints_batch)\n    \n        # Wrzuć wszystko do DataFrame\n        project_versions_df = pd.DataFrame(all_versions)\n        return project_versions_df\n\n    def get_jira_sprints(self):\n\n        board_ids = self.get_unique_boards()\n    \n        startAt = 0\n        maxResults = 50\n        all_sprints = []\n    \n        # Fetch all sprints for each board\n        for i in board_ids:\n            start_at = 0  # Reset start_at for each board\n            while True:\n                url = f\"https://phlexglobal.atlassian.net/rest/agile/1.0/board/{i}/sprint\"\n    \n                params = {\n                    \"startAt\": start_at,\n                    \"maxResults\": maxResults\n                }\n    \n                response = requests.get(\n                    url,\n                    headers=self.headers,\n                    auth=self.auth,\n                    params=params\n                )\n    \n                if response.status_code != 200:\n                    print(f\"Error for board {i}: {response.status_code}, {response.text}\")\n                    break\n    \n                sprints = response.json()\n                if not sprints.get(\"values\"):  # No more sprints\n                    break\n                all_sprints.extend(sprints.get(\"values\", []))\n                start_at += maxResults\n                print(f\"Board {i}. Status code: {response.status_code}, Retrieved {len(sprints.get('values', []))} sprints\")\n        all_sprints = pd.DataFrame(all_sprints)\n        return all_sprints\n    \n    def get_jira_users(self):\n\n        # Pagination setup\n        start_at = 0\n        max_results = 100\n        all_users = []\n        \n        while True:\n            params = {\n                \"startAt\": start_at,\n                \"maxResults\": max_results\n            }\n            response = requests.get(\n                url = \"https://phlexglobal.atlassian.net/rest/api/3/users\", \n                auth=self.auth, \n                params=params)\n            \n            users = response.json()\n            \n            if not users:\n                break\n            all_users.extend(users)\n            start_at += max_results\n    \n        # Convert to DataFrame after fetching all users\n        users_df = pd.DataFrame(all_users)\n        return users_df\n\n    \n    def get_jira_issues_projects(self, days_back=3):\n        \n        all_issues = []\n        errors = []\n    \n        for pid in self.get_unique_jira_projects():\n            start_at = 0\n            max_results = 1000\n    \n            while True:\n                params = {\n                    \"jql\": f\"project = {pid} AND updated >= -{days_back}d\",\n                    \"maxResults\": max_results,\n                    \"startAt\": start_at,\n                    \"expand\": \"schema,changelog,transitions,editmeta,properties,renderedFields,versionedRepresentations\"\n                }\n                url = \"https://phlexglobal.atlassian.net/rest/api/3/search\"\n                headers = {\"Accept\": \"application/json\"}\n    \n                response = requests.get(url, auth=self.auth, headers=self.headers, params=params)\n    \n                if response.status_code != 200:\n                    error_detail = {\n                        \"project\": pid,\n                        \"status_code\": response.status_code,\n                        \"response\": response.text\n                    }\n                    print(f\"[ERROR] Failed to fetch project {pid}: {response.status_code}\")\n                    errors.append(error_detail)\n                    break  # Przerywamy tylko ten projekt, przechodzimy do kolejnego\n    \n                data = response.json()\n                issues_list = data.get('issues', [])\n                all_issues.extend(issues_list)\n    \n                total = data.get('total', 0)\n                start_at += max_results\n    \n                if start_at >= total:\n                    print(f\"[INFO] Project {pid} done, total: {total}\")\n                    break\n    \n        if not all_issues:\n            print(\"[INFO] No issues retrieved.\")\n            return pd.DataFrame()  # Zwróć pusty DataFrame jeśli brak danych\n    \n        issues_df = pd.DataFrame(all_issues)\n    \n        # --- Funkcja pomocnicza: wyciąganie daty aktualizacji ---\n        def extract_updated(versioned):\n            if isinstance(versioned, str):\n                try:\n                    versioned = json.loads(versioned)\n                except:\n                    return None\n            if isinstance(versioned, dict):\n                updated_field = versioned.get('updated')\n                if isinstance(updated_field, dict):\n                    first_value = next(iter(updated_field.values()), None)\n                    if isinstance(first_value, str):\n                        return first_value.split('T')[0]\n                elif isinstance(updated_field, str):\n                    return updated_field.split('T')[0]\n            return None\n    \n        issues_df['updated'] = issues_df.get('versionedRepresentations', None).apply(extract_updated)\n        issues_df['updated'] = pd.to_datetime(issues_df['updated'], errors='coerce').dt.date\n    \n        # --- Zamiana złożonych struktur na JSON ---\n        for col in ['versionedRepresentations', 'renderedFields', 'transitions', 'editmeta', 'changelog']:\n            if col in issues_df.columns:\n                issues_df[col] = issues_df[col].apply(\n                    lambda x: json.dumps(x) if isinstance(x, (dict, list)) else x\n                )\n    \n        issues_df.reset_index(drop=True, inplace=True)\n        issues_df = issues_df.drop(columns='updated')\n        if errors:\n            print(\"\\n[WARNING] Some projects could not be fetched:\")\n            for err in errors:\n                print(f\"- Project: {err['project']}, Status: {err['status_code']}, Message: {err['response']}\")\n    \n        return issues_df\n\n# Usage\napi = Jira()"
  },
  {
   "cell_type": "code",
   "execution_count": null,
   "id": "67dbc7e0-ad69-4b37-ba82-28002f7a72cb",
   "metadata": {
    "codeCollapsed": false,
    "language": "python",
    "name": "cell15"
   },
   "outputs": [],
   "source": [
    "unq = api.get_unique_jira_projects()\n",
    "unq"
   ]
  },
  {
   "cell_type": "code",
   "execution_count": null,
   "id": "a7bb727e-01bb-4eb5-828b-25889e953f60",
   "metadata": {
    "codeCollapsed": false,
    "language": "python",
    "name": "boards_function"
   },
   "outputs": [],
   "source": [
    "# jira_boards\n",
    "\n",
    "boards = api.get_jira_boards()\n",
    "boards"
   ]
  },
  {
   "cell_type": "code",
   "execution_count": null,
   "id": "6510afc3-27cb-41b4-b9e6-110ce64e1298",
   "metadata": {
    "codeCollapsed": false,
    "language": "python",
    "name": "boards_session"
   },
   "outputs": [],
   "source": [
    "python_boards_table = 'BOARDS_FROM_PYTHON'\n",
    "\n",
    "session.write_pandas(boards,\n",
    "                         table_name=python_boards_table,\n",
    "                         auto_create_table=True,\n",
    "                         overwrite=True,\n",
    "                         table_type=\"temporary\")"
   ]
  },
  {
   "cell_type": "code",
   "execution_count": null,
   "id": "34abd448-24d5-4d9d-a772-61b39cede518",
   "metadata": {
    "language": "sql",
    "name": "boards_query"
   },
   "outputs": [],
   "source": [
    "\n",
    "-- create or replace table prod.raw.jira_boards(\n",
    "-- ID int,\n",
    "-- NAME varchar,\n",
    "-- SELF varchar,\n",
    "-- TYPE varchar,\n",
    "-- LOCATION variant,\n",
    "-- PROJECTID int,\n",
    "-- PROJECTKEY varchar,\n",
    "-- timestamp timestamp_tz\n",
    "-- );\n",
    "\n",
    "truncate table prod.raw.jira_boards;\n",
    "\n",
    "insert into prod.raw.jira_boards\n",
    "SELECT\n",
    "    CAST(\"id\" AS INT)                       AS id,\n",
    "    CAST(\"name\" AS STRING)                  AS name,\n",
    "    CAST(\"self\" AS STRING)                  AS self,\n",
    "    CAST(\"type\" AS STRING)                  AS type,\n",
    "    CAST(\"location\" AS VARIANT)             AS location,\n",
    "    CAST(location:projectId AS INT)       AS projectId,\n",
    "    CAST(location:projectKey AS STRING)   AS projectKey,\n",
    "    -- value:isPrivate             AS isPrivate,\n",
    "    -- value:location:displayName  AS displayName,\n",
    "    -- value:location:projectName  AS projectName,\n",
    "    -- value:location:projectTypeKey AS projectTypeKey,\n",
    "    -- value:location:avatarURI    AS avatarURL,\n",
    "    -- value:name_json             AS name_json,\n",
    "    -- value:location:userId       AS userId,\n",
    "    -- value:location:userAccountId AS userAccountId\n",
    "    current_timestamp as timestamp\n",
    "FROM BOARDS_FROM_PYTHON"
   ]
  },
  {
   "cell_type": "code",
   "execution_count": null,
   "id": "4d9efb87-fe16-434c-9ec4-81e124c6bb67",
   "metadata": {
    "language": "python",
    "name": "issue_fields_function"
   },
   "outputs": [],
   "source": [
    "# jira issue fields\n",
    "issue_fields = api.get_jira_issue_fields()\n",
    "issue_fields"
   ]
  },
  {
   "cell_type": "code",
   "execution_count": null,
   "id": "45a36424-e927-4778-9a6a-abc31ee3e319",
   "metadata": {
    "codeCollapsed": false,
    "language": "python",
    "name": "issue_fields_session"
   },
   "outputs": [],
   "source": [
    "python_issue_fields_table = 'ISSUE_FIELDS_FROM_PYTHON'\n",
    "\n",
    "session.write_pandas(issue_fields,\n",
    "                         table_name=python_issue_fields_table,\n",
    "                         auto_create_table=True,\n",
    "                         overwrite=True,\n",
    "                         table_type=\"temporary\")\n",
    "\n"
   ]
  },
  {
   "cell_type": "code",
   "execution_count": null,
   "id": "400ad88f-26e0-4f42-96b5-a027861a3438",
   "metadata": {
    "language": "sql",
    "name": "issue_fields_query"
   },
   "outputs": [],
   "source": [
    "-- CREATE OR REPLACE TABLE prod.raw.jira_issue_fields (\n",
    "--     id STRING,\n",
    "--     key STRING,\n",
    "--     name STRING,\n",
    "--     scope VARIANT,\n",
    "--     custom BOOLEAN,\n",
    "--     schema VARIANT,\n",
    "--     navigable BOOLEAN,\n",
    "--     orderable BOOLEAN,\n",
    "--     searchable BOOLEAN,\n",
    "--     clauseNames VARIANT,\n",
    "--     untranslatedName varchar,\n",
    "--     timestamp TIMESTAMP\n",
    "-- );\n",
    "\n",
    "truncate table prod.raw.jira_issue_fields;\n",
    "\n",
    "INSERT INTO prod.raw.jira_issue_fields\n",
    "SELECT\n",
    "    \"id\",\n",
    "    \"key\",\n",
    "    \"name\",\n",
    "    \"scope\",\n",
    "    \"custom\",\n",
    "    \"schema\",\n",
    "    \"navigable\",\n",
    "    \"orderable\",\n",
    "    \"searchable\",\n",
    "    \"clauseNames\",\n",
    "    \"untranslatedName\",\n",
    "    CURRENT_TIMESTAMP AS timestamp\n",
    "FROM ISSUE_FIELDS_FROM_PYTHON;\n"
   ]
  },
  {
   "cell_type": "code",
   "execution_count": null,
   "id": "6e272ae7-9cdc-4e94-8b01-b15def6dc8d5",
   "metadata": {
    "language": "python",
    "name": "projects_function"
   },
   "outputs": [],
   "source": [
    "# jira projects\n",
    "projects = api.get_jira_projects()\n",
    "projects"
   ]
  },
  {
   "cell_type": "code",
   "execution_count": null,
   "id": "6f785068-64de-4d6c-9f42-fbb1476da128",
   "metadata": {
    "codeCollapsed": false,
    "language": "python",
    "name": "projects_session"
   },
   "outputs": [],
   "source": [
    "python_projects_table = 'PROJECTS_FROM_PYTHON'\n",
    "\n",
    "session.write_pandas(projects,\n",
    "                         table_name=python_projects_table,\n",
    "                         auto_create_table=True,\n",
    "                         overwrite=True,\n",
    "                         table_type=\"temporary\")"
   ]
  },
  {
   "cell_type": "code",
   "execution_count": null,
   "id": "7d815c86-e9b2-4a8e-8da5-7dc6c277fb15",
   "metadata": {
    "language": "sql",
    "name": "projects_query"
   },
   "outputs": [],
   "source": [
    "-- CREATE or replace TABLE prod.raw.jira_projects (\n",
    "--     id INT,\n",
    "--     key STRING,\n",
    "--     url STRING,\n",
    "--     lead VARIANT,\n",
    "--     name STRING,\n",
    "--     self STRING,\n",
    "--     uuid STRING,\n",
    "--     email STRING,\n",
    "--     roles STRING,\n",
    "--     style STRING,\n",
    "--     expand STRING,\n",
    "--     deleted BOOLEAN,\n",
    "--     insight STRING,\n",
    "--     archived BOOLEAN,\n",
    "--     entityId string,\n",
    "--     versions STRING,\n",
    "--     deletedby VARIANT,\n",
    "--     favourite STRING,\n",
    "--     isPrivate BOOLEAN,\n",
    "--     archivedby STRING,\n",
    "--     avatarUrls VARIANT,\n",
    "--     components STRING,\n",
    "--     issueTypes STRING,\n",
    "--     properties STRING,\n",
    "--     simplified BOOLEAN,\n",
    "--     deletedDate DATE,\n",
    "--     description STRING,\n",
    "--     permissions STRING,\n",
    "--     archivedDate STRING,\n",
    "--     assigneetype STRING,\n",
    "--     projectTypeKey STRING,\n",
    "--     projectCategory VARIANT,\n",
    "--     retentionTillDate TIMESTAMP_TZ,\n",
    "--     issueTypeHierarchy STRING,\n",
    "--     timestamp timestamp_tz\n",
    "-- );\n",
    "\n",
    "TRUNCATE TABLE prod.raw.jira_projects;\n",
    "INSERT INTO prod.raw.jira_projects\n",
    "SELECT\n",
    "    \"id\",\n",
    "    \"key\",\n",
    "    \"url\",\n",
    "    \"lead\",\n",
    "    \"name\",\n",
    "    \"self\",\n",
    "    \"uuid\",\n",
    "    NULL AS \"email\",\n",
    "    NULL AS \"roles\",\n",
    "    \"style\",\n",
    "    \"expand\",\n",
    "    NULL AS \"deleted\",\n",
    "    NULL AS \"insight\",\n",
    "    \"archived\",\n",
    "    \"entityId\",\n",
    "    NULL AS \"versions\",\n",
    "    NULL AS \"deletedby\",\n",
    "    NULL AS \"favourite\",\n",
    "    \"isPrivate\",\n",
    "    NULL AS \"archivedby\",\n",
    "    \"avatarUrls\",\n",
    "    NULL AS \"components\",\n",
    "    \"issueTypes\",\n",
    "    NULL AS \"properties\",\n",
    "    \"simplified\",\n",
    "    NULL AS \"deletedDate\",\n",
    "    \"description\",\n",
    "    NULL AS \"permissions\",\n",
    "    \"archivedDate\",\n",
    "    NULL AS \"assigneetype\",\n",
    "    \"projectTypeKey\",\n",
    "    \"projectCategory\",\n",
    "    NULL AS \"retentionTillDate\",\n",
    "    NULL AS \"issueTypeHierarchy\",\n",
    "    current_timestamp AS timestamp\n",
    "FROM PROJECTS_FROM_PYTHON;"
   ]
  },
  {
   "cell_type": "code",
   "execution_count": null,
   "id": "159a8899-8a25-4939-8a09-a648d1de5475",
   "metadata": {
    "language": "python",
    "name": "users_function"
   },
   "outputs": [],
   "source": [
    "# jira users\n",
    "users = api.get_jira_users()\n",
    "users"
   ]
  },
  {
   "cell_type": "code",
   "execution_count": null,
   "id": "c2740dee-726b-4ec8-9944-10c83575a1ab",
   "metadata": {
    "language": "python",
    "name": "users_session"
   },
   "outputs": [],
   "source": [
    "python_users_table = 'USERS_FROM_PYTHON'\n",
    "\n",
    "session.write_pandas(users,\n",
    "                         table_name=python_users_table,\n",
    "                         auto_create_table=True,\n",
    "                         overwrite=True,\n",
    "                         table_type=\"temporary\")"
   ]
  },
  {
   "cell_type": "code",
   "execution_count": null,
   "id": "89fdc687-24ea-4f0a-a399-47c7eb77e076",
   "metadata": {
    "language": "sql",
    "name": "users_query"
   },
   "outputs": [],
   "source": [
    "-- CREATE OR REPLACE TABLE prod.raw.jira_users (\n",
    "--     key STRING,\n",
    "--     name STRING,\n",
    "--     self STRING,\n",
    "--     active BOOLEAN,\n",
    "--     expand STRING,\n",
    "--     groups STRING,\n",
    "--     locale STRING,\n",
    "--     timeZone STRING,\n",
    "--     accountId STRING,\n",
    "--     avatarUrls STRING,\n",
    "--     accountType STRING,\n",
    "--     displayName STRING,\n",
    "--     emailAddress STRING,\n",
    "--     applicationRoles STRING,\n",
    "--     timestamp timestamp_tz\n",
    "-- );\n",
    "\n",
    "truncate table prod.raw.jira_users;\n",
    "\n",
    "INSERT INTO prod.raw.jira_users\n",
    "SELECT\n",
    "    null as  \"key\",\n",
    "    null as \"name\",\n",
    "    \"self\",\n",
    "    \"active\",\n",
    "    null as \"expand\",\n",
    "    null as \"groups\",\n",
    "    \"locale\",\n",
    "    \"timeZone\",\n",
    "    \"accountId\",\n",
    "    \"avatarUrls\",\n",
    "    \"accountType\",\n",
    "    \"displayName\",\n",
    "    \"emailAddress\",\n",
    "    null as \"applicationRoles\",\n",
    "    current_timestamp AS timestamp\n",
    "FROM USERS_FROM_PYTHON;"
   ]
  },
  {
   "cell_type": "code",
   "execution_count": null,
   "id": "0354af13-0263-4dff-b66f-d2c747b6cde2",
   "metadata": {
    "language": "python",
    "name": "project_versions_function"
   },
   "outputs": [],
   "source": [
    "# jira project versions\n",
    "project_versions = api.get_jira_project_versions()\n",
    "project_versions"
   ]
  },
  {
   "cell_type": "code",
   "execution_count": null,
   "id": "2dd1d764-2d26-434a-934f-46c1f98fe041",
   "metadata": {
    "language": "python",
    "name": "project_versions_session"
   },
   "outputs": [],
   "source": [
    "python_project_versions_table = 'PROJECT_VERSIONS_FROM_PYTHON'\n",
    "\n",
    "session.write_pandas(project_versions,\n",
    "                         table_name=python_project_versions_table,\n",
    "                         auto_create_table=True,\n",
    "                         overwrite=True,\n",
    "                         table_type=\"temporary\")"
   ]
  },
  {
   "cell_type": "code",
   "execution_count": null,
   "id": "96ef38ec-71b9-49c1-9c6b-e687d5e690e6",
   "metadata": {
    "language": "sql",
    "name": "project_versions_query"
   },
   "outputs": [],
   "source": [
    "-- CREATE OR REPLACE TABLE prod.raw.jira_project_versions (\n",
    "--     id STRING,\n",
    "--     name string,\n",
    "--     self STRING,\n",
    "--     expand STRING,\n",
    "--     overdue BOOLEAN,\n",
    "--     project STRING,\n",
    "--     archived BOOLEAN,\n",
    "--     released BOOLEAN,\n",
    "--     projectId STRING,\n",
    "--     startDate DATE,\n",
    "--     releaseDate DATE,\n",
    "--     userStartDate DATE,\n",
    "--     userReleaseDate DATE,\n",
    "--     description string,\n",
    "--     timestamp timestamp_tz\n",
    "-- );\n",
    "\n",
    "truncate table prod.raw.jira_project_versions;\n",
    "\n",
    "INSERT INTO prod.raw.jira_project_versions\n",
    "SELECT\n",
    "    \"id\",\n",
    "    \"name\",\n",
    "    \"self\",\n",
    "    null as \"expand\",\n",
    "    \"overdue\",\n",
    "    null as \"project\",\n",
    "    \"archived\",\n",
    "    \"released\",\n",
    "    \"projectId\",\n",
    "    \"startDate\",\n",
    "    \"releaseDate\",\n",
    "    \"userStartDate\",\n",
    "    \"userReleaseDate\",\n",
    "    \"description\",\n",
    "    current_timestamp AS timestamp\n",
    "FROM PROJECT_VERSIONS_FROM_PYTHON;"
   ]
  },
  {
   "cell_type": "code",
   "execution_count": null,
   "id": "3c9ab804-9e21-4409-9db7-f879c1b1c492",
   "metadata": {
    "codeCollapsed": false,
    "language": "python",
    "name": "sprints_function"
   },
   "outputs": [],
   "source": [
    "# jira sprints\n",
    "sprints = api.get_jira_sprints()\n",
    "sprints"
   ]
  },
  {
   "cell_type": "code",
   "execution_count": null,
   "id": "172461bb-14cc-4963-8332-26498c093f94",
   "metadata": {
    "codeCollapsed": false,
    "language": "python",
    "name": "sprints_sesion"
   },
   "outputs": [],
   "source": [
    "python_sprints_table = 'SPRINTS_FROM_PYTHON'\n",
    "\n",
    "session.write_pandas(sprints,\n",
    "                         table_name=python_sprints_table,\n",
    "                         auto_create_table=True,\n",
    "                         overwrite=True,\n",
    "                         table_type=\"temporary\")\n"
   ]
  },
  {
   "cell_type": "code",
   "execution_count": null,
   "id": "7f6063e5-39f0-42a3-a5ff-4b5bb3a96303",
   "metadata": {
    "language": "sql",
    "name": "sprints_query"
   },
   "outputs": [],
   "source": [
    "-- CREATE OR REPLACE TABLE prod.raw.jira_sprints (\n",
    "--     id INT,\n",
    "--     goal STRING,\n",
    "--     name STRING,\n",
    "--     self STRING,\n",
    "--     state STRING,\n",
    "--     boardId INT,\n",
    "--     endDate date,\n",
    "--     startDate DATE,\n",
    "--     createdDate DATE,\n",
    "--     completeDate DATE,\n",
    "--     originBoardId INT,\n",
    "--     timestamp timestamp_tz\n",
    "-- );\n",
    "\n",
    "TRUNCATE TABLE prod.raw.jira_sprints;\n",
    "\n",
    "INSERT INTO prod.raw.jira_sprints\n",
    "SELECT\n",
    "    \"id\",\n",
    "    \"goal\",\n",
    "    \"name\",\n",
    "    \"self\",\n",
    "    \"state\",\n",
    "    \"id\" as boardId,\n",
    "    DATEADD(hour, 1, \"endDate\") as \"endDate\",\n",
    "    \"startDate\",\n",
    "    \"createdDate\",\n",
    "    \"completeDate\",\n",
    "    \"originBoardId\",\n",
    "    current_timestamp AS timestamp\n",
    "FROM SPRINTS_FROM_PYTHON;"
   ]
  },
  {
   "cell_type": "code",
   "execution_count": null,
   "id": "e93330f4-b27f-4a83-b58f-f893f80edcbf",
   "metadata": {
    "codeCollapsed": false,
    "language": "python",
    "name": "unique_projects_function"
   },
   "outputs": [],
   "source": [
    "# projects = api.get_jira_projects()\n",
    "# projects_unique = projects['id'].unique().tolist()\n",
    "# projects_unique"
   ]
  },
  {
   "cell_type": "code",
   "execution_count": null,
   "id": "4c5c95fb-7b69-458c-b2cb-c202f5ea7a75",
   "metadata": {
    "language": "python",
    "name": "issues_function"
   },
   "outputs": [],
   "source": [
    "issues = api.get_jira_issues_projects()\n",
    "issues"
   ]
  },
  {
   "cell_type": "code",
   "execution_count": null,
   "id": "f33f244e-a8ce-4e9f-9d9e-e34032d91792",
   "metadata": {
    "codeCollapsed": false,
    "language": "python",
    "name": "issues_session"
   },
   "outputs": [],
   "source": [
    "temp_issues_table = 'TEMP_ISSUES'\n",
    "\n",
    "session.write_pandas(issues,\n",
    "                         table_name=temp_issues_table,\n",
    "                         auto_create_table=True,\n",
    "                         overwrite=True,\n",
    "                         table_type=\"temporary\")"
   ]
  },
  {
   "cell_type": "code",
   "execution_count": null,
   "id": "ac5be3eb-225d-49e8-8820-e2800949d40a",
   "metadata": {
    "codeCollapsed": false,
    "language": "sql",
    "name": "issues_raw_table"
   },
   "outputs": [],
   "source": [
    "insert into prod.raw.jira_issues\n",
    "select * from TEMP_ISSUES"
   ]
  },
  {
   "cell_type": "code",
   "execution_count": null,
   "id": "294441b3-2745-47c7-9e29-15c798162910",
   "metadata": {
    "language": "sql",
    "name": "cell9"
   },
   "outputs": [],
   "source": [
    "-- select  * from prod.raw.jira_issues\n",
    "-- where \"id\" like '525164%'\n"
   ]
  },
  {
   "cell_type": "code",
   "execution_count": null,
   "id": "4999172a-a840-4777-91e4-0bef3f48c9c8",
   "metadata": {
    "codeCollapsed": false,
    "language": "sql",
    "name": "sprint_issues_udf"
   },
   "outputs": [],
   "source": [
    "-- CREATE OR REPLACE FUNCTION get_sprint_issues(\n",
    "--     sprint_id int, \n",
    "--     jira_username STRING, \n",
    "--     jira_api_token STRING\n",
    "-- )\n",
    "-- RETURNS VARIANT\n",
    "-- LANGUAGE PYTHON\n",
    "-- RUNTIME_VERSION = '3.9'\n",
    "-- EXTERNAL_ACCESS_INTEGRATIONS = (jira_integration)\n",
    "-- PACKAGES = ('requests', 'pandas')\n",
    "-- HANDLER = 'get_sprint_issues'\n",
    "-- AS\n",
    "-- $$\n",
    "-- import requests\n",
    "-- import pandas as pd\n",
    "-- import time\n",
    "\n",
    "-- def get_sprint_issues(sprint_id, jira_username, jira_api_token):\n",
    "--     if not jira_username or not jira_api_token:\n",
    "--         return {\"status\": \"error\", \"message\": \"Missing credentials\"}\n",
    "--     time.sleep(2)\n",
    "--     params = {\n",
    "--         \"startAt\": 0,\n",
    "--         \"maxResults\": 1000\n",
    "--     }\n",
    "\n",
    "--     url = f\"https://phlexglobal.atlassian.net/rest/agile/1.0/sprint/{sprint_id}/issue\"\n",
    "--     headers = {\"Accept\": \"application/json\"}\n",
    "\n",
    "--     for attempt in range(3):\n",
    "--         response = requests.get(\n",
    "--             url,\n",
    "--             auth=(jira_username, jira_api_token),\n",
    "--             headers=headers,\n",
    "--             timeout=30,\n",
    "--             params=params\n",
    "--         )\n",
    "\n",
    "--         if response.status_code == 429:  # rate limited\n",
    "--             retry_after = int(response.headers.get(\"Retry-After\", \"3\"))\n",
    "--             time.sleep(retry_after)\n",
    "--             continue\n",
    "--         elif response.status_code != 200:\n",
    "--             return {\n",
    "--                 \"status\": \"error\",\n",
    "--                 \"code\": response.status_code,\n",
    "--                 \"message\": response.text\n",
    "--             }\n",
    "--         else:\n",
    "--             break\n",
    "\n",
    "--     issues = response.json().get(\"issues\", [])\n",
    "\n",
    "--     needed_columns = [\n",
    "--         \"id\", \"key\", \"self\", \"expand\",\n",
    "--         \"fields.created\", \"fields.updated\", \n",
    "--         \"fields.customfield_10006\", \n",
    "--         \"fields.customfield_11302\", \n",
    "--         \"fields.status.description\", \n",
    "--         \"fields.status.iconUrl\", \n",
    "--         \"fields.status.id\", \n",
    "--         \"fields.status.name\", \n",
    "--         \"fields.status.self\", \n",
    "--         \"fields.status.statusCategory.colorName\",\n",
    "--         \"fields.status.statusCategory.id\",\n",
    "--         \"fields.status.statusCategory.key\",\n",
    "--         \"fields.status.statusCategory.name\",\n",
    "--         \"fields.status.statusCategory.self\"\n",
    "--     ]\n",
    "\n",
    "--     try:\n",
    "--         df = pd.json_normalize(issues)\n",
    "--         df = df[needed_columns].reset_index()\n",
    "--     except KeyError:\n",
    "--         return []\n",
    "\n",
    "--     return df.to_dict(orient=\"records\")\n",
    "\n",
    "-- $$;\n"
   ]
  },
  {
   "cell_type": "code",
   "execution_count": null,
   "id": "3b524283-3cfa-423a-a7a6-5c81548353df",
   "metadata": {
    "language": "sql",
    "name": "cell2"
   },
   "outputs": [],
   "source": [
    "-- chunking into parts containing 100 ID each so API will give us all values in response_json\n",
    "\n",
    "CREATE OR REPLACE TABLE prod.silver.JIRA_SPRINTS_CHUNKED AS\n",
    "SELECT \n",
    "    distinct(ID), \n",
    "    state,\n",
    "    CEIL(ROW_NUMBER() OVER (ORDER BY ID) / 100.0) AS chunk_id,\n",
    "    startdate\n",
    "FROM prod.silver.JIRA_SPRINTS\n",
    "order by state asc;\n",
    "\n",
    "select * from prod.silver.JIRA_SPRINTS_CHUNKED;"
   ]
  },
  {
   "cell_type": "code",
   "execution_count": null,
   "id": "7057f500-be8e-40d3-9b7e-f2c76c890a79",
   "metadata": {
    "codeCollapsed": false,
    "language": "sql",
    "name": "cell1"
   },
   "outputs": [],
   "source": "insert into prod.raw.JIRA_SPRINT_ISSUES_SNOWFLAKE\n\nSELECT \n    sprint_id,\n    value:\"id\"::STRING AS ISSUE_ID,\n    value:\"key\"::STRING AS ISSUE_KEY,\n    value:\"self\"::STRING AS issue_self,\n    value:\"expand\"::STRING AS issue_expand,\n    value:\"fields.created\"::STRING AS created,\n    value:\"fields.updated\"::STRING AS updated,\n    value:\"fields.customfield_10006\"::VARIANT AS customfield_10006,\n    value:\"fields.customfield_11302\"::VARIANT AS customfield_11302,\n    value:\"fields.status.description\"::STRING AS status_description,\n    value:\"fields.status.iconUrl\"::STRING AS status_iconUrl,\n    value:\"fields.status.id\"::STRING AS status_id,\n    value:\"fields.status.name\"::STRING AS status_name,\n    value:\"fields.status.self\"::STRING AS status_self,\n    value:\"fields.status.statusCategory.colorName\"::STRING AS status_color,\n    value:\"fields.status.statusCategory.id\"::STRING AS status_cat_id,\n    value:\"fields.status.statusCategory.key\"::STRING AS status_cat_key,\n    value:\"fields.status.statusCategory.name\"::STRING AS status_cat_name,\n    value:\"fields.status.statusCategory.self\"::STRING AS status_cat_self,\n    (sprint_id || '-' || value:\"id\")::TEXT AS ID,\n    current_timestamp as timestamp\nFROM (\n    SELECT \n      s.ID AS sprint_id,\n      prod.raw.get_sprint_issues(s.ID) AS issues_json\n    FROM prod.silver.JIRA_SPRINTS_CHUNKED s\n    where s.chunk_id between 1 and 5\n) t,\nLATERAL FLATTEN(input => t.issues_json);"
  },
  {
   "cell_type": "code",
   "execution_count": null,
   "id": "30dc9727-1cd1-40b6-aa1a-333cd0681ec3",
   "metadata": {
    "language": "sql",
    "name": "cell6",
    "codeCollapsed": false
   },
   "outputs": [],
   "source": "insert into prod.raw.JIRA_SPRINT_ISSUES_SNOWFLAKE\n\nSELECT \n    sprint_id,\n    value:\"id\"::STRING AS ISSUE_ID,\n    value:\"key\"::STRING AS ISSUE_KEY,\n    value:\"self\"::STRING AS issue_self,\n    value:\"expand\"::STRING AS issue_expand,\n    value:\"fields.created\"::STRING AS created,\n    value:\"fields.updated\"::STRING AS updated,\n    value:\"fields.customfield_10006\"::VARIANT AS customfield_10006,\n    value:\"fields.customfield_11302\"::VARIANT AS customfield_11302,\n    value:\"fields.status.description\"::STRING AS status_description,\n    value:\"fields.status.iconUrl\"::STRING AS status_iconUrl,\n    value:\"fields.status.id\"::STRING AS status_id,\n    value:\"fields.status.name\"::STRING AS status_name,\n    value:\"fields.status.self\"::STRING AS status_self,\n    value:\"fields.status.statusCategory.colorName\"::STRING AS status_color,\n    value:\"fields.status.statusCategory.id\"::STRING AS status_cat_id,\n    value:\"fields.status.statusCategory.key\"::STRING AS status_cat_key,\n    value:\"fields.status.statusCategory.name\"::STRING AS status_cat_name,\n    value:\"fields.status.statusCategory.self\"::STRING AS status_cat_self,\n    (sprint_id || '-' || value:\"id\")::TEXT AS ID,\n        current_timestamp as timestamp\nFROM (\n    SELECT \n      s.ID AS sprint_id,\n      prod.raw.get_sprint_issues(s.ID) AS issues_json\n    FROM prod.silver.JIRA_SPRINTS_CHUNKED s\n    where s.chunk_id between 6 and 10\n) t,\nLATERAL FLATTEN(input => t.issues_json);"
  },
  {
   "cell_type": "code",
   "execution_count": null,
   "id": "4e90f89c-2f75-46ca-a782-f4332fb29bab",
   "metadata": {
    "language": "sql",
    "name": "cell5"
   },
   "outputs": [],
   "source": "insert into prod.raw.JIRA_SPRINT_ISSUES_SNOWFLAKE\n\nSELECT \n    sprint_id,\n    value:\"id\"::STRING AS ISSUE_ID,\n    value:\"key\"::STRING AS ISSUE_KEY,\n    value:\"self\"::STRING AS issue_self,\n    value:\"expand\"::STRING AS issue_expand,\n    value:\"fields.created\"::STRING AS created,\n    value:\"fields.updated\"::STRING AS updated,\n    value:\"fields.customfield_10006\"::VARIANT AS customfield_10006,\n    value:\"fields.customfield_11302\"::VARIANT AS customfield_11302,\n    value:\"fields.status.description\"::STRING AS status_description,\n    value:\"fields.status.iconUrl\"::STRING AS status_iconUrl,\n    value:\"fields.status.id\"::STRING AS status_id,\n    value:\"fields.status.name\"::STRING AS status_name,\n    value:\"fields.status.self\"::STRING AS status_self,\n    value:\"fields.status.statusCategory.colorName\"::STRING AS status_color,\n    value:\"fields.status.statusCategory.id\"::STRING AS status_cat_id,\n    value:\"fields.status.statusCategory.key\"::STRING AS status_cat_key,\n    value:\"fields.status.statusCategory.name\"::STRING AS status_cat_name,\n    value:\"fields.status.statusCategory.self\"::STRING AS status_cat_self,\n    (sprint_id || '-' || value:\"id\")::TEXT AS ID,\n        current_timestamp as timestamp\nFROM (\n    SELECT \n      s.ID AS sprint_id,\n      prod.raw.get_sprint_issues(s.ID) AS issues_json\n    FROM prod.silver.JIRA_SPRINTS_CHUNKED s\n    where s.chunk_id between 11 and 15\n) t,\nLATERAL FLATTEN(input => t.issues_json);"
  },
  {
   "cell_type": "code",
   "execution_count": null,
   "id": "a747c09a-8f90-4c33-aaa6-937bed9ad3c4",
   "metadata": {
    "language": "sql",
    "name": "cell4"
   },
   "outputs": [],
   "source": "insert into prod.raw.JIRA_SPRINT_ISSUES_SNOWFLAKE\n\nSELECT \n    sprint_id,\n    value:\"id\"::STRING AS ISSUE_ID,\n    value:\"key\"::STRING AS ISSUE_KEY,\n    value:\"self\"::STRING AS issue_self,\n    value:\"expand\"::STRING AS issue_expand,\n    value:\"fields.created\"::STRING AS created,\n    value:\"fields.updated\"::STRING AS updated,\n    value:\"fields.customfield_10006\"::VARIANT AS customfield_10006,\n    value:\"fields.customfield_11302\"::VARIANT AS customfield_11302,\n    value:\"fields.status.description\"::STRING AS status_description,\n    value:\"fields.status.iconUrl\"::STRING AS status_iconUrl,\n    value:\"fields.status.id\"::STRING AS status_id,\n    value:\"fields.status.name\"::STRING AS status_name,\n    value:\"fields.status.self\"::STRING AS status_self,\n    value:\"fields.status.statusCategory.colorName\"::STRING AS status_color,\n    value:\"fields.status.statusCategory.id\"::STRING AS status_cat_id,\n    value:\"fields.status.statusCategory.key\"::STRING AS status_cat_key,\n    value:\"fields.status.statusCategory.name\"::STRING AS status_cat_name,\n    value:\"fields.status.statusCategory.self\"::STRING AS status_cat_self,\n    (sprint_id || '-' || value:\"id\")::TEXT AS ID,\n        current_timestamp as timestamp\nFROM (\n    SELECT \n      s.ID AS sprint_id,\n      prod.raw.get_sprint_issues(s.ID) AS issues_json\n    FROM prod.silver.JIRA_SPRINTS_CHUNKED s\n    where s.chunk_id between 16 and 20\n) t,\nLATERAL FLATTEN(input => t.issues_json);"
  },
  {
   "cell_type": "code",
   "execution_count": null,
   "id": "d65e3bd3-1f17-4bf8-aee1-186e43919aa5",
   "metadata": {
    "language": "sql",
    "name": "cell3"
   },
   "outputs": [],
   "source": "insert into prod.raw.JIRA_SPRINT_ISSUES_SNOWFLAKE\n\nSELECT \n    sprint_id,\n    value:\"id\"::STRING AS ISSUE_ID,\n    value:\"key\"::STRING AS ISSUE_KEY,\n    value:\"self\"::STRING AS issue_self,\n    value:\"expand\"::STRING AS issue_expand,\n    value:\"fields.created\"::STRING AS created,\n    value:\"fields.updated\"::STRING AS updated,\n    value:\"fields.customfield_10006\"::VARIANT AS customfield_10006,\n    value:\"fields.customfield_11302\"::VARIANT AS customfield_11302,\n    value:\"fields.status.description\"::STRING AS status_description,\n    value:\"fields.status.iconUrl\"::STRING AS status_iconUrl,\n    value:\"fields.status.id\"::STRING AS status_id,\n    value:\"fields.status.name\"::STRING AS status_name,\n    value:\"fields.status.self\"::STRING AS status_self,\n    value:\"fields.status.statusCategory.colorName\"::STRING AS status_color,\n    value:\"fields.status.statusCategory.id\"::STRING AS status_cat_id,\n    value:\"fields.status.statusCategory.key\"::STRING AS status_cat_key,\n    value:\"fields.status.statusCategory.name\"::STRING AS status_cat_name,\n    value:\"fields.status.statusCategory.self\"::STRING AS status_cat_self,\n    (sprint_id || '-' || value:\"id\")::TEXT AS ID,\n        current_timestamp as timestamp\nFROM (\n    SELECT \n      s.ID AS sprint_id,\n      prod.raw.get_sprint_issues(s.ID) AS issues_json\n    FROM prod.silver.JIRA_SPRINTS_CHUNKED s\n    where s.chunk_id between 21 and 25\n) t,\nLATERAL FLATTEN(input => t.issues_json);"
  },
  {
   "cell_type": "code",
   "execution_count": null,
   "id": "8c9a0502-46e4-4dc0-b4b8-6688125729be",
   "metadata": {
    "language": "sql",
    "name": "cell7"
   },
   "outputs": [],
   "source": "insert into prod.raw.JIRA_SPRINT_ISSUES_SNOWFLAKE\n\nSELECT \n    sprint_id,\n    value:\"id\"::STRING AS ISSUE_ID,\n    value:\"key\"::STRING AS ISSUE_KEY,\n    value:\"self\"::STRING AS issue_self,\n    value:\"expand\"::STRING AS issue_expand,\n    value:\"fields.created\"::STRING AS created,\n    value:\"fields.updated\"::STRING AS updated,\n    value:\"fields.customfield_10006\"::VARIANT AS customfield_10006,\n    value:\"fields.customfield_11302\"::VARIANT AS customfield_11302,\n    value:\"fields.status.description\"::STRING AS status_description,\n    value:\"fields.status.iconUrl\"::STRING AS status_iconUrl,\n    value:\"fields.status.id\"::STRING AS status_id,\n    value:\"fields.status.name\"::STRING AS status_name,\n    value:\"fields.status.self\"::STRING AS status_self,\n    value:\"fields.status.statusCategory.colorName\"::STRING AS status_color,\n    value:\"fields.status.statusCategory.id\"::STRING AS status_cat_id,\n    value:\"fields.status.statusCategory.key\"::STRING AS status_cat_key,\n    value:\"fields.status.statusCategory.name\"::STRING AS status_cat_name,\n    value:\"fields.status.statusCategory.self\"::STRING AS status_cat_self,\n    (sprint_id || '-' || value:\"id\")::TEXT AS ID,\n        current_timestamp as timestamp\nFROM (\n    SELECT \n      s.ID AS sprint_id,\n     prod.raw.get_sprint_issues(s.ID) AS issues_json\n    FROM prod.silver.JIRA_SPRINTS_CHUNKED s\n    where s.chunk_id > 25\n) t,\nLATERAL FLATTEN(input => t.issues_json);"
  },
  {
   "cell_type": "code",
   "execution_count": null,
   "id": "a25903ef-2cd6-490c-b98b-ca1b9ef6bba9",
   "metadata": {
    "codeCollapsed": false,
    "language": "sql",
    "name": "insert_into_sprint_issues_snowflake"
   },
   "outputs": [],
   "source": [
    "-- insert into prod.raw.JIRA_SPRINT_ISSUES_SNOWFLAKE\n",
    "\n",
    "-- SELECT \n",
    "--     sprint_id,\n",
    "--     value:\"id\"::STRING AS ISSUE_ID,\n",
    "--     value:\"key\"::STRING AS ISSUE_KEY,\n",
    "--     value:\"self\"::STRING AS issue_self,\n",
    "--     value:\"expand\"::STRING AS issue_expand,\n",
    "--     value:\"fields.created\"::STRING AS created,\n",
    "--     value:\"fields.updated\"::STRING AS updated,\n",
    "--     value:\"fields.customfield_10006\"::VARIANT AS customfield_10006,\n",
    "--     value:\"fields.customfield_11302\"::VARIANT AS customfield_11302,\n",
    "--     value:\"fields.status.description\"::STRING AS status_description,\n",
    "--     value:\"fields.status.iconUrl\"::STRING AS status_iconUrl,\n",
    "--     value:\"fields.status.id\"::STRING AS status_id,\n",
    "--     value:\"fields.status.name\"::STRING AS status_name,\n",
    "--     value:\"fields.status.self\"::STRING AS status_self,\n",
    "--     value:\"fields.status.statusCategory.colorName\"::STRING AS status_color,\n",
    "--     value:\"fields.status.statusCategory.id\"::STRING AS status_cat_id,\n",
    "--     value:\"fields.status.statusCategory.key\"::STRING AS status_cat_key,\n",
    "--     value:\"fields.status.statusCategory.name\"::STRING AS status_cat_name,\n",
    "--     value:\"fields.status.statusCategory.self\"::STRING AS status_cat_self,\n",
    "--     (sprint_id || '-' || value:\"id\")::TEXT AS ID\n",
    "-- FROM (\n",
    "--     SELECT \n",
    "--       distinct(s.ID) AS sprint_id,\n",
    "--       get_sprint_issues(s.ID, $username, $api_token) AS issues_json\n",
    "--     FROM metrics.staged.JIRA_SPRINTS s\n",
    "--     -- where s.state <> 'closed'\n",
    "-- ) t,\n",
    "-- LATERAL FLATTEN(input => t.issues_json);"
   ]
  },
  {
   "cell_type": "code",
   "execution_count": null,
   "id": "67c09b75-cb4b-46f7-9dad-ee720ae9a870",
   "metadata": {
    "language": "sql",
    "name": "cell8"
   },
   "outputs": [],
   "source": [
    "select * from prod.raw.JIRA_SPRINT_ISSUES_SNOWFLAKE"
   ]
  },
  {
   "cell_type": "code",
   "execution_count": null,
   "id": "1f0f1ec8-9417-4159-b2db-5c40da5907d7",
   "metadata": {
    "codeCollapsed": false,
    "language": "sql",
    "name": "overwrite_sprint_issues_snowflake"
   },
   "outputs": [],
   "source": [
    "INSERT OVERWRITE INTO prod.raw.JIRA_SPRINT_ISSUES_SNOWFLAKE\n",
    "WITH ranked_issues AS (\n",
    "  SELECT \n",
    "    sprint_id,\n",
    "    ISSUE_ID,\n",
    "    ISSUE_KEY,\n",
    "    issue_self,\n",
    "    issue_expand,\n",
    "    created,\n",
    "    updated,\n",
    "    customfield_10006,\n",
    "    customfield_11302,\n",
    "    status_description,\n",
    "    status_iconUrl,\n",
    "    status_id,\n",
    "    status_name,\n",
    "    status_self,\n",
    "    status_color,\n",
    "    status_cat_id,\n",
    "    status_cat_key,\n",
    "    status_cat_name,\n",
    "    status_cat_self,\n",
    "    ID,\n",
    "    ROW_NUMBER() OVER (PARTITION BY ID ORDER BY UPDATED DESC) AS RN\n",
    "  FROM prod.raw.JIRA_SPRINT_ISSUES_SNOWFLAKE\n",
    ")\n",
    "SELECT \n",
    "    sprint_id,\n",
    "    ISSUE_ID,\n",
    "    ISSUE_KEY,\n",
    "    issue_self,\n",
    "    issue_expand,\n",
    "    created,\n",
    "    updated,\n",
    "    customfield_10006,\n",
    "    customfield_11302,\n",
    "    status_description,\n",
    "    status_iconUrl,\n",
    "    status_id,\n",
    "    status_name,\n",
    "    status_self,\n",
    "    status_color,\n",
    "    status_cat_id,\n",
    "    status_cat_key,\n",
    "    status_cat_name,\n",
    "    status_cat_self,\n",
    "    ID,\n",
    "    current_timestamp as TIMESTAMP,\n",
    "FROM ranked_issues\n",
    "WHERE RN = 1;\n"
   ]
  },
  {
   "cell_type": "code",
   "execution_count": null,
   "id": "b6d4b214-af64-4fe8-914d-6e56b10af5fb",
   "metadata": {
    "codeCollapsed": false,
    "language": "python",
    "name": "stop_time"
   },
   "outputs": [],
   "source": [
    "# Stop time\n",
    "end_time = time.time()\n",
    "\n",
    "print(\"Elapsed time:\", (end_time - start_time)/60, \"minutes\")"
   ]
  }
 ]
}