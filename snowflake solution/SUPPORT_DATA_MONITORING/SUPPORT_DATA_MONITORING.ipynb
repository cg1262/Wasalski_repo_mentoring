{
 "metadata": {
  "kernelspec": {
   "display_name": "Streamlit Notebook",
   "name": "streamlit"
  },
  "lastEditStatus": {
   "notebookId": "olptzbpb6zbix6nz5q2h",
   "authorId": "557922832688",
   "authorName": "MTWA",
   "authorEmail": "mtwa@softwaremind.com",
   "sessionId": "3886b402-604a-49a0-9c99-39a0908abf46",
   "lastEditTime": 1753792498426
  }
 },
 "nbformat_minor": 5,
 "nbformat": 4,
 "cells": [
  {
   "cell_type": "code",
   "id": "3775908f-ca36-4846-8f38-5adca39217f2",
   "metadata": {
    "language": "sql",
    "name": "cell1"
   },
   "source": "SELECT *\n  FROM TABLE(INFORMATION_SCHEMA.TASK_HISTORY())",
   "execution_count": null,
   "outputs": []
  }
 ]
}