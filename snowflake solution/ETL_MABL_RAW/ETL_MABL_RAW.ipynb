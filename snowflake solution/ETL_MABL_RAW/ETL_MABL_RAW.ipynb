{
 "metadata": {
  "kernelspec": {
   "display_name": "Streamlit Notebook",
   "name": "streamlit"
  },
  "lastEditStatus": {
   "notebookId": "cxu4i4npg3eetb45pi45",
   "authorId": "557922832688",
   "authorName": "MTWA",
   "authorEmail": "mtwa@softwaremind.com",
   "sessionId": "8ffbc89f-7df8-488f-9a2b-7bbfeeba8c89",
   "lastEditTime": 1753963277526
  }
 },
 "nbformat_minor": 5,
 "nbformat": 4,
 "cells": [
  {
   "cell_type": "code",
   "id": "3775908f-ca36-4846-8f38-5adca39217f2",
   "metadata": {
    "language": "python",
    "name": "cell1"
   },
   "source": "  # Correct import (requires python-dotenv package)\n\ntry:\n    import requests\n    import pandas as pd\n    import time\n    from datetime import datetime\n    from snowflake.snowpark.context import get_active_session\n    session = get_active_session()\n    mabl_api_key = session.sql(\"SELECT prod.raw.mabl_api_key()\").collect()[0][0]\nexcept:\n    import requests\n    import pandas as pd\n    import time\n    import os\n    from dotenv import load_dotenv\n    from datetime import datetime\n    load_dotenv()  # Load .env file\n    mabl_api_key = os.getenv('mabl_api_key')  # Get environment variable",
   "execution_count": null,
   "outputs": []
  },
  {
   "cell_type": "code",
   "id": "02575e5e-458a-42c3-8d62-63bb2ab8e0b0",
   "metadata": {
    "language": "python",
    "name": "cell4"
   },
   "outputs": [],
   "source": "mabl_api_key",
   "execution_count": null
  },
  {
   "cell_type": "code",
   "id": "8d50cbf4-0c8d-4950-86cb-114990437ac9",
   "metadata": {
    "language": "python",
    "name": "cell2",
    "codeCollapsed": false
   },
   "source": "class Mabl:\n    \"\"\"\n    A Python client for interacting with Mabl's API.\n    \n    This client handles authentication and provides methods for common operations\n    like fetching and creating applications, environments, tests, and results.\n    \"\"\"\n    \n    def __init__(self):\n        \"\"\"\n        Initialize the Mabl API client.\n        \n        Args:\n            api_key: Your Mabl API key (get from Settings > APIs in Mabl app)\n            workspace_id: Your workspace ID (optional, but required for many operations)\n        \"\"\"\n        self.api_key = mabl_api_key\n        \n        # Common headers\n        self.headers = {\n            'Authorization': self.api_key,\n            'Accept': 'application/json'\n        }\n    \n    \n    def get_applications(self):\n        \"\"\"\n        Get all applications in your workspace.\n        \n        Returns:\n            List of application objects\n        \"\"\"\n        response = requests.get(url='https://api.mabl.com/applications', headers=self.headers)\n        print(response.json())\n        results = response.json()\n        get_application_df = pd.DataFrame(results)\n    \napi =  Mabl()\n\n    ",
   "execution_count": null,
   "outputs": []
  },
  {
   "cell_type": "code",
   "id": "3b527fa2-0850-467d-bde2-620d42ff6ac8",
   "metadata": {
    "language": "python",
    "name": "cell3",
    "codeCollapsed": false
   },
   "outputs": [],
   "source": "get_applcations = api.get_applications()\nget_applications",
   "execution_count": null
  },
  {
   "cell_type": "code",
   "id": "0c96a265-0c91-4a8e-9e13-eb5828cf6758",
   "metadata": {
    "language": "python",
    "name": "cell5",
    "codeCollapsed": false
   },
   "outputs": [],
   "source": "",
   "execution_count": null
  }
 ]
}