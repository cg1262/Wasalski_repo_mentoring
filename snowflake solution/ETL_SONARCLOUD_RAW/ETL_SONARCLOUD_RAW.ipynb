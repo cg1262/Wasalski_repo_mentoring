{
 "metadata": {
  "kernelspec": {
   "display_name": "Streamlit Notebook",
   "name": "streamlit"
  },
  "lastEditStatus": {
   "notebookId": "73mlc2v5yegc5yybqdb6",
   "authorId": "557922832688",
   "authorName": "MTWA",
   "authorEmail": "mtwa@softwaremind.com",
   "sessionId": "afe5bfbf-170d-46f9-b8c0-c5e53659451d",
   "lastEditTime": 1753730390877
  }
 },
 "nbformat_minor": 5,
 "nbformat": 4,
 "cells": [
  {
   "cell_type": "markdown",
   "id": "c853e53a-2e08-4db8-a7f3-01da10e80b73",
   "metadata": {
    "name": "api_documentation",
    "collapsed": false
   },
   "source": "# API Documentation\n\nhttps://sonarcloud.io/web_api/api/metrics?deprecated=false\n"
  },
  {
   "cell_type": "code",
   "id": "03cd8bc7-ebe0-4305-9f34-2bc4c154dd8b",
   "metadata": {
    "language": "sql",
    "name": "cell1"
   },
   "outputs": [],
   "source": "ALTER SESSION SET TIMEZONE = 'Europe/London';",
   "execution_count": null
  },
  {
   "cell_type": "markdown",
   "id": "2185f08a-b8eb-453d-afca-ca33eef4ace4",
   "metadata": {
    "name": "prod_db_doc",
    "collapsed": false
   },
   "source": "The production database is \"prod\". Data pulled directly from the API is being stored in the \"raw\" schema.\nWe are keeping commented a \"CREATE OR REPLACE\" query so that, if any modifications are needed, the script is very easy to update."
  },
  {
   "cell_type": "code",
   "id": "c421c999-8197-423d-a01d-886d50ed2688",
   "metadata": {
    "language": "python",
    "name": "variables"
   },
   "outputs": [],
   "source": "try:\n    from snowflake.snowpark.context import get_active_session\n    import requests\n    import pandas as pd\n    import datetime \n    import time\n    session = get_active_session()\n    sonarcloud_api_key = session.sql(\"SELECT PROD.RAW.sonarcloud_api_key()\").collect()[0][0]\n    sonarcloud_api_key\nexcept:\n    from dotenv import load_dotenv\n    load_dotenv()\n    tenant_id = os.getenv('tenant_id')\n    client_id = os.getenv('client_id')\n    client_secret = os.getenv('client_secret')\n    subscription_id = os.getenv('subscription_id')\n    billing_account_id = os.getenv('billing_account_id')\n\n",
   "execution_count": null
  },
  {
   "cell_type": "code",
   "id": "4c579cbb-aafe-49af-abc8-eb76643d4c68",
   "metadata": {
    "language": "python",
    "name": "cell7",
    "codeCollapsed": false
   },
   "outputs": [],
   "source": "class SonarcloudApi:\n    \n    def __init__(self):\n        self.sonarcloud_api_key = sonarcloud_api_key\n        self.headers = {\"Authorization\": f\"Bearer {self.sonarcloud_api_key}\"}\n        self.organization = 'phlexglobal'\n        self.page_size = 500\n        self.page_number = 1\n        self.months = range(1,13)\n        self.current_year = datetime.datetime.now().year\n        \n    def get_sonarcloud_issues(self):\n\n        all_issues = []  # list to store all issues\n        year_tofind = 2017\n        # Main outer loop - iterate through years starting from 2017 up to current year\n        while year_tofind <= self.current_year:\n            # Inner loop - iterate through all months (1-12) for each year\n            for month in self.months:\n                # Create API query parameters for the specific month and year\n                params = {\n                    \"organization\": self.organization,  # Organization identifier in SonarCloud\n                    \"ps\": self.page_size,  # Page size - number of sonarcloud_api_key per page (maximum 500)\n                    \"p\": self.page_number ,     # Initial page number\n                    \"createdBefore\": f\"{year_tofind}-{month+1:02d}-01\",  # End date: first day of next month\n                    \"createdAfter\": f\"{year_tofind}-{month:02d}-01\",     # Start date: first day of current month\n                }\n    \n                # Define the SonarCloud API endpoint for issue search\n                url_issues = \"https://sonarcloud.io/api/issues/search\"\n                # Execute API request with defined parameters\n                response_issues = requests.get(url_issues, headers=self.headers, params=params)\n                # Parse JSON response\n                issues_data = response_issues.json()\n    \n                # Extract total number of sonarcloud_api_key from the response\n                # Instead of getting errors we will get {} and 0 for total if there is no data\n                total_sonarcloud_api_key = issues_data.get('paging', {}).get('total', 0)\n    \n                # Skip to next month if no sonarcloud_api_key found for current month\n                if total_sonarcloud_api_key == 0:\n                    continue\n    \n                # Calculate total number of pages based on total sonarcloud_api_key and page size\n                # If there's a remainder, add one more page\n                total_pages = (total_sonarcloud_api_key // params['ps']) + (1 if total_sonarcloud_api_key % params['ps'] > 0 else 0)\n    \n                # Add reponse to the list\n                all_issues.extend(issues_data.get('issues', []))\n    \n                # Pagination loop - fetch all remaining pages of sonarcloud_api_key\n                while params[\"p\"] < total_pages:\n                    params[\"p\"] += 1  # Increment page number\n                    # Execute API request for the next page\n                    response_issues = requests.get(url_issues, headers=self.headers, params=params)\n                    # Parse JSON response\n                    issues_data = response_issues.json()\n                    \n                    # Add issues from the current page to our collection\n                    all_issues.extend(issues_data.get('issues', []))\n    \n            # After processing all months for current year, move to next year\n            year_tofind += 1\n    \n        # Convert data to DataFrame\n        df_issues = pd.DataFrame(all_issues)\n    \n        # Rearranging columns because inserting in SQL requires given order to load up data properly\n        new_order = ['key', 'rule', 'severity', 'component', 'project', 'line', 'hash', 'textRange', 'flows', \n                    'status', 'message', 'effort', 'debt', 'assignee', 'author', 'tags', \n                    'creationDate', 'updateDate', 'type', 'organization', 'cleanCodeAttribute', \n                    'cleanCodeAttributeCategory', 'impacts', 'issueStatus', 'externalRuleEngine', \n                    'resolution', 'closeDate']\n        df_issues = df_issues[new_order]\n    \n        # Chaning naming to uppercase\n        df_issues.columns = ['KEY', 'RULE', 'SEVERITY', 'COMPONENT', 'PROJECT', 'LINE', 'HASH', 'TEXTRANGE', \n                            'FLOWS', 'STATUS', 'MESSAGE', 'EFFORT', 'DEBT', 'ASSIGNEE', \n                            'AUTHOR', 'TAGS', 'CREATIONDATE', 'UPDATEDATE', 'TYPE', 'ORGANIZATION', \n                            'CLEANCODEATTRIBUTE', 'CLEANCODEATTRIBUTECATEGORY', 'IMPACTS', \n                            'ISSUESTATUS', 'EXTERNALRULEENGINE', 'RESOLUTION', 'CLOSEDATE']\n        return df_issues\n\n    def get_sonarcloud_components(self):\n        \n        params = {\n                \"organization\": self.organization,  # Organization identifier in SonarCloud\n                \"ps\": self.page_size,  # Page size - number of sonarcloud_api_key per page (maximum 500)\n                \"p\": self.page_number    \n        }\n    \n        all_components = []  # list to store all components\n    \n        total_sonarcloud_api_key = 0 \n    \n        # Execute initial query to get the total number of sonarcloud_api_key\n        url_components = \"https://sonarcloud.io/api/components/search\"\n        response_components = requests.get(url_components, headers=self.headers, params=params)\n        components_data = response_components.json()\n    \n        # Get total number of sonarcloud_api_key\n        total_sonarcloud_api_key = components_data['paging']['total']\n        total_pages = (total_sonarcloud_api_key // params['ps']) + (1 if total_sonarcloud_api_key % params['ps'] > 0 else 0)\n    \n        # Add components to the general list\n        all_components.extend(components_data['components'])\n    \n        # Loop to collect data from each page, if there is more than one page\n        while params[\"p\"] < total_pages:\n            params[\"p\"] += 1  # Go to the next page\n            response_components = requests.get(url_components, headers=self.headers, params=params)\n            components_data = response_components.json()\n            \n            # Add components from the current page\n            all_components.extend(components_data['components'])\n    \n        # Convert data to DataFrame\n        df_components = pd.DataFrame(all_components)\n    \n        # Rearranging columns because inserting in SQL requires given order to load up data properly\n        new_order = ['organization', 'key', 'name', 'qualifier', 'project']\n        df_components = df_components[new_order]\n    \n        # Chaning naming to uppercase\n        df_components.columns = ['ORGANIZATION', 'KEY', 'NAME', 'QUALIFIER', 'PROJECT']\n        return df_components\n        \n    def get_unique_sonarcloud_components(self):\n        unique = self.get_sonarcloud_components()['KEY'].unique().tolist()        \n        return unique\n        \n    def get_sonarcloud_measures_component(self):\n        metrics_keys = ['accepted_issues', 'files', 'ncloc', 'maintainability_issues', 'reliability_issues', 'security_hotspots', 'security_issues', 'line_coverage', \n      'duplicated_lines', 'duplicated_lines_density']\n   \n        # Loop through each component\n        for comp_id in self.get_unique_sonarcloud_components():\n                # Loop through each metric key\n                for j in metrics_keys:\n                    url_labels = f\"https://sonarcloud.io/api/measures/component\"\n                    # Make API request to get component measures\n                    response_labels = requests.get(url_labels, headers=self.headers, \n                    params = {\n                        \"organization\": self.organization,\n                        \"metricKeys\" : j,\n                        # \"metricKeys\" : 'accepted_issues',\n                        'component' : comp_id\n                    }\n                    )\n                    # Parse response to JSON\n                    labels_data = response_labels.json()\n                    \n                    # Create data structure for the component and its measures\n                    data = {\n                    'id': labels_data['component']['id'],\n                    'key': labels_data['component']['key'],\n                    'name': labels_data['component']['name'],\n                    'qualifier': labels_data['component']['qualifier'],\n                    'measures': labels_data['component']['measures']\n                    }\n    \n    \n                    # Add components to the general list\n                    all_measures_component.append(data)\n                    # Add delay to avoid API rate limiting\n                    time.sleep(0.1)\n                    # print(all_measures_component)\n                # print(comp_id)\n    \n        # Convert data to DataFrame\n        df_measures_component = pd.DataFrame(all_measures_component)\n    \n    \n        new_order = ['id', 'key', 'name', 'qualifier', 'measures']\n        df_measures_component = df_measures_component[new_order]\n        df_measures_component.columns = ['ID', 'KEY', 'NAME', 'QUALIFIER', 'MEASURES']\n        return df_measures_component\n\n    def get_sonarcloud_metrics(self):\n\n        params = {\n            \"organization\": self.organization,\n            \"ps\": self.page_size,  # page size\n            \"p\": self.page_number      # page number\n        }\n    \n    \n        all_metrics = []  # List to store all components\n        total_sonarcloud_api_key = 0  # Total number of sonarcloud_api_key\n    \n        # Execute initial query to get the total number of sonarcloud_api_key\n        url_labels = \"https://sonarcloud.io/api/metrics/search\"\n        response_labels = requests.get(url_labels, headers=self.headers, params=params)\n        labels_data = response_labels.json()['metrics']\n    \n        df_metrics = pd.DataFrame(labels_data)\n    \n        new_order = ['id', 'key', 'name', 'type', 'domain', 'direction', 'description', 'qualitative', 'hidden', 'decimalScale']\n        df_metrics = df_metrics[new_order]\n    \n        df_metrics.columns = ['ID', 'KEY', 'NAME', 'TYPE', 'DOMAIN', 'DIRECTION', 'DESCRIPTION', 'QUALITATIVE', 'HIDDEN', 'DECIMALSCALE']\n    \n        return df_metrics\n\n    def get_sonarcloud_projects(self):    # ---- # ---- Projects\n\n        params = {\n            \"organization\": self.organization,\n            \"ps\": self.page_size,  # page size\n            \"p\": self.page_number      # page number\n        }\n\n        all_projects = []  # List to store all components\n        total_sonarcloud_api_key = 0  # Total number of sonarcloud_api_key\n    \n        # Execute initial query to get the total number of sonarcloud_api_key\n        url_labels = \"https://sonarcloud.io/api/projects/search\"\n        response_labels = requests.get(url_labels, headers=self.headers, params=params)\n        labels_data = response_labels.json()\n    \n        # Get total number of sonarcloud_api_key\n        total_sonarcloud_api_key = labels_data['paging']['total']\n        total_pages = (total_sonarcloud_api_key // params['ps']) + (1 if total_sonarcloud_api_key % params['ps'] > 0 else 0)\n    \n        # Add components to the general list\n        all_projects.extend(labels_data['components'])\n    \n        # Loop to collect data from each page, if there is more than one page\n        while params[\"p\"] < total_pages:\n            params[\"p\"] += 1  # Go to the next page\n            response_labels = requests.get(url_labels, headers=self.headers, params=params)\n            labels_data = response_labels.json()\n            \n            # Add components from the current page\n            all_projects.extend(labels_data['components'])\n    \n    \n    \n        df_projects = pd.DataFrame(all_projects)\n    \n        new_order = ['organization', 'key', 'name', 'qualifier', 'visibility', 'lastAnalysisDate', 'revision']\n        df_projects = df_projects[new_order]\n    \n    \n        df_projects.columns = ['ORGANIZATION', 'KEY', 'NAME', 'QUALIFIER', 'VISIBILITY', 'LASTANALYSISDATE', 'REVISION']\n        \n        return df_projects\n\n    def get_sonarcloud_measures_component(self):\n\n        metrics_keys = [\n        'accepted_issues', 'files', 'ncloc', 'maintainability_issues', 'reliability_issues', \n          'security_hotspots', 'security_issues', 'line_coverage', \n          'duplicated_lines', 'duplicated_lines_density'\n        ]\n\n        \n        # We need list of unique component for Measure Components endpoint\n        component = self.get_sonarcloud_components()['KEY'].unique().tolist()\n        # List to store all measures for components\n        all_measures_component = []\n    \n        # Loop through each component\n        for comp_id in component:\n                # Loop through each metric key\n                for j in metrics_keys:\n                    url_labels = f\"https://sonarcloud.io/api/measures/component\"\n                    # Make API request to get component measures\n                    response_labels = requests.get(url_labels, headers=self.headers, \n                    params = {\n                        \"organization\": \"phlexglobal\",\n                        \"metricKeys\" : j,\n                        # \"metricKeys\" : 'accepted_issues',\n                        'component' : comp_id\n                    }\n                    )\n                    # Parse response to JSON\n                    labels_data = response_labels.json()\n                    \n                    # Create data structure for the component and its measures\n                    data = {\n                    'id': labels_data['component']['id'],\n                    'key': labels_data['component']['key'],\n                    'name': labels_data['component']['name'],\n                    'qualifier': labels_data['component']['qualifier'],\n                    'measures': labels_data['component']['measures']\n                    }\n    \n    \n                    # Add components to the general list\n                    all_measures_component.append(data)\n                    # Add delay to avoid API rate limiting\n                    time.sleep(0.1)\n                    # print(all_measures_component)\n                # print(comp_id)\n    \n        # Convert data to DataFrame\n        df_measures_component = pd.DataFrame(all_measures_component)\n    \n    \n        new_order = ['id', 'key', 'name', 'qualifier', 'measures']\n        df_measures_component = df_measures_component[new_order]\n        df_measures_component.columns = ['ID', 'KEY', 'NAME', 'QUALIFIER', 'MEASURES']\n        return df_measures_component\n    \napi = SonarcloudApi()\n",
   "execution_count": null
  },
  {
   "cell_type": "code",
   "id": "234a2710-eb8b-440d-8957-bbdb1e759563",
   "metadata": {
    "language": "python",
    "name": "components_function",
    "codeCollapsed": false
   },
   "outputs": [],
   "source": "components = api.get_sonarcloud_components()\ncomponents",
   "execution_count": null
  },
  {
   "cell_type": "code",
   "id": "6db8cdc1-0727-493c-9a09-161fa3915e22",
   "metadata": {
    "language": "python",
    "name": "components_session",
    "codeCollapsed": false
   },
   "outputs": [],
   "source": "# Starting Snowflake session to read data from df and build SQL queries upon that\ntemp_components_table = 'TEMP_COMPONENTS'\nsession.write_pandas(components,\n                         table_name=temp_components_table,\n                         auto_create_table=True,\n                         overwrite=True,\n                         table_type=\"temporary\")",
   "execution_count": null
  },
  {
   "cell_type": "code",
   "id": "d490ba0d-1dac-408a-bf99-ceb4ba5ef4ce",
   "metadata": {
    "language": "sql",
    "name": "components_query",
    "codeCollapsed": false
   },
   "outputs": [],
   "source": "-- CREATE OR REPLACE TABLE prod.raw.sonarcloud_components (\n--     ORGANIZATION VARCHAR(16777216),\n--     KEY VARCHAR(16777216),\n--     NAME VARCHAR(16777216),\n--     QUALIFIER VARCHAR(16777216),\n--     PROJECT VARCHAR(16777216),\n--  timestamp timestamp_tz\n-- );\n\n-- TRUNCATE TABLE prod.raw.sonarcloud_components;\n\ninsert overwrite into prod.raw.sonarcloud_components\nSELECT\n    \"ORGANIZATION\",\n    \"KEY\",\n    \"NAME\",\n    \"QUALIFIER\",\n    \"PROJECT\",\n    current_timestamp as timestamp\nFROM TEMP_COMPONENTS;\n",
   "execution_count": null
  },
  {
   "cell_type": "code",
   "id": "d1609741-da77-484c-865e-196055d45c68",
   "metadata": {
    "language": "python",
    "name": "issues_function"
   },
   "outputs": [],
   "source": "issues = api.get_sonarcloud_issues()\nissues",
   "execution_count": null
  },
  {
   "cell_type": "code",
   "id": "5731bec7-5e48-455e-b387-9f0ae9c005b6",
   "metadata": {
    "language": "python",
    "name": "issues_session",
    "codeCollapsed": false
   },
   "outputs": [],
   "source": "# Starting session for snowflake.\ntemp_issues_table = 'TEMP_ISSUES'\nsession.write_pandas(issues,\n                         table_name=temp_issues_table,\n                         auto_create_table=True,\n                         overwrite=True,\n                         table_type=\"temporary\") # no need to create table for this data, temp table is ok",
   "execution_count": null
  },
  {
   "cell_type": "code",
   "id": "b77e594b-8617-4785-8073-f95975d29dd5",
   "metadata": {
    "language": "sql",
    "name": "issues_query",
    "codeCollapsed": false
   },
   "outputs": [],
   "source": "-- CREATE OR REPLACE TABLE prod.raw.sonarcloud_issues (\n--     KEY VARCHAR(16777216),\n--     RULE VARCHAR(16777216),\n--     SEVERITY VARCHAR(16777216),\n--     COMPONENT VARCHAR(16777216),\n--     PROJECT VARCHAR(16777216),\n--     LINE FLOAT,\n--     HASH VARCHAR(16777216),\n--     TEXTRANGE OBJECT,\n--     FLOWS ARRAY,\n--     STATUS VARCHAR(16777216),\n--     MESSAGE VARCHAR(16777216),\n--     EFFORT VARCHAR(16777216),\n--     DEBT VARCHAR(16777216),\n--     ASSIGNEE VARCHAR(16777216),\n--     AUTHOR VARCHAR(16777216),\n--     TAGS ARRAY,\n--     CREATIONDATE VARCHAR(16777216),\n--     UPDATEDATE VARCHAR(16777216),\n--     TYPE VARCHAR(16777216),\n--     ORGANIZATION VARCHAR(16777216),\n--     CLEANCODEATTRIBUTE VARCHAR(16777216),\n--     CLEANCODEATTRIBUTECATEGORY VARCHAR(16777216),\n--     IMPACTS ARRAY,\n--     ISSUESTATUS VARCHAR(16777216),\n--     EXTERNALRULEENGINE VARCHAR(16777216),\n--     RESOLUTION VARCHAR(16777216),\n--     CLOSEDATE VARCHAR(16777216),\n--  timestamp timestamp_tz\n-- );\n\n-- TRUNCATE TABLE prod.raw.sonarcloud_issues;\n\ninsert overwrite into prod.raw.sonarcloud_issues\nSELECT\n    \"KEY\",\n    \"RULE\",\n    \"SEVERITY\",\n    \"COMPONENT\",\n    \"PROJECT\",\n    \"LINE\",\n    \"HASH\",\n    \"TEXTRANGE\",\n    \"FLOWS\",\n    \"STATUS\",\n    \"MESSAGE\",\n    \"EFFORT\",\n    \"DEBT\",\n    \"ASSIGNEE\",\n    \"AUTHOR\",\n    \"TAGS\",\n    \"CREATIONDATE\",\n    \"UPDATEDATE\",\n    \"TYPE\",\n    \"ORGANIZATION\",\n    \"CLEANCODEATTRIBUTE\",\n    \"CLEANCODEATTRIBUTECATEGORY\",\n    \"IMPACTS\",\n    \"ISSUESTATUS\",\n    \"EXTERNALRULEENGINE\",\n    \"RESOLUTION\",\n    \"CLOSEDATE\",\n    current_timestamp as timestamp\nFROM TEMP_ISSUES;",
   "execution_count": null
  },
  {
   "cell_type": "code",
   "id": "3cd1dea4-af18-493e-91a4-dcb984a3edc9",
   "metadata": {
    "language": "python",
    "name": "metrics_function",
    "codeCollapsed": false
   },
   "outputs": [],
   "source": "metrics = api.get_sonarcloud_metrics()\nmetrics",
   "execution_count": null
  },
  {
   "cell_type": "code",
   "id": "687505d7-6a18-4f9c-8a1d-a0370e05c42a",
   "metadata": {
    "language": "python",
    "name": "metrics_session"
   },
   "outputs": [],
   "source": "temp_measures_metrics_table = 'TEMP_METRICS_COMPONENT'\nsession.write_pandas(metrics,\n                         table_name=temp_measures_metrics_table,\n                         auto_create_table=True,\n                         overwrite=True,\n                         table_type=\"temporary\")\n",
   "execution_count": null
  },
  {
   "cell_type": "code",
   "id": "1ab4f901-381f-4862-91a2-54c1c258bbe6",
   "metadata": {
    "language": "sql",
    "name": "metrics_query",
    "codeCollapsed": false
   },
   "outputs": [],
   "source": "-- CREATE OR REPLACE TABLE prod.raw.sonarcloud_metrics (\n--     ID VARCHAR(16777216),\n--     KEY VARCHAR(16777216),\n--     NAME VARCHAR(16777216),\n--     TYPE VARCHAR(16777216),\n--     DOMAIN VARCHAR(16777216),\n--     HIDDEN BOOLEAN,\n--     DIRECTION FLOAT,\n--     DESCRIPTION VARCHAR(16777216),\n--     QUALITATIVE BOOLEAN,\n--     DECIMALSCALE FLOAT,\n--  timestamp timestamp_tz\n-- );\n\n-- TRUNCATE TABLE prod.raw.sonarcloud_metrics;\n\ninsert overwrite into prod.raw.sonarcloud_metrics\nSELECT\n    \"ID\",\n    \"KEY\",\n    \"NAME\",\n    \"TYPE\",\n    \"DOMAIN\",\n    \"HIDDEN\",\n    \"DIRECTION\",\n    \"DESCRIPTION\",\n    \"QUALITATIVE\",\n    \"DECIMALSCALE\",\n    current_timestamp as timestamp\nFROM TEMP_METRICS_COMPONENT;",
   "execution_count": null
  },
  {
   "cell_type": "code",
   "id": "c0a14ed5-413c-483f-8907-320ca5126ed1",
   "metadata": {
    "language": "python",
    "name": "projects_function",
    "codeCollapsed": false
   },
   "outputs": [],
   "source": "projects = api.get_sonarcloud_projects()\nprojects",
   "execution_count": null
  },
  {
   "cell_type": "code",
   "id": "379d21a6-73b9-401d-8424-23210b92ad9e",
   "metadata": {
    "language": "python",
    "name": "projects_session",
    "codeCollapsed": false
   },
   "outputs": [],
   "source": "temp_measures_projects_table = 'TEMP_PROJECTS'\nsession.write_pandas(projects,\n                         table_name=temp_measures_projects_table,\n                         auto_create_table=True,\n                         overwrite=True,\n                         table_type=\"temporary\")\n",
   "execution_count": null
  },
  {
   "cell_type": "code",
   "id": "8e97a366-0a21-4efa-94ec-e144a4910f25",
   "metadata": {
    "language": "sql",
    "name": "projects_query",
    "codeCollapsed": false
   },
   "outputs": [],
   "source": "-- CREATE OR REPLACE TABLE prod.raw.sonarcloud_projects (\n--     ORGANIZATION VARCHAR(16777216),\n--     KEY VARCHAR(16777216),\n--     NAME VARCHAR(16777216),\n--     REVISION VARCHAR(16777216),\n--     QUALIFIER VARCHAR(16777216),\n--     VISIBILITY VARCHAR(16777216),\n--     LASTANALYSISDATE VARCHAR(16777216),\n--  timestamp timestamp_tz\n-- );\n\n-- TRUNCATE TABLE prod.raw.sonarcloud_projects;\n\ninsert overwrite into prod.raw.sonarcloud_projects\nSELECT\n    \"ORGANIZATION\",\n    \"KEY\",\n    \"NAME\",\n    \"REVISION\",\n    \"QUALIFIER\",\n    \"VISIBILITY\",\n    \"LASTANALYSISDATE\",\n    current_timestamp as timestamp\nFROM TEMP_PROJECTS;",
   "execution_count": null
  },
  {
   "cell_type": "code",
   "id": "42341a24-1a3f-4c25-8643-f6973bf27442",
   "metadata": {
    "language": "python",
    "name": "measure_components_function"
   },
   "outputs": [],
   "source": "measures_component = api.get_sonarcloud_measures_component()\nmeasures_component",
   "execution_count": null
  },
  {
   "cell_type": "code",
   "id": "ee5970fe-a841-4107-a455-6e5fa744d996",
   "metadata": {
    "language": "python",
    "name": "measure_components_session",
    "codeCollapsed": false
   },
   "outputs": [],
   "source": "temp_measures_components_table = 'TEMP_MEASURES_COMPONENTS'\n\nsession.write_pandas(measures_component,\n                         table_name=temp_measures_components_table,\n                         auto_create_table=True,\n                         overwrite=True,\n                         table_type=\"temporary\")\n\n",
   "execution_count": null
  },
  {
   "cell_type": "code",
   "id": "4e85fa87-e100-4e34-99de-cf586c28aa6d",
   "metadata": {
    "language": "sql",
    "name": "measures_component_query",
    "codeCollapsed": false
   },
   "outputs": [],
   "source": "-- CREATE OR REPLACE TABLE prod.raw.sonarcloud_measures_component (\n--     ID VARCHAR(16777216),\n--     KEY VARCHAR(16777216),\n--     NAME VARCHAR(16777216),\n--     MEASURES ARRAY,\n--     QUALIFIER VARCHAR(16777216),\n--  timestamp timestamp_tz\n-- );\n\n-- TRUNCATE TABLE prod.raw.sonarcloud_measures_component;\n\ninsert overwrite into prod.raw.sonarcloud_measures_component\nSELECT\n    \"ID\",\n    \"KEY\",\n    \"NAME\",\n    \"MEASURES\",\n    \"QUALIFIER\",\n    current_timestamp as timestamp\nFROM TEMP_MEASURES_COMPONENTS;",
   "execution_count": null
  }
 ]
}