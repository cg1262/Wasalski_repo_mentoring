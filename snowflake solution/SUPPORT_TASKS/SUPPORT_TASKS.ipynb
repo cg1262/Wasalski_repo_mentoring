{
 "metadata": {
  "kernelspec": {
   "display_name": "Streamlit Notebook",
   "name": "streamlit"
  },
  "lastEditStatus": {
   "notebookId": "tuxwy7ucaypoxmgfi35o",
   "authorId": "557922832688",
   "authorName": "MTWA",
   "authorEmail": "mtwa@softwaremind.com",
   "sessionId": "1eee0e6c-fcec-41e3-8f2c-3bec0b1c104d",
   "lastEditTime": 1753859509167
  }
 },
 "nbformat_minor": 5,
 "nbformat": 4,
 "cells": [
  {
   "cell_type": "code",
   "id": "3775908f-ca36-4846-8f38-5adca39217f2",
   "metadata": {
    "language": "sql",
    "name": "cell1"
   },
   "source": "create or replace task PROD.RAW.\"ado_raw_ingest\"\n\twarehouse=AIRBYTE_WH\n\tschedule='USING CRON 0 */4 * * * Europe/London'\n\tTASK_AUTO_RETRY_ATTEMPTS=3\n\tas EXECUTE NOTEBOOK \"PROD\".\"RAW\".\"ADO_RAW_INGEST\"();\n\n    ALTER TASK PROD.RAW.\"ado_raw_ingest\" RESUME;",
   "execution_count": null,
   "outputs": []
  },
  {
   "cell_type": "code",
   "id": "8d50cbf4-0c8d-4950-86cb-114990437ac9",
   "metadata": {
    "language": "sql",
    "name": "cell2"
   },
   "source": "create or replace task PROD.RAW.\"azure_costs\"\n\twarehouse=AIRBYTE_WH\n\tschedule='USING CRON 0 2 * * * Europe/London'\n\tTASK_AUTO_RETRY_ATTEMPTS=3\n\tas EXECUTE NOTEBOOK \"PROD\".\"RAW\".\"AZURE_COSTS_RAW_INGEST\"();\n\nALTER TASK PROD.RAW.\"azure_costs\" RESUME;",
   "execution_count": null,
   "outputs": []
  },
  {
   "cell_type": "code",
   "id": "c695373e-ac74-4b62-a1f1-08206cbd5c81",
   "metadata": {
    "language": "sql",
    "name": "cell3"
   },
   "source": "create or replace task PROD.RAW.\"checkmarx_daily\"\n\twarehouse=AIRBYTE_WH\n\tschedule='USING CRON 0 2 * * * Europe/London'\n\tas EXECUTE NOTEBOOK \"PROD\".\"RAW\".\"CHECKMARX_RAW_INGEST\"();\n\n        ALTER TASK PROD.RAW.\"checkmarx_daily\" RESUME;",
   "execution_count": null,
   "outputs": []
  },
  {
   "cell_type": "code",
   "id": "57c788fe-a6e8-4415-9fbb-3ddab818a8af",
   "metadata": {
    "language": "sql",
    "name": "cell13"
   },
   "outputs": [],
   "source": "create or replace task PROD.RAW.\"jira_raw_inget\"\n\twarehouse=AIRBYTE_WH\n\tschedule='USING CRON 0 */4 * * * Europe/London'\n\tTASK_AUTO_RETRY_ATTEMPTS=3\n\tas EXECUTE NOTEBOOK \"PROD\".\"RAW\".\"JIRA_RAW_INGEST\"();\n\n        ALTER TASK PROD.RAW.\"jira_raw_inget\" RESUME;",
   "execution_count": null
  },
  {
   "cell_type": "code",
   "id": "1dc5336d-63d2-4b31-ba03-a9da388d39a2",
   "metadata": {
    "language": "sql",
    "name": "cell12"
   },
   "outputs": [],
   "source": "create or replace task PROD.RAW.\"mend_raw_ingest\"\n\twarehouse=AIRBYTE_WH\n\tschedule='USING CRON 0 */4 * * * Europe/London'\n\tTASK_AUTO_RETRY_ATTEMPTS=3\n\tas EXECUTE NOTEBOOK \"PROD\".\"RAW\".\"MEND_RAW_INGEST\"();\n\n        ALTER TASK PROD.RAW.\"mend_raw_ingest\" RESUME;",
   "execution_count": null
  },
  {
   "cell_type": "code",
   "id": "144b250d-0a1b-407e-b1ac-a2ae370e906f",
   "metadata": {
    "language": "sql",
    "name": "cell11"
   },
   "outputs": [],
   "source": "create or replace task PROD.RAW.\"newrelic_daily\"\n\twarehouse=AIRBYTE_WH\n\tschedule='USING CRON 0 2 * * * Europe/London'\n\tTASK_AUTO_RETRY_ATTEMPTS=3\n\tas EXECUTE NOTEBOOK \"PROD\".\"RAW\".\"NEWRELIC_RAW_INGEST\"();\n\n        ALTER TASK PROD.RAW.\"newrelic_daily\" RESUME;",
   "execution_count": null
  },
  {
   "cell_type": "code",
   "id": "3623f40f-2580-4ea1-a121-f7d43161aa81",
   "metadata": {
    "language": "sql",
    "name": "cell10"
   },
   "outputs": [],
   "source": "create or replace task PROD.RAW.\"sonarcloud_raw_ingest\"\n\twarehouse=AIRBYTE_WH\n\tschedule='USING CRON 0 */4 * * * Europe/London'\n\tTASK_AUTO_RETRY_ATTEMPTS=3\n\tas EXECUTE NOTEBOOK \"PROD\".\"RAW\".\"SONARCLOUD_RAW_INGEST\"();\n\n    ALTER TASK PROD.RAW.\"sonarcloud_raw_ingest\" RESUME;",
   "execution_count": null
  },
  {
   "cell_type": "markdown",
   "id": "7e7c1741-992d-4344-b551-03e7623d11fd",
   "metadata": {
    "name": "cell14",
    "collapsed": false
   },
   "source": "# silver layer"
  },
  {
   "cell_type": "code",
   "id": "febcb4c8-f7e2-44d1-9bbb-3ef1571b75c2",
   "metadata": {
    "language": "sql",
    "name": "cell9"
   },
   "outputs": [],
   "source": "create or replace task PROD.SILVER.\"ado_silver_transform\"\n\twarehouse=AIRBYTE_WH\n\tschedule='USING CRON 30 */4 * * * Europe/London'\n\tTASK_AUTO_RETRY_ATTEMPTS=3\n\tas EXECUTE NOTEBOOK \"PROD\".\"SILVER\".\"ADO_SILVER_TRANSFORM\"();\n\nALTER TASK PROD.SILVER.\"ado_silver_transform\" RESUME;\n\n    ",
   "execution_count": null
  },
  {
   "cell_type": "code",
   "id": "8fe06c39-8432-43d3-a0b2-229f8793e2c7",
   "metadata": {
    "language": "sql",
    "name": "cell8"
   },
   "outputs": [],
   "source": "create or replace task PROD.SILVER.\"jira_silver_transform\"\n\twarehouse=AIRBYTE_WH\n\tschedule='USING CRON 30 */4 * * * Europe/London'\n\tTASK_AUTO_RETRY_ATTEMPTS=3\n\tas EXECUTE NOTEBOOK \"PROD\".\"SILVER\".\"JIRA_SILVER_TRANSFORM\"();\n\nALTER TASK PROD.SILVER.\"jira_silver_transform\" RESUME;",
   "execution_count": null
  },
  {
   "cell_type": "code",
   "id": "4f288be2-1c59-4ac3-a4d3-72336154d60b",
   "metadata": {
    "language": "sql",
    "name": "cell7"
   },
   "outputs": [],
   "source": "create or replace task PROD.SILVER.\"mend_silver_transform\"\n\twarehouse=AIRBYTE_WH\n\tschedule='USING CRON 30 */4 * * * Europe/London'\n\tTASK_AUTO_RETRY_ATTEMPTS=3\n\tas EXECUTE NOTEBOOK \"PROD\".\"SILVER\".\"MEND_SILVER_TRANSFORM\"();\n\nALTER TASK PROD.SILVER.\"mend_silver_transform\" RESUME;",
   "execution_count": null
  },
  {
   "cell_type": "code",
   "id": "c8948175-176e-4268-b9ba-019dda4e2be6",
   "metadata": {
    "language": "sql",
    "name": "cell6"
   },
   "outputs": [],
   "source": "create or replace task PROD.SILVER.\"products_silver_transform\"\n\twarehouse=AIRBYTE_WH\n\tschedule='USING CRON 35 */4 * * * Europe/London'\n\tas EXECUTE NOTEBOOK \"PROD\".\"SILVER\".\"PRODUCTS_SILVER_TRANSFORM\"();\n\nALTER TASK PROD.SILVER.\"products_silver_transform\" RESUME;",
   "execution_count": null
  },
  {
   "cell_type": "code",
   "id": "071e0bde-770a-46bc-94e9-5c921d82887e",
   "metadata": {
    "language": "sql",
    "name": "cell5"
   },
   "outputs": [],
   "source": "create or replace task PROD.SILVER.\"sonarcloud_silver_ingest\"\n\twarehouse=AIRBYTE_WH\n\tschedule='USING CRON 30 */4 * * * Europe/London'\n\tTASK_AUTO_RETRY_ATTEMPTS=3\n\tas EXECUTE NOTEBOOK \"PROD\".\"SILVER\".\"SONARCLOUD_SILVER_INGEST\"();\n\nALTER TASK PROD.SILVER.\"sonarcloud_silver_ingest\" RESUME;",
   "execution_count": null
  },
  {
   "cell_type": "code",
   "id": "e69da9bd-9d45-4bef-a819-dd62b865c889",
   "metadata": {
    "language": "sql",
    "name": "cell4"
   },
   "outputs": [],
   "source": "",
   "execution_count": null
  }
 ]
}