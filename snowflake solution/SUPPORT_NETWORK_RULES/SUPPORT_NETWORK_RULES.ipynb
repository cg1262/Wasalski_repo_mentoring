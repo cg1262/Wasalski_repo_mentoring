{
 "metadata": {
  "kernelspec": {
   "display_name": "Streamlit Notebook",
   "name": "streamlit"
  },
  "lastEditStatus": {
   "notebookId": "oyuqoa67kwgp2xvhd6so",
   "authorId": "557922832688",
   "authorName": "MTWA",
   "authorEmail": "mtwa@softwaremind.com",
   "sessionId": "89cf72ce-e5e6-437f-b968-58201438a0ae",
   "lastEditTime": 1753968087585
  }
 },
 "nbformat_minor": 5,
 "nbformat": 4,
 "cells": [
  {
   "cell_type": "code",
   "execution_count": null,
   "id": "3c80251e-cd6e-4c0c-97b4-694850ce39f4",
   "metadata": {
    "codeCollapsed": false,
    "language": "sql",
    "name": "mend"
   },
   "outputs": [],
   "source": [
    "CREATE OR REPLACE NETWORK RULE mend_api_access_rule\n",
    "VALUE_LIST = ('api-saas-eu.whitesourcesoftware.com', 'api-saas-eu.mend.io')\n",
    "TYPE = HOST_PORT\n",
    "MODE = EGRESS;\n",
    "\n",
    "CREATE OR REPLACE EXTERNAL ACCESS INTEGRATION mend_api_integration\n",
    "ALLOWED_NETWORK_RULES = (mend_api_access_rule)\n",
    "ALLOWED_AUTHENTICATION_SECRETS = (PROD.RAW.mend_orgUuid_jwtToken, PROD.RAW.mend_user_key_jwtToken, PROD.RAW.mend_email_jwtToken)\n",
    "ENABLED = TRUE;"
   ]
  },
  {
   "cell_type": "code",
   "execution_count": null,
   "id": "1d467163-b2ce-4747-823e-7a249f705898",
   "metadata": {
    "codeCollapsed": false,
    "language": "sql",
    "name": "jira"
   },
   "outputs": [],
   "source": [
    "CREATE OR REPLACE NETWORK RULE jira_network_rule\n",
    "  MODE = EGRESS\n",
    "  TYPE = HOST_PORT\n",
    "  VALUE_LIST = ('phlexglobal.atlassian.net:443');\n",
    "\n",
    "CREATE OR REPLACE EXTERNAL ACCESS INTEGRATION jira_integration\n",
    "  ALLOWED_NETWORK_RULES = (jira_network_rule)\n",
    "  ALLOWED_AUTHENTICATION_SECRETS = (PROD.RAW.jira_username, PROD.RAW.jira_api_token)\n",
    "  ENABLED = TRUE;"
   ]
  },
  {
   "cell_type": "code",
   "execution_count": null,
   "id": "46b632c0-8a4f-4d1e-9650-125c1a1b6dfc",
   "metadata": {
    "codeCollapsed": false,
    "language": "sql",
    "name": "sonarcloud"
   },
   "outputs": [],
   "source": [
    "CREATE OR REPLACE NETWORK RULE sonarcloud_api_access_rule\n",
    "VALUE_LIST = ('sonarcloud.io')\n",
    "TYPE = HOST_PORT\n",
    "MODE = EGRESS;\n",
    "\n",
    "CREATE OR REPLACE EXTERNAL ACCESS INTEGRATION sonarcloud_api_integration\n",
    "ALLOWED_NETWORK_RULES = (sonarcloud_api_access_rule)\n",
    "ALLOWED_AUTHENTICATION_SECRETS = (PROD.RAW.sonarcloud_api_key)\n",
    "ENABLED = TRUE;"
   ]
  },
  {
   "cell_type": "code",
   "execution_count": null,
   "id": "1084aa06-198c-427d-af24-a27df8356834",
   "metadata": {
    "language": "sql",
    "name": "cell8"
   },
   "outputs": [],
   "source": []
  },
  {
   "cell_type": "code",
   "execution_count": null,
   "id": "3a6ef7e0-b2bc-4dbb-9081-10b8a484fc0f",
   "metadata": {
    "language": "sql",
    "name": "ADO"
   },
   "outputs": [],
   "source": [
    "CREATE OR REPLACE NETWORK RULE dev_azure_network_rule\n",
    "MODE = EGRESS\n",
    "TYPE = HOST_PORT\n",
    "VALUE_LIST = ('dev.azure.com');\n",
    "\n",
    "CREATE OR REPLACE EXTERNAL ACCESS INTEGRATION azure_devops_integration\n",
    "ALLOWED_NETWORK_RULES = (dev_azure_network_rule)\n",
    "ALLOWED_AUTHENTICATION_SECRETS = (METRICS.PUBLIC.AZURE_DEVOPS_PAT, PROD.RAW.ADO_PAT, PROD.RAW.ADO_DEFENDER_TENANT_ID,PROD.RAW.ADO_DEFENDER_CLIENT_ID,PROD.RAW.ADO_DEFENDER_CLIENT_SECRET)\n",
    "ENABLED = TRUE;"
   ]
  },
  {
   "cell_type": "code",
   "execution_count": null,
   "id": "c3c310ab-6895-4287-a0a0-5ac52f310d95",
   "metadata": {
    "codeCollapsed": false,
    "language": "sql",
    "name": "new_relic"
   },
   "outputs": [],
   "source": [
    "CREATE OR REPLACE NETWORK RULE newrelic_api_access_rule\n",
    "VALUE_LIST = ('api.newrelic.com')\n",
    "TYPE = HOST_PORT\n",
    "MODE = EGRESS;\n",
    "\n",
    "CREATE OR REPLACE EXTERNAL ACCESS INTEGRATION newrelic_api_integration\n",
    "ALLOWED_NETWORK_RULES = (newrelic_api_access_rule)\n",
    "ALLOWED_AUTHENTICATION_SECRETS = (PROD.RAW.NEW_RELIC)\n",
    "ENABLED = TRUE;"
   ]
  },
  {
   "cell_type": "code",
   "execution_count": null,
   "id": "a0e24496-0c16-4588-8692-ea9e1f9f568d",
   "metadata": {
    "codeCollapsed": false,
    "language": "sql",
    "name": "microsoft"
   },
   "outputs": [],
   "source": [
    "CREATE OR REPLACE NETWORK RULE microsoft_api_rule\n",
    "VALUE_LIST = ('management.azure.com', 'login.microsoftonline.com')\n",
    "TYPE = HOST_PORT\n",
    "MODE = EGRESS;\n",
    "\n",
    "CREATE OR REPLACE EXTERNAL ACCESS INTEGRATION microsoft_api_integration\n",
    "ALLOWED_NETWORK_RULES = (microsoft_api_rule)\n",
    "ALLOWED_AUTHENTICATION_SECRETS = (PROD.RAW.ADO_DEFENDER_TENANT_ID, PROD.RAW.ADO_DEFENDER_CLIENT_ID, PROD.RAW.ADO_DEFENDER_CLIENT_SECRET,PROD.RAW.ADO_DEFENDER_SUBSCRIPTION_ID, PROD.RAW.billing_account_id)\n",
    "ENABLED = TRUE;"
   ]
  },
  {
   "cell_type": "code",
   "execution_count": null,
   "id": "9c6e4e13-e446-4caa-aec4-47821f9108ae",
   "metadata": {
    "codeCollapsed": false,
    "language": "sql",
    "name": "cell7"
   },
   "outputs": [],
   "source": [
    "CREATE OR REPLACE NETWORK RULE checkmarx_api_rule\n",
    "VALUE_LIST = ('us.iam.checkmarx.net', 'us.ast.checkmarx.net')\n",
    "TYPE = HOST_PORT\n",
    "MODE = EGRESS;\n",
    "\n",
    "CREATE OR REPLACE EXTERNAL ACCESS INTEGRATION checkmarx_api_integration\n",
    "ALLOWED_NETWORK_RULES = (checkmarx_api_rule)\n",
    "ALLOWED_AUTHENTICATION_SECRETS = (PROD.RAW.checkmarx)\n",
    "ENABLED = TRUE;"
   ]
  },
  {
   "cell_type": "code",
   "execution_count": null,
   "id": "ffa63219-5cb1-4311-bc8f-e453a70c76e4",
   "metadata": {
    "language": "sql",
    "name": "cell1"
   },
   "outputs": [],
   "source": [
    "CREATE OR REPLACE NETWORK RULE pagerduty_api_access_rule\n",
    "VALUE_LIST = ('api.pagerduty.com')\n",
    "TYPE = HOST_PORT\n",
    "MODE = EGRESS;\n",
    "\n",
    "CREATE OR REPLACE EXTERNAL ACCESS INTEGRATION pagerduty_api_integration\n",
    "ALLOWED_NETWORK_RULES = (pagerduty_api_access_rule)\n",
    "ALLOWED_AUTHENTICATION_SECRETS = (PROD.RAW.pagerduty_api_key)\n",
    "ENABLED = TRUE;"
   ]
  },
  {
   "cell_type": "code",
   "execution_count": null,
   "id": "25ce2e98-38fb-4ace-86d4-604f65e12290",
   "metadata": {
    "name": "cell2",
    "language": "sql",
    "codeCollapsed": false
   },
   "outputs": [],
   "source": "CREATE OR REPLACE NETWORK RULE mabl_api_access_rule\nVALUE_LIST = ('api.mabl.com')\nTYPE = HOST_PORT\nMODE = EGRESS;\n\nCREATE OR REPLACE EXTERNAL ACCESS INTEGRATION mabl_api_integration\nALLOWED_NETWORK_RULES = (mabl_api_access_rule)\nALLOWED_AUTHENTICATION_SECRETS = (PROD.RAW.mabl_api_key)\nENABLED = TRUE;"
  },
  {
   "cell_type": "code",
   "id": "87b7073b-e0b8-4d3d-8c4c-462cbadd6f86",
   "metadata": {
    "language": "sql",
    "name": "cell3"
   },
   "outputs": [],
   "source": "CREATE OR REPLACE NETWORK RULE apify_api_access_rule\nVALUE_LIST = ('api.apify.com')\nTYPE = HOST_PORT\nMODE = EGRESS;\n\nCREATE OR REPLACE EXTERNAL ACCESS INTEGRATION apify_api_integration\nALLOWED_NETWORK_RULES = (apify_api_access_rule)\nALLOWED_AUTHENTICATION_SECRETS = (PROD.RAW.apify_secret)\nENABLED = TRUE;",
   "execution_count": null
  }
 ]
}