{
 "metadata": {
  "kernelspec": {
   "display_name": "Streamlit Notebook",
   "name": "streamlit"
  },
  "lastEditStatus": {
   "notebookId": "3mhkspjibel4wuph4erp",
   "authorId": "557922832688",
   "authorName": "MTWA",
   "authorEmail": "mtwa@softwaremind.com",
   "sessionId": "747b0967-c20b-4928-b51c-0bd10acf6939",
   "lastEditTime": 1752046233242
  }
 },
 "nbformat_minor": 5,
 "nbformat": 4,
 "cells": [
  {
   "cell_type": "code",
   "id": "45a0c136-9bcd-4930-af71-5b4abe3b33ed",
   "metadata": {
    "language": "sql",
    "name": "cell2"
   },
   "outputs": [],
   "source": "ALTER SESSION SET TIMEZONE = 'Europe/London';",
   "execution_count": null
  },
  {
   "cell_type": "code",
   "id": "880348a3-efc8-4aac-9d1a-5a3202547dfb",
   "metadata": {
    "language": "sql",
    "name": "projects"
   },
   "outputs": [],
   "source": "-- CREATE OR REPLACE TABLE PROD.SILVER.ADO_PROJECTS (\n--     ID STRING,\n--     URL STRING,\n--     NAME STRING,\n--     STATE STRING,\n--     REVISION STRING,\n--     VISIBILITY STRING,\n--     DESCRIPTION STRING,\n--     LASTUPDATETIME DATETIME,\n--     TIMESTAMP TIMESTAMP_TZ\n-- );\nTRUNCATE TABLE PROD.SILVER.ADO_PROJECTS;\n\nINSERT INTO PROD.SILVER.ADO_PROJECTS\nSELECT\n    ID,\n    URL,\n    NAME,\n    STATE,\n    REVISION,\n    VISIBILITY,\n    DESCRIPTION,\n    CAST(LASTUPDATETIME AS DATETIME) AS LASTUPDATETIME,\n    CURRENT_TIMESTAMP AS TIMESTAMP\nFROM PROD.RAW.ADO_PROJECTS;\n\n",
   "execution_count": null
  },
  {
   "cell_type": "code",
   "id": "7745883e-9b63-4b07-a4dc-b843189a4eeb",
   "metadata": {
    "language": "sql",
    "name": "definitions"
   },
   "outputs": [],
   "source": "-- # ---- # ---- # ---- # ---- # ---- # ---- # ---- # ---- # --\n\n-- CREATE OR REPLACE TABLE PROD.SILVER.ADO_DEFINITIONS(\n--     ID FLOAT,\n--     URL VARCHAR,\n--     NAME VARCHAR,\n--     PATH VARCHAR,\n--     TYPE VARCHAR,\n--     REVISION FLOAT,\n--     CREATEDDATE TIMESTAMP_TZ,\n--     QUEUESTATUS VARCHAR,\n--     PROJECTID VARCHAR,\n--     PROJECT VARCHAR,\n--     TIMESTAMP TIMESTAMP_TZ\n-- );\n\nTRUNCATE TABLE PROD.SILVER.ADO_DEFINITIONS;\n\nINSERT INTO PROD.SILVER.ADO_DEFINITIONS\nSELECT\n    ID,\n    URL,\n    NAME,\n    PATH,\n    TYPE,\n    REVISION,\n    CREATEDDATE,\n    QUEUESTATUS,\n    PROJECTID,\n    PROJECTNAME,\n    CURRENT_TIMESTAMP() AS TIMESTAMP\nFROM PROD.RAW.ADO_DEFINITIONS;\n\n",
   "execution_count": null
  },
  {
   "cell_type": "code",
   "id": "194a3952-775f-4054-ad97-83591e950fa7",
   "metadata": {
    "language": "sql",
    "name": "pipelines"
   },
   "outputs": [],
   "source": "-- # ---- # ---- # ---- # ---- # ---- # ---- # ---- # ---- # --\n\n-- CREATE OR REPLACE TABLE PROD.SILVER.ADO_PIPELINES(\n--     ID FLOAT,\n--     URL VARCHAR,\n--     NAME VARCHAR,\n--     FOLDER VARCHAR,\n--     REVISION FLOAT,\n--     TIMESTAMP TIMESTAMP_TZ\n-- );\nTRUNCATE TABLE PROD.SILVER.ADO_PIPELINES;\n\nINSERT INTO PROD.SILVER.ADO_PIPELINES\nSELECT\n    ID,\n    URL,\n    NAME,\n    FOLDER,\n    REVISION,\n    CURRENT_TIMESTAMP() AS TIMESTAMP\nFROM PROD.RAW.ADO_PIPELINES;",
   "execution_count": null
  },
  {
   "cell_type": "code",
   "id": "c38c2adb-f360-4cde-a381-11cf0d8da8f0",
   "metadata": {
    "language": "sql",
    "name": "repos"
   },
   "outputs": [],
   "source": "\n\n-- # ---- # ---- # ---- # ---- # ---- # ---- # ---- # ---- # --\n\n-- CREATE OR REPLACE TABLE PROD.SILVER.ADO_REPOS(\n--     ID VARCHAR,\n--     URL VARCHAR,\n--     NAME VARCHAR,\n--     SIZE FLOAT,\n--     ISDISABLED BOOLEAN,\n--     DEFAULTBRANCH VARCHAR,\n--     ISINMAINTENANCE BOOLEAN,\n--     PROJECT VARCHAR,\n--     TIMESTAMP TIMESTAMP_TZ\n-- );\nTRUNCATE TABLE PROD.SILVER.ADO_REPOS;\n\nINSERT INTO PROD.SILVER.ADO_REPOS\nSELECT\n    REPO_ID as ID,\n    URL,\n    NAME,\n    SIZE,\n    ISDISABLED,\n    DEFAULTBRANCH,\n    ISINMAINTENANCE,\n    PROJECT,\n    CURRENT_TIMESTAMP() AS TIMESTAMP\nFROM PROD.RAW.ADO_REPOS;\n\n",
   "execution_count": null
  },
  {
   "cell_type": "code",
   "id": "f9d84358-b6d5-457e-b748-8de19dab35e1",
   "metadata": {
    "language": "sql",
    "name": "aged_pull_requests"
   },
   "outputs": [],
   "source": "\n-- # ---- # ---- # ---- # ---- # ---- # ---- # ---- # ---- # --\n\n-- CREATE OR REPLACE TABLE PROD.SILVER.ADO_AGED_PULL_REQUESTS (\n--     ONEDAYTICKETS INT,\n--     THREEDDYTICKETS INT,\n--     SEVENDAYTICKETS INT,\n--     OLDERTICKETS INT,\n--     TIMESTAMP TIMESTAMP_TZ\n-- );\n\nTRUNCATE TABLE PROD.SILVER.ADO_AGED_PULL_REQUESTS;\n\nINSERT INTO PROD.SILVER.ADO_AGED_PULL_REQUESTS\nSELECT\n    SUM(CASE WHEN DATEDIFF(DAY, TO_TIMESTAMP_TZ(REGEXP_REPLACE(CREATIONDATE, '(\\\\d{2})(\\\\d{2})$', '\\\\1:\\\\2')), CURRENT_TIMESTAMP()) < 1 THEN 1 ELSE 0 END) AS ONEDAYTICKETS,\n    SUM(CASE WHEN DATEDIFF(DAY, TO_TIMESTAMP_TZ(REGEXP_REPLACE(CREATIONDATE, '(\\\\D{2})(\\\\D{2})$', '\\\\1:\\\\2')), CURRENT_TIMESTAMP()) BETWEEN 1 AND 3 THEN 1 ELSE 0 END) AS THREEDDYTICKETS,\n    SUM(CASE WHEN DATEDIFF(DAY, TO_TIMESTAMP_TZ(REGEXP_REPLACE(CREATIONDATE, '(\\\\D{2})(\\\\D{2})$', '\\\\1:\\\\2')), CURRENT_TIMESTAMP()) BETWEEN 4 AND 7 THEN 1 ELSE 0 END) AS SEVENDAYTICKETS,\n    SUM(CASE WHEN DATEDIFF(DAY, TO_TIMESTAMP_TZ(REGEXP_REPLACE(CREATIONDATE, '(\\\\D{2})(\\\\D{2})$', '\\\\1:\\\\2')), CURRENT_TIMESTAMP()) > 7 THEN 1 ELSE 0 END) AS OLDERTICKETS,\n    CURRENT_TIMESTAMP() AS TIMESTAMP\nFROM PROD.RAW.ADO_PULL_REQUESTS_SNOWFLAKE\nWHERE STATUS = 'active';\n\n\n",
   "execution_count": null
  },
  {
   "cell_type": "code",
   "id": "c1cd2cc5-3426-4145-868d-22b1ee4e5be5",
   "metadata": {
    "language": "sql",
    "name": "approvals",
    "codeCollapsed": false
   },
   "outputs": [],
   "source": "-- # ---- # ---- # ---- # ---- # ---- # ---- # ---- # ---- # --\n\n-- CREATE OR REPLACE TABLE PROD.SILVER.ADO_APPROVALS (\n--     ID VARCHAR,\n--     STATUS VARCHAR,\n--     PIPELINEID VARCHAR,\n--     PIPELINENAME VARCHAR,\n--     PIPELINEOWNERID VARCHAR,\n--     CREATEDON TIMESTAMP_TZ,\n--     MINREQUIREDAPPROVERS FLOAT,\n--     TIMESTAMP TIMESTAMP_TZ\n-- );\n\nTRUNCATE TABLE PROD.SILVER.ADO_APPROVALS;\n\nINSERT INTO PROD.SILVER.ADO_APPROVALS\nSELECT\n    ID,\n    STATUS,\n    PIPELINEID,\n    PIPELINENAME,\n    PIPELINEOWNERID,\n    CAST(CREATEDON AS DATETIME) AS CREATEDON,\n    MINREQUIREDAPPROVERS,\n    CURRENT_TIMESTAMP AS TIMESTAMP\nFROM PROD.RAW.ADO_APPROVALS;\n",
   "execution_count": null
  },
  {
   "cell_type": "code",
   "id": "ba04eb6f-ab7a-404f-aa55-246dba7f07ba",
   "metadata": {
    "language": "sql",
    "name": "branches"
   },
   "outputs": [],
   "source": "\n-- # ---- # ---- # ---- # ---- # ---- # ---- # ---- # ---- # --\n\n-- CREATE OR REPLACE TABLE prod.silver.ADO_BRANCHES\n-- (\n-- PROJECT_NAME string,\n-- REPO_ID string,\n-- BRANCH_NAME string\n-- );\n\ntruncate prod.silver.ADO_BRANCHES;\n\ninsert into prod.silver.ADO_BRANCHES \n-- create or replace table prod.silver.ADO_BRANCHES as\n  select  PROJECT_NAME::TEXT AS PROJECT_NAME,\n    REPO_ID::TEXT AS REPO_ID,\n    BRANCH_NAME::TEXT AS BRANCH_NAME\nFROM prod.raw.ado_branches;\n\n",
   "execution_count": null
  },
  {
   "cell_type": "code",
   "id": "1088293d-fbf9-49a1-954a-39dd702ebbc8",
   "metadata": {
    "language": "sql",
    "name": "commits",
    "codeCollapsed": false
   },
   "outputs": [],
   "source": "-- # ---- # ---- # ---- # ---- # ---- # ---- # ---- # ---- # --\n\n-- CREATE OR REPLACE TABLE prod.silver.ADO_COMMITS (\n--     REPO_ID TEXT,\n--     BRANCH_NAME TEXT,\n--     COMMIT_ID TEXT,\n--     AUTHOR_EMAIL TEXT,\n--     DATE DATETIME,\n--     MESSAGE TEXT,\n--     TIMESTAMP TIMESTAMP_LTZ\n-- );\n\ntruncate table prod.silver.ADO_COMMITS;\n\nINSERT INTO prod.silver.ADO_COMMITS (\n    REPO_ID,\n    BRANCH_NAME,\n    COMMIT_ID,\n    AUTHOR_EMAIL,\n    DATE,\n    MESSAGE,\n    TIMESTAMP\n)\nSELECT \n    REPO_ID::TEXT,\n    BRANCH_NAME::TEXT,\n    VALUE:commitId::TEXT,\n    VALUE:author:email::TEXT,\n    VALUE:author:date::DATETIME,\n    VALUE:comment::TEXT,\n    CURRENT_TIMESTAMP()\nFROM prod.raw.ado_commits,\n\nLATERAL FLATTEN(INPUT => PARSE_JSON(RESULT_COMMIT):value);\n",
   "execution_count": null
  }
 ]
}