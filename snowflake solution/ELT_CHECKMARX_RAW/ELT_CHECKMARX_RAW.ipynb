{
 "metadata": {
  "kernelspec": {
   "display_name": "Python 3",
   "language": "python",
   "name": "python3"
  },
  "language_info": {
   "codemirror_mode": {
    "name": "ipython",
    "version": 3
   },
   "file_extension": ".py",
   "mimetype": "text/x-python",
   "name": "python",
   "nbconvert_exporter": "python",
   "pygments_lexer": "ipython3",
   "version": "3.13.2"
  },
  "lastEditStatus": {
   "notebookId": "e35ccmdayro26zv5qyoy",
   "authorId": "557922832688",
   "authorName": "MTWA",
   "authorEmail": "mtwa@softwaremind.com",
   "sessionId": "81fcaff3-039e-4a6b-82a1-ebd814b6321e",
   "lastEditTime": 1753954842870
  }
 },
 "nbformat_minor": 5,
 "nbformat": 4,
 "cells": [
  {
   "cell_type": "code",
   "execution_count": null,
   "id": "51d49dc8-ab60-4ed4-a9f4-4a9d90967451",
   "metadata": {
    "language": "sql",
    "name": "alter_session",
    "vscode": {
     "languageId": "sql"
    }
   },
   "outputs": [],
   "source": [
    "ALTER SESSION SET TIMEZONE = 'Europe/London';"
   ]
  },
  {
   "cell_type": "code",
   "execution_count": 2,
   "id": "96c7a2d3-6134-43cb-b71c-0f34e7172bab",
   "metadata": {
    "language": "python",
    "name": "cell2"
   },
   "outputs": [],
   "source": "  # Correct import (requires python-dotenv package)\n\ntry:\n    import requests\n    import pandas as pd\n    import time\n    from snowflake.snowpark.context import get_active_session\n    session = get_active_session()\n    results = session.sql(\"SELECT prod.raw.checkmarx_secret()\").collect()[0][0]\nexcept:\n    import requests\n    import pandas as pd\n    import time\n    import os\n    from dotenv import load_dotenv\n    load_dotenv()  # Load .env file\n    results = os.getenv('LUKE_API_KEY')  # Get environment variable"
  },
  {
   "cell_type": "code",
   "execution_count": 4,
   "id": "37f1219f-70ad-46ce-90c4-16720eee0466",
   "metadata": {
    "codeCollapsed": false,
    "language": "python",
    "name": "checkmarx_class"
   },
   "outputs": [],
   "source": "class CheckmarxAPI:\n    \"\"\"\n    Class to interact with Checkmarx API using JWT authentication.\n    \"\"\"\n    def __init__(self):\n        # Initialize with required parameters\n        self.token_url = \"https://us.iam.checkmarx.net/auth/realms/cor/protocol/openid-connect/token\" #url for token retrieval\n        # self.api_key = os.getenv(\"LUKE_API_KEY\")  # API\n        self.jwt = None\n        self.token_timestamp = None  # Track when token was obtained\n        self.token_refresh_threshold = 28 * 60  # 28 minutes in seconds\n        self.limit = 100\n        self.api_key = results\n        \n    def get_jwt_token(self):\n        \"\"\"\n        retrieving jwt token\n        \"\"\"\n        payload = {\n                \"grant_type\": \"refresh_token\",\n                \"client_id\": \"ast-app\",\n                \"refresh_token\": self.api_key\n        }\n            \n        response = requests.post(self.token_url, data=payload)\n        self.jwt = response.json().get('access_token')\n        \n        if response.status_code != 200 or not self.jwt:\n            print(\"Something is wrong, status code:\", response.status_code)\n        else:\n            self.token_timestamp = time.time()  # Store when token was obtained\n            return self.jwt\n\n    def should_refresh_token(self):\n        \"\"\"\n        Check if token should be refreshed (28 minutes have passed)\n        \"\"\"\n        if not self.jwt or not self.token_timestamp:\n            return True\n        \n        elapsed_time = time.time() - self.token_timestamp\n        return elapsed_time >= self.token_refresh_threshold\n\n    def ensure_valid_token(self):\n        \"\"\"\n        Ensure we have a valid token, refresh if necessary\n        \"\"\"\n        if self.should_refresh_token():\n            print(\"Refreshing JWT token...\")\n            self.get_jwt_token()\n            if not self.jwt:\n                print(\"Failed to obtain JWT token\")\n                return False\n        return True\n\n    def get_applications(self):\n        \"\"\"\n        Retrieve all applications with pagination.\n        \"\"\"\n        if not self.ensure_valid_token():\n            return pd.DataFrame()\n\n        applications_endpoint = \"https://us.ast.checkmarx.net/api/applications\"\n        \n        headers = {\n            \"Authorization\": f\"{self.jwt}\",\n            \"Accept\": \"application/json; version=1.0\"\n        }\n        \n        applications_offset = 0\n        all_applications = []\n        \n        try:\n            while True:\n                params = {\"limit\": self.limit, \"offset\": applications_offset}\n                response = requests.get(applications_endpoint, headers=headers, params=params)\n                # response.raise_for_status()\n                \n                data = response.json()\n                applications = data.get('applications', [])\n                \n                if not applications:\n                    break\n                    \n                all_applications.extend(applications)\n                applications_offset += self.limit\n                \n                if len(applications) < self.limit:\n                    break\n            \n            return pd.DataFrame(all_applications)\n            \n        except requests.RequestException as e:\n            print(f\"Applications request error: {e}\")\n            return pd.DataFrame()\n        \n    def get_scans(self):\n        \"\"\"\n        Retrieve all scans with pagination.\n        \"\"\"\n        if not self.ensure_valid_token():\n            return pd.DataFrame()\n    \n        scans_endpoint = \"https://us.ast.checkmarx.net/api/scans\"\n        \n        headers = {\n            \"Authorization\": f\"{self.jwt}\",\n            \"Accept\": \"application/json; version=1.0\"\n        }\n        \n        scans_offset = 0\n        all_scans = []\n        \n        try:\n            while True:\n                params = {\"limit\": self.limit, \"offset\": scans_offset}\n                response = requests.get(scans_endpoint, headers=headers, params=params)\n                # response.raise_for_status()\n                \n                data = response.json()\n                scans = data.get('scans', [])\n                \n                if not scans:\n                    break\n                    \n                all_scans.extend(scans)\n                scans_offset += self.limit\n                \n                if len(scans) < self.limit:\n                    break\n            \n            df_scans = pd.DataFrame(all_scans)\n            if 'tags' in df_scans.columns:\n                df_scans = df_scans.drop(columns='tags')\n            return df_scans\n            \n        except requests.RequestException as e:\n            print(f\"Scans request error: {e}\")\n            return pd.DataFrame()\n\n    def get_unique_scans(self):\n        \"\"\"\n        Retrieve all applications with pagination.\n        \"\"\"\n        unique_scans = self.get_scans()['id'].unique().tolist()\n        return unique_scans\n        \n    def get_scans_metadata(self):\n        \"\"\"\n        Retrieve metadata for all scans with automatic token refresh.\n        \"\"\"\n        if not self.ensure_valid_token():\n            return pd.DataFrame()\n        \n        scan_ids = self.get_unique_scans()\n        total_count = len(scan_ids)\n        \n        if not scan_ids:\n            print(\"No scan IDs found\")\n            return pd.DataFrame()\n        \n        scan_details = []\n        \n        headers = {\n            \"Authorization\": f\"{self.jwt}\",\n            \"Accept\": \"application/json; version=1.0\"\n        }\n        \n        for i, scan_id in enumerate(scan_ids):\n            try:\n                # Check if we need to refresh token before making request\n                if self.should_refresh_token():\n                    print(f\"Refreshing token at scan {i+1}/{total_count}\")\n                    if not self.ensure_valid_token():\n                        print(\"Failed to refresh token, stopping...\")\n                        break\n                    # Update headers with new token\n                    headers[\"Authorization\"] = f\"{self.jwt}\"\n                \n                metadata_endpoint = f\"https://us.ast.checkmarx.net/api/sast-metadata/{scan_id}\"\n                response = requests.get(metadata_endpoint, headers=headers)\n                response.raise_for_status()\n                \n                data = response.json()\n                scan_details.append(data)\n\n                # Optional: Print progress\n                if (i + 1) % 50 == 0:\n                    print(f\"Processed {i+1}/{total_count} scans\")\n                \n            except requests.RequestException as e:\n                print(f\"Metadata request error for scan {scan_id}: {e}\")\n                continue\n                \n        df_scan_details = pd.DataFrame(scan_details)   \n        return df_scan_details\n    \n                    \napi = CheckmarxAPI()\njwt_token = api.get_jwt_token()"
  },
  {
   "cell_type": "code",
   "execution_count": null,
   "id": "637aa31e-8bae-46d2-9e57-4bf2b042c869",
   "metadata": {
    "codeCollapsed": false,
    "language": "python",
    "name": "cell6"
   },
   "outputs": [],
   "source": [
    "# jwt_token"
   ]
  },
  {
   "cell_type": "code",
   "execution_count": null,
   "id": "1bdfb11f-e213-4366-a6c6-1063c3717d50",
   "metadata": {
    "codeCollapsed": false,
    "language": "python",
    "name": "scans_df"
   },
   "outputs": [],
   "source": [
    "get_scans = api.get_scans()\n",
    "get_scans\n"
   ]
  },
  {
   "cell_type": "code",
   "execution_count": null,
   "id": "bc867e55-8599-4886-b32a-c7456e385d76",
   "metadata": {
    "codeCollapsed": false,
    "language": "python",
    "name": "scans_session"
   },
   "outputs": [],
   "source": [
    "python_scans_table = 'SCANS_FROM_PYTHON'\n",
    "\n",
    "session.write_pandas(get_scans,\n",
    "                         table_name=python_scans_table,\n",
    "                         auto_create_table=True,\n",
    "                         overwrite=True,\n",
    "                         table_type=\"temporary\")"
   ]
  },
  {
   "cell_type": "code",
   "execution_count": null,
   "id": "82ce52a7-1211-40cf-bd1b-453501e57ab0",
   "metadata": {
    "codeCollapsed": false,
    "language": "sql",
    "name": "create_raw_scans"
   },
   "outputs": [],
   "source": [
    "create or replace table prod.raw.checkmarx_scans as\n",
    "SELECT *,\n",
    "  -- sd.value:\"endDate\"::string AS enddate\n",
    "FROM SCANS_FROM_PYTHON,\n",
    "-- LATERAL FLATTEN(input => parse_json(\"statusDetails\")) sd\n"
   ]
  },
  {
   "cell_type": "code",
   "execution_count": null,
   "id": "b23531c3-f906-4e92-b3a2-f12fa538afd2",
   "metadata": {
    "codeCollapsed": false,
    "language": "sql",
    "name": "cell12"
   },
   "outputs": [],
   "source": [
    "-- create or replace table prod.silver.checkmarx_scans as\n",
    "\n",
    "-- SELECT \n",
    "-- \"id\"::string as ID,\n",
    "-- \"createdAt\"::datetime as Scan_Date,\n",
    "-- \"projectName\"::string as Project,\n",
    "-- \"branch\"::string as Branch,\n",
    "-- \"sourceOrigin\"::string as Scan_Origin,\n",
    "-- \"sourceType\"::string as Source,\n",
    "-- \"initiator\"::string as Initiator,\n",
    "-- null as Scan_Type,\n",
    "-- -- parse_json(\"VALUE\"):\"loc\"::integer as LOC,\n",
    "-- -- -- \"statusDetails\",\n",
    "-- -- \"status\" as Status,\n",
    "\n",
    "\n",
    "-- -- \"updatedAt\" as statusDetails_updatedAt,\n",
    "-- -- \"VALUE\",\n",
    "-- -- parse_json(\"VALUE\"):\"details\" as value_details,\n",
    "-- -- parse_json(\"VALUE\"):\"endDate\" as value_endDate,\n",
    "-- -- parse_json(\"VALUE\"):\"loc\"::integer as value_loc,\n",
    "-- -- parse_json(\"VALUE\"):\"name\" as value_name,\n",
    "-- -- parse_json(\"VALUE\"):\"startDate\" as value_startDate,\n",
    "-- -- parse_json(\"VALUE\"):\"status\" as value_status,\n",
    "-- -- \"projectId\",\n",
    "\n",
    "-- -- \"userAgent\",\n",
    "\n",
    "-- -- \"metadata\",\n",
    "-- -- \"engines\",\n",
    "-- -- \"SEQ\",\n",
    "-- -- \"KEY\",\n",
    "-- -- \"PATH\",\n",
    "-- -- \"INDEX\",\n",
    "\n",
    "-- --   sd.value:\"details\"::string AS details,\n",
    "-- --     sd.value:\"endDate\"::date AS endDate,\n",
    "-- --       sd.value:\"name\"::string AS name,\n",
    "-- --         sd.value:\"startDate\"::date AS startDate,\n",
    "-- --           sd.value:\"status\"::string AS status\n",
    "-- FROM prod.raw.checkmarx_scans\n",
    "-- -- join LATERAL FLATTEN(input => parse_json(\"statusDetails\")) sd"
   ]
  },
  {
   "cell_type": "code",
   "execution_count": null,
   "id": "5956e29d-09e9-4162-bb7b-ca4dde5b7749",
   "metadata": {
    "codeCollapsed": false,
    "language": "python",
    "name": "details_df"
   },
   "outputs": [],
   "source": [
    "details = api.get_scans_metadata()\n",
    "details"
   ]
  },
  {
   "cell_type": "code",
   "execution_count": null,
   "id": "bd81c021-6e5a-4287-92e1-d8f2aa220989",
   "metadata": {
    "codeCollapsed": false,
    "language": "python",
    "name": "details_session"
   },
   "outputs": [],
   "source": [
    "python_scans_metadata_table = 'SCANS_METADATA'\n",
    "\n",
    "session.write_pandas(details,\n",
    "                         table_name=python_scans_metadata_table,\n",
    "                         auto_create_table=True,\n",
    "                         overwrite=True,\n",
    "                         table_type=\"temporary\")"
   ]
  },
  {
   "cell_type": "code",
   "execution_count": null,
   "id": "f28780fe-224c-418b-a721-2646586c543e",
   "metadata": {
    "codeCollapsed": false,
    "language": "sql",
    "name": "create_raw_details"
   },
   "outputs": [],
   "source": [
    "create or replace table prod.raw.checkmarx_scans_metadata as \n",
    "select * from SCANS_METADATA"
   ]
  },
  {
   "cell_type": "code",
   "execution_count": null,
   "id": "6ee7c548-2618-4ebd-b6e2-b613c7660008",
   "metadata": {
    "language": "sql",
    "name": "create_silver_scans"
   },
   "outputs": [],
   "source": "create or replace table prod.silver.checkmarx_scans as\n\nSELECT \n    \"id\"::string as ID,\n    \"createdAt\"::datetime as Scan_Date,\n    replace(\"projectName\"::string,'ADO_','') as Project,\n    \"branch\"::string as Branch,\n    \"sourceOrigin\"::string as Scan_Origin,\n    \"sourceType\"::string as Source,\n    \"initiator\"::string as Initiator,\n    case when \n        csm.\"isIncremental\" = True \n        then 'Incremental Scan'\n        else 'Full Scan' \n    end as Scan_Type,\n    csm.\"loc\" as LOC,\n    \n      CASE \n    WHEN CHARINDEX('_', \"projectName\"::string) > 0 \n    THEN SUBSTRING(\"projectName\"::string, LEN(\"projectName\"::string) - CHARINDEX('_', REVERSE(\"projectName\"::string)) + 2, LEN(\"projectName\"::string))\n    ELSE \"projectName\"::string\n  END  as PROJ_REPO_KEY\nFROM prod.raw.checkmarx_scans cs\n-- JOIN LATERAL FLATTEN(input => parse_json(cs.\"statusDetails\")) sd\nLEFT JOIN prod.raw.checkmarx_scans_metadata csm\n    ON cs.\"id\" = csm.\"scanId\";\n\nselect top 5 * from prod.silver.checkmarx_scans\n"
  },
  {
   "cell_type": "code",
   "execution_count": null,
   "id": "ff638af2-4215-43f9-a1f1-19d24a55c554",
   "metadata": {
    "codeCollapsed": false,
    "language": "python",
    "name": "applications_df"
   },
   "outputs": [],
   "source": [
    "get_applications = api.get_applications()\n",
    "get_applications"
   ]
  },
  {
   "cell_type": "code",
   "execution_count": null,
   "id": "6a6376a9-3cd3-47c3-ad6f-0b80c2480850",
   "metadata": {
    "codeCollapsed": false,
    "language": "python",
    "name": "applications_session"
   },
   "outputs": [],
   "source": [
    "python_applications_table = 'APPLICATIONS_FROM_PYTHON'\n",
    "\n",
    "session.write_pandas(get_applications,\n",
    "                         table_name=python_applications_table,\n",
    "                         auto_create_table=True,\n",
    "                         overwrite=True,\n",
    "                         table_type=\"temporary\")"
   ]
  },
  {
   "cell_type": "code",
   "execution_count": null,
   "id": "bff6a066-4aa7-4d97-b466-79f6a979a1fa",
   "metadata": {
    "language": "sql",
    "name": "create_raw_applications"
   },
   "outputs": [],
   "source": [
    "create or replace table prod.raw.checkmarx_applications as \n",
    "select * from APPLICATIONS_FROM_PYTHON"
   ]
  }
 ]
}