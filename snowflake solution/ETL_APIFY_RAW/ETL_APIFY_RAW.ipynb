{
 "metadata": {
  "kernelspec": {
   "display_name": "Streamlit Notebook",
   "name": "streamlit"
  },
  "lastEditStatus": {
   "notebookId": "jqu3ckgnvd6vyfokbcnn",
   "authorId": "557922832688",
   "authorName": "MTWA",
   "authorEmail": "mtwa@softwaremind.com",
   "sessionId": "c180226f-5a03-4e57-985d-5818867db7dd",
   "lastEditTime": 1753968423862
  }
 },
 "nbformat_minor": 5,
 "nbformat": 4,
 "cells": [
  {
   "cell_type": "code",
   "id": "3a441b3b-9558-44f9-b345-a3f9cd249bd6",
   "metadata": {
    "language": "python",
    "name": "cell4"
   },
   "outputs": [],
   "source": "  # Correct import (requires python-dotenv package)\n\ntry:\n    import requests\n    import pandas as pd\n    import time\n    from snowflake.snowpark.context import get_active_session\n    session = get_active_session()\n    apify_secret = session.sql(\"SELECT prod.raw.apify_api_key()\").collect()[0][0]\nexcept:\n    import requests\n    import pandas as pd\n    import time\n    import os\n    from dotenv import load_dotenv\n    load_dotenv()  # Load .env file\n    results = os.getenv('apify_secret')  # Get environment variable",
   "execution_count": null
  },
  {
   "cell_type": "code",
   "id": "3775908f-ca36-4846-8f38-5adca39217f2",
   "metadata": {
    "language": "python",
    "name": "cell1"
   },
   "source": "import requests\nimport json\nfrom typing import Optional, Dict, Any, List\nfrom datetime import datetime\n\n\nclass Apify::\n    \"\"\"\n    A simple client for interacting with Apify API v2 GET endpoints.\n    \n    This class provides methods to retrieve various types of data from Apify,\n    including actors, datasets, key-value stores, and run information.\n    \"\"\"\n    \n    def __init__(self):\n        \"\"\"\n        Initialize the Apify client with your API token.\n        \n        Args:\n            api_token: Your Apify API token (found in Apify Console > Settings > Integrations)\n        \"\"\"\n        self.headers = {\n            \"Authorization\": f\"Bearer {self.apify_secret}\",\n            \"Content-Type\": \"application/json\"\n        }\n    \n    def _make_request(self, endpoint: str, params: Optional[Dict[str, Any]] = None) -> Dict[str, Any]:\n        \"\"\"\n        Helper method to make GET requests to Apify API.\n        \n        Args:\n            endpoint: The API endpoint (without base URL)\n            params: Optional query parameters\n            \n        Returns:\n            JSON response as a dictionary\n            \n        Raises:\n            requests.exceptions.RequestException: If the request fails\n        \"\"\"\n        url = f\"{self.base_url}{endpoint}\"\n        \n        try:\n            response = requests.get(url, headers=self.headers, params=params)\n            response.raise_for_status()  # Raise an exception for bad status codes\n            return response.json()\n        except requests.exceptions.RequestException as e:\n            print(f\"Error making request to {url}: {e}\")\n            if hasattr(e.response, 'text'):\n                print(f\"Response body: {e.response.text}\")\n            raise\n    \n    # USER INFORMATION METHODS\n    \n    def get_user_info(self) -> Dict[str, Any]:\n        \"\"\"\n        Get information about the authenticated user.\n        \n        Returns:\n            User information including username, email, plan, etc.\n        \"\"\"\n        print(\"Fetching user information...\")\n        return self._make_request(\"/users/me\")\n    \n    # ACTOR METHODS\n    \n    def list_actors(self, limit: int = 10, offset: int = 0) -> Dict[str, Any]:\n        \"\"\"\n        List actors owned by the authenticated user.\n        \n        Args:\n            limit: Maximum number of actors to return\n            offset: Number of actors to skip\n            \n        Returns:\n            Dictionary containing list of actors and pagination info\n        \"\"\"\n        print(f\"Fetching actors (limit={limit}, offset={offset})...\")\n        params = {\"limit\": limit, \"offset\": offset}\n        return self._make_request(\"/acts\", params=params)\n    \n    def get_actor(self, actor_id: str) -> Dict[str, Any]:\n        \"\"\"\n        Get detailed information about a specific actor.\n        \n        Args:\n            actor_id: The actor ID or name (username/actor-name format)\n            \n        Returns:\n            Detailed actor information\n        \"\"\"\n        print(f\"Fetching actor details for: {actor_id}\")\n        return self._make_request(f\"/acts/{actor_id}\")\n    \n    def get_actor_versions(self, actor_id: str) -> Dict[str, Any]:\n        \"\"\"\n        Get all versions of a specific actor.\n        \n        Args:\n            actor_id: The actor ID or name\n            \n        Returns:\n            List of actor versions\n        \"\"\"\n        print(f\"Fetching versions for actor: {actor_id}\")\n        return self._make_request(f\"/acts/{actor_id}/versions\")\n    \n    # DATASET METHODS\n    \n    def list_datasets(self, limit: int = 10, offset: int = 0) -> Dict[str, Any]:\n        \"\"\"\n        List datasets owned by the authenticated user.\n        \n        Args:\n            limit: Maximum number of datasets to return\n            offset: Number of datasets to skip\n            \n        Returns:\n            Dictionary containing list of datasets and pagination info\n        \"\"\"\n        print(f\"Fetching datasets (limit={limit}, offset={offset})...\")\n        params = {\"limit\": limit, \"offset\": offset}\n        return self._make_request(\"/datasets\", params=params)\n    \n    def get_dataset(self, dataset_id: str) -> Dict[str, Any]:\n        \"\"\"\n        Get information about a specific dataset.\n        \n        Args:\n            dataset_id: The dataset ID or name\n            \n        Returns:\n            Dataset information\n        \"\"\"\n        print(f\"Fetching dataset info for: {dataset_id}\")\n        return self._make_request(f\"/datasets/{dataset_id}\")\n    \n    def get_dataset_items(self, dataset_id: str, limit: int = 100, offset: int = 0,\n                          fields: Optional[List[str]] = None) -> Dict[str, Any]:\n        \"\"\"\n        Get items from a dataset.\n        \n        Args:\n            dataset_id: The dataset ID or name\n            limit: Maximum number of items to return\n            offset: Number of items to skip\n            fields: List of fields to include in the response\n            \n        Returns:\n            Dictionary containing dataset items\n        \"\"\"\n        print(f\"Fetching items from dataset: {dataset_id}\")\n        params = {\"limit\": limit, \"offset\": offset}\n        if fields:\n            params[\"fields\"] = \",\".join(fields)\n        return self._make_request(f\"/datasets/{dataset_id}/items\", params=params)\n    \n    # KEY-VALUE STORE METHODS\n    \n    def list_key_value_stores(self, limit: int = 10, offset: int = 0) -> Dict[str, Any]:\n        \"\"\"\n        List key-value stores owned by the authenticated user.\n        \n        Args:\n            limit: Maximum number of stores to return\n            offset: Number of stores to skip\n            \n        Returns:\n            Dictionary containing list of key-value stores\n        \"\"\"\n        print(f\"Fetching key-value stores (limit={limit}, offset={offset})...\")\n        params = {\"limit\": limit, \"offset\": offset}\n        return self._make_request(\"/key-value-stores\", params=params)\n    \n    def get_key_value_store(self, store_id: str) -> Dict[str, Any]:\n        \"\"\"\n        Get information about a specific key-value store.\n        \n        Args:\n            store_id: The store ID or name\n            \n        Returns:\n            Key-value store information\n        \"\"\"\n        print(f\"Fetching key-value store info for: {store_id}\")\n        return self._make_request(f\"/key-value-stores/{store_id}\")\n    \n    def get_record(self, store_id: str, key: str) -> Any:\n        \"\"\"\n        Get a specific record from a key-value store.\n        \n        Args:\n            store_id: The store ID or name\n            key: The key of the record to retrieve\n            \n        Returns:\n            The value associated with the key (could be JSON, text, etc.)\n        \"\"\"\n        print(f\"Fetching record '{key}' from store: {store_id}\")\n        # Note: This endpoint might return different content types\n        endpoint = f\"/key-value-stores/{store_id}/records/{key}\"\n        url = f\"{self.base_url}{endpoint}\"\n        \n        response = requests.get(url, headers=self.headers)\n        response.raise_for_status()\n        \n        # Check content type to determine how to parse response\n        content_type = response.headers.get('content-type', '')\n        if 'application/json' in content_type:\n            return response.json()\n        else:\n            return response.text\n    \n    def list_keys(self, store_id: str, limit: int = 100) -> Dict[str, Any]:\n        \"\"\"\n        List all keys in a key-value store.\n        \n        Args:\n            store_id: The store ID or name\n            limit: Maximum number of keys to return\n            \n        Returns:\n            Dictionary containing list of keys\n        \"\"\"\n        print(f\"Listing keys in store: {store_id}\")\n        params = {\"limit\": limit}\n        return self._make_request(f\"/key-value-stores/{store_id}/keys\", params=params)\n    \n    # RUN METHODS\n    \n    def list_actor_runs(self, limit: int = 10, offset: int = 0, \n                        status: Optional[str] = None) -> Dict[str, Any]:\n        \"\"\"\n        List actor runs for the authenticated user.\n        \n        Args:\n            limit: Maximum number of runs to return\n            offset: Number of runs to skip\n            status: Filter by run status (READY, RUNNING, SUCCEEDED, FAILED, etc.)\n            \n        Returns:\n            Dictionary containing list of runs\n        \"\"\"\n        print(f\"Fetching actor runs (limit={limit}, offset={offset}, status={status})...\")\n        params = {\"limit\": limit, \"offset\": offset}\n        if status:\n            params[\"status\"] = status\n        return self._make_request(\"/actor-runs\", params=params)\n    \n    def get_run(self, run_id: str) -> Dict[str, Any]:\n        \"\"\"\n        Get detailed information about a specific run.\n        \n        Args:\n            run_id: The run ID\n            \n        Returns:\n            Detailed run information\n        \"\"\"\n        print(f\"Fetching run details for: {run_id}\")\n        return self._make_request(f\"/actor-runs/{run_id}\")\n    \n    def get_run_log(self, run_id: str) -> str:\n        \"\"\"\n        Get the log from a specific run.\n        \n        Args:\n            run_id: The run ID\n            \n        Returns:\n            The run log as a string\n        \"\"\"\n        print(f\"Fetching log for run: {run_id}\")\n        endpoint = f\"/actor-runs/{run_id}/log\"\n        url = f\"{self.base_url}{endpoint}\"\n        \n        response = requests.get(url, headers=self.headers)\n        response.raise_for_status()\n        return response.text\n",
   "execution_count": null,
   "outputs": []
  },
  {
   "cell_type": "code",
   "id": "8d50cbf4-0c8d-4950-86cb-114990437ac9",
   "metadata": {
    "language": "sql",
    "name": "cell2"
   },
   "source": "-- Welcome to Snowflake Notebooks!\n-- Try out a SQL cell to generate some data.\nSELECT 'FRIDAY' as SNOWDAY, 0.2 as CHANCE_OF_SNOW\nUNION ALL\nSELECT 'SATURDAY',0.5\nUNION ALL \nSELECT 'SUNDAY', 0.9;",
   "execution_count": null,
   "outputs": []
  },
  {
   "cell_type": "code",
   "id": "c695373e-ac74-4b62-a1f1-08206cbd5c81",
   "metadata": {
    "language": "python",
    "name": "cell3"
   },
   "source": "# Then, we can use the python name to turn cell2 into a Pandas dataframe\nmy_df = cell2.to_pandas()\n\n# Chart the data\nst.subheader(\"Chance of SNOW ❄️\")\nst.line_chart(my_df, x='SNOWDAY', y='CHANCE_OF_SNOW')\n\n# Give it a go!\nst.subheader(\"Try it out yourself and show off your skills 🥇\")",
   "execution_count": null,
   "outputs": []
  }
 ]
}